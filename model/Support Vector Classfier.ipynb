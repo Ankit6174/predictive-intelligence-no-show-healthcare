{
 "cells": [
  {
   "cell_type": "code",
   "execution_count": 1,
   "id": "2006aa70",
   "metadata": {},
   "outputs": [
    {
     "data": {
      "application/vnd.microsoft.datawrangler.viewer.v0+json": {
       "columns": [
        {
         "name": "index",
         "rawType": "int64",
         "type": "integer"
        },
        {
         "name": "Gender",
         "rawType": "int64",
         "type": "integer"
        },
        {
         "name": "Age",
         "rawType": "int64",
         "type": "integer"
        },
        {
         "name": "Neighbourhood",
         "rawType": "int64",
         "type": "integer"
        },
        {
         "name": "Scholarship",
         "rawType": "int64",
         "type": "integer"
        },
        {
         "name": "Hipertension",
         "rawType": "int64",
         "type": "integer"
        },
        {
         "name": "Diabetes",
         "rawType": "int64",
         "type": "integer"
        },
        {
         "name": "Alcoholism",
         "rawType": "int64",
         "type": "integer"
        },
        {
         "name": "Handcap",
         "rawType": "int64",
         "type": "integer"
        },
        {
         "name": "SMS_received",
         "rawType": "int64",
         "type": "integer"
        },
        {
         "name": "WaitingTime",
         "rawType": "int64",
         "type": "integer"
        },
        {
         "name": "AppointmentDayOfWeek",
         "rawType": "int64",
         "type": "integer"
        },
        {
         "name": "WaitGroup",
         "rawType": "int64",
         "type": "integer"
        },
        {
         "name": "ChronicGroup",
         "rawType": "int64",
         "type": "integer"
        },
        {
         "name": "No-show",
         "rawType": "int64",
         "type": "integer"
        }
       ],
       "conversionMethod": "pd.DataFrame",
       "ref": "e4b492c7-2675-4c4e-9f7f-44a6765d9d93",
       "rows": [
        [
         "0",
         "0",
         "62",
         "39",
         "0",
         "1",
         "0",
         "0",
         "1",
         "0",
         "-1",
         "4",
         "5",
         "2",
         "0"
        ],
        [
         "1",
         "1",
         "56",
         "39",
         "0",
         "0",
         "0",
         "0",
         "1",
         "0",
         "-1",
         "4",
         "5",
         "1",
         "0"
        ],
        [
         "2",
         "0",
         "62",
         "45",
         "0",
         "0",
         "0",
         "0",
         "1",
         "0",
         "-1",
         "4",
         "5",
         "1",
         "0"
        ],
        [
         "3",
         "0",
         "8",
         "54",
         "0",
         "0",
         "0",
         "0",
         "1",
         "0",
         "-1",
         "4",
         "5",
         "1",
         "0"
        ],
        [
         "4",
         "0",
         "56",
         "39",
         "0",
         "1",
         "1",
         "0",
         "1",
         "0",
         "-1",
         "4",
         "5",
         "0",
         "0"
        ]
       ],
       "shape": {
        "columns": 14,
        "rows": 5
       }
      },
      "text/html": [
       "<div>\n",
       "<style scoped>\n",
       "    .dataframe tbody tr th:only-of-type {\n",
       "        vertical-align: middle;\n",
       "    }\n",
       "\n",
       "    .dataframe tbody tr th {\n",
       "        vertical-align: top;\n",
       "    }\n",
       "\n",
       "    .dataframe thead th {\n",
       "        text-align: right;\n",
       "    }\n",
       "</style>\n",
       "<table border=\"1\" class=\"dataframe\">\n",
       "  <thead>\n",
       "    <tr style=\"text-align: right;\">\n",
       "      <th></th>\n",
       "      <th>Gender</th>\n",
       "      <th>Age</th>\n",
       "      <th>Neighbourhood</th>\n",
       "      <th>Scholarship</th>\n",
       "      <th>Hipertension</th>\n",
       "      <th>Diabetes</th>\n",
       "      <th>Alcoholism</th>\n",
       "      <th>Handcap</th>\n",
       "      <th>SMS_received</th>\n",
       "      <th>WaitingTime</th>\n",
       "      <th>AppointmentDayOfWeek</th>\n",
       "      <th>WaitGroup</th>\n",
       "      <th>ChronicGroup</th>\n",
       "      <th>No-show</th>\n",
       "    </tr>\n",
       "  </thead>\n",
       "  <tbody>\n",
       "    <tr>\n",
       "      <th>0</th>\n",
       "      <td>0</td>\n",
       "      <td>62</td>\n",
       "      <td>39</td>\n",
       "      <td>0</td>\n",
       "      <td>1</td>\n",
       "      <td>0</td>\n",
       "      <td>0</td>\n",
       "      <td>1</td>\n",
       "      <td>0</td>\n",
       "      <td>-1</td>\n",
       "      <td>4</td>\n",
       "      <td>5</td>\n",
       "      <td>2</td>\n",
       "      <td>0</td>\n",
       "    </tr>\n",
       "    <tr>\n",
       "      <th>1</th>\n",
       "      <td>1</td>\n",
       "      <td>56</td>\n",
       "      <td>39</td>\n",
       "      <td>0</td>\n",
       "      <td>0</td>\n",
       "      <td>0</td>\n",
       "      <td>0</td>\n",
       "      <td>1</td>\n",
       "      <td>0</td>\n",
       "      <td>-1</td>\n",
       "      <td>4</td>\n",
       "      <td>5</td>\n",
       "      <td>1</td>\n",
       "      <td>0</td>\n",
       "    </tr>\n",
       "    <tr>\n",
       "      <th>2</th>\n",
       "      <td>0</td>\n",
       "      <td>62</td>\n",
       "      <td>45</td>\n",
       "      <td>0</td>\n",
       "      <td>0</td>\n",
       "      <td>0</td>\n",
       "      <td>0</td>\n",
       "      <td>1</td>\n",
       "      <td>0</td>\n",
       "      <td>-1</td>\n",
       "      <td>4</td>\n",
       "      <td>5</td>\n",
       "      <td>1</td>\n",
       "      <td>0</td>\n",
       "    </tr>\n",
       "    <tr>\n",
       "      <th>3</th>\n",
       "      <td>0</td>\n",
       "      <td>8</td>\n",
       "      <td>54</td>\n",
       "      <td>0</td>\n",
       "      <td>0</td>\n",
       "      <td>0</td>\n",
       "      <td>0</td>\n",
       "      <td>1</td>\n",
       "      <td>0</td>\n",
       "      <td>-1</td>\n",
       "      <td>4</td>\n",
       "      <td>5</td>\n",
       "      <td>1</td>\n",
       "      <td>0</td>\n",
       "    </tr>\n",
       "    <tr>\n",
       "      <th>4</th>\n",
       "      <td>0</td>\n",
       "      <td>56</td>\n",
       "      <td>39</td>\n",
       "      <td>0</td>\n",
       "      <td>1</td>\n",
       "      <td>1</td>\n",
       "      <td>0</td>\n",
       "      <td>1</td>\n",
       "      <td>0</td>\n",
       "      <td>-1</td>\n",
       "      <td>4</td>\n",
       "      <td>5</td>\n",
       "      <td>0</td>\n",
       "      <td>0</td>\n",
       "    </tr>\n",
       "  </tbody>\n",
       "</table>\n",
       "</div>"
      ],
      "text/plain": [
       "   Gender  Age  Neighbourhood  Scholarship  Hipertension  Diabetes  \\\n",
       "0       0   62             39            0             1         0   \n",
       "1       1   56             39            0             0         0   \n",
       "2       0   62             45            0             0         0   \n",
       "3       0    8             54            0             0         0   \n",
       "4       0   56             39            0             1         1   \n",
       "\n",
       "   Alcoholism  Handcap  SMS_received  WaitingTime  AppointmentDayOfWeek  \\\n",
       "0           0        1             0           -1                     4   \n",
       "1           0        1             0           -1                     4   \n",
       "2           0        1             0           -1                     4   \n",
       "3           0        1             0           -1                     4   \n",
       "4           0        1             0           -1                     4   \n",
       "\n",
       "   WaitGroup  ChronicGroup  No-show  \n",
       "0          5             2        0  \n",
       "1          5             1        0  \n",
       "2          5             1        0  \n",
       "3          5             1        0  \n",
       "4          5             0        0  "
      ]
     },
     "execution_count": 1,
     "metadata": {},
     "output_type": "execute_result"
    }
   ],
   "source": [
    "import pandas as pd\n",
    "\n",
    "data = pd.read_csv(r'../../data/processed/processed-data.csv')\n",
    "data.head()"
   ]
  },
  {
   "cell_type": "markdown",
   "id": "78a13c48",
   "metadata": {},
   "source": [
    "#### First'o fall extract X and Y from our dataset."
   ]
  },
  {
   "cell_type": "code",
   "execution_count": 2,
   "id": "a53a5abe",
   "metadata": {},
   "outputs": [],
   "source": [
    "x = data.drop('No-show', axis=1)\n",
    "y = data['No-show']"
   ]
  },
  {
   "cell_type": "code",
   "execution_count": 3,
   "id": "d5c4ca7a",
   "metadata": {},
   "outputs": [],
   "source": [
    "x.dropna(inplace=True)"
   ]
  },
  {
   "cell_type": "code",
   "execution_count": 4,
   "id": "15b6cbbd",
   "metadata": {},
   "outputs": [],
   "source": [
    "from sklearn.model_selection import train_test_split\n",
    "\n",
    "xtrain, xtest, ytrain, ytest = train_test_split(x, y, test_size=0.2, random_state=42)"
   ]
  },
  {
   "cell_type": "code",
   "execution_count": 5,
   "metadata": {},
   "outputs": [
    {
     "ename": "",
     "evalue": "",
     "output_type": "error",
     "traceback": [
      "\u001b[1;31mCannot execute code, session has been disposed. Please try restarting the Kernel."
     ]
    },
    {
     "ename": "",
     "evalue": "",
     "output_type": "error",
     "traceback": [
      "\u001b[1;31mCannot execute code, session has been disposed. Please try restarting the Kernel. \n",
      "\u001b[1;31mView Jupyter <a href='command:jupyter.viewOutput'>log</a> for further details."
     ]
    }
   ],
   "source": [
    "from sklearn.svm import SVC\n",
    "\n",
    "model = SVC()\n",
    "model.fit(xtrain, ytrain)"
   ]
  },
  {
   "cell_type": "code",
   "execution_count": null,
   "metadata": {},
   "outputs": [],
   "source": [
    "ypred = model.predict(xtest)"
   ]
  },
  {
   "cell_type": "code",
   "execution_count": null,
   "id": "54ae2c53",
   "metadata": {},
   "outputs": [],
   "source": [
    "from sklearn.metrics import accuracy_score, classification_report\n",
    "\n",
    "score = accuracy_score(ytest, ypred)\n",
    "\n",
    "print(\"Test Accuracy of the Best Model:\", score)\n",
    "print(\"\\nClassification Report of the Best Model:\")\n",
    "print(classification_report(ytest, ypred))"
   ]
  },
  {
   "cell_type": "markdown",
   "id": "6cf1ad8a",
   "metadata": {},
   "source": [
    "### Let's scale our data to get more accurate result."
   ]
  },
  {
   "cell_type": "code",
   "execution_count": null,
   "id": "2ce2b83f",
   "metadata": {},
   "outputs": [],
   "source": [
    "from sklearn.preprocessing import StandardScaler\n",
    "\n",
    "scaler = StandardScaler()\n",
    "scaler.fit(x)\n",
    "\n",
    "xscaled = scaler.fit_transform(x)"
   ]
  },
  {
   "cell_type": "code",
   "execution_count": null,
   "id": "b049a6fd",
   "metadata": {},
   "outputs": [],
   "source": [
    "xtrain, xtest, ytrain, ytest = train_test_split(xscaled, y, test_size=0.2, random_state=42)"
   ]
  },
  {
   "cell_type": "code",
   "execution_count": null,
   "id": "f7930963",
   "metadata": {},
   "outputs": [],
   "source": [
    "from sklearn.svm import SVC\n",
    "\n",
    "model = SVC()\n",
    "model.fit(xtrain, ytrain)"
   ]
  },
  {
   "cell_type": "code",
   "execution_count": null,
   "id": "1076eec7",
   "metadata": {},
   "outputs": [],
   "source": [
    "ypred = model.predict(xtest)"
   ]
  },
  {
   "cell_type": "code",
   "execution_count": null,
   "id": "2ce7ffbb",
   "metadata": {},
   "outputs": [],
   "source": [
    "from sklearn.metrics import accuracy_score, classification_report\n",
    "\n",
    "score = accuracy_score(ytest, ypred)\n",
    "\n",
    "print(\"Test Accuracy of the Best Model:\", score)\n",
    "print(\"\\nClassification Report of the Best Model:\")\n",
    "print(classification_report(ytest, ypred))"
   ]
  },
  {
   "cell_type": "markdown",
   "id": "fea2e2da",
   "metadata": {},
   "source": []
  }
 ],
 "metadata": {
  "kernelspec": {
   "display_name": "Python 3",
   "language": "python",
   "name": "python3"
  },
  "language_info": {
   "codemirror_mode": {
    "name": "ipython",
    "version": 3
   },
   "file_extension": ".py",
   "mimetype": "text/x-python",
   "name": "python",
   "nbconvert_exporter": "python",
   "pygments_lexer": "ipython3",
   "version": "3.13.1"
  }
 },
 "nbformat": 4,
 "nbformat_minor": 5
}
