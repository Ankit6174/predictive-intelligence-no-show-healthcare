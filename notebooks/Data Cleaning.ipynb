{
 "cells": [
  {
   "cell_type": "markdown",
   "id": "5f2bce48",
   "metadata": {},
   "source": [
    "# Importing data"
   ]
  },
  {
   "cell_type": "code",
   "execution_count": 2,
   "id": "909cf3c3",
   "metadata": {},
   "outputs": [
    {
     "data": {
      "application/vnd.microsoft.datawrangler.viewer.v0+json": {
       "columns": [
        {
         "name": "index",
         "rawType": "int64",
         "type": "integer"
        },
        {
         "name": "Gender",
         "rawType": "object",
         "type": "string"
        },
        {
         "name": "ScheduledDay",
         "rawType": "object",
         "type": "string"
        },
        {
         "name": "AppointmentDay",
         "rawType": "object",
         "type": "string"
        },
        {
         "name": "Age",
         "rawType": "int64",
         "type": "integer"
        },
        {
         "name": "Neighbourhood",
         "rawType": "object",
         "type": "string"
        },
        {
         "name": "Scholarship",
         "rawType": "int64",
         "type": "integer"
        },
        {
         "name": "Hipertension",
         "rawType": "int64",
         "type": "integer"
        },
        {
         "name": "Diabetes",
         "rawType": "int64",
         "type": "integer"
        },
        {
         "name": "Alcoholism",
         "rawType": "int64",
         "type": "integer"
        },
        {
         "name": "Handcap",
         "rawType": "int64",
         "type": "integer"
        },
        {
         "name": "SMS_received",
         "rawType": "int64",
         "type": "integer"
        },
        {
         "name": "No-show",
         "rawType": "object",
         "type": "string"
        }
       ],
       "conversionMethod": "pd.DataFrame",
       "ref": "a8a0f578-ebc6-48cf-9ab9-20770c10f8d7",
       "rows": [
        [
         "0",
         "F",
         "2016-04-29T18:38:08Z",
         "2016-04-29T00:00:00Z",
         "62",
         "JARDIM DA PENHA",
         "0",
         "1",
         "0",
         "0",
         "0",
         "0",
         "No"
        ],
        [
         "1",
         "M",
         "2016-04-29T16:08:27Z",
         "2016-04-29T00:00:00Z",
         "56",
         "JARDIM DA PENHA",
         "0",
         "0",
         "0",
         "0",
         "0",
         "0",
         "No"
        ],
        [
         "2",
         "F",
         "2016-04-29T16:19:04Z",
         "2016-04-29T00:00:00Z",
         "62",
         "MATA DA PRAIA",
         "0",
         "0",
         "0",
         "0",
         "0",
         "0",
         "No"
        ],
        [
         "3",
         "F",
         "2016-04-29T17:29:31Z",
         "2016-04-29T00:00:00Z",
         "8",
         "PONTAL DE CAMBURI",
         "0",
         "0",
         "0",
         "0",
         "0",
         "0",
         "No"
        ],
        [
         "4",
         "F",
         "2016-04-29T16:07:23Z",
         "2016-04-29T00:00:00Z",
         "56",
         "JARDIM DA PENHA",
         "0",
         "1",
         "1",
         "0",
         "0",
         "0",
         "No"
        ]
       ],
       "shape": {
        "columns": 12,
        "rows": 5
       }
      },
      "text/html": [
       "<div>\n",
       "<style scoped>\n",
       "    .dataframe tbody tr th:only-of-type {\n",
       "        vertical-align: middle;\n",
       "    }\n",
       "\n",
       "    .dataframe tbody tr th {\n",
       "        vertical-align: top;\n",
       "    }\n",
       "\n",
       "    .dataframe thead th {\n",
       "        text-align: right;\n",
       "    }\n",
       "</style>\n",
       "<table border=\"1\" class=\"dataframe\">\n",
       "  <thead>\n",
       "    <tr style=\"text-align: right;\">\n",
       "      <th></th>\n",
       "      <th>Gender</th>\n",
       "      <th>ScheduledDay</th>\n",
       "      <th>AppointmentDay</th>\n",
       "      <th>Age</th>\n",
       "      <th>Neighbourhood</th>\n",
       "      <th>Scholarship</th>\n",
       "      <th>Hipertension</th>\n",
       "      <th>Diabetes</th>\n",
       "      <th>Alcoholism</th>\n",
       "      <th>Handcap</th>\n",
       "      <th>SMS_received</th>\n",
       "      <th>No-show</th>\n",
       "    </tr>\n",
       "  </thead>\n",
       "  <tbody>\n",
       "    <tr>\n",
       "      <th>0</th>\n",
       "      <td>F</td>\n",
       "      <td>2016-04-29T18:38:08Z</td>\n",
       "      <td>2016-04-29T00:00:00Z</td>\n",
       "      <td>62</td>\n",
       "      <td>JARDIM DA PENHA</td>\n",
       "      <td>0</td>\n",
       "      <td>1</td>\n",
       "      <td>0</td>\n",
       "      <td>0</td>\n",
       "      <td>0</td>\n",
       "      <td>0</td>\n",
       "      <td>No</td>\n",
       "    </tr>\n",
       "    <tr>\n",
       "      <th>1</th>\n",
       "      <td>M</td>\n",
       "      <td>2016-04-29T16:08:27Z</td>\n",
       "      <td>2016-04-29T00:00:00Z</td>\n",
       "      <td>56</td>\n",
       "      <td>JARDIM DA PENHA</td>\n",
       "      <td>0</td>\n",
       "      <td>0</td>\n",
       "      <td>0</td>\n",
       "      <td>0</td>\n",
       "      <td>0</td>\n",
       "      <td>0</td>\n",
       "      <td>No</td>\n",
       "    </tr>\n",
       "    <tr>\n",
       "      <th>2</th>\n",
       "      <td>F</td>\n",
       "      <td>2016-04-29T16:19:04Z</td>\n",
       "      <td>2016-04-29T00:00:00Z</td>\n",
       "      <td>62</td>\n",
       "      <td>MATA DA PRAIA</td>\n",
       "      <td>0</td>\n",
       "      <td>0</td>\n",
       "      <td>0</td>\n",
       "      <td>0</td>\n",
       "      <td>0</td>\n",
       "      <td>0</td>\n",
       "      <td>No</td>\n",
       "    </tr>\n",
       "    <tr>\n",
       "      <th>3</th>\n",
       "      <td>F</td>\n",
       "      <td>2016-04-29T17:29:31Z</td>\n",
       "      <td>2016-04-29T00:00:00Z</td>\n",
       "      <td>8</td>\n",
       "      <td>PONTAL DE CAMBURI</td>\n",
       "      <td>0</td>\n",
       "      <td>0</td>\n",
       "      <td>0</td>\n",
       "      <td>0</td>\n",
       "      <td>0</td>\n",
       "      <td>0</td>\n",
       "      <td>No</td>\n",
       "    </tr>\n",
       "    <tr>\n",
       "      <th>4</th>\n",
       "      <td>F</td>\n",
       "      <td>2016-04-29T16:07:23Z</td>\n",
       "      <td>2016-04-29T00:00:00Z</td>\n",
       "      <td>56</td>\n",
       "      <td>JARDIM DA PENHA</td>\n",
       "      <td>0</td>\n",
       "      <td>1</td>\n",
       "      <td>1</td>\n",
       "      <td>0</td>\n",
       "      <td>0</td>\n",
       "      <td>0</td>\n",
       "      <td>No</td>\n",
       "    </tr>\n",
       "  </tbody>\n",
       "</table>\n",
       "</div>"
      ],
      "text/plain": [
       "  Gender          ScheduledDay        AppointmentDay  Age      Neighbourhood  \\\n",
       "0      F  2016-04-29T18:38:08Z  2016-04-29T00:00:00Z   62    JARDIM DA PENHA   \n",
       "1      M  2016-04-29T16:08:27Z  2016-04-29T00:00:00Z   56    JARDIM DA PENHA   \n",
       "2      F  2016-04-29T16:19:04Z  2016-04-29T00:00:00Z   62      MATA DA PRAIA   \n",
       "3      F  2016-04-29T17:29:31Z  2016-04-29T00:00:00Z    8  PONTAL DE CAMBURI   \n",
       "4      F  2016-04-29T16:07:23Z  2016-04-29T00:00:00Z   56    JARDIM DA PENHA   \n",
       "\n",
       "   Scholarship  Hipertension  Diabetes  Alcoholism  Handcap  SMS_received  \\\n",
       "0            0             1         0           0        0             0   \n",
       "1            0             0         0           0        0             0   \n",
       "2            0             0         0           0        0             0   \n",
       "3            0             0         0           0        0             0   \n",
       "4            0             1         1           0        0             0   \n",
       "\n",
       "  No-show  \n",
       "0      No  \n",
       "1      No  \n",
       "2      No  \n",
       "3      No  \n",
       "4      No  "
      ]
     },
     "execution_count": 2,
     "metadata": {},
     "output_type": "execute_result"
    }
   ],
   "source": [
    "import numpy as np\n",
    "import pandas as pd\n",
    "\n",
    "data = pd.read_csv(r'../data/raw/raw-data.csv')\n",
    "data.drop(columns=['PatientId', 'AppointmentID'], inplace=True)\n",
    "data.head()"
   ]
  },
  {
   "cell_type": "markdown",
   "id": "9fbbaaf0",
   "metadata": {},
   "source": [
    "### Check if out data is immbalance."
   ]
  },
  {
   "cell_type": "code",
   "execution_count": 3,
   "id": "a340d6db",
   "metadata": {},
   "outputs": [
    {
     "data": {
      "application/vnd.plotly.v1+json": {
       "config": {
        "plotlyServerURL": "https://plot.ly"
       },
       "data": [
        {
         "domain": {
          "x": [
           0,
           1
          ],
          "y": [
           0,
           1
          ]
         },
         "hovertemplate": "label=%{label}<br>value=%{value}<extra></extra>",
         "labels": {
          "bdata": "AAE=",
          "dtype": "i1"
         },
         "legendgroup": "",
         "name": "",
         "showlegend": true,
         "type": "pie",
         "values": {
          "bdata": "UoUBAG0qAAA=",
          "dtype": "i4"
         }
        }
       ],
       "layout": {
        "height": 400,
        "legend": {
         "tracegroupgap": 0
        },
        "template": {
         "data": {
          "bar": [
           {
            "error_x": {
             "color": "#2a3f5f"
            },
            "error_y": {
             "color": "#2a3f5f"
            },
            "marker": {
             "line": {
              "color": "#E5ECF6",
              "width": 0.5
             },
             "pattern": {
              "fillmode": "overlay",
              "size": 10,
              "solidity": 0.2
             }
            },
            "type": "bar"
           }
          ],
          "barpolar": [
           {
            "marker": {
             "line": {
              "color": "#E5ECF6",
              "width": 0.5
             },
             "pattern": {
              "fillmode": "overlay",
              "size": 10,
              "solidity": 0.2
             }
            },
            "type": "barpolar"
           }
          ],
          "carpet": [
           {
            "aaxis": {
             "endlinecolor": "#2a3f5f",
             "gridcolor": "white",
             "linecolor": "white",
             "minorgridcolor": "white",
             "startlinecolor": "#2a3f5f"
            },
            "baxis": {
             "endlinecolor": "#2a3f5f",
             "gridcolor": "white",
             "linecolor": "white",
             "minorgridcolor": "white",
             "startlinecolor": "#2a3f5f"
            },
            "type": "carpet"
           }
          ],
          "choropleth": [
           {
            "colorbar": {
             "outlinewidth": 0,
             "ticks": ""
            },
            "type": "choropleth"
           }
          ],
          "contour": [
           {
            "colorbar": {
             "outlinewidth": 0,
             "ticks": ""
            },
            "colorscale": [
             [
              0,
              "#0d0887"
             ],
             [
              0.1111111111111111,
              "#46039f"
             ],
             [
              0.2222222222222222,
              "#7201a8"
             ],
             [
              0.3333333333333333,
              "#9c179e"
             ],
             [
              0.4444444444444444,
              "#bd3786"
             ],
             [
              0.5555555555555556,
              "#d8576b"
             ],
             [
              0.6666666666666666,
              "#ed7953"
             ],
             [
              0.7777777777777778,
              "#fb9f3a"
             ],
             [
              0.8888888888888888,
              "#fdca26"
             ],
             [
              1,
              "#f0f921"
             ]
            ],
            "type": "contour"
           }
          ],
          "contourcarpet": [
           {
            "colorbar": {
             "outlinewidth": 0,
             "ticks": ""
            },
            "type": "contourcarpet"
           }
          ],
          "heatmap": [
           {
            "colorbar": {
             "outlinewidth": 0,
             "ticks": ""
            },
            "colorscale": [
             [
              0,
              "#0d0887"
             ],
             [
              0.1111111111111111,
              "#46039f"
             ],
             [
              0.2222222222222222,
              "#7201a8"
             ],
             [
              0.3333333333333333,
              "#9c179e"
             ],
             [
              0.4444444444444444,
              "#bd3786"
             ],
             [
              0.5555555555555556,
              "#d8576b"
             ],
             [
              0.6666666666666666,
              "#ed7953"
             ],
             [
              0.7777777777777778,
              "#fb9f3a"
             ],
             [
              0.8888888888888888,
              "#fdca26"
             ],
             [
              1,
              "#f0f921"
             ]
            ],
            "type": "heatmap"
           }
          ],
          "histogram": [
           {
            "marker": {
             "pattern": {
              "fillmode": "overlay",
              "size": 10,
              "solidity": 0.2
             }
            },
            "type": "histogram"
           }
          ],
          "histogram2d": [
           {
            "colorbar": {
             "outlinewidth": 0,
             "ticks": ""
            },
            "colorscale": [
             [
              0,
              "#0d0887"
             ],
             [
              0.1111111111111111,
              "#46039f"
             ],
             [
              0.2222222222222222,
              "#7201a8"
             ],
             [
              0.3333333333333333,
              "#9c179e"
             ],
             [
              0.4444444444444444,
              "#bd3786"
             ],
             [
              0.5555555555555556,
              "#d8576b"
             ],
             [
              0.6666666666666666,
              "#ed7953"
             ],
             [
              0.7777777777777778,
              "#fb9f3a"
             ],
             [
              0.8888888888888888,
              "#fdca26"
             ],
             [
              1,
              "#f0f921"
             ]
            ],
            "type": "histogram2d"
           }
          ],
          "histogram2dcontour": [
           {
            "colorbar": {
             "outlinewidth": 0,
             "ticks": ""
            },
            "colorscale": [
             [
              0,
              "#0d0887"
             ],
             [
              0.1111111111111111,
              "#46039f"
             ],
             [
              0.2222222222222222,
              "#7201a8"
             ],
             [
              0.3333333333333333,
              "#9c179e"
             ],
             [
              0.4444444444444444,
              "#bd3786"
             ],
             [
              0.5555555555555556,
              "#d8576b"
             ],
             [
              0.6666666666666666,
              "#ed7953"
             ],
             [
              0.7777777777777778,
              "#fb9f3a"
             ],
             [
              0.8888888888888888,
              "#fdca26"
             ],
             [
              1,
              "#f0f921"
             ]
            ],
            "type": "histogram2dcontour"
           }
          ],
          "mesh3d": [
           {
            "colorbar": {
             "outlinewidth": 0,
             "ticks": ""
            },
            "type": "mesh3d"
           }
          ],
          "parcoords": [
           {
            "line": {
             "colorbar": {
              "outlinewidth": 0,
              "ticks": ""
             }
            },
            "type": "parcoords"
           }
          ],
          "pie": [
           {
            "automargin": true,
            "type": "pie"
           }
          ],
          "scatter": [
           {
            "fillpattern": {
             "fillmode": "overlay",
             "size": 10,
             "solidity": 0.2
            },
            "type": "scatter"
           }
          ],
          "scatter3d": [
           {
            "line": {
             "colorbar": {
              "outlinewidth": 0,
              "ticks": ""
             }
            },
            "marker": {
             "colorbar": {
              "outlinewidth": 0,
              "ticks": ""
             }
            },
            "type": "scatter3d"
           }
          ],
          "scattercarpet": [
           {
            "marker": {
             "colorbar": {
              "outlinewidth": 0,
              "ticks": ""
             }
            },
            "type": "scattercarpet"
           }
          ],
          "scattergeo": [
           {
            "marker": {
             "colorbar": {
              "outlinewidth": 0,
              "ticks": ""
             }
            },
            "type": "scattergeo"
           }
          ],
          "scattergl": [
           {
            "marker": {
             "colorbar": {
              "outlinewidth": 0,
              "ticks": ""
             }
            },
            "type": "scattergl"
           }
          ],
          "scattermap": [
           {
            "marker": {
             "colorbar": {
              "outlinewidth": 0,
              "ticks": ""
             }
            },
            "type": "scattermap"
           }
          ],
          "scattermapbox": [
           {
            "marker": {
             "colorbar": {
              "outlinewidth": 0,
              "ticks": ""
             }
            },
            "type": "scattermapbox"
           }
          ],
          "scatterpolar": [
           {
            "marker": {
             "colorbar": {
              "outlinewidth": 0,
              "ticks": ""
             }
            },
            "type": "scatterpolar"
           }
          ],
          "scatterpolargl": [
           {
            "marker": {
             "colorbar": {
              "outlinewidth": 0,
              "ticks": ""
             }
            },
            "type": "scatterpolargl"
           }
          ],
          "scatterternary": [
           {
            "marker": {
             "colorbar": {
              "outlinewidth": 0,
              "ticks": ""
             }
            },
            "type": "scatterternary"
           }
          ],
          "surface": [
           {
            "colorbar": {
             "outlinewidth": 0,
             "ticks": ""
            },
            "colorscale": [
             [
              0,
              "#0d0887"
             ],
             [
              0.1111111111111111,
              "#46039f"
             ],
             [
              0.2222222222222222,
              "#7201a8"
             ],
             [
              0.3333333333333333,
              "#9c179e"
             ],
             [
              0.4444444444444444,
              "#bd3786"
             ],
             [
              0.5555555555555556,
              "#d8576b"
             ],
             [
              0.6666666666666666,
              "#ed7953"
             ],
             [
              0.7777777777777778,
              "#fb9f3a"
             ],
             [
              0.8888888888888888,
              "#fdca26"
             ],
             [
              1,
              "#f0f921"
             ]
            ],
            "type": "surface"
           }
          ],
          "table": [
           {
            "cells": {
             "fill": {
              "color": "#EBF0F8"
             },
             "line": {
              "color": "white"
             }
            },
            "header": {
             "fill": {
              "color": "#C8D4E3"
             },
             "line": {
              "color": "white"
             }
            },
            "type": "table"
           }
          ]
         },
         "layout": {
          "annotationdefaults": {
           "arrowcolor": "#2a3f5f",
           "arrowhead": 0,
           "arrowwidth": 1
          },
          "autotypenumbers": "strict",
          "coloraxis": {
           "colorbar": {
            "outlinewidth": 0,
            "ticks": ""
           }
          },
          "colorscale": {
           "diverging": [
            [
             0,
             "#8e0152"
            ],
            [
             0.1,
             "#c51b7d"
            ],
            [
             0.2,
             "#de77ae"
            ],
            [
             0.3,
             "#f1b6da"
            ],
            [
             0.4,
             "#fde0ef"
            ],
            [
             0.5,
             "#f7f7f7"
            ],
            [
             0.6,
             "#e6f5d0"
            ],
            [
             0.7,
             "#b8e186"
            ],
            [
             0.8,
             "#7fbc41"
            ],
            [
             0.9,
             "#4d9221"
            ],
            [
             1,
             "#276419"
            ]
           ],
           "sequential": [
            [
             0,
             "#0d0887"
            ],
            [
             0.1111111111111111,
             "#46039f"
            ],
            [
             0.2222222222222222,
             "#7201a8"
            ],
            [
             0.3333333333333333,
             "#9c179e"
            ],
            [
             0.4444444444444444,
             "#bd3786"
            ],
            [
             0.5555555555555556,
             "#d8576b"
            ],
            [
             0.6666666666666666,
             "#ed7953"
            ],
            [
             0.7777777777777778,
             "#fb9f3a"
            ],
            [
             0.8888888888888888,
             "#fdca26"
            ],
            [
             1,
             "#f0f921"
            ]
           ],
           "sequentialminus": [
            [
             0,
             "#0d0887"
            ],
            [
             0.1111111111111111,
             "#46039f"
            ],
            [
             0.2222222222222222,
             "#7201a8"
            ],
            [
             0.3333333333333333,
             "#9c179e"
            ],
            [
             0.4444444444444444,
             "#bd3786"
            ],
            [
             0.5555555555555556,
             "#d8576b"
            ],
            [
             0.6666666666666666,
             "#ed7953"
            ],
            [
             0.7777777777777778,
             "#fb9f3a"
            ],
            [
             0.8888888888888888,
             "#fdca26"
            ],
            [
             1,
             "#f0f921"
            ]
           ]
          },
          "colorway": [
           "#636efa",
           "#EF553B",
           "#00cc96",
           "#ab63fa",
           "#FFA15A",
           "#19d3f3",
           "#FF6692",
           "#B6E880",
           "#FF97FF",
           "#FECB52"
          ],
          "font": {
           "color": "#2a3f5f"
          },
          "geo": {
           "bgcolor": "white",
           "lakecolor": "white",
           "landcolor": "#E5ECF6",
           "showlakes": true,
           "showland": true,
           "subunitcolor": "white"
          },
          "hoverlabel": {
           "align": "left"
          },
          "hovermode": "closest",
          "mapbox": {
           "style": "light"
          },
          "paper_bgcolor": "white",
          "plot_bgcolor": "#E5ECF6",
          "polar": {
           "angularaxis": {
            "gridcolor": "white",
            "linecolor": "white",
            "ticks": ""
           },
           "bgcolor": "#E5ECF6",
           "radialaxis": {
            "gridcolor": "white",
            "linecolor": "white",
            "ticks": ""
           }
          },
          "scene": {
           "xaxis": {
            "backgroundcolor": "#E5ECF6",
            "gridcolor": "white",
            "gridwidth": 2,
            "linecolor": "white",
            "showbackground": true,
            "ticks": "",
            "zerolinecolor": "white"
           },
           "yaxis": {
            "backgroundcolor": "#E5ECF6",
            "gridcolor": "white",
            "gridwidth": 2,
            "linecolor": "white",
            "showbackground": true,
            "ticks": "",
            "zerolinecolor": "white"
           },
           "zaxis": {
            "backgroundcolor": "#E5ECF6",
            "gridcolor": "white",
            "gridwidth": 2,
            "linecolor": "white",
            "showbackground": true,
            "ticks": "",
            "zerolinecolor": "white"
           }
          },
          "shapedefaults": {
           "line": {
            "color": "#2a3f5f"
           }
          },
          "ternary": {
           "aaxis": {
            "gridcolor": "white",
            "linecolor": "white",
            "ticks": ""
           },
           "baxis": {
            "gridcolor": "white",
            "linecolor": "white",
            "ticks": ""
           },
           "bgcolor": "#E5ECF6",
           "caxis": {
            "gridcolor": "white",
            "linecolor": "white",
            "ticks": ""
           }
          },
          "title": {
           "x": 0.05
          },
          "xaxis": {
           "automargin": true,
           "gridcolor": "white",
           "linecolor": "white",
           "ticks": "",
           "title": {
            "standoff": 15
           },
           "zerolinecolor": "white",
           "zerolinewidth": 2
          },
          "yaxis": {
           "automargin": true,
           "gridcolor": "white",
           "linecolor": "white",
           "ticks": "",
           "title": {
            "standoff": 15
           },
           "zerolinecolor": "white",
           "zerolinewidth": 2
          }
         }
        },
        "title": {
         "text": "Scholarship Percentage Distribution"
        },
        "width": 400
       }
      }
     },
     "metadata": {},
     "output_type": "display_data"
    },
    {
     "data": {
      "application/vnd.plotly.v1+json": {
       "config": {
        "plotlyServerURL": "https://plot.ly"
       },
       "data": [
        {
         "domain": {
          "x": [
           0,
           1
          ],
          "y": [
           0,
           1
          ]
         },
         "hovertemplate": "label=%{label}<br>value=%{value}<extra></extra>",
         "labels": {
          "bdata": "AQA=",
          "dtype": "i1"
         },
         "legendgroup": "",
         "name": "",
         "showlegend": true,
         "type": "pie",
         "values": {
          "bdata": "lloBAClVAAA=",
          "dtype": "i4"
         }
        }
       ],
       "layout": {
        "height": 400,
        "legend": {
         "tracegroupgap": 0
        },
        "template": {
         "data": {
          "bar": [
           {
            "error_x": {
             "color": "#2a3f5f"
            },
            "error_y": {
             "color": "#2a3f5f"
            },
            "marker": {
             "line": {
              "color": "#E5ECF6",
              "width": 0.5
             },
             "pattern": {
              "fillmode": "overlay",
              "size": 10,
              "solidity": 0.2
             }
            },
            "type": "bar"
           }
          ],
          "barpolar": [
           {
            "marker": {
             "line": {
              "color": "#E5ECF6",
              "width": 0.5
             },
             "pattern": {
              "fillmode": "overlay",
              "size": 10,
              "solidity": 0.2
             }
            },
            "type": "barpolar"
           }
          ],
          "carpet": [
           {
            "aaxis": {
             "endlinecolor": "#2a3f5f",
             "gridcolor": "white",
             "linecolor": "white",
             "minorgridcolor": "white",
             "startlinecolor": "#2a3f5f"
            },
            "baxis": {
             "endlinecolor": "#2a3f5f",
             "gridcolor": "white",
             "linecolor": "white",
             "minorgridcolor": "white",
             "startlinecolor": "#2a3f5f"
            },
            "type": "carpet"
           }
          ],
          "choropleth": [
           {
            "colorbar": {
             "outlinewidth": 0,
             "ticks": ""
            },
            "type": "choropleth"
           }
          ],
          "contour": [
           {
            "colorbar": {
             "outlinewidth": 0,
             "ticks": ""
            },
            "colorscale": [
             [
              0,
              "#0d0887"
             ],
             [
              0.1111111111111111,
              "#46039f"
             ],
             [
              0.2222222222222222,
              "#7201a8"
             ],
             [
              0.3333333333333333,
              "#9c179e"
             ],
             [
              0.4444444444444444,
              "#bd3786"
             ],
             [
              0.5555555555555556,
              "#d8576b"
             ],
             [
              0.6666666666666666,
              "#ed7953"
             ],
             [
              0.7777777777777778,
              "#fb9f3a"
             ],
             [
              0.8888888888888888,
              "#fdca26"
             ],
             [
              1,
              "#f0f921"
             ]
            ],
            "type": "contour"
           }
          ],
          "contourcarpet": [
           {
            "colorbar": {
             "outlinewidth": 0,
             "ticks": ""
            },
            "type": "contourcarpet"
           }
          ],
          "heatmap": [
           {
            "colorbar": {
             "outlinewidth": 0,
             "ticks": ""
            },
            "colorscale": [
             [
              0,
              "#0d0887"
             ],
             [
              0.1111111111111111,
              "#46039f"
             ],
             [
              0.2222222222222222,
              "#7201a8"
             ],
             [
              0.3333333333333333,
              "#9c179e"
             ],
             [
              0.4444444444444444,
              "#bd3786"
             ],
             [
              0.5555555555555556,
              "#d8576b"
             ],
             [
              0.6666666666666666,
              "#ed7953"
             ],
             [
              0.7777777777777778,
              "#fb9f3a"
             ],
             [
              0.8888888888888888,
              "#fdca26"
             ],
             [
              1,
              "#f0f921"
             ]
            ],
            "type": "heatmap"
           }
          ],
          "histogram": [
           {
            "marker": {
             "pattern": {
              "fillmode": "overlay",
              "size": 10,
              "solidity": 0.2
             }
            },
            "type": "histogram"
           }
          ],
          "histogram2d": [
           {
            "colorbar": {
             "outlinewidth": 0,
             "ticks": ""
            },
            "colorscale": [
             [
              0,
              "#0d0887"
             ],
             [
              0.1111111111111111,
              "#46039f"
             ],
             [
              0.2222222222222222,
              "#7201a8"
             ],
             [
              0.3333333333333333,
              "#9c179e"
             ],
             [
              0.4444444444444444,
              "#bd3786"
             ],
             [
              0.5555555555555556,
              "#d8576b"
             ],
             [
              0.6666666666666666,
              "#ed7953"
             ],
             [
              0.7777777777777778,
              "#fb9f3a"
             ],
             [
              0.8888888888888888,
              "#fdca26"
             ],
             [
              1,
              "#f0f921"
             ]
            ],
            "type": "histogram2d"
           }
          ],
          "histogram2dcontour": [
           {
            "colorbar": {
             "outlinewidth": 0,
             "ticks": ""
            },
            "colorscale": [
             [
              0,
              "#0d0887"
             ],
             [
              0.1111111111111111,
              "#46039f"
             ],
             [
              0.2222222222222222,
              "#7201a8"
             ],
             [
              0.3333333333333333,
              "#9c179e"
             ],
             [
              0.4444444444444444,
              "#bd3786"
             ],
             [
              0.5555555555555556,
              "#d8576b"
             ],
             [
              0.6666666666666666,
              "#ed7953"
             ],
             [
              0.7777777777777778,
              "#fb9f3a"
             ],
             [
              0.8888888888888888,
              "#fdca26"
             ],
             [
              1,
              "#f0f921"
             ]
            ],
            "type": "histogram2dcontour"
           }
          ],
          "mesh3d": [
           {
            "colorbar": {
             "outlinewidth": 0,
             "ticks": ""
            },
            "type": "mesh3d"
           }
          ],
          "parcoords": [
           {
            "line": {
             "colorbar": {
              "outlinewidth": 0,
              "ticks": ""
             }
            },
            "type": "parcoords"
           }
          ],
          "pie": [
           {
            "automargin": true,
            "type": "pie"
           }
          ],
          "scatter": [
           {
            "fillpattern": {
             "fillmode": "overlay",
             "size": 10,
             "solidity": 0.2
            },
            "type": "scatter"
           }
          ],
          "scatter3d": [
           {
            "line": {
             "colorbar": {
              "outlinewidth": 0,
              "ticks": ""
             }
            },
            "marker": {
             "colorbar": {
              "outlinewidth": 0,
              "ticks": ""
             }
            },
            "type": "scatter3d"
           }
          ],
          "scattercarpet": [
           {
            "marker": {
             "colorbar": {
              "outlinewidth": 0,
              "ticks": ""
             }
            },
            "type": "scattercarpet"
           }
          ],
          "scattergeo": [
           {
            "marker": {
             "colorbar": {
              "outlinewidth": 0,
              "ticks": ""
             }
            },
            "type": "scattergeo"
           }
          ],
          "scattergl": [
           {
            "marker": {
             "colorbar": {
              "outlinewidth": 0,
              "ticks": ""
             }
            },
            "type": "scattergl"
           }
          ],
          "scattermap": [
           {
            "marker": {
             "colorbar": {
              "outlinewidth": 0,
              "ticks": ""
             }
            },
            "type": "scattermap"
           }
          ],
          "scattermapbox": [
           {
            "marker": {
             "colorbar": {
              "outlinewidth": 0,
              "ticks": ""
             }
            },
            "type": "scattermapbox"
           }
          ],
          "scatterpolar": [
           {
            "marker": {
             "colorbar": {
              "outlinewidth": 0,
              "ticks": ""
             }
            },
            "type": "scatterpolar"
           }
          ],
          "scatterpolargl": [
           {
            "marker": {
             "colorbar": {
              "outlinewidth": 0,
              "ticks": ""
             }
            },
            "type": "scatterpolargl"
           }
          ],
          "scatterternary": [
           {
            "marker": {
             "colorbar": {
              "outlinewidth": 0,
              "ticks": ""
             }
            },
            "type": "scatterternary"
           }
          ],
          "surface": [
           {
            "colorbar": {
             "outlinewidth": 0,
             "ticks": ""
            },
            "colorscale": [
             [
              0,
              "#0d0887"
             ],
             [
              0.1111111111111111,
              "#46039f"
             ],
             [
              0.2222222222222222,
              "#7201a8"
             ],
             [
              0.3333333333333333,
              "#9c179e"
             ],
             [
              0.4444444444444444,
              "#bd3786"
             ],
             [
              0.5555555555555556,
              "#d8576b"
             ],
             [
              0.6666666666666666,
              "#ed7953"
             ],
             [
              0.7777777777777778,
              "#fb9f3a"
             ],
             [
              0.8888888888888888,
              "#fdca26"
             ],
             [
              1,
              "#f0f921"
             ]
            ],
            "type": "surface"
           }
          ],
          "table": [
           {
            "cells": {
             "fill": {
              "color": "#EBF0F8"
             },
             "line": {
              "color": "white"
             }
            },
            "header": {
             "fill": {
              "color": "#C8D4E3"
             },
             "line": {
              "color": "white"
             }
            },
            "type": "table"
           }
          ]
         },
         "layout": {
          "annotationdefaults": {
           "arrowcolor": "#2a3f5f",
           "arrowhead": 0,
           "arrowwidth": 1
          },
          "autotypenumbers": "strict",
          "coloraxis": {
           "colorbar": {
            "outlinewidth": 0,
            "ticks": ""
           }
          },
          "colorscale": {
           "diverging": [
            [
             0,
             "#8e0152"
            ],
            [
             0.1,
             "#c51b7d"
            ],
            [
             0.2,
             "#de77ae"
            ],
            [
             0.3,
             "#f1b6da"
            ],
            [
             0.4,
             "#fde0ef"
            ],
            [
             0.5,
             "#f7f7f7"
            ],
            [
             0.6,
             "#e6f5d0"
            ],
            [
             0.7,
             "#b8e186"
            ],
            [
             0.8,
             "#7fbc41"
            ],
            [
             0.9,
             "#4d9221"
            ],
            [
             1,
             "#276419"
            ]
           ],
           "sequential": [
            [
             0,
             "#0d0887"
            ],
            [
             0.1111111111111111,
             "#46039f"
            ],
            [
             0.2222222222222222,
             "#7201a8"
            ],
            [
             0.3333333333333333,
             "#9c179e"
            ],
            [
             0.4444444444444444,
             "#bd3786"
            ],
            [
             0.5555555555555556,
             "#d8576b"
            ],
            [
             0.6666666666666666,
             "#ed7953"
            ],
            [
             0.7777777777777778,
             "#fb9f3a"
            ],
            [
             0.8888888888888888,
             "#fdca26"
            ],
            [
             1,
             "#f0f921"
            ]
           ],
           "sequentialminus": [
            [
             0,
             "#0d0887"
            ],
            [
             0.1111111111111111,
             "#46039f"
            ],
            [
             0.2222222222222222,
             "#7201a8"
            ],
            [
             0.3333333333333333,
             "#9c179e"
            ],
            [
             0.4444444444444444,
             "#bd3786"
            ],
            [
             0.5555555555555556,
             "#d8576b"
            ],
            [
             0.6666666666666666,
             "#ed7953"
            ],
            [
             0.7777777777777778,
             "#fb9f3a"
            ],
            [
             0.8888888888888888,
             "#fdca26"
            ],
            [
             1,
             "#f0f921"
            ]
           ]
          },
          "colorway": [
           "#636efa",
           "#EF553B",
           "#00cc96",
           "#ab63fa",
           "#FFA15A",
           "#19d3f3",
           "#FF6692",
           "#B6E880",
           "#FF97FF",
           "#FECB52"
          ],
          "font": {
           "color": "#2a3f5f"
          },
          "geo": {
           "bgcolor": "white",
           "lakecolor": "white",
           "landcolor": "#E5ECF6",
           "showlakes": true,
           "showland": true,
           "subunitcolor": "white"
          },
          "hoverlabel": {
           "align": "left"
          },
          "hovermode": "closest",
          "mapbox": {
           "style": "light"
          },
          "paper_bgcolor": "white",
          "plot_bgcolor": "#E5ECF6",
          "polar": {
           "angularaxis": {
            "gridcolor": "white",
            "linecolor": "white",
            "ticks": ""
           },
           "bgcolor": "#E5ECF6",
           "radialaxis": {
            "gridcolor": "white",
            "linecolor": "white",
            "ticks": ""
           }
          },
          "scene": {
           "xaxis": {
            "backgroundcolor": "#E5ECF6",
            "gridcolor": "white",
            "gridwidth": 2,
            "linecolor": "white",
            "showbackground": true,
            "ticks": "",
            "zerolinecolor": "white"
           },
           "yaxis": {
            "backgroundcolor": "#E5ECF6",
            "gridcolor": "white",
            "gridwidth": 2,
            "linecolor": "white",
            "showbackground": true,
            "ticks": "",
            "zerolinecolor": "white"
           },
           "zaxis": {
            "backgroundcolor": "#E5ECF6",
            "gridcolor": "white",
            "gridwidth": 2,
            "linecolor": "white",
            "showbackground": true,
            "ticks": "",
            "zerolinecolor": "white"
           }
          },
          "shapedefaults": {
           "line": {
            "color": "#2a3f5f"
           }
          },
          "ternary": {
           "aaxis": {
            "gridcolor": "white",
            "linecolor": "white",
            "ticks": ""
           },
           "baxis": {
            "gridcolor": "white",
            "linecolor": "white",
            "ticks": ""
           },
           "bgcolor": "#E5ECF6",
           "caxis": {
            "gridcolor": "white",
            "linecolor": "white",
            "ticks": ""
           }
          },
          "title": {
           "x": 0.05
          },
          "xaxis": {
           "automargin": true,
           "gridcolor": "white",
           "linecolor": "white",
           "ticks": "",
           "title": {
            "standoff": 15
           },
           "zerolinecolor": "white",
           "zerolinewidth": 2
          },
          "yaxis": {
           "automargin": true,
           "gridcolor": "white",
           "linecolor": "white",
           "ticks": "",
           "title": {
            "standoff": 15
           },
           "zerolinecolor": "white",
           "zerolinewidth": 2
          }
         }
        },
        "title": {
         "text": "Hipertension Percentage Distribution"
        },
        "width": 400
       }
      }
     },
     "metadata": {},
     "output_type": "display_data"
    },
    {
     "data": {
      "application/vnd.plotly.v1+json": {
       "config": {
        "plotlyServerURL": "https://plot.ly"
       },
       "data": [
        {
         "domain": {
          "x": [
           0,
           1
          ],
          "y": [
           0,
           1
          ]
         },
         "hovertemplate": "label=%{label}<br>value=%{value}<extra></extra>",
         "labels": {
          "bdata": "AAE=",
          "dtype": "i1"
         },
         "legendgroup": "",
         "name": "",
         "showlegend": true,
         "type": "pie",
         "values": {
          "bdata": "uJABAAcfAAA=",
          "dtype": "i4"
         }
        }
       ],
       "layout": {
        "height": 400,
        "legend": {
         "tracegroupgap": 0
        },
        "template": {
         "data": {
          "bar": [
           {
            "error_x": {
             "color": "#2a3f5f"
            },
            "error_y": {
             "color": "#2a3f5f"
            },
            "marker": {
             "line": {
              "color": "#E5ECF6",
              "width": 0.5
             },
             "pattern": {
              "fillmode": "overlay",
              "size": 10,
              "solidity": 0.2
             }
            },
            "type": "bar"
           }
          ],
          "barpolar": [
           {
            "marker": {
             "line": {
              "color": "#E5ECF6",
              "width": 0.5
             },
             "pattern": {
              "fillmode": "overlay",
              "size": 10,
              "solidity": 0.2
             }
            },
            "type": "barpolar"
           }
          ],
          "carpet": [
           {
            "aaxis": {
             "endlinecolor": "#2a3f5f",
             "gridcolor": "white",
             "linecolor": "white",
             "minorgridcolor": "white",
             "startlinecolor": "#2a3f5f"
            },
            "baxis": {
             "endlinecolor": "#2a3f5f",
             "gridcolor": "white",
             "linecolor": "white",
             "minorgridcolor": "white",
             "startlinecolor": "#2a3f5f"
            },
            "type": "carpet"
           }
          ],
          "choropleth": [
           {
            "colorbar": {
             "outlinewidth": 0,
             "ticks": ""
            },
            "type": "choropleth"
           }
          ],
          "contour": [
           {
            "colorbar": {
             "outlinewidth": 0,
             "ticks": ""
            },
            "colorscale": [
             [
              0,
              "#0d0887"
             ],
             [
              0.1111111111111111,
              "#46039f"
             ],
             [
              0.2222222222222222,
              "#7201a8"
             ],
             [
              0.3333333333333333,
              "#9c179e"
             ],
             [
              0.4444444444444444,
              "#bd3786"
             ],
             [
              0.5555555555555556,
              "#d8576b"
             ],
             [
              0.6666666666666666,
              "#ed7953"
             ],
             [
              0.7777777777777778,
              "#fb9f3a"
             ],
             [
              0.8888888888888888,
              "#fdca26"
             ],
             [
              1,
              "#f0f921"
             ]
            ],
            "type": "contour"
           }
          ],
          "contourcarpet": [
           {
            "colorbar": {
             "outlinewidth": 0,
             "ticks": ""
            },
            "type": "contourcarpet"
           }
          ],
          "heatmap": [
           {
            "colorbar": {
             "outlinewidth": 0,
             "ticks": ""
            },
            "colorscale": [
             [
              0,
              "#0d0887"
             ],
             [
              0.1111111111111111,
              "#46039f"
             ],
             [
              0.2222222222222222,
              "#7201a8"
             ],
             [
              0.3333333333333333,
              "#9c179e"
             ],
             [
              0.4444444444444444,
              "#bd3786"
             ],
             [
              0.5555555555555556,
              "#d8576b"
             ],
             [
              0.6666666666666666,
              "#ed7953"
             ],
             [
              0.7777777777777778,
              "#fb9f3a"
             ],
             [
              0.8888888888888888,
              "#fdca26"
             ],
             [
              1,
              "#f0f921"
             ]
            ],
            "type": "heatmap"
           }
          ],
          "histogram": [
           {
            "marker": {
             "pattern": {
              "fillmode": "overlay",
              "size": 10,
              "solidity": 0.2
             }
            },
            "type": "histogram"
           }
          ],
          "histogram2d": [
           {
            "colorbar": {
             "outlinewidth": 0,
             "ticks": ""
            },
            "colorscale": [
             [
              0,
              "#0d0887"
             ],
             [
              0.1111111111111111,
              "#46039f"
             ],
             [
              0.2222222222222222,
              "#7201a8"
             ],
             [
              0.3333333333333333,
              "#9c179e"
             ],
             [
              0.4444444444444444,
              "#bd3786"
             ],
             [
              0.5555555555555556,
              "#d8576b"
             ],
             [
              0.6666666666666666,
              "#ed7953"
             ],
             [
              0.7777777777777778,
              "#fb9f3a"
             ],
             [
              0.8888888888888888,
              "#fdca26"
             ],
             [
              1,
              "#f0f921"
             ]
            ],
            "type": "histogram2d"
           }
          ],
          "histogram2dcontour": [
           {
            "colorbar": {
             "outlinewidth": 0,
             "ticks": ""
            },
            "colorscale": [
             [
              0,
              "#0d0887"
             ],
             [
              0.1111111111111111,
              "#46039f"
             ],
             [
              0.2222222222222222,
              "#7201a8"
             ],
             [
              0.3333333333333333,
              "#9c179e"
             ],
             [
              0.4444444444444444,
              "#bd3786"
             ],
             [
              0.5555555555555556,
              "#d8576b"
             ],
             [
              0.6666666666666666,
              "#ed7953"
             ],
             [
              0.7777777777777778,
              "#fb9f3a"
             ],
             [
              0.8888888888888888,
              "#fdca26"
             ],
             [
              1,
              "#f0f921"
             ]
            ],
            "type": "histogram2dcontour"
           }
          ],
          "mesh3d": [
           {
            "colorbar": {
             "outlinewidth": 0,
             "ticks": ""
            },
            "type": "mesh3d"
           }
          ],
          "parcoords": [
           {
            "line": {
             "colorbar": {
              "outlinewidth": 0,
              "ticks": ""
             }
            },
            "type": "parcoords"
           }
          ],
          "pie": [
           {
            "automargin": true,
            "type": "pie"
           }
          ],
          "scatter": [
           {
            "fillpattern": {
             "fillmode": "overlay",
             "size": 10,
             "solidity": 0.2
            },
            "type": "scatter"
           }
          ],
          "scatter3d": [
           {
            "line": {
             "colorbar": {
              "outlinewidth": 0,
              "ticks": ""
             }
            },
            "marker": {
             "colorbar": {
              "outlinewidth": 0,
              "ticks": ""
             }
            },
            "type": "scatter3d"
           }
          ],
          "scattercarpet": [
           {
            "marker": {
             "colorbar": {
              "outlinewidth": 0,
              "ticks": ""
             }
            },
            "type": "scattercarpet"
           }
          ],
          "scattergeo": [
           {
            "marker": {
             "colorbar": {
              "outlinewidth": 0,
              "ticks": ""
             }
            },
            "type": "scattergeo"
           }
          ],
          "scattergl": [
           {
            "marker": {
             "colorbar": {
              "outlinewidth": 0,
              "ticks": ""
             }
            },
            "type": "scattergl"
           }
          ],
          "scattermap": [
           {
            "marker": {
             "colorbar": {
              "outlinewidth": 0,
              "ticks": ""
             }
            },
            "type": "scattermap"
           }
          ],
          "scattermapbox": [
           {
            "marker": {
             "colorbar": {
              "outlinewidth": 0,
              "ticks": ""
             }
            },
            "type": "scattermapbox"
           }
          ],
          "scatterpolar": [
           {
            "marker": {
             "colorbar": {
              "outlinewidth": 0,
              "ticks": ""
             }
            },
            "type": "scatterpolar"
           }
          ],
          "scatterpolargl": [
           {
            "marker": {
             "colorbar": {
              "outlinewidth": 0,
              "ticks": ""
             }
            },
            "type": "scatterpolargl"
           }
          ],
          "scatterternary": [
           {
            "marker": {
             "colorbar": {
              "outlinewidth": 0,
              "ticks": ""
             }
            },
            "type": "scatterternary"
           }
          ],
          "surface": [
           {
            "colorbar": {
             "outlinewidth": 0,
             "ticks": ""
            },
            "colorscale": [
             [
              0,
              "#0d0887"
             ],
             [
              0.1111111111111111,
              "#46039f"
             ],
             [
              0.2222222222222222,
              "#7201a8"
             ],
             [
              0.3333333333333333,
              "#9c179e"
             ],
             [
              0.4444444444444444,
              "#bd3786"
             ],
             [
              0.5555555555555556,
              "#d8576b"
             ],
             [
              0.6666666666666666,
              "#ed7953"
             ],
             [
              0.7777777777777778,
              "#fb9f3a"
             ],
             [
              0.8888888888888888,
              "#fdca26"
             ],
             [
              1,
              "#f0f921"
             ]
            ],
            "type": "surface"
           }
          ],
          "table": [
           {
            "cells": {
             "fill": {
              "color": "#EBF0F8"
             },
             "line": {
              "color": "white"
             }
            },
            "header": {
             "fill": {
              "color": "#C8D4E3"
             },
             "line": {
              "color": "white"
             }
            },
            "type": "table"
           }
          ]
         },
         "layout": {
          "annotationdefaults": {
           "arrowcolor": "#2a3f5f",
           "arrowhead": 0,
           "arrowwidth": 1
          },
          "autotypenumbers": "strict",
          "coloraxis": {
           "colorbar": {
            "outlinewidth": 0,
            "ticks": ""
           }
          },
          "colorscale": {
           "diverging": [
            [
             0,
             "#8e0152"
            ],
            [
             0.1,
             "#c51b7d"
            ],
            [
             0.2,
             "#de77ae"
            ],
            [
             0.3,
             "#f1b6da"
            ],
            [
             0.4,
             "#fde0ef"
            ],
            [
             0.5,
             "#f7f7f7"
            ],
            [
             0.6,
             "#e6f5d0"
            ],
            [
             0.7,
             "#b8e186"
            ],
            [
             0.8,
             "#7fbc41"
            ],
            [
             0.9,
             "#4d9221"
            ],
            [
             1,
             "#276419"
            ]
           ],
           "sequential": [
            [
             0,
             "#0d0887"
            ],
            [
             0.1111111111111111,
             "#46039f"
            ],
            [
             0.2222222222222222,
             "#7201a8"
            ],
            [
             0.3333333333333333,
             "#9c179e"
            ],
            [
             0.4444444444444444,
             "#bd3786"
            ],
            [
             0.5555555555555556,
             "#d8576b"
            ],
            [
             0.6666666666666666,
             "#ed7953"
            ],
            [
             0.7777777777777778,
             "#fb9f3a"
            ],
            [
             0.8888888888888888,
             "#fdca26"
            ],
            [
             1,
             "#f0f921"
            ]
           ],
           "sequentialminus": [
            [
             0,
             "#0d0887"
            ],
            [
             0.1111111111111111,
             "#46039f"
            ],
            [
             0.2222222222222222,
             "#7201a8"
            ],
            [
             0.3333333333333333,
             "#9c179e"
            ],
            [
             0.4444444444444444,
             "#bd3786"
            ],
            [
             0.5555555555555556,
             "#d8576b"
            ],
            [
             0.6666666666666666,
             "#ed7953"
            ],
            [
             0.7777777777777778,
             "#fb9f3a"
            ],
            [
             0.8888888888888888,
             "#fdca26"
            ],
            [
             1,
             "#f0f921"
            ]
           ]
          },
          "colorway": [
           "#636efa",
           "#EF553B",
           "#00cc96",
           "#ab63fa",
           "#FFA15A",
           "#19d3f3",
           "#FF6692",
           "#B6E880",
           "#FF97FF",
           "#FECB52"
          ],
          "font": {
           "color": "#2a3f5f"
          },
          "geo": {
           "bgcolor": "white",
           "lakecolor": "white",
           "landcolor": "#E5ECF6",
           "showlakes": true,
           "showland": true,
           "subunitcolor": "white"
          },
          "hoverlabel": {
           "align": "left"
          },
          "hovermode": "closest",
          "mapbox": {
           "style": "light"
          },
          "paper_bgcolor": "white",
          "plot_bgcolor": "#E5ECF6",
          "polar": {
           "angularaxis": {
            "gridcolor": "white",
            "linecolor": "white",
            "ticks": ""
           },
           "bgcolor": "#E5ECF6",
           "radialaxis": {
            "gridcolor": "white",
            "linecolor": "white",
            "ticks": ""
           }
          },
          "scene": {
           "xaxis": {
            "backgroundcolor": "#E5ECF6",
            "gridcolor": "white",
            "gridwidth": 2,
            "linecolor": "white",
            "showbackground": true,
            "ticks": "",
            "zerolinecolor": "white"
           },
           "yaxis": {
            "backgroundcolor": "#E5ECF6",
            "gridcolor": "white",
            "gridwidth": 2,
            "linecolor": "white",
            "showbackground": true,
            "ticks": "",
            "zerolinecolor": "white"
           },
           "zaxis": {
            "backgroundcolor": "#E5ECF6",
            "gridcolor": "white",
            "gridwidth": 2,
            "linecolor": "white",
            "showbackground": true,
            "ticks": "",
            "zerolinecolor": "white"
           }
          },
          "shapedefaults": {
           "line": {
            "color": "#2a3f5f"
           }
          },
          "ternary": {
           "aaxis": {
            "gridcolor": "white",
            "linecolor": "white",
            "ticks": ""
           },
           "baxis": {
            "gridcolor": "white",
            "linecolor": "white",
            "ticks": ""
           },
           "bgcolor": "#E5ECF6",
           "caxis": {
            "gridcolor": "white",
            "linecolor": "white",
            "ticks": ""
           }
          },
          "title": {
           "x": 0.05
          },
          "xaxis": {
           "automargin": true,
           "gridcolor": "white",
           "linecolor": "white",
           "ticks": "",
           "title": {
            "standoff": 15
           },
           "zerolinecolor": "white",
           "zerolinewidth": 2
          },
          "yaxis": {
           "automargin": true,
           "gridcolor": "white",
           "linecolor": "white",
           "ticks": "",
           "title": {
            "standoff": 15
           },
           "zerolinecolor": "white",
           "zerolinewidth": 2
          }
         }
        },
        "title": {
         "text": "Diabetes Percentage Distribution"
        },
        "width": 400
       }
      }
     },
     "metadata": {},
     "output_type": "display_data"
    },
    {
     "data": {
      "application/vnd.plotly.v1+json": {
       "config": {
        "plotlyServerURL": "https://plot.ly"
       },
       "data": [
        {
         "domain": {
          "x": [
           0,
           1
          ],
          "y": [
           0,
           1
          ]
         },
         "hovertemplate": "label=%{label}<br>value=%{value}<extra></extra>",
         "labels": {
          "bdata": "AAE=",
          "dtype": "i1"
         },
         "legendgroup": "",
         "name": "",
         "showlegend": true,
         "type": "pie",
         "values": {
          "bdata": "n6IBACANAAA=",
          "dtype": "i4"
         }
        }
       ],
       "layout": {
        "height": 400,
        "legend": {
         "tracegroupgap": 0
        },
        "template": {
         "data": {
          "bar": [
           {
            "error_x": {
             "color": "#2a3f5f"
            },
            "error_y": {
             "color": "#2a3f5f"
            },
            "marker": {
             "line": {
              "color": "#E5ECF6",
              "width": 0.5
             },
             "pattern": {
              "fillmode": "overlay",
              "size": 10,
              "solidity": 0.2
             }
            },
            "type": "bar"
           }
          ],
          "barpolar": [
           {
            "marker": {
             "line": {
              "color": "#E5ECF6",
              "width": 0.5
             },
             "pattern": {
              "fillmode": "overlay",
              "size": 10,
              "solidity": 0.2
             }
            },
            "type": "barpolar"
           }
          ],
          "carpet": [
           {
            "aaxis": {
             "endlinecolor": "#2a3f5f",
             "gridcolor": "white",
             "linecolor": "white",
             "minorgridcolor": "white",
             "startlinecolor": "#2a3f5f"
            },
            "baxis": {
             "endlinecolor": "#2a3f5f",
             "gridcolor": "white",
             "linecolor": "white",
             "minorgridcolor": "white",
             "startlinecolor": "#2a3f5f"
            },
            "type": "carpet"
           }
          ],
          "choropleth": [
           {
            "colorbar": {
             "outlinewidth": 0,
             "ticks": ""
            },
            "type": "choropleth"
           }
          ],
          "contour": [
           {
            "colorbar": {
             "outlinewidth": 0,
             "ticks": ""
            },
            "colorscale": [
             [
              0,
              "#0d0887"
             ],
             [
              0.1111111111111111,
              "#46039f"
             ],
             [
              0.2222222222222222,
              "#7201a8"
             ],
             [
              0.3333333333333333,
              "#9c179e"
             ],
             [
              0.4444444444444444,
              "#bd3786"
             ],
             [
              0.5555555555555556,
              "#d8576b"
             ],
             [
              0.6666666666666666,
              "#ed7953"
             ],
             [
              0.7777777777777778,
              "#fb9f3a"
             ],
             [
              0.8888888888888888,
              "#fdca26"
             ],
             [
              1,
              "#f0f921"
             ]
            ],
            "type": "contour"
           }
          ],
          "contourcarpet": [
           {
            "colorbar": {
             "outlinewidth": 0,
             "ticks": ""
            },
            "type": "contourcarpet"
           }
          ],
          "heatmap": [
           {
            "colorbar": {
             "outlinewidth": 0,
             "ticks": ""
            },
            "colorscale": [
             [
              0,
              "#0d0887"
             ],
             [
              0.1111111111111111,
              "#46039f"
             ],
             [
              0.2222222222222222,
              "#7201a8"
             ],
             [
              0.3333333333333333,
              "#9c179e"
             ],
             [
              0.4444444444444444,
              "#bd3786"
             ],
             [
              0.5555555555555556,
              "#d8576b"
             ],
             [
              0.6666666666666666,
              "#ed7953"
             ],
             [
              0.7777777777777778,
              "#fb9f3a"
             ],
             [
              0.8888888888888888,
              "#fdca26"
             ],
             [
              1,
              "#f0f921"
             ]
            ],
            "type": "heatmap"
           }
          ],
          "histogram": [
           {
            "marker": {
             "pattern": {
              "fillmode": "overlay",
              "size": 10,
              "solidity": 0.2
             }
            },
            "type": "histogram"
           }
          ],
          "histogram2d": [
           {
            "colorbar": {
             "outlinewidth": 0,
             "ticks": ""
            },
            "colorscale": [
             [
              0,
              "#0d0887"
             ],
             [
              0.1111111111111111,
              "#46039f"
             ],
             [
              0.2222222222222222,
              "#7201a8"
             ],
             [
              0.3333333333333333,
              "#9c179e"
             ],
             [
              0.4444444444444444,
              "#bd3786"
             ],
             [
              0.5555555555555556,
              "#d8576b"
             ],
             [
              0.6666666666666666,
              "#ed7953"
             ],
             [
              0.7777777777777778,
              "#fb9f3a"
             ],
             [
              0.8888888888888888,
              "#fdca26"
             ],
             [
              1,
              "#f0f921"
             ]
            ],
            "type": "histogram2d"
           }
          ],
          "histogram2dcontour": [
           {
            "colorbar": {
             "outlinewidth": 0,
             "ticks": ""
            },
            "colorscale": [
             [
              0,
              "#0d0887"
             ],
             [
              0.1111111111111111,
              "#46039f"
             ],
             [
              0.2222222222222222,
              "#7201a8"
             ],
             [
              0.3333333333333333,
              "#9c179e"
             ],
             [
              0.4444444444444444,
              "#bd3786"
             ],
             [
              0.5555555555555556,
              "#d8576b"
             ],
             [
              0.6666666666666666,
              "#ed7953"
             ],
             [
              0.7777777777777778,
              "#fb9f3a"
             ],
             [
              0.8888888888888888,
              "#fdca26"
             ],
             [
              1,
              "#f0f921"
             ]
            ],
            "type": "histogram2dcontour"
           }
          ],
          "mesh3d": [
           {
            "colorbar": {
             "outlinewidth": 0,
             "ticks": ""
            },
            "type": "mesh3d"
           }
          ],
          "parcoords": [
           {
            "line": {
             "colorbar": {
              "outlinewidth": 0,
              "ticks": ""
             }
            },
            "type": "parcoords"
           }
          ],
          "pie": [
           {
            "automargin": true,
            "type": "pie"
           }
          ],
          "scatter": [
           {
            "fillpattern": {
             "fillmode": "overlay",
             "size": 10,
             "solidity": 0.2
            },
            "type": "scatter"
           }
          ],
          "scatter3d": [
           {
            "line": {
             "colorbar": {
              "outlinewidth": 0,
              "ticks": ""
             }
            },
            "marker": {
             "colorbar": {
              "outlinewidth": 0,
              "ticks": ""
             }
            },
            "type": "scatter3d"
           }
          ],
          "scattercarpet": [
           {
            "marker": {
             "colorbar": {
              "outlinewidth": 0,
              "ticks": ""
             }
            },
            "type": "scattercarpet"
           }
          ],
          "scattergeo": [
           {
            "marker": {
             "colorbar": {
              "outlinewidth": 0,
              "ticks": ""
             }
            },
            "type": "scattergeo"
           }
          ],
          "scattergl": [
           {
            "marker": {
             "colorbar": {
              "outlinewidth": 0,
              "ticks": ""
             }
            },
            "type": "scattergl"
           }
          ],
          "scattermap": [
           {
            "marker": {
             "colorbar": {
              "outlinewidth": 0,
              "ticks": ""
             }
            },
            "type": "scattermap"
           }
          ],
          "scattermapbox": [
           {
            "marker": {
             "colorbar": {
              "outlinewidth": 0,
              "ticks": ""
             }
            },
            "type": "scattermapbox"
           }
          ],
          "scatterpolar": [
           {
            "marker": {
             "colorbar": {
              "outlinewidth": 0,
              "ticks": ""
             }
            },
            "type": "scatterpolar"
           }
          ],
          "scatterpolargl": [
           {
            "marker": {
             "colorbar": {
              "outlinewidth": 0,
              "ticks": ""
             }
            },
            "type": "scatterpolargl"
           }
          ],
          "scatterternary": [
           {
            "marker": {
             "colorbar": {
              "outlinewidth": 0,
              "ticks": ""
             }
            },
            "type": "scatterternary"
           }
          ],
          "surface": [
           {
            "colorbar": {
             "outlinewidth": 0,
             "ticks": ""
            },
            "colorscale": [
             [
              0,
              "#0d0887"
             ],
             [
              0.1111111111111111,
              "#46039f"
             ],
             [
              0.2222222222222222,
              "#7201a8"
             ],
             [
              0.3333333333333333,
              "#9c179e"
             ],
             [
              0.4444444444444444,
              "#bd3786"
             ],
             [
              0.5555555555555556,
              "#d8576b"
             ],
             [
              0.6666666666666666,
              "#ed7953"
             ],
             [
              0.7777777777777778,
              "#fb9f3a"
             ],
             [
              0.8888888888888888,
              "#fdca26"
             ],
             [
              1,
              "#f0f921"
             ]
            ],
            "type": "surface"
           }
          ],
          "table": [
           {
            "cells": {
             "fill": {
              "color": "#EBF0F8"
             },
             "line": {
              "color": "white"
             }
            },
            "header": {
             "fill": {
              "color": "#C8D4E3"
             },
             "line": {
              "color": "white"
             }
            },
            "type": "table"
           }
          ]
         },
         "layout": {
          "annotationdefaults": {
           "arrowcolor": "#2a3f5f",
           "arrowhead": 0,
           "arrowwidth": 1
          },
          "autotypenumbers": "strict",
          "coloraxis": {
           "colorbar": {
            "outlinewidth": 0,
            "ticks": ""
           }
          },
          "colorscale": {
           "diverging": [
            [
             0,
             "#8e0152"
            ],
            [
             0.1,
             "#c51b7d"
            ],
            [
             0.2,
             "#de77ae"
            ],
            [
             0.3,
             "#f1b6da"
            ],
            [
             0.4,
             "#fde0ef"
            ],
            [
             0.5,
             "#f7f7f7"
            ],
            [
             0.6,
             "#e6f5d0"
            ],
            [
             0.7,
             "#b8e186"
            ],
            [
             0.8,
             "#7fbc41"
            ],
            [
             0.9,
             "#4d9221"
            ],
            [
             1,
             "#276419"
            ]
           ],
           "sequential": [
            [
             0,
             "#0d0887"
            ],
            [
             0.1111111111111111,
             "#46039f"
            ],
            [
             0.2222222222222222,
             "#7201a8"
            ],
            [
             0.3333333333333333,
             "#9c179e"
            ],
            [
             0.4444444444444444,
             "#bd3786"
            ],
            [
             0.5555555555555556,
             "#d8576b"
            ],
            [
             0.6666666666666666,
             "#ed7953"
            ],
            [
             0.7777777777777778,
             "#fb9f3a"
            ],
            [
             0.8888888888888888,
             "#fdca26"
            ],
            [
             1,
             "#f0f921"
            ]
           ],
           "sequentialminus": [
            [
             0,
             "#0d0887"
            ],
            [
             0.1111111111111111,
             "#46039f"
            ],
            [
             0.2222222222222222,
             "#7201a8"
            ],
            [
             0.3333333333333333,
             "#9c179e"
            ],
            [
             0.4444444444444444,
             "#bd3786"
            ],
            [
             0.5555555555555556,
             "#d8576b"
            ],
            [
             0.6666666666666666,
             "#ed7953"
            ],
            [
             0.7777777777777778,
             "#fb9f3a"
            ],
            [
             0.8888888888888888,
             "#fdca26"
            ],
            [
             1,
             "#f0f921"
            ]
           ]
          },
          "colorway": [
           "#636efa",
           "#EF553B",
           "#00cc96",
           "#ab63fa",
           "#FFA15A",
           "#19d3f3",
           "#FF6692",
           "#B6E880",
           "#FF97FF",
           "#FECB52"
          ],
          "font": {
           "color": "#2a3f5f"
          },
          "geo": {
           "bgcolor": "white",
           "lakecolor": "white",
           "landcolor": "#E5ECF6",
           "showlakes": true,
           "showland": true,
           "subunitcolor": "white"
          },
          "hoverlabel": {
           "align": "left"
          },
          "hovermode": "closest",
          "mapbox": {
           "style": "light"
          },
          "paper_bgcolor": "white",
          "plot_bgcolor": "#E5ECF6",
          "polar": {
           "angularaxis": {
            "gridcolor": "white",
            "linecolor": "white",
            "ticks": ""
           },
           "bgcolor": "#E5ECF6",
           "radialaxis": {
            "gridcolor": "white",
            "linecolor": "white",
            "ticks": ""
           }
          },
          "scene": {
           "xaxis": {
            "backgroundcolor": "#E5ECF6",
            "gridcolor": "white",
            "gridwidth": 2,
            "linecolor": "white",
            "showbackground": true,
            "ticks": "",
            "zerolinecolor": "white"
           },
           "yaxis": {
            "backgroundcolor": "#E5ECF6",
            "gridcolor": "white",
            "gridwidth": 2,
            "linecolor": "white",
            "showbackground": true,
            "ticks": "",
            "zerolinecolor": "white"
           },
           "zaxis": {
            "backgroundcolor": "#E5ECF6",
            "gridcolor": "white",
            "gridwidth": 2,
            "linecolor": "white",
            "showbackground": true,
            "ticks": "",
            "zerolinecolor": "white"
           }
          },
          "shapedefaults": {
           "line": {
            "color": "#2a3f5f"
           }
          },
          "ternary": {
           "aaxis": {
            "gridcolor": "white",
            "linecolor": "white",
            "ticks": ""
           },
           "baxis": {
            "gridcolor": "white",
            "linecolor": "white",
            "ticks": ""
           },
           "bgcolor": "#E5ECF6",
           "caxis": {
            "gridcolor": "white",
            "linecolor": "white",
            "ticks": ""
           }
          },
          "title": {
           "x": 0.05
          },
          "xaxis": {
           "automargin": true,
           "gridcolor": "white",
           "linecolor": "white",
           "ticks": "",
           "title": {
            "standoff": 15
           },
           "zerolinecolor": "white",
           "zerolinewidth": 2
          },
          "yaxis": {
           "automargin": true,
           "gridcolor": "white",
           "linecolor": "white",
           "ticks": "",
           "title": {
            "standoff": 15
           },
           "zerolinecolor": "white",
           "zerolinewidth": 2
          }
         }
        },
        "title": {
         "text": "Alcoholism Percentage Distribution"
        },
        "width": 400
       }
      }
     },
     "metadata": {},
     "output_type": "display_data"
    },
    {
     "data": {
      "application/vnd.plotly.v1+json": {
       "config": {
        "plotlyServerURL": "https://plot.ly"
       },
       "data": [
        {
         "domain": {
          "x": [
           0,
           1
          ],
          "y": [
           0,
           1
          ]
         },
         "hovertemplate": "label=%{label}<br>value=%{value}<extra></extra>",
         "labels": {
          "bdata": "AAECAwQ=",
          "dtype": "i1"
         },
         "legendgroup": "",
         "name": "",
         "showlegend": true,
         "type": "pie",
         "values": {
          "bdata": "/qYBAPoHAAC3AAAADQAAAAMAAAA=",
          "dtype": "i4"
         }
        }
       ],
       "layout": {
        "height": 400,
        "legend": {
         "tracegroupgap": 0
        },
        "template": {
         "data": {
          "bar": [
           {
            "error_x": {
             "color": "#2a3f5f"
            },
            "error_y": {
             "color": "#2a3f5f"
            },
            "marker": {
             "line": {
              "color": "#E5ECF6",
              "width": 0.5
             },
             "pattern": {
              "fillmode": "overlay",
              "size": 10,
              "solidity": 0.2
             }
            },
            "type": "bar"
           }
          ],
          "barpolar": [
           {
            "marker": {
             "line": {
              "color": "#E5ECF6",
              "width": 0.5
             },
             "pattern": {
              "fillmode": "overlay",
              "size": 10,
              "solidity": 0.2
             }
            },
            "type": "barpolar"
           }
          ],
          "carpet": [
           {
            "aaxis": {
             "endlinecolor": "#2a3f5f",
             "gridcolor": "white",
             "linecolor": "white",
             "minorgridcolor": "white",
             "startlinecolor": "#2a3f5f"
            },
            "baxis": {
             "endlinecolor": "#2a3f5f",
             "gridcolor": "white",
             "linecolor": "white",
             "minorgridcolor": "white",
             "startlinecolor": "#2a3f5f"
            },
            "type": "carpet"
           }
          ],
          "choropleth": [
           {
            "colorbar": {
             "outlinewidth": 0,
             "ticks": ""
            },
            "type": "choropleth"
           }
          ],
          "contour": [
           {
            "colorbar": {
             "outlinewidth": 0,
             "ticks": ""
            },
            "colorscale": [
             [
              0,
              "#0d0887"
             ],
             [
              0.1111111111111111,
              "#46039f"
             ],
             [
              0.2222222222222222,
              "#7201a8"
             ],
             [
              0.3333333333333333,
              "#9c179e"
             ],
             [
              0.4444444444444444,
              "#bd3786"
             ],
             [
              0.5555555555555556,
              "#d8576b"
             ],
             [
              0.6666666666666666,
              "#ed7953"
             ],
             [
              0.7777777777777778,
              "#fb9f3a"
             ],
             [
              0.8888888888888888,
              "#fdca26"
             ],
             [
              1,
              "#f0f921"
             ]
            ],
            "type": "contour"
           }
          ],
          "contourcarpet": [
           {
            "colorbar": {
             "outlinewidth": 0,
             "ticks": ""
            },
            "type": "contourcarpet"
           }
          ],
          "heatmap": [
           {
            "colorbar": {
             "outlinewidth": 0,
             "ticks": ""
            },
            "colorscale": [
             [
              0,
              "#0d0887"
             ],
             [
              0.1111111111111111,
              "#46039f"
             ],
             [
              0.2222222222222222,
              "#7201a8"
             ],
             [
              0.3333333333333333,
              "#9c179e"
             ],
             [
              0.4444444444444444,
              "#bd3786"
             ],
             [
              0.5555555555555556,
              "#d8576b"
             ],
             [
              0.6666666666666666,
              "#ed7953"
             ],
             [
              0.7777777777777778,
              "#fb9f3a"
             ],
             [
              0.8888888888888888,
              "#fdca26"
             ],
             [
              1,
              "#f0f921"
             ]
            ],
            "type": "heatmap"
           }
          ],
          "histogram": [
           {
            "marker": {
             "pattern": {
              "fillmode": "overlay",
              "size": 10,
              "solidity": 0.2
             }
            },
            "type": "histogram"
           }
          ],
          "histogram2d": [
           {
            "colorbar": {
             "outlinewidth": 0,
             "ticks": ""
            },
            "colorscale": [
             [
              0,
              "#0d0887"
             ],
             [
              0.1111111111111111,
              "#46039f"
             ],
             [
              0.2222222222222222,
              "#7201a8"
             ],
             [
              0.3333333333333333,
              "#9c179e"
             ],
             [
              0.4444444444444444,
              "#bd3786"
             ],
             [
              0.5555555555555556,
              "#d8576b"
             ],
             [
              0.6666666666666666,
              "#ed7953"
             ],
             [
              0.7777777777777778,
              "#fb9f3a"
             ],
             [
              0.8888888888888888,
              "#fdca26"
             ],
             [
              1,
              "#f0f921"
             ]
            ],
            "type": "histogram2d"
           }
          ],
          "histogram2dcontour": [
           {
            "colorbar": {
             "outlinewidth": 0,
             "ticks": ""
            },
            "colorscale": [
             [
              0,
              "#0d0887"
             ],
             [
              0.1111111111111111,
              "#46039f"
             ],
             [
              0.2222222222222222,
              "#7201a8"
             ],
             [
              0.3333333333333333,
              "#9c179e"
             ],
             [
              0.4444444444444444,
              "#bd3786"
             ],
             [
              0.5555555555555556,
              "#d8576b"
             ],
             [
              0.6666666666666666,
              "#ed7953"
             ],
             [
              0.7777777777777778,
              "#fb9f3a"
             ],
             [
              0.8888888888888888,
              "#fdca26"
             ],
             [
              1,
              "#f0f921"
             ]
            ],
            "type": "histogram2dcontour"
           }
          ],
          "mesh3d": [
           {
            "colorbar": {
             "outlinewidth": 0,
             "ticks": ""
            },
            "type": "mesh3d"
           }
          ],
          "parcoords": [
           {
            "line": {
             "colorbar": {
              "outlinewidth": 0,
              "ticks": ""
             }
            },
            "type": "parcoords"
           }
          ],
          "pie": [
           {
            "automargin": true,
            "type": "pie"
           }
          ],
          "scatter": [
           {
            "fillpattern": {
             "fillmode": "overlay",
             "size": 10,
             "solidity": 0.2
            },
            "type": "scatter"
           }
          ],
          "scatter3d": [
           {
            "line": {
             "colorbar": {
              "outlinewidth": 0,
              "ticks": ""
             }
            },
            "marker": {
             "colorbar": {
              "outlinewidth": 0,
              "ticks": ""
             }
            },
            "type": "scatter3d"
           }
          ],
          "scattercarpet": [
           {
            "marker": {
             "colorbar": {
              "outlinewidth": 0,
              "ticks": ""
             }
            },
            "type": "scattercarpet"
           }
          ],
          "scattergeo": [
           {
            "marker": {
             "colorbar": {
              "outlinewidth": 0,
              "ticks": ""
             }
            },
            "type": "scattergeo"
           }
          ],
          "scattergl": [
           {
            "marker": {
             "colorbar": {
              "outlinewidth": 0,
              "ticks": ""
             }
            },
            "type": "scattergl"
           }
          ],
          "scattermap": [
           {
            "marker": {
             "colorbar": {
              "outlinewidth": 0,
              "ticks": ""
             }
            },
            "type": "scattermap"
           }
          ],
          "scattermapbox": [
           {
            "marker": {
             "colorbar": {
              "outlinewidth": 0,
              "ticks": ""
             }
            },
            "type": "scattermapbox"
           }
          ],
          "scatterpolar": [
           {
            "marker": {
             "colorbar": {
              "outlinewidth": 0,
              "ticks": ""
             }
            },
            "type": "scatterpolar"
           }
          ],
          "scatterpolargl": [
           {
            "marker": {
             "colorbar": {
              "outlinewidth": 0,
              "ticks": ""
             }
            },
            "type": "scatterpolargl"
           }
          ],
          "scatterternary": [
           {
            "marker": {
             "colorbar": {
              "outlinewidth": 0,
              "ticks": ""
             }
            },
            "type": "scatterternary"
           }
          ],
          "surface": [
           {
            "colorbar": {
             "outlinewidth": 0,
             "ticks": ""
            },
            "colorscale": [
             [
              0,
              "#0d0887"
             ],
             [
              0.1111111111111111,
              "#46039f"
             ],
             [
              0.2222222222222222,
              "#7201a8"
             ],
             [
              0.3333333333333333,
              "#9c179e"
             ],
             [
              0.4444444444444444,
              "#bd3786"
             ],
             [
              0.5555555555555556,
              "#d8576b"
             ],
             [
              0.6666666666666666,
              "#ed7953"
             ],
             [
              0.7777777777777778,
              "#fb9f3a"
             ],
             [
              0.8888888888888888,
              "#fdca26"
             ],
             [
              1,
              "#f0f921"
             ]
            ],
            "type": "surface"
           }
          ],
          "table": [
           {
            "cells": {
             "fill": {
              "color": "#EBF0F8"
             },
             "line": {
              "color": "white"
             }
            },
            "header": {
             "fill": {
              "color": "#C8D4E3"
             },
             "line": {
              "color": "white"
             }
            },
            "type": "table"
           }
          ]
         },
         "layout": {
          "annotationdefaults": {
           "arrowcolor": "#2a3f5f",
           "arrowhead": 0,
           "arrowwidth": 1
          },
          "autotypenumbers": "strict",
          "coloraxis": {
           "colorbar": {
            "outlinewidth": 0,
            "ticks": ""
           }
          },
          "colorscale": {
           "diverging": [
            [
             0,
             "#8e0152"
            ],
            [
             0.1,
             "#c51b7d"
            ],
            [
             0.2,
             "#de77ae"
            ],
            [
             0.3,
             "#f1b6da"
            ],
            [
             0.4,
             "#fde0ef"
            ],
            [
             0.5,
             "#f7f7f7"
            ],
            [
             0.6,
             "#e6f5d0"
            ],
            [
             0.7,
             "#b8e186"
            ],
            [
             0.8,
             "#7fbc41"
            ],
            [
             0.9,
             "#4d9221"
            ],
            [
             1,
             "#276419"
            ]
           ],
           "sequential": [
            [
             0,
             "#0d0887"
            ],
            [
             0.1111111111111111,
             "#46039f"
            ],
            [
             0.2222222222222222,
             "#7201a8"
            ],
            [
             0.3333333333333333,
             "#9c179e"
            ],
            [
             0.4444444444444444,
             "#bd3786"
            ],
            [
             0.5555555555555556,
             "#d8576b"
            ],
            [
             0.6666666666666666,
             "#ed7953"
            ],
            [
             0.7777777777777778,
             "#fb9f3a"
            ],
            [
             0.8888888888888888,
             "#fdca26"
            ],
            [
             1,
             "#f0f921"
            ]
           ],
           "sequentialminus": [
            [
             0,
             "#0d0887"
            ],
            [
             0.1111111111111111,
             "#46039f"
            ],
            [
             0.2222222222222222,
             "#7201a8"
            ],
            [
             0.3333333333333333,
             "#9c179e"
            ],
            [
             0.4444444444444444,
             "#bd3786"
            ],
            [
             0.5555555555555556,
             "#d8576b"
            ],
            [
             0.6666666666666666,
             "#ed7953"
            ],
            [
             0.7777777777777778,
             "#fb9f3a"
            ],
            [
             0.8888888888888888,
             "#fdca26"
            ],
            [
             1,
             "#f0f921"
            ]
           ]
          },
          "colorway": [
           "#636efa",
           "#EF553B",
           "#00cc96",
           "#ab63fa",
           "#FFA15A",
           "#19d3f3",
           "#FF6692",
           "#B6E880",
           "#FF97FF",
           "#FECB52"
          ],
          "font": {
           "color": "#2a3f5f"
          },
          "geo": {
           "bgcolor": "white",
           "lakecolor": "white",
           "landcolor": "#E5ECF6",
           "showlakes": true,
           "showland": true,
           "subunitcolor": "white"
          },
          "hoverlabel": {
           "align": "left"
          },
          "hovermode": "closest",
          "mapbox": {
           "style": "light"
          },
          "paper_bgcolor": "white",
          "plot_bgcolor": "#E5ECF6",
          "polar": {
           "angularaxis": {
            "gridcolor": "white",
            "linecolor": "white",
            "ticks": ""
           },
           "bgcolor": "#E5ECF6",
           "radialaxis": {
            "gridcolor": "white",
            "linecolor": "white",
            "ticks": ""
           }
          },
          "scene": {
           "xaxis": {
            "backgroundcolor": "#E5ECF6",
            "gridcolor": "white",
            "gridwidth": 2,
            "linecolor": "white",
            "showbackground": true,
            "ticks": "",
            "zerolinecolor": "white"
           },
           "yaxis": {
            "backgroundcolor": "#E5ECF6",
            "gridcolor": "white",
            "gridwidth": 2,
            "linecolor": "white",
            "showbackground": true,
            "ticks": "",
            "zerolinecolor": "white"
           },
           "zaxis": {
            "backgroundcolor": "#E5ECF6",
            "gridcolor": "white",
            "gridwidth": 2,
            "linecolor": "white",
            "showbackground": true,
            "ticks": "",
            "zerolinecolor": "white"
           }
          },
          "shapedefaults": {
           "line": {
            "color": "#2a3f5f"
           }
          },
          "ternary": {
           "aaxis": {
            "gridcolor": "white",
            "linecolor": "white",
            "ticks": ""
           },
           "baxis": {
            "gridcolor": "white",
            "linecolor": "white",
            "ticks": ""
           },
           "bgcolor": "#E5ECF6",
           "caxis": {
            "gridcolor": "white",
            "linecolor": "white",
            "ticks": ""
           }
          },
          "title": {
           "x": 0.05
          },
          "xaxis": {
           "automargin": true,
           "gridcolor": "white",
           "linecolor": "white",
           "ticks": "",
           "title": {
            "standoff": 15
           },
           "zerolinecolor": "white",
           "zerolinewidth": 2
          },
          "yaxis": {
           "automargin": true,
           "gridcolor": "white",
           "linecolor": "white",
           "ticks": "",
           "title": {
            "standoff": 15
           },
           "zerolinecolor": "white",
           "zerolinewidth": 2
          }
         }
        },
        "title": {
         "text": "Handcap Percentage Distribution"
        },
        "width": 400
       }
      }
     },
     "metadata": {},
     "output_type": "display_data"
    },
    {
     "data": {
      "application/vnd.plotly.v1+json": {
       "config": {
        "plotlyServerURL": "https://plot.ly"
       },
       "data": [
        {
         "domain": {
          "x": [
           0,
           1
          ],
          "y": [
           0,
           1
          ]
         },
         "hovertemplate": "label=%{label}<br>value=%{value}<extra></extra>",
         "labels": {
          "bdata": "AAE=",
          "dtype": "i1"
         },
         "legendgroup": "",
         "name": "",
         "showlegend": true,
         "type": "pie",
         "values": {
          "bdata": "JSUBAJqKAAA=",
          "dtype": "i4"
         }
        }
       ],
       "layout": {
        "height": 400,
        "legend": {
         "tracegroupgap": 0
        },
        "template": {
         "data": {
          "bar": [
           {
            "error_x": {
             "color": "#2a3f5f"
            },
            "error_y": {
             "color": "#2a3f5f"
            },
            "marker": {
             "line": {
              "color": "#E5ECF6",
              "width": 0.5
             },
             "pattern": {
              "fillmode": "overlay",
              "size": 10,
              "solidity": 0.2
             }
            },
            "type": "bar"
           }
          ],
          "barpolar": [
           {
            "marker": {
             "line": {
              "color": "#E5ECF6",
              "width": 0.5
             },
             "pattern": {
              "fillmode": "overlay",
              "size": 10,
              "solidity": 0.2
             }
            },
            "type": "barpolar"
           }
          ],
          "carpet": [
           {
            "aaxis": {
             "endlinecolor": "#2a3f5f",
             "gridcolor": "white",
             "linecolor": "white",
             "minorgridcolor": "white",
             "startlinecolor": "#2a3f5f"
            },
            "baxis": {
             "endlinecolor": "#2a3f5f",
             "gridcolor": "white",
             "linecolor": "white",
             "minorgridcolor": "white",
             "startlinecolor": "#2a3f5f"
            },
            "type": "carpet"
           }
          ],
          "choropleth": [
           {
            "colorbar": {
             "outlinewidth": 0,
             "ticks": ""
            },
            "type": "choropleth"
           }
          ],
          "contour": [
           {
            "colorbar": {
             "outlinewidth": 0,
             "ticks": ""
            },
            "colorscale": [
             [
              0,
              "#0d0887"
             ],
             [
              0.1111111111111111,
              "#46039f"
             ],
             [
              0.2222222222222222,
              "#7201a8"
             ],
             [
              0.3333333333333333,
              "#9c179e"
             ],
             [
              0.4444444444444444,
              "#bd3786"
             ],
             [
              0.5555555555555556,
              "#d8576b"
             ],
             [
              0.6666666666666666,
              "#ed7953"
             ],
             [
              0.7777777777777778,
              "#fb9f3a"
             ],
             [
              0.8888888888888888,
              "#fdca26"
             ],
             [
              1,
              "#f0f921"
             ]
            ],
            "type": "contour"
           }
          ],
          "contourcarpet": [
           {
            "colorbar": {
             "outlinewidth": 0,
             "ticks": ""
            },
            "type": "contourcarpet"
           }
          ],
          "heatmap": [
           {
            "colorbar": {
             "outlinewidth": 0,
             "ticks": ""
            },
            "colorscale": [
             [
              0,
              "#0d0887"
             ],
             [
              0.1111111111111111,
              "#46039f"
             ],
             [
              0.2222222222222222,
              "#7201a8"
             ],
             [
              0.3333333333333333,
              "#9c179e"
             ],
             [
              0.4444444444444444,
              "#bd3786"
             ],
             [
              0.5555555555555556,
              "#d8576b"
             ],
             [
              0.6666666666666666,
              "#ed7953"
             ],
             [
              0.7777777777777778,
              "#fb9f3a"
             ],
             [
              0.8888888888888888,
              "#fdca26"
             ],
             [
              1,
              "#f0f921"
             ]
            ],
            "type": "heatmap"
           }
          ],
          "histogram": [
           {
            "marker": {
             "pattern": {
              "fillmode": "overlay",
              "size": 10,
              "solidity": 0.2
             }
            },
            "type": "histogram"
           }
          ],
          "histogram2d": [
           {
            "colorbar": {
             "outlinewidth": 0,
             "ticks": ""
            },
            "colorscale": [
             [
              0,
              "#0d0887"
             ],
             [
              0.1111111111111111,
              "#46039f"
             ],
             [
              0.2222222222222222,
              "#7201a8"
             ],
             [
              0.3333333333333333,
              "#9c179e"
             ],
             [
              0.4444444444444444,
              "#bd3786"
             ],
             [
              0.5555555555555556,
              "#d8576b"
             ],
             [
              0.6666666666666666,
              "#ed7953"
             ],
             [
              0.7777777777777778,
              "#fb9f3a"
             ],
             [
              0.8888888888888888,
              "#fdca26"
             ],
             [
              1,
              "#f0f921"
             ]
            ],
            "type": "histogram2d"
           }
          ],
          "histogram2dcontour": [
           {
            "colorbar": {
             "outlinewidth": 0,
             "ticks": ""
            },
            "colorscale": [
             [
              0,
              "#0d0887"
             ],
             [
              0.1111111111111111,
              "#46039f"
             ],
             [
              0.2222222222222222,
              "#7201a8"
             ],
             [
              0.3333333333333333,
              "#9c179e"
             ],
             [
              0.4444444444444444,
              "#bd3786"
             ],
             [
              0.5555555555555556,
              "#d8576b"
             ],
             [
              0.6666666666666666,
              "#ed7953"
             ],
             [
              0.7777777777777778,
              "#fb9f3a"
             ],
             [
              0.8888888888888888,
              "#fdca26"
             ],
             [
              1,
              "#f0f921"
             ]
            ],
            "type": "histogram2dcontour"
           }
          ],
          "mesh3d": [
           {
            "colorbar": {
             "outlinewidth": 0,
             "ticks": ""
            },
            "type": "mesh3d"
           }
          ],
          "parcoords": [
           {
            "line": {
             "colorbar": {
              "outlinewidth": 0,
              "ticks": ""
             }
            },
            "type": "parcoords"
           }
          ],
          "pie": [
           {
            "automargin": true,
            "type": "pie"
           }
          ],
          "scatter": [
           {
            "fillpattern": {
             "fillmode": "overlay",
             "size": 10,
             "solidity": 0.2
            },
            "type": "scatter"
           }
          ],
          "scatter3d": [
           {
            "line": {
             "colorbar": {
              "outlinewidth": 0,
              "ticks": ""
             }
            },
            "marker": {
             "colorbar": {
              "outlinewidth": 0,
              "ticks": ""
             }
            },
            "type": "scatter3d"
           }
          ],
          "scattercarpet": [
           {
            "marker": {
             "colorbar": {
              "outlinewidth": 0,
              "ticks": ""
             }
            },
            "type": "scattercarpet"
           }
          ],
          "scattergeo": [
           {
            "marker": {
             "colorbar": {
              "outlinewidth": 0,
              "ticks": ""
             }
            },
            "type": "scattergeo"
           }
          ],
          "scattergl": [
           {
            "marker": {
             "colorbar": {
              "outlinewidth": 0,
              "ticks": ""
             }
            },
            "type": "scattergl"
           }
          ],
          "scattermap": [
           {
            "marker": {
             "colorbar": {
              "outlinewidth": 0,
              "ticks": ""
             }
            },
            "type": "scattermap"
           }
          ],
          "scattermapbox": [
           {
            "marker": {
             "colorbar": {
              "outlinewidth": 0,
              "ticks": ""
             }
            },
            "type": "scattermapbox"
           }
          ],
          "scatterpolar": [
           {
            "marker": {
             "colorbar": {
              "outlinewidth": 0,
              "ticks": ""
             }
            },
            "type": "scatterpolar"
           }
          ],
          "scatterpolargl": [
           {
            "marker": {
             "colorbar": {
              "outlinewidth": 0,
              "ticks": ""
             }
            },
            "type": "scatterpolargl"
           }
          ],
          "scatterternary": [
           {
            "marker": {
             "colorbar": {
              "outlinewidth": 0,
              "ticks": ""
             }
            },
            "type": "scatterternary"
           }
          ],
          "surface": [
           {
            "colorbar": {
             "outlinewidth": 0,
             "ticks": ""
            },
            "colorscale": [
             [
              0,
              "#0d0887"
             ],
             [
              0.1111111111111111,
              "#46039f"
             ],
             [
              0.2222222222222222,
              "#7201a8"
             ],
             [
              0.3333333333333333,
              "#9c179e"
             ],
             [
              0.4444444444444444,
              "#bd3786"
             ],
             [
              0.5555555555555556,
              "#d8576b"
             ],
             [
              0.6666666666666666,
              "#ed7953"
             ],
             [
              0.7777777777777778,
              "#fb9f3a"
             ],
             [
              0.8888888888888888,
              "#fdca26"
             ],
             [
              1,
              "#f0f921"
             ]
            ],
            "type": "surface"
           }
          ],
          "table": [
           {
            "cells": {
             "fill": {
              "color": "#EBF0F8"
             },
             "line": {
              "color": "white"
             }
            },
            "header": {
             "fill": {
              "color": "#C8D4E3"
             },
             "line": {
              "color": "white"
             }
            },
            "type": "table"
           }
          ]
         },
         "layout": {
          "annotationdefaults": {
           "arrowcolor": "#2a3f5f",
           "arrowhead": 0,
           "arrowwidth": 1
          },
          "autotypenumbers": "strict",
          "coloraxis": {
           "colorbar": {
            "outlinewidth": 0,
            "ticks": ""
           }
          },
          "colorscale": {
           "diverging": [
            [
             0,
             "#8e0152"
            ],
            [
             0.1,
             "#c51b7d"
            ],
            [
             0.2,
             "#de77ae"
            ],
            [
             0.3,
             "#f1b6da"
            ],
            [
             0.4,
             "#fde0ef"
            ],
            [
             0.5,
             "#f7f7f7"
            ],
            [
             0.6,
             "#e6f5d0"
            ],
            [
             0.7,
             "#b8e186"
            ],
            [
             0.8,
             "#7fbc41"
            ],
            [
             0.9,
             "#4d9221"
            ],
            [
             1,
             "#276419"
            ]
           ],
           "sequential": [
            [
             0,
             "#0d0887"
            ],
            [
             0.1111111111111111,
             "#46039f"
            ],
            [
             0.2222222222222222,
             "#7201a8"
            ],
            [
             0.3333333333333333,
             "#9c179e"
            ],
            [
             0.4444444444444444,
             "#bd3786"
            ],
            [
             0.5555555555555556,
             "#d8576b"
            ],
            [
             0.6666666666666666,
             "#ed7953"
            ],
            [
             0.7777777777777778,
             "#fb9f3a"
            ],
            [
             0.8888888888888888,
             "#fdca26"
            ],
            [
             1,
             "#f0f921"
            ]
           ],
           "sequentialminus": [
            [
             0,
             "#0d0887"
            ],
            [
             0.1111111111111111,
             "#46039f"
            ],
            [
             0.2222222222222222,
             "#7201a8"
            ],
            [
             0.3333333333333333,
             "#9c179e"
            ],
            [
             0.4444444444444444,
             "#bd3786"
            ],
            [
             0.5555555555555556,
             "#d8576b"
            ],
            [
             0.6666666666666666,
             "#ed7953"
            ],
            [
             0.7777777777777778,
             "#fb9f3a"
            ],
            [
             0.8888888888888888,
             "#fdca26"
            ],
            [
             1,
             "#f0f921"
            ]
           ]
          },
          "colorway": [
           "#636efa",
           "#EF553B",
           "#00cc96",
           "#ab63fa",
           "#FFA15A",
           "#19d3f3",
           "#FF6692",
           "#B6E880",
           "#FF97FF",
           "#FECB52"
          ],
          "font": {
           "color": "#2a3f5f"
          },
          "geo": {
           "bgcolor": "white",
           "lakecolor": "white",
           "landcolor": "#E5ECF6",
           "showlakes": true,
           "showland": true,
           "subunitcolor": "white"
          },
          "hoverlabel": {
           "align": "left"
          },
          "hovermode": "closest",
          "mapbox": {
           "style": "light"
          },
          "paper_bgcolor": "white",
          "plot_bgcolor": "#E5ECF6",
          "polar": {
           "angularaxis": {
            "gridcolor": "white",
            "linecolor": "white",
            "ticks": ""
           },
           "bgcolor": "#E5ECF6",
           "radialaxis": {
            "gridcolor": "white",
            "linecolor": "white",
            "ticks": ""
           }
          },
          "scene": {
           "xaxis": {
            "backgroundcolor": "#E5ECF6",
            "gridcolor": "white",
            "gridwidth": 2,
            "linecolor": "white",
            "showbackground": true,
            "ticks": "",
            "zerolinecolor": "white"
           },
           "yaxis": {
            "backgroundcolor": "#E5ECF6",
            "gridcolor": "white",
            "gridwidth": 2,
            "linecolor": "white",
            "showbackground": true,
            "ticks": "",
            "zerolinecolor": "white"
           },
           "zaxis": {
            "backgroundcolor": "#E5ECF6",
            "gridcolor": "white",
            "gridwidth": 2,
            "linecolor": "white",
            "showbackground": true,
            "ticks": "",
            "zerolinecolor": "white"
           }
          },
          "shapedefaults": {
           "line": {
            "color": "#2a3f5f"
           }
          },
          "ternary": {
           "aaxis": {
            "gridcolor": "white",
            "linecolor": "white",
            "ticks": ""
           },
           "baxis": {
            "gridcolor": "white",
            "linecolor": "white",
            "ticks": ""
           },
           "bgcolor": "#E5ECF6",
           "caxis": {
            "gridcolor": "white",
            "linecolor": "white",
            "ticks": ""
           }
          },
          "title": {
           "x": 0.05
          },
          "xaxis": {
           "automargin": true,
           "gridcolor": "white",
           "linecolor": "white",
           "ticks": "",
           "title": {
            "standoff": 15
           },
           "zerolinecolor": "white",
           "zerolinewidth": 2
          },
          "yaxis": {
           "automargin": true,
           "gridcolor": "white",
           "linecolor": "white",
           "ticks": "",
           "title": {
            "standoff": 15
           },
           "zerolinecolor": "white",
           "zerolinewidth": 2
          }
         }
        },
        "title": {
         "text": "SMS_received Percentage Distribution"
        },
        "width": 400
       }
      }
     },
     "metadata": {},
     "output_type": "display_data"
    },
    {
     "data": {
      "application/vnd.plotly.v1+json": {
       "config": {
        "plotlyServerURL": "https://plot.ly"
       },
       "data": [
        {
         "domain": {
          "x": [
           0,
           1
          ],
          "y": [
           0,
           1
          ]
         },
         "hovertemplate": "label=%{label}<br>value=%{value}<extra></extra>",
         "labels": [
          "No",
          "Yes"
         ],
         "legendgroup": "",
         "name": "",
         "showlegend": true,
         "type": "pie",
         "values": {
          "bdata": "kFgBAC9XAAA=",
          "dtype": "i4"
         }
        }
       ],
       "layout": {
        "height": 400,
        "legend": {
         "tracegroupgap": 0
        },
        "template": {
         "data": {
          "bar": [
           {
            "error_x": {
             "color": "#2a3f5f"
            },
            "error_y": {
             "color": "#2a3f5f"
            },
            "marker": {
             "line": {
              "color": "#E5ECF6",
              "width": 0.5
             },
             "pattern": {
              "fillmode": "overlay",
              "size": 10,
              "solidity": 0.2
             }
            },
            "type": "bar"
           }
          ],
          "barpolar": [
           {
            "marker": {
             "line": {
              "color": "#E5ECF6",
              "width": 0.5
             },
             "pattern": {
              "fillmode": "overlay",
              "size": 10,
              "solidity": 0.2
             }
            },
            "type": "barpolar"
           }
          ],
          "carpet": [
           {
            "aaxis": {
             "endlinecolor": "#2a3f5f",
             "gridcolor": "white",
             "linecolor": "white",
             "minorgridcolor": "white",
             "startlinecolor": "#2a3f5f"
            },
            "baxis": {
             "endlinecolor": "#2a3f5f",
             "gridcolor": "white",
             "linecolor": "white",
             "minorgridcolor": "white",
             "startlinecolor": "#2a3f5f"
            },
            "type": "carpet"
           }
          ],
          "choropleth": [
           {
            "colorbar": {
             "outlinewidth": 0,
             "ticks": ""
            },
            "type": "choropleth"
           }
          ],
          "contour": [
           {
            "colorbar": {
             "outlinewidth": 0,
             "ticks": ""
            },
            "colorscale": [
             [
              0,
              "#0d0887"
             ],
             [
              0.1111111111111111,
              "#46039f"
             ],
             [
              0.2222222222222222,
              "#7201a8"
             ],
             [
              0.3333333333333333,
              "#9c179e"
             ],
             [
              0.4444444444444444,
              "#bd3786"
             ],
             [
              0.5555555555555556,
              "#d8576b"
             ],
             [
              0.6666666666666666,
              "#ed7953"
             ],
             [
              0.7777777777777778,
              "#fb9f3a"
             ],
             [
              0.8888888888888888,
              "#fdca26"
             ],
             [
              1,
              "#f0f921"
             ]
            ],
            "type": "contour"
           }
          ],
          "contourcarpet": [
           {
            "colorbar": {
             "outlinewidth": 0,
             "ticks": ""
            },
            "type": "contourcarpet"
           }
          ],
          "heatmap": [
           {
            "colorbar": {
             "outlinewidth": 0,
             "ticks": ""
            },
            "colorscale": [
             [
              0,
              "#0d0887"
             ],
             [
              0.1111111111111111,
              "#46039f"
             ],
             [
              0.2222222222222222,
              "#7201a8"
             ],
             [
              0.3333333333333333,
              "#9c179e"
             ],
             [
              0.4444444444444444,
              "#bd3786"
             ],
             [
              0.5555555555555556,
              "#d8576b"
             ],
             [
              0.6666666666666666,
              "#ed7953"
             ],
             [
              0.7777777777777778,
              "#fb9f3a"
             ],
             [
              0.8888888888888888,
              "#fdca26"
             ],
             [
              1,
              "#f0f921"
             ]
            ],
            "type": "heatmap"
           }
          ],
          "histogram": [
           {
            "marker": {
             "pattern": {
              "fillmode": "overlay",
              "size": 10,
              "solidity": 0.2
             }
            },
            "type": "histogram"
           }
          ],
          "histogram2d": [
           {
            "colorbar": {
             "outlinewidth": 0,
             "ticks": ""
            },
            "colorscale": [
             [
              0,
              "#0d0887"
             ],
             [
              0.1111111111111111,
              "#46039f"
             ],
             [
              0.2222222222222222,
              "#7201a8"
             ],
             [
              0.3333333333333333,
              "#9c179e"
             ],
             [
              0.4444444444444444,
              "#bd3786"
             ],
             [
              0.5555555555555556,
              "#d8576b"
             ],
             [
              0.6666666666666666,
              "#ed7953"
             ],
             [
              0.7777777777777778,
              "#fb9f3a"
             ],
             [
              0.8888888888888888,
              "#fdca26"
             ],
             [
              1,
              "#f0f921"
             ]
            ],
            "type": "histogram2d"
           }
          ],
          "histogram2dcontour": [
           {
            "colorbar": {
             "outlinewidth": 0,
             "ticks": ""
            },
            "colorscale": [
             [
              0,
              "#0d0887"
             ],
             [
              0.1111111111111111,
              "#46039f"
             ],
             [
              0.2222222222222222,
              "#7201a8"
             ],
             [
              0.3333333333333333,
              "#9c179e"
             ],
             [
              0.4444444444444444,
              "#bd3786"
             ],
             [
              0.5555555555555556,
              "#d8576b"
             ],
             [
              0.6666666666666666,
              "#ed7953"
             ],
             [
              0.7777777777777778,
              "#fb9f3a"
             ],
             [
              0.8888888888888888,
              "#fdca26"
             ],
             [
              1,
              "#f0f921"
             ]
            ],
            "type": "histogram2dcontour"
           }
          ],
          "mesh3d": [
           {
            "colorbar": {
             "outlinewidth": 0,
             "ticks": ""
            },
            "type": "mesh3d"
           }
          ],
          "parcoords": [
           {
            "line": {
             "colorbar": {
              "outlinewidth": 0,
              "ticks": ""
             }
            },
            "type": "parcoords"
           }
          ],
          "pie": [
           {
            "automargin": true,
            "type": "pie"
           }
          ],
          "scatter": [
           {
            "fillpattern": {
             "fillmode": "overlay",
             "size": 10,
             "solidity": 0.2
            },
            "type": "scatter"
           }
          ],
          "scatter3d": [
           {
            "line": {
             "colorbar": {
              "outlinewidth": 0,
              "ticks": ""
             }
            },
            "marker": {
             "colorbar": {
              "outlinewidth": 0,
              "ticks": ""
             }
            },
            "type": "scatter3d"
           }
          ],
          "scattercarpet": [
           {
            "marker": {
             "colorbar": {
              "outlinewidth": 0,
              "ticks": ""
             }
            },
            "type": "scattercarpet"
           }
          ],
          "scattergeo": [
           {
            "marker": {
             "colorbar": {
              "outlinewidth": 0,
              "ticks": ""
             }
            },
            "type": "scattergeo"
           }
          ],
          "scattergl": [
           {
            "marker": {
             "colorbar": {
              "outlinewidth": 0,
              "ticks": ""
             }
            },
            "type": "scattergl"
           }
          ],
          "scattermap": [
           {
            "marker": {
             "colorbar": {
              "outlinewidth": 0,
              "ticks": ""
             }
            },
            "type": "scattermap"
           }
          ],
          "scattermapbox": [
           {
            "marker": {
             "colorbar": {
              "outlinewidth": 0,
              "ticks": ""
             }
            },
            "type": "scattermapbox"
           }
          ],
          "scatterpolar": [
           {
            "marker": {
             "colorbar": {
              "outlinewidth": 0,
              "ticks": ""
             }
            },
            "type": "scatterpolar"
           }
          ],
          "scatterpolargl": [
           {
            "marker": {
             "colorbar": {
              "outlinewidth": 0,
              "ticks": ""
             }
            },
            "type": "scatterpolargl"
           }
          ],
          "scatterternary": [
           {
            "marker": {
             "colorbar": {
              "outlinewidth": 0,
              "ticks": ""
             }
            },
            "type": "scatterternary"
           }
          ],
          "surface": [
           {
            "colorbar": {
             "outlinewidth": 0,
             "ticks": ""
            },
            "colorscale": [
             [
              0,
              "#0d0887"
             ],
             [
              0.1111111111111111,
              "#46039f"
             ],
             [
              0.2222222222222222,
              "#7201a8"
             ],
             [
              0.3333333333333333,
              "#9c179e"
             ],
             [
              0.4444444444444444,
              "#bd3786"
             ],
             [
              0.5555555555555556,
              "#d8576b"
             ],
             [
              0.6666666666666666,
              "#ed7953"
             ],
             [
              0.7777777777777778,
              "#fb9f3a"
             ],
             [
              0.8888888888888888,
              "#fdca26"
             ],
             [
              1,
              "#f0f921"
             ]
            ],
            "type": "surface"
           }
          ],
          "table": [
           {
            "cells": {
             "fill": {
              "color": "#EBF0F8"
             },
             "line": {
              "color": "white"
             }
            },
            "header": {
             "fill": {
              "color": "#C8D4E3"
             },
             "line": {
              "color": "white"
             }
            },
            "type": "table"
           }
          ]
         },
         "layout": {
          "annotationdefaults": {
           "arrowcolor": "#2a3f5f",
           "arrowhead": 0,
           "arrowwidth": 1
          },
          "autotypenumbers": "strict",
          "coloraxis": {
           "colorbar": {
            "outlinewidth": 0,
            "ticks": ""
           }
          },
          "colorscale": {
           "diverging": [
            [
             0,
             "#8e0152"
            ],
            [
             0.1,
             "#c51b7d"
            ],
            [
             0.2,
             "#de77ae"
            ],
            [
             0.3,
             "#f1b6da"
            ],
            [
             0.4,
             "#fde0ef"
            ],
            [
             0.5,
             "#f7f7f7"
            ],
            [
             0.6,
             "#e6f5d0"
            ],
            [
             0.7,
             "#b8e186"
            ],
            [
             0.8,
             "#7fbc41"
            ],
            [
             0.9,
             "#4d9221"
            ],
            [
             1,
             "#276419"
            ]
           ],
           "sequential": [
            [
             0,
             "#0d0887"
            ],
            [
             0.1111111111111111,
             "#46039f"
            ],
            [
             0.2222222222222222,
             "#7201a8"
            ],
            [
             0.3333333333333333,
             "#9c179e"
            ],
            [
             0.4444444444444444,
             "#bd3786"
            ],
            [
             0.5555555555555556,
             "#d8576b"
            ],
            [
             0.6666666666666666,
             "#ed7953"
            ],
            [
             0.7777777777777778,
             "#fb9f3a"
            ],
            [
             0.8888888888888888,
             "#fdca26"
            ],
            [
             1,
             "#f0f921"
            ]
           ],
           "sequentialminus": [
            [
             0,
             "#0d0887"
            ],
            [
             0.1111111111111111,
             "#46039f"
            ],
            [
             0.2222222222222222,
             "#7201a8"
            ],
            [
             0.3333333333333333,
             "#9c179e"
            ],
            [
             0.4444444444444444,
             "#bd3786"
            ],
            [
             0.5555555555555556,
             "#d8576b"
            ],
            [
             0.6666666666666666,
             "#ed7953"
            ],
            [
             0.7777777777777778,
             "#fb9f3a"
            ],
            [
             0.8888888888888888,
             "#fdca26"
            ],
            [
             1,
             "#f0f921"
            ]
           ]
          },
          "colorway": [
           "#636efa",
           "#EF553B",
           "#00cc96",
           "#ab63fa",
           "#FFA15A",
           "#19d3f3",
           "#FF6692",
           "#B6E880",
           "#FF97FF",
           "#FECB52"
          ],
          "font": {
           "color": "#2a3f5f"
          },
          "geo": {
           "bgcolor": "white",
           "lakecolor": "white",
           "landcolor": "#E5ECF6",
           "showlakes": true,
           "showland": true,
           "subunitcolor": "white"
          },
          "hoverlabel": {
           "align": "left"
          },
          "hovermode": "closest",
          "mapbox": {
           "style": "light"
          },
          "paper_bgcolor": "white",
          "plot_bgcolor": "#E5ECF6",
          "polar": {
           "angularaxis": {
            "gridcolor": "white",
            "linecolor": "white",
            "ticks": ""
           },
           "bgcolor": "#E5ECF6",
           "radialaxis": {
            "gridcolor": "white",
            "linecolor": "white",
            "ticks": ""
           }
          },
          "scene": {
           "xaxis": {
            "backgroundcolor": "#E5ECF6",
            "gridcolor": "white",
            "gridwidth": 2,
            "linecolor": "white",
            "showbackground": true,
            "ticks": "",
            "zerolinecolor": "white"
           },
           "yaxis": {
            "backgroundcolor": "#E5ECF6",
            "gridcolor": "white",
            "gridwidth": 2,
            "linecolor": "white",
            "showbackground": true,
            "ticks": "",
            "zerolinecolor": "white"
           },
           "zaxis": {
            "backgroundcolor": "#E5ECF6",
            "gridcolor": "white",
            "gridwidth": 2,
            "linecolor": "white",
            "showbackground": true,
            "ticks": "",
            "zerolinecolor": "white"
           }
          },
          "shapedefaults": {
           "line": {
            "color": "#2a3f5f"
           }
          },
          "ternary": {
           "aaxis": {
            "gridcolor": "white",
            "linecolor": "white",
            "ticks": ""
           },
           "baxis": {
            "gridcolor": "white",
            "linecolor": "white",
            "ticks": ""
           },
           "bgcolor": "#E5ECF6",
           "caxis": {
            "gridcolor": "white",
            "linecolor": "white",
            "ticks": ""
           }
          },
          "title": {
           "x": 0.05
          },
          "xaxis": {
           "automargin": true,
           "gridcolor": "white",
           "linecolor": "white",
           "ticks": "",
           "title": {
            "standoff": 15
           },
           "zerolinecolor": "white",
           "zerolinewidth": 2
          },
          "yaxis": {
           "automargin": true,
           "gridcolor": "white",
           "linecolor": "white",
           "ticks": "",
           "title": {
            "standoff": 15
           },
           "zerolinecolor": "white",
           "zerolinewidth": 2
          }
         }
        },
        "title": {
         "text": "No-show Percentage Distribution"
        },
        "width": 400
       }
      }
     },
     "metadata": {},
     "output_type": "display_data"
    }
   ],
   "source": [
    "import plotly.express as px\n",
    "\n",
    "for values in data.columns[5:]:\n",
    "    figg = px.pie(\n",
    "        names=pd.Series(np.array(data[values].unique())),\n",
    "        values=pd.Series(np.array(data[values].value_counts())),\n",
    "        title=f\"{values} Percentage Distribution\"\n",
    "    )\n",
    "\n",
    "    figg.update_layout(\n",
    "        width = 400,\n",
    "        height = 400\n",
    "    )\n",
    "\n",
    "    figg.show()"
   ]
  },
  {
   "cell_type": "code",
   "execution_count": 4,
   "id": "4c1f3241",
   "metadata": {},
   "outputs": [
    {
     "data": {
      "application/vnd.plotly.v1+json": {
       "config": {
        "plotlyServerURL": "https://plot.ly"
       },
       "data": [
        {
         "domain": {
          "x": [
           0,
           1
          ],
          "y": [
           0,
           1
          ]
         },
         "hovertemplate": "label=%{label}<br>value=%{value}<extra></extra>",
         "labels": [
          "F",
          "M"
         ],
         "legendgroup": "",
         "name": "",
         "showlegend": true,
         "type": "pie",
         "values": {
          "bdata": "oBgBAB+XAAA=",
          "dtype": "i4"
         }
        }
       ],
       "layout": {
        "height": 400,
        "legend": {
         "tracegroupgap": 0
        },
        "template": {
         "data": {
          "bar": [
           {
            "error_x": {
             "color": "#2a3f5f"
            },
            "error_y": {
             "color": "#2a3f5f"
            },
            "marker": {
             "line": {
              "color": "#E5ECF6",
              "width": 0.5
             },
             "pattern": {
              "fillmode": "overlay",
              "size": 10,
              "solidity": 0.2
             }
            },
            "type": "bar"
           }
          ],
          "barpolar": [
           {
            "marker": {
             "line": {
              "color": "#E5ECF6",
              "width": 0.5
             },
             "pattern": {
              "fillmode": "overlay",
              "size": 10,
              "solidity": 0.2
             }
            },
            "type": "barpolar"
           }
          ],
          "carpet": [
           {
            "aaxis": {
             "endlinecolor": "#2a3f5f",
             "gridcolor": "white",
             "linecolor": "white",
             "minorgridcolor": "white",
             "startlinecolor": "#2a3f5f"
            },
            "baxis": {
             "endlinecolor": "#2a3f5f",
             "gridcolor": "white",
             "linecolor": "white",
             "minorgridcolor": "white",
             "startlinecolor": "#2a3f5f"
            },
            "type": "carpet"
           }
          ],
          "choropleth": [
           {
            "colorbar": {
             "outlinewidth": 0,
             "ticks": ""
            },
            "type": "choropleth"
           }
          ],
          "contour": [
           {
            "colorbar": {
             "outlinewidth": 0,
             "ticks": ""
            },
            "colorscale": [
             [
              0,
              "#0d0887"
             ],
             [
              0.1111111111111111,
              "#46039f"
             ],
             [
              0.2222222222222222,
              "#7201a8"
             ],
             [
              0.3333333333333333,
              "#9c179e"
             ],
             [
              0.4444444444444444,
              "#bd3786"
             ],
             [
              0.5555555555555556,
              "#d8576b"
             ],
             [
              0.6666666666666666,
              "#ed7953"
             ],
             [
              0.7777777777777778,
              "#fb9f3a"
             ],
             [
              0.8888888888888888,
              "#fdca26"
             ],
             [
              1,
              "#f0f921"
             ]
            ],
            "type": "contour"
           }
          ],
          "contourcarpet": [
           {
            "colorbar": {
             "outlinewidth": 0,
             "ticks": ""
            },
            "type": "contourcarpet"
           }
          ],
          "heatmap": [
           {
            "colorbar": {
             "outlinewidth": 0,
             "ticks": ""
            },
            "colorscale": [
             [
              0,
              "#0d0887"
             ],
             [
              0.1111111111111111,
              "#46039f"
             ],
             [
              0.2222222222222222,
              "#7201a8"
             ],
             [
              0.3333333333333333,
              "#9c179e"
             ],
             [
              0.4444444444444444,
              "#bd3786"
             ],
             [
              0.5555555555555556,
              "#d8576b"
             ],
             [
              0.6666666666666666,
              "#ed7953"
             ],
             [
              0.7777777777777778,
              "#fb9f3a"
             ],
             [
              0.8888888888888888,
              "#fdca26"
             ],
             [
              1,
              "#f0f921"
             ]
            ],
            "type": "heatmap"
           }
          ],
          "histogram": [
           {
            "marker": {
             "pattern": {
              "fillmode": "overlay",
              "size": 10,
              "solidity": 0.2
             }
            },
            "type": "histogram"
           }
          ],
          "histogram2d": [
           {
            "colorbar": {
             "outlinewidth": 0,
             "ticks": ""
            },
            "colorscale": [
             [
              0,
              "#0d0887"
             ],
             [
              0.1111111111111111,
              "#46039f"
             ],
             [
              0.2222222222222222,
              "#7201a8"
             ],
             [
              0.3333333333333333,
              "#9c179e"
             ],
             [
              0.4444444444444444,
              "#bd3786"
             ],
             [
              0.5555555555555556,
              "#d8576b"
             ],
             [
              0.6666666666666666,
              "#ed7953"
             ],
             [
              0.7777777777777778,
              "#fb9f3a"
             ],
             [
              0.8888888888888888,
              "#fdca26"
             ],
             [
              1,
              "#f0f921"
             ]
            ],
            "type": "histogram2d"
           }
          ],
          "histogram2dcontour": [
           {
            "colorbar": {
             "outlinewidth": 0,
             "ticks": ""
            },
            "colorscale": [
             [
              0,
              "#0d0887"
             ],
             [
              0.1111111111111111,
              "#46039f"
             ],
             [
              0.2222222222222222,
              "#7201a8"
             ],
             [
              0.3333333333333333,
              "#9c179e"
             ],
             [
              0.4444444444444444,
              "#bd3786"
             ],
             [
              0.5555555555555556,
              "#d8576b"
             ],
             [
              0.6666666666666666,
              "#ed7953"
             ],
             [
              0.7777777777777778,
              "#fb9f3a"
             ],
             [
              0.8888888888888888,
              "#fdca26"
             ],
             [
              1,
              "#f0f921"
             ]
            ],
            "type": "histogram2dcontour"
           }
          ],
          "mesh3d": [
           {
            "colorbar": {
             "outlinewidth": 0,
             "ticks": ""
            },
            "type": "mesh3d"
           }
          ],
          "parcoords": [
           {
            "line": {
             "colorbar": {
              "outlinewidth": 0,
              "ticks": ""
             }
            },
            "type": "parcoords"
           }
          ],
          "pie": [
           {
            "automargin": true,
            "type": "pie"
           }
          ],
          "scatter": [
           {
            "fillpattern": {
             "fillmode": "overlay",
             "size": 10,
             "solidity": 0.2
            },
            "type": "scatter"
           }
          ],
          "scatter3d": [
           {
            "line": {
             "colorbar": {
              "outlinewidth": 0,
              "ticks": ""
             }
            },
            "marker": {
             "colorbar": {
              "outlinewidth": 0,
              "ticks": ""
             }
            },
            "type": "scatter3d"
           }
          ],
          "scattercarpet": [
           {
            "marker": {
             "colorbar": {
              "outlinewidth": 0,
              "ticks": ""
             }
            },
            "type": "scattercarpet"
           }
          ],
          "scattergeo": [
           {
            "marker": {
             "colorbar": {
              "outlinewidth": 0,
              "ticks": ""
             }
            },
            "type": "scattergeo"
           }
          ],
          "scattergl": [
           {
            "marker": {
             "colorbar": {
              "outlinewidth": 0,
              "ticks": ""
             }
            },
            "type": "scattergl"
           }
          ],
          "scattermap": [
           {
            "marker": {
             "colorbar": {
              "outlinewidth": 0,
              "ticks": ""
             }
            },
            "type": "scattermap"
           }
          ],
          "scattermapbox": [
           {
            "marker": {
             "colorbar": {
              "outlinewidth": 0,
              "ticks": ""
             }
            },
            "type": "scattermapbox"
           }
          ],
          "scatterpolar": [
           {
            "marker": {
             "colorbar": {
              "outlinewidth": 0,
              "ticks": ""
             }
            },
            "type": "scatterpolar"
           }
          ],
          "scatterpolargl": [
           {
            "marker": {
             "colorbar": {
              "outlinewidth": 0,
              "ticks": ""
             }
            },
            "type": "scatterpolargl"
           }
          ],
          "scatterternary": [
           {
            "marker": {
             "colorbar": {
              "outlinewidth": 0,
              "ticks": ""
             }
            },
            "type": "scatterternary"
           }
          ],
          "surface": [
           {
            "colorbar": {
             "outlinewidth": 0,
             "ticks": ""
            },
            "colorscale": [
             [
              0,
              "#0d0887"
             ],
             [
              0.1111111111111111,
              "#46039f"
             ],
             [
              0.2222222222222222,
              "#7201a8"
             ],
             [
              0.3333333333333333,
              "#9c179e"
             ],
             [
              0.4444444444444444,
              "#bd3786"
             ],
             [
              0.5555555555555556,
              "#d8576b"
             ],
             [
              0.6666666666666666,
              "#ed7953"
             ],
             [
              0.7777777777777778,
              "#fb9f3a"
             ],
             [
              0.8888888888888888,
              "#fdca26"
             ],
             [
              1,
              "#f0f921"
             ]
            ],
            "type": "surface"
           }
          ],
          "table": [
           {
            "cells": {
             "fill": {
              "color": "#EBF0F8"
             },
             "line": {
              "color": "white"
             }
            },
            "header": {
             "fill": {
              "color": "#C8D4E3"
             },
             "line": {
              "color": "white"
             }
            },
            "type": "table"
           }
          ]
         },
         "layout": {
          "annotationdefaults": {
           "arrowcolor": "#2a3f5f",
           "arrowhead": 0,
           "arrowwidth": 1
          },
          "autotypenumbers": "strict",
          "coloraxis": {
           "colorbar": {
            "outlinewidth": 0,
            "ticks": ""
           }
          },
          "colorscale": {
           "diverging": [
            [
             0,
             "#8e0152"
            ],
            [
             0.1,
             "#c51b7d"
            ],
            [
             0.2,
             "#de77ae"
            ],
            [
             0.3,
             "#f1b6da"
            ],
            [
             0.4,
             "#fde0ef"
            ],
            [
             0.5,
             "#f7f7f7"
            ],
            [
             0.6,
             "#e6f5d0"
            ],
            [
             0.7,
             "#b8e186"
            ],
            [
             0.8,
             "#7fbc41"
            ],
            [
             0.9,
             "#4d9221"
            ],
            [
             1,
             "#276419"
            ]
           ],
           "sequential": [
            [
             0,
             "#0d0887"
            ],
            [
             0.1111111111111111,
             "#46039f"
            ],
            [
             0.2222222222222222,
             "#7201a8"
            ],
            [
             0.3333333333333333,
             "#9c179e"
            ],
            [
             0.4444444444444444,
             "#bd3786"
            ],
            [
             0.5555555555555556,
             "#d8576b"
            ],
            [
             0.6666666666666666,
             "#ed7953"
            ],
            [
             0.7777777777777778,
             "#fb9f3a"
            ],
            [
             0.8888888888888888,
             "#fdca26"
            ],
            [
             1,
             "#f0f921"
            ]
           ],
           "sequentialminus": [
            [
             0,
             "#0d0887"
            ],
            [
             0.1111111111111111,
             "#46039f"
            ],
            [
             0.2222222222222222,
             "#7201a8"
            ],
            [
             0.3333333333333333,
             "#9c179e"
            ],
            [
             0.4444444444444444,
             "#bd3786"
            ],
            [
             0.5555555555555556,
             "#d8576b"
            ],
            [
             0.6666666666666666,
             "#ed7953"
            ],
            [
             0.7777777777777778,
             "#fb9f3a"
            ],
            [
             0.8888888888888888,
             "#fdca26"
            ],
            [
             1,
             "#f0f921"
            ]
           ]
          },
          "colorway": [
           "#636efa",
           "#EF553B",
           "#00cc96",
           "#ab63fa",
           "#FFA15A",
           "#19d3f3",
           "#FF6692",
           "#B6E880",
           "#FF97FF",
           "#FECB52"
          ],
          "font": {
           "color": "#2a3f5f"
          },
          "geo": {
           "bgcolor": "white",
           "lakecolor": "white",
           "landcolor": "#E5ECF6",
           "showlakes": true,
           "showland": true,
           "subunitcolor": "white"
          },
          "hoverlabel": {
           "align": "left"
          },
          "hovermode": "closest",
          "mapbox": {
           "style": "light"
          },
          "paper_bgcolor": "white",
          "plot_bgcolor": "#E5ECF6",
          "polar": {
           "angularaxis": {
            "gridcolor": "white",
            "linecolor": "white",
            "ticks": ""
           },
           "bgcolor": "#E5ECF6",
           "radialaxis": {
            "gridcolor": "white",
            "linecolor": "white",
            "ticks": ""
           }
          },
          "scene": {
           "xaxis": {
            "backgroundcolor": "#E5ECF6",
            "gridcolor": "white",
            "gridwidth": 2,
            "linecolor": "white",
            "showbackground": true,
            "ticks": "",
            "zerolinecolor": "white"
           },
           "yaxis": {
            "backgroundcolor": "#E5ECF6",
            "gridcolor": "white",
            "gridwidth": 2,
            "linecolor": "white",
            "showbackground": true,
            "ticks": "",
            "zerolinecolor": "white"
           },
           "zaxis": {
            "backgroundcolor": "#E5ECF6",
            "gridcolor": "white",
            "gridwidth": 2,
            "linecolor": "white",
            "showbackground": true,
            "ticks": "",
            "zerolinecolor": "white"
           }
          },
          "shapedefaults": {
           "line": {
            "color": "#2a3f5f"
           }
          },
          "ternary": {
           "aaxis": {
            "gridcolor": "white",
            "linecolor": "white",
            "ticks": ""
           },
           "baxis": {
            "gridcolor": "white",
            "linecolor": "white",
            "ticks": ""
           },
           "bgcolor": "#E5ECF6",
           "caxis": {
            "gridcolor": "white",
            "linecolor": "white",
            "ticks": ""
           }
          },
          "title": {
           "x": 0.05
          },
          "xaxis": {
           "automargin": true,
           "gridcolor": "white",
           "linecolor": "white",
           "ticks": "",
           "title": {
            "standoff": 15
           },
           "zerolinecolor": "white",
           "zerolinewidth": 2
          },
          "yaxis": {
           "automargin": true,
           "gridcolor": "white",
           "linecolor": "white",
           "ticks": "",
           "title": {
            "standoff": 15
           },
           "zerolinecolor": "white",
           "zerolinewidth": 2
          }
         }
        },
        "title": {
         "text": "Gender Percentage Distribution"
        },
        "width": 400
       }
      }
     },
     "metadata": {},
     "output_type": "display_data"
    }
   ],
   "source": [
    "import plotly.express as px\n",
    "\n",
    "figg = px.pie(\n",
    "    names=pd.Series(np.array(data['Gender'].unique())),\n",
    "    values=pd.Series(np.array(data['Gender'].value_counts())),\n",
    "    title=\"Gender Percentage Distribution\"\n",
    ")\n",
    "\n",
    "figg.update_layout(\n",
    "        width = 400,\n",
    "        height = 400\n",
    ")\n",
    "\n",
    "figg.show()"
   ]
  },
  {
   "cell_type": "markdown",
   "id": "c2358f8d",
   "metadata": {},
   "source": [
    "- So the ratio of no-show in output column is `20:80`."
   ]
  },
  {
   "cell_type": "markdown",
   "id": "df86c8e6",
   "metadata": {},
   "source": [
    "- So in our *original data*, all the feature columns have `immbalanced` ratio, and this is not a concern for feature columns, so we will focus on balancing our output feature `(No-show)`."
   ]
  },
  {
   "cell_type": "code",
   "execution_count": 5,
   "id": "56486805",
   "metadata": {},
   "outputs": [
    {
     "data": {
      "text/plain": [
       "Index(['Gender', 'ScheduledDay', 'AppointmentDay', 'Age', 'Neighbourhood',\n",
       "       'Scholarship', 'Hipertension', 'Diabetes', 'Alcoholism', 'Handcap',\n",
       "       'SMS_received', 'No-show'],\n",
       "      dtype='object')"
      ]
     },
     "execution_count": 5,
     "metadata": {},
     "output_type": "execute_result"
    }
   ],
   "source": [
    "data.columns"
   ]
  },
  {
   "cell_type": "markdown",
   "id": "da48c505",
   "metadata": {},
   "source": [
    "# Outliers Detecting In Columns."
   ]
  },
  {
   "cell_type": "code",
   "execution_count": 6,
   "id": "a2536719",
   "metadata": {},
   "outputs": [
    {
     "data": {
      "application/vnd.microsoft.datawrangler.viewer.v0+json": {
       "columns": [
        {
         "name": "index",
         "rawType": "object",
         "type": "string"
        },
        {
         "name": "Age",
         "rawType": "float64",
         "type": "float"
        },
        {
         "name": "Scholarship",
         "rawType": "float64",
         "type": "float"
        },
        {
         "name": "Hipertension",
         "rawType": "float64",
         "type": "float"
        },
        {
         "name": "Diabetes",
         "rawType": "float64",
         "type": "float"
        },
        {
         "name": "Alcoholism",
         "rawType": "float64",
         "type": "float"
        },
        {
         "name": "Handcap",
         "rawType": "float64",
         "type": "float"
        },
        {
         "name": "SMS_received",
         "rawType": "float64",
         "type": "float"
        }
       ],
       "conversionMethod": "pd.DataFrame",
       "ref": "84e2aacd-3124-4d74-b1f5-64fc7c9efdbe",
       "rows": [
        [
         "count",
         "110527.0",
         "110527.0",
         "110527.0",
         "110527.0",
         "110527.0",
         "110527.0",
         "110527.0"
        ],
        [
         "mean",
         "37.08887421173107",
         "0.09826558216544373",
         "0.1972459218109602",
         "0.07186479321794674",
         "0.030399811810688793",
         "0.022247957512643968",
         "0.32102563174608917"
        ],
        [
         "std",
         "23.110204963682644",
         "0.2976747541093071",
         "0.397921349947084",
         "0.25826507350746697",
         "0.17168555541424485",
         "0.16154272581427898",
         "0.46687273170186816"
        ],
        [
         "min",
         "-1.0",
         "0.0",
         "0.0",
         "0.0",
         "0.0",
         "0.0",
         "0.0"
        ],
        [
         "25%",
         "18.0",
         "0.0",
         "0.0",
         "0.0",
         "0.0",
         "0.0",
         "0.0"
        ],
        [
         "50%",
         "37.0",
         "0.0",
         "0.0",
         "0.0",
         "0.0",
         "0.0",
         "0.0"
        ],
        [
         "75%",
         "55.0",
         "0.0",
         "0.0",
         "0.0",
         "0.0",
         "0.0",
         "1.0"
        ],
        [
         "max",
         "115.0",
         "1.0",
         "1.0",
         "1.0",
         "1.0",
         "4.0",
         "1.0"
        ]
       ],
       "shape": {
        "columns": 7,
        "rows": 8
       }
      },
      "text/html": [
       "<div>\n",
       "<style scoped>\n",
       "    .dataframe tbody tr th:only-of-type {\n",
       "        vertical-align: middle;\n",
       "    }\n",
       "\n",
       "    .dataframe tbody tr th {\n",
       "        vertical-align: top;\n",
       "    }\n",
       "\n",
       "    .dataframe thead th {\n",
       "        text-align: right;\n",
       "    }\n",
       "</style>\n",
       "<table border=\"1\" class=\"dataframe\">\n",
       "  <thead>\n",
       "    <tr style=\"text-align: right;\">\n",
       "      <th></th>\n",
       "      <th>Age</th>\n",
       "      <th>Scholarship</th>\n",
       "      <th>Hipertension</th>\n",
       "      <th>Diabetes</th>\n",
       "      <th>Alcoholism</th>\n",
       "      <th>Handcap</th>\n",
       "      <th>SMS_received</th>\n",
       "    </tr>\n",
       "  </thead>\n",
       "  <tbody>\n",
       "    <tr>\n",
       "      <th>count</th>\n",
       "      <td>110527.000000</td>\n",
       "      <td>110527.000000</td>\n",
       "      <td>110527.000000</td>\n",
       "      <td>110527.000000</td>\n",
       "      <td>110527.000000</td>\n",
       "      <td>110527.000000</td>\n",
       "      <td>110527.000000</td>\n",
       "    </tr>\n",
       "    <tr>\n",
       "      <th>mean</th>\n",
       "      <td>37.088874</td>\n",
       "      <td>0.098266</td>\n",
       "      <td>0.197246</td>\n",
       "      <td>0.071865</td>\n",
       "      <td>0.030400</td>\n",
       "      <td>0.022248</td>\n",
       "      <td>0.321026</td>\n",
       "    </tr>\n",
       "    <tr>\n",
       "      <th>std</th>\n",
       "      <td>23.110205</td>\n",
       "      <td>0.297675</td>\n",
       "      <td>0.397921</td>\n",
       "      <td>0.258265</td>\n",
       "      <td>0.171686</td>\n",
       "      <td>0.161543</td>\n",
       "      <td>0.466873</td>\n",
       "    </tr>\n",
       "    <tr>\n",
       "      <th>min</th>\n",
       "      <td>-1.000000</td>\n",
       "      <td>0.000000</td>\n",
       "      <td>0.000000</td>\n",
       "      <td>0.000000</td>\n",
       "      <td>0.000000</td>\n",
       "      <td>0.000000</td>\n",
       "      <td>0.000000</td>\n",
       "    </tr>\n",
       "    <tr>\n",
       "      <th>25%</th>\n",
       "      <td>18.000000</td>\n",
       "      <td>0.000000</td>\n",
       "      <td>0.000000</td>\n",
       "      <td>0.000000</td>\n",
       "      <td>0.000000</td>\n",
       "      <td>0.000000</td>\n",
       "      <td>0.000000</td>\n",
       "    </tr>\n",
       "    <tr>\n",
       "      <th>50%</th>\n",
       "      <td>37.000000</td>\n",
       "      <td>0.000000</td>\n",
       "      <td>0.000000</td>\n",
       "      <td>0.000000</td>\n",
       "      <td>0.000000</td>\n",
       "      <td>0.000000</td>\n",
       "      <td>0.000000</td>\n",
       "    </tr>\n",
       "    <tr>\n",
       "      <th>75%</th>\n",
       "      <td>55.000000</td>\n",
       "      <td>0.000000</td>\n",
       "      <td>0.000000</td>\n",
       "      <td>0.000000</td>\n",
       "      <td>0.000000</td>\n",
       "      <td>0.000000</td>\n",
       "      <td>1.000000</td>\n",
       "    </tr>\n",
       "    <tr>\n",
       "      <th>max</th>\n",
       "      <td>115.000000</td>\n",
       "      <td>1.000000</td>\n",
       "      <td>1.000000</td>\n",
       "      <td>1.000000</td>\n",
       "      <td>1.000000</td>\n",
       "      <td>4.000000</td>\n",
       "      <td>1.000000</td>\n",
       "    </tr>\n",
       "  </tbody>\n",
       "</table>\n",
       "</div>"
      ],
      "text/plain": [
       "                 Age    Scholarship   Hipertension       Diabetes  \\\n",
       "count  110527.000000  110527.000000  110527.000000  110527.000000   \n",
       "mean       37.088874       0.098266       0.197246       0.071865   \n",
       "std        23.110205       0.297675       0.397921       0.258265   \n",
       "min        -1.000000       0.000000       0.000000       0.000000   \n",
       "25%        18.000000       0.000000       0.000000       0.000000   \n",
       "50%        37.000000       0.000000       0.000000       0.000000   \n",
       "75%        55.000000       0.000000       0.000000       0.000000   \n",
       "max       115.000000       1.000000       1.000000       1.000000   \n",
       "\n",
       "          Alcoholism        Handcap   SMS_received  \n",
       "count  110527.000000  110527.000000  110527.000000  \n",
       "mean        0.030400       0.022248       0.321026  \n",
       "std         0.171686       0.161543       0.466873  \n",
       "min         0.000000       0.000000       0.000000  \n",
       "25%         0.000000       0.000000       0.000000  \n",
       "50%         0.000000       0.000000       0.000000  \n",
       "75%         0.000000       0.000000       1.000000  \n",
       "max         1.000000       4.000000       1.000000  "
      ]
     },
     "execution_count": 6,
     "metadata": {},
     "output_type": "execute_result"
    }
   ],
   "source": [
    "data.describe()"
   ]
  },
  {
   "cell_type": "markdown",
   "id": "3fc1f7cc",
   "metadata": {},
   "source": [
    "- As you can see, `Age` is the only column that is likely to have outliers."
   ]
  },
  {
   "cell_type": "markdown",
   "id": "540afee0",
   "metadata": {},
   "source": [
    "### Let's check outliers in our Age columns."
   ]
  },
  {
   "cell_type": "code",
   "execution_count": 7,
   "id": "9399d301",
   "metadata": {},
   "outputs": [
    {
     "data": {
      "application/vnd.plotly.v1+json": {
       "config": {
        "plotlyServerURL": "https://plot.ly"
       },
       "data": [
        {
         "alignmentgroup": "True",
         "hovertemplate": "Age=%{x}<extra></extra>",
         "legendgroup": "",
         "marker": {
          "color": "#636efa"
         },
         "name": "",
         "notched": false,
         "offsetgroup": "",
         "orientation": "h",
         "showlegend": false,
         "type": "box",
         "x": {
          "bdata": "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",
          "dtype": "i1"
         },
         "x0": " ",
         "xaxis": "x",
         "y0": " ",
         "yaxis": "y"
        }
       ],
       "layout": {
        "boxmode": "group",
        "legend": {
         "tracegroupgap": 0
        },
        "template": {
         "data": {
          "bar": [
           {
            "error_x": {
             "color": "#2a3f5f"
            },
            "error_y": {
             "color": "#2a3f5f"
            },
            "marker": {
             "line": {
              "color": "#E5ECF6",
              "width": 0.5
             },
             "pattern": {
              "fillmode": "overlay",
              "size": 10,
              "solidity": 0.2
             }
            },
            "type": "bar"
           }
          ],
          "barpolar": [
           {
            "marker": {
             "line": {
              "color": "#E5ECF6",
              "width": 0.5
             },
             "pattern": {
              "fillmode": "overlay",
              "size": 10,
              "solidity": 0.2
             }
            },
            "type": "barpolar"
           }
          ],
          "carpet": [
           {
            "aaxis": {
             "endlinecolor": "#2a3f5f",
             "gridcolor": "white",
             "linecolor": "white",
             "minorgridcolor": "white",
             "startlinecolor": "#2a3f5f"
            },
            "baxis": {
             "endlinecolor": "#2a3f5f",
             "gridcolor": "white",
             "linecolor": "white",
             "minorgridcolor": "white",
             "startlinecolor": "#2a3f5f"
            },
            "type": "carpet"
           }
          ],
          "choropleth": [
           {
            "colorbar": {
             "outlinewidth": 0,
             "ticks": ""
            },
            "type": "choropleth"
           }
          ],
          "contour": [
           {
            "colorbar": {
             "outlinewidth": 0,
             "ticks": ""
            },
            "colorscale": [
             [
              0,
              "#0d0887"
             ],
             [
              0.1111111111111111,
              "#46039f"
             ],
             [
              0.2222222222222222,
              "#7201a8"
             ],
             [
              0.3333333333333333,
              "#9c179e"
             ],
             [
              0.4444444444444444,
              "#bd3786"
             ],
             [
              0.5555555555555556,
              "#d8576b"
             ],
             [
              0.6666666666666666,
              "#ed7953"
             ],
             [
              0.7777777777777778,
              "#fb9f3a"
             ],
             [
              0.8888888888888888,
              "#fdca26"
             ],
             [
              1,
              "#f0f921"
             ]
            ],
            "type": "contour"
           }
          ],
          "contourcarpet": [
           {
            "colorbar": {
             "outlinewidth": 0,
             "ticks": ""
            },
            "type": "contourcarpet"
           }
          ],
          "heatmap": [
           {
            "colorbar": {
             "outlinewidth": 0,
             "ticks": ""
            },
            "colorscale": [
             [
              0,
              "#0d0887"
             ],
             [
              0.1111111111111111,
              "#46039f"
             ],
             [
              0.2222222222222222,
              "#7201a8"
             ],
             [
              0.3333333333333333,
              "#9c179e"
             ],
             [
              0.4444444444444444,
              "#bd3786"
             ],
             [
              0.5555555555555556,
              "#d8576b"
             ],
             [
              0.6666666666666666,
              "#ed7953"
             ],
             [
              0.7777777777777778,
              "#fb9f3a"
             ],
             [
              0.8888888888888888,
              "#fdca26"
             ],
             [
              1,
              "#f0f921"
             ]
            ],
            "type": "heatmap"
           }
          ],
          "histogram": [
           {
            "marker": {
             "pattern": {
              "fillmode": "overlay",
              "size": 10,
              "solidity": 0.2
             }
            },
            "type": "histogram"
           }
          ],
          "histogram2d": [
           {
            "colorbar": {
             "outlinewidth": 0,
             "ticks": ""
            },
            "colorscale": [
             [
              0,
              "#0d0887"
             ],
             [
              0.1111111111111111,
              "#46039f"
             ],
             [
              0.2222222222222222,
              "#7201a8"
             ],
             [
              0.3333333333333333,
              "#9c179e"
             ],
             [
              0.4444444444444444,
              "#bd3786"
             ],
             [
              0.5555555555555556,
              "#d8576b"
             ],
             [
              0.6666666666666666,
              "#ed7953"
             ],
             [
              0.7777777777777778,
              "#fb9f3a"
             ],
             [
              0.8888888888888888,
              "#fdca26"
             ],
             [
              1,
              "#f0f921"
             ]
            ],
            "type": "histogram2d"
           }
          ],
          "histogram2dcontour": [
           {
            "colorbar": {
             "outlinewidth": 0,
             "ticks": ""
            },
            "colorscale": [
             [
              0,
              "#0d0887"
             ],
             [
              0.1111111111111111,
              "#46039f"
             ],
             [
              0.2222222222222222,
              "#7201a8"
             ],
             [
              0.3333333333333333,
              "#9c179e"
             ],
             [
              0.4444444444444444,
              "#bd3786"
             ],
             [
              0.5555555555555556,
              "#d8576b"
             ],
             [
              0.6666666666666666,
              "#ed7953"
             ],
             [
              0.7777777777777778,
              "#fb9f3a"
             ],
             [
              0.8888888888888888,
              "#fdca26"
             ],
             [
              1,
              "#f0f921"
             ]
            ],
            "type": "histogram2dcontour"
           }
          ],
          "mesh3d": [
           {
            "colorbar": {
             "outlinewidth": 0,
             "ticks": ""
            },
            "type": "mesh3d"
           }
          ],
          "parcoords": [
           {
            "line": {
             "colorbar": {
              "outlinewidth": 0,
              "ticks": ""
             }
            },
            "type": "parcoords"
           }
          ],
          "pie": [
           {
            "automargin": true,
            "type": "pie"
           }
          ],
          "scatter": [
           {
            "fillpattern": {
             "fillmode": "overlay",
             "size": 10,
             "solidity": 0.2
            },
            "type": "scatter"
           }
          ],
          "scatter3d": [
           {
            "line": {
             "colorbar": {
              "outlinewidth": 0,
              "ticks": ""
             }
            },
            "marker": {
             "colorbar": {
              "outlinewidth": 0,
              "ticks": ""
             }
            },
            "type": "scatter3d"
           }
          ],
          "scattercarpet": [
           {
            "marker": {
             "colorbar": {
              "outlinewidth": 0,
              "ticks": ""
             }
            },
            "type": "scattercarpet"
           }
          ],
          "scattergeo": [
           {
            "marker": {
             "colorbar": {
              "outlinewidth": 0,
              "ticks": ""
             }
            },
            "type": "scattergeo"
           }
          ],
          "scattergl": [
           {
            "marker": {
             "colorbar": {
              "outlinewidth": 0,
              "ticks": ""
             }
            },
            "type": "scattergl"
           }
          ],
          "scattermap": [
           {
            "marker": {
             "colorbar": {
              "outlinewidth": 0,
              "ticks": ""
             }
            },
            "type": "scattermap"
           }
          ],
          "scattermapbox": [
           {
            "marker": {
             "colorbar": {
              "outlinewidth": 0,
              "ticks": ""
             }
            },
            "type": "scattermapbox"
           }
          ],
          "scatterpolar": [
           {
            "marker": {
             "colorbar": {
              "outlinewidth": 0,
              "ticks": ""
             }
            },
            "type": "scatterpolar"
           }
          ],
          "scatterpolargl": [
           {
            "marker": {
             "colorbar": {
              "outlinewidth": 0,
              "ticks": ""
             }
            },
            "type": "scatterpolargl"
           }
          ],
          "scatterternary": [
           {
            "marker": {
             "colorbar": {
              "outlinewidth": 0,
              "ticks": ""
             }
            },
            "type": "scatterternary"
           }
          ],
          "surface": [
           {
            "colorbar": {
             "outlinewidth": 0,
             "ticks": ""
            },
            "colorscale": [
             [
              0,
              "#0d0887"
             ],
             [
              0.1111111111111111,
              "#46039f"
             ],
             [
              0.2222222222222222,
              "#7201a8"
             ],
             [
              0.3333333333333333,
              "#9c179e"
             ],
             [
              0.4444444444444444,
              "#bd3786"
             ],
             [
              0.5555555555555556,
              "#d8576b"
             ],
             [
              0.6666666666666666,
              "#ed7953"
             ],
             [
              0.7777777777777778,
              "#fb9f3a"
             ],
             [
              0.8888888888888888,
              "#fdca26"
             ],
             [
              1,
              "#f0f921"
             ]
            ],
            "type": "surface"
           }
          ],
          "table": [
           {
            "cells": {
             "fill": {
              "color": "#EBF0F8"
             },
             "line": {
              "color": "white"
             }
            },
            "header": {
             "fill": {
              "color": "#C8D4E3"
             },
             "line": {
              "color": "white"
             }
            },
            "type": "table"
           }
          ]
         },
         "layout": {
          "annotationdefaults": {
           "arrowcolor": "#2a3f5f",
           "arrowhead": 0,
           "arrowwidth": 1
          },
          "autotypenumbers": "strict",
          "coloraxis": {
           "colorbar": {
            "outlinewidth": 0,
            "ticks": ""
           }
          },
          "colorscale": {
           "diverging": [
            [
             0,
             "#8e0152"
            ],
            [
             0.1,
             "#c51b7d"
            ],
            [
             0.2,
             "#de77ae"
            ],
            [
             0.3,
             "#f1b6da"
            ],
            [
             0.4,
             "#fde0ef"
            ],
            [
             0.5,
             "#f7f7f7"
            ],
            [
             0.6,
             "#e6f5d0"
            ],
            [
             0.7,
             "#b8e186"
            ],
            [
             0.8,
             "#7fbc41"
            ],
            [
             0.9,
             "#4d9221"
            ],
            [
             1,
             "#276419"
            ]
           ],
           "sequential": [
            [
             0,
             "#0d0887"
            ],
            [
             0.1111111111111111,
             "#46039f"
            ],
            [
             0.2222222222222222,
             "#7201a8"
            ],
            [
             0.3333333333333333,
             "#9c179e"
            ],
            [
             0.4444444444444444,
             "#bd3786"
            ],
            [
             0.5555555555555556,
             "#d8576b"
            ],
            [
             0.6666666666666666,
             "#ed7953"
            ],
            [
             0.7777777777777778,
             "#fb9f3a"
            ],
            [
             0.8888888888888888,
             "#fdca26"
            ],
            [
             1,
             "#f0f921"
            ]
           ],
           "sequentialminus": [
            [
             0,
             "#0d0887"
            ],
            [
             0.1111111111111111,
             "#46039f"
            ],
            [
             0.2222222222222222,
             "#7201a8"
            ],
            [
             0.3333333333333333,
             "#9c179e"
            ],
            [
             0.4444444444444444,
             "#bd3786"
            ],
            [
             0.5555555555555556,
             "#d8576b"
            ],
            [
             0.6666666666666666,
             "#ed7953"
            ],
            [
             0.7777777777777778,
             "#fb9f3a"
            ],
            [
             0.8888888888888888,
             "#fdca26"
            ],
            [
             1,
             "#f0f921"
            ]
           ]
          },
          "colorway": [
           "#636efa",
           "#EF553B",
           "#00cc96",
           "#ab63fa",
           "#FFA15A",
           "#19d3f3",
           "#FF6692",
           "#B6E880",
           "#FF97FF",
           "#FECB52"
          ],
          "font": {
           "color": "#2a3f5f"
          },
          "geo": {
           "bgcolor": "white",
           "lakecolor": "white",
           "landcolor": "#E5ECF6",
           "showlakes": true,
           "showland": true,
           "subunitcolor": "white"
          },
          "hoverlabel": {
           "align": "left"
          },
          "hovermode": "closest",
          "mapbox": {
           "style": "light"
          },
          "paper_bgcolor": "white",
          "plot_bgcolor": "#E5ECF6",
          "polar": {
           "angularaxis": {
            "gridcolor": "white",
            "linecolor": "white",
            "ticks": ""
           },
           "bgcolor": "#E5ECF6",
           "radialaxis": {
            "gridcolor": "white",
            "linecolor": "white",
            "ticks": ""
           }
          },
          "scene": {
           "xaxis": {
            "backgroundcolor": "#E5ECF6",
            "gridcolor": "white",
            "gridwidth": 2,
            "linecolor": "white",
            "showbackground": true,
            "ticks": "",
            "zerolinecolor": "white"
           },
           "yaxis": {
            "backgroundcolor": "#E5ECF6",
            "gridcolor": "white",
            "gridwidth": 2,
            "linecolor": "white",
            "showbackground": true,
            "ticks": "",
            "zerolinecolor": "white"
           },
           "zaxis": {
            "backgroundcolor": "#E5ECF6",
            "gridcolor": "white",
            "gridwidth": 2,
            "linecolor": "white",
            "showbackground": true,
            "ticks": "",
            "zerolinecolor": "white"
           }
          },
          "shapedefaults": {
           "line": {
            "color": "#2a3f5f"
           }
          },
          "ternary": {
           "aaxis": {
            "gridcolor": "white",
            "linecolor": "white",
            "ticks": ""
           },
           "baxis": {
            "gridcolor": "white",
            "linecolor": "white",
            "ticks": ""
           },
           "bgcolor": "#E5ECF6",
           "caxis": {
            "gridcolor": "white",
            "linecolor": "white",
            "ticks": ""
           }
          },
          "title": {
           "x": 0.05
          },
          "xaxis": {
           "automargin": true,
           "gridcolor": "white",
           "linecolor": "white",
           "ticks": "",
           "title": {
            "standoff": 15
           },
           "zerolinecolor": "white",
           "zerolinewidth": 2
          },
          "yaxis": {
           "automargin": true,
           "gridcolor": "white",
           "linecolor": "white",
           "ticks": "",
           "title": {
            "standoff": 15
           },
           "zerolinecolor": "white",
           "zerolinewidth": 2
          }
         }
        },
        "title": {
         "text": "Age Box Plot: "
        },
        "xaxis": {
         "anchor": "y",
         "domain": [
          0,
          1
         ],
         "title": {
          "text": "Age"
         }
        },
        "yaxis": {
         "anchor": "x",
         "domain": [
          0,
          1
         ]
        }
       }
      }
     },
     "metadata": {},
     "output_type": "display_data"
    }
   ],
   "source": [
    "figure = px.box(\n",
    "    data, \n",
    "    x='Age',\n",
    "    title = \"Age Box Plot: \"\n",
    ")\n",
    "figure.show()"
   ]
  },
  {
   "cell_type": "markdown",
   "id": "06193356",
   "metadata": {},
   "source": [
    "- As you can see, -1 is invalid age and only one outlier which is 115"
   ]
  },
  {
   "cell_type": "code",
   "execution_count": 8,
   "id": "5d7edc5b",
   "metadata": {},
   "outputs": [],
   "source": [
    "data = data[data['Age'] > 0]"
   ]
  },
  {
   "cell_type": "code",
   "execution_count": 9,
   "id": "d7c4f030",
   "metadata": {},
   "outputs": [],
   "source": [
    "## Interquartile Range Method\n",
    "quartiles = data['Age'].quantile([0.25, 0.5, 0.75])\n",
    "q1 = quartiles[0.25]\n",
    "q3 = quartiles[0.75]\n",
    "iqr = q3 - q1\n",
    "\n",
    "upper_bond = q3 + 1.5 * iqr\n",
    "\n",
    "data.drop(data[(data['Age'] > upper_bond)].index, inplace=True)\n",
    "\n",
    "## Z-score Method\n",
    "mean = data['Age'].mean()\n",
    "std_dev = data['Age'].std()\n",
    "\n",
    "data = data[(data['Age'] > mean - 3 * std_dev) & (data['Age'] < mean + 3 * std_dev)]"
   ]
  },
  {
   "cell_type": "code",
   "execution_count": 10,
   "id": "ae27624c",
   "metadata": {},
   "outputs": [
    {
     "data": {
      "application/vnd.plotly.v1+json": {
       "config": {
        "plotlyServerURL": "https://plot.ly"
       },
       "data": [
        {
         "alignmentgroup": "True",
         "hovertemplate": "Age=%{x}<extra></extra>",
         "legendgroup": "",
         "marker": {
          "color": "#636efa"
         },
         "name": "",
         "notched": false,
         "offsetgroup": "",
         "orientation": "h",
         "showlegend": false,
         "type": "box",
         "x": {
          "bdata": "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",
          "dtype": "i1"
         },
         "x0": " ",
         "xaxis": "x",
         "y0": " ",
         "yaxis": "y"
        }
       ],
       "layout": {
        "boxmode": "group",
        "legend": {
         "tracegroupgap": 0
        },
        "template": {
         "data": {
          "bar": [
           {
            "error_x": {
             "color": "#2a3f5f"
            },
            "error_y": {
             "color": "#2a3f5f"
            },
            "marker": {
             "line": {
              "color": "#E5ECF6",
              "width": 0.5
             },
             "pattern": {
              "fillmode": "overlay",
              "size": 10,
              "solidity": 0.2
             }
            },
            "type": "bar"
           }
          ],
          "barpolar": [
           {
            "marker": {
             "line": {
              "color": "#E5ECF6",
              "width": 0.5
             },
             "pattern": {
              "fillmode": "overlay",
              "size": 10,
              "solidity": 0.2
             }
            },
            "type": "barpolar"
           }
          ],
          "carpet": [
           {
            "aaxis": {
             "endlinecolor": "#2a3f5f",
             "gridcolor": "white",
             "linecolor": "white",
             "minorgridcolor": "white",
             "startlinecolor": "#2a3f5f"
            },
            "baxis": {
             "endlinecolor": "#2a3f5f",
             "gridcolor": "white",
             "linecolor": "white",
             "minorgridcolor": "white",
             "startlinecolor": "#2a3f5f"
            },
            "type": "carpet"
           }
          ],
          "choropleth": [
           {
            "colorbar": {
             "outlinewidth": 0,
             "ticks": ""
            },
            "type": "choropleth"
           }
          ],
          "contour": [
           {
            "colorbar": {
             "outlinewidth": 0,
             "ticks": ""
            },
            "colorscale": [
             [
              0,
              "#0d0887"
             ],
             [
              0.1111111111111111,
              "#46039f"
             ],
             [
              0.2222222222222222,
              "#7201a8"
             ],
             [
              0.3333333333333333,
              "#9c179e"
             ],
             [
              0.4444444444444444,
              "#bd3786"
             ],
             [
              0.5555555555555556,
              "#d8576b"
             ],
             [
              0.6666666666666666,
              "#ed7953"
             ],
             [
              0.7777777777777778,
              "#fb9f3a"
             ],
             [
              0.8888888888888888,
              "#fdca26"
             ],
             [
              1,
              "#f0f921"
             ]
            ],
            "type": "contour"
           }
          ],
          "contourcarpet": [
           {
            "colorbar": {
             "outlinewidth": 0,
             "ticks": ""
            },
            "type": "contourcarpet"
           }
          ],
          "heatmap": [
           {
            "colorbar": {
             "outlinewidth": 0,
             "ticks": ""
            },
            "colorscale": [
             [
              0,
              "#0d0887"
             ],
             [
              0.1111111111111111,
              "#46039f"
             ],
             [
              0.2222222222222222,
              "#7201a8"
             ],
             [
              0.3333333333333333,
              "#9c179e"
             ],
             [
              0.4444444444444444,
              "#bd3786"
             ],
             [
              0.5555555555555556,
              "#d8576b"
             ],
             [
              0.6666666666666666,
              "#ed7953"
             ],
             [
              0.7777777777777778,
              "#fb9f3a"
             ],
             [
              0.8888888888888888,
              "#fdca26"
             ],
             [
              1,
              "#f0f921"
             ]
            ],
            "type": "heatmap"
           }
          ],
          "histogram": [
           {
            "marker": {
             "pattern": {
              "fillmode": "overlay",
              "size": 10,
              "solidity": 0.2
             }
            },
            "type": "histogram"
           }
          ],
          "histogram2d": [
           {
            "colorbar": {
             "outlinewidth": 0,
             "ticks": ""
            },
            "colorscale": [
             [
              0,
              "#0d0887"
             ],
             [
              0.1111111111111111,
              "#46039f"
             ],
             [
              0.2222222222222222,
              "#7201a8"
             ],
             [
              0.3333333333333333,
              "#9c179e"
             ],
             [
              0.4444444444444444,
              "#bd3786"
             ],
             [
              0.5555555555555556,
              "#d8576b"
             ],
             [
              0.6666666666666666,
              "#ed7953"
             ],
             [
              0.7777777777777778,
              "#fb9f3a"
             ],
             [
              0.8888888888888888,
              "#fdca26"
             ],
             [
              1,
              "#f0f921"
             ]
            ],
            "type": "histogram2d"
           }
          ],
          "histogram2dcontour": [
           {
            "colorbar": {
             "outlinewidth": 0,
             "ticks": ""
            },
            "colorscale": [
             [
              0,
              "#0d0887"
             ],
             [
              0.1111111111111111,
              "#46039f"
             ],
             [
              0.2222222222222222,
              "#7201a8"
             ],
             [
              0.3333333333333333,
              "#9c179e"
             ],
             [
              0.4444444444444444,
              "#bd3786"
             ],
             [
              0.5555555555555556,
              "#d8576b"
             ],
             [
              0.6666666666666666,
              "#ed7953"
             ],
             [
              0.7777777777777778,
              "#fb9f3a"
             ],
             [
              0.8888888888888888,
              "#fdca26"
             ],
             [
              1,
              "#f0f921"
             ]
            ],
            "type": "histogram2dcontour"
           }
          ],
          "mesh3d": [
           {
            "colorbar": {
             "outlinewidth": 0,
             "ticks": ""
            },
            "type": "mesh3d"
           }
          ],
          "parcoords": [
           {
            "line": {
             "colorbar": {
              "outlinewidth": 0,
              "ticks": ""
             }
            },
            "type": "parcoords"
           }
          ],
          "pie": [
           {
            "automargin": true,
            "type": "pie"
           }
          ],
          "scatter": [
           {
            "fillpattern": {
             "fillmode": "overlay",
             "size": 10,
             "solidity": 0.2
            },
            "type": "scatter"
           }
          ],
          "scatter3d": [
           {
            "line": {
             "colorbar": {
              "outlinewidth": 0,
              "ticks": ""
             }
            },
            "marker": {
             "colorbar": {
              "outlinewidth": 0,
              "ticks": ""
             }
            },
            "type": "scatter3d"
           }
          ],
          "scattercarpet": [
           {
            "marker": {
             "colorbar": {
              "outlinewidth": 0,
              "ticks": ""
             }
            },
            "type": "scattercarpet"
           }
          ],
          "scattergeo": [
           {
            "marker": {
             "colorbar": {
              "outlinewidth": 0,
              "ticks": ""
             }
            },
            "type": "scattergeo"
           }
          ],
          "scattergl": [
           {
            "marker": {
             "colorbar": {
              "outlinewidth": 0,
              "ticks": ""
             }
            },
            "type": "scattergl"
           }
          ],
          "scattermap": [
           {
            "marker": {
             "colorbar": {
              "outlinewidth": 0,
              "ticks": ""
             }
            },
            "type": "scattermap"
           }
          ],
          "scattermapbox": [
           {
            "marker": {
             "colorbar": {
              "outlinewidth": 0,
              "ticks": ""
             }
            },
            "type": "scattermapbox"
           }
          ],
          "scatterpolar": [
           {
            "marker": {
             "colorbar": {
              "outlinewidth": 0,
              "ticks": ""
             }
            },
            "type": "scatterpolar"
           }
          ],
          "scatterpolargl": [
           {
            "marker": {
             "colorbar": {
              "outlinewidth": 0,
              "ticks": ""
             }
            },
            "type": "scatterpolargl"
           }
          ],
          "scatterternary": [
           {
            "marker": {
             "colorbar": {
              "outlinewidth": 0,
              "ticks": ""
             }
            },
            "type": "scatterternary"
           }
          ],
          "surface": [
           {
            "colorbar": {
             "outlinewidth": 0,
             "ticks": ""
            },
            "colorscale": [
             [
              0,
              "#0d0887"
             ],
             [
              0.1111111111111111,
              "#46039f"
             ],
             [
              0.2222222222222222,
              "#7201a8"
             ],
             [
              0.3333333333333333,
              "#9c179e"
             ],
             [
              0.4444444444444444,
              "#bd3786"
             ],
             [
              0.5555555555555556,
              "#d8576b"
             ],
             [
              0.6666666666666666,
              "#ed7953"
             ],
             [
              0.7777777777777778,
              "#fb9f3a"
             ],
             [
              0.8888888888888888,
              "#fdca26"
             ],
             [
              1,
              "#f0f921"
             ]
            ],
            "type": "surface"
           }
          ],
          "table": [
           {
            "cells": {
             "fill": {
              "color": "#EBF0F8"
             },
             "line": {
              "color": "white"
             }
            },
            "header": {
             "fill": {
              "color": "#C8D4E3"
             },
             "line": {
              "color": "white"
             }
            },
            "type": "table"
           }
          ]
         },
         "layout": {
          "annotationdefaults": {
           "arrowcolor": "#2a3f5f",
           "arrowhead": 0,
           "arrowwidth": 1
          },
          "autotypenumbers": "strict",
          "coloraxis": {
           "colorbar": {
            "outlinewidth": 0,
            "ticks": ""
           }
          },
          "colorscale": {
           "diverging": [
            [
             0,
             "#8e0152"
            ],
            [
             0.1,
             "#c51b7d"
            ],
            [
             0.2,
             "#de77ae"
            ],
            [
             0.3,
             "#f1b6da"
            ],
            [
             0.4,
             "#fde0ef"
            ],
            [
             0.5,
             "#f7f7f7"
            ],
            [
             0.6,
             "#e6f5d0"
            ],
            [
             0.7,
             "#b8e186"
            ],
            [
             0.8,
             "#7fbc41"
            ],
            [
             0.9,
             "#4d9221"
            ],
            [
             1,
             "#276419"
            ]
           ],
           "sequential": [
            [
             0,
             "#0d0887"
            ],
            [
             0.1111111111111111,
             "#46039f"
            ],
            [
             0.2222222222222222,
             "#7201a8"
            ],
            [
             0.3333333333333333,
             "#9c179e"
            ],
            [
             0.4444444444444444,
             "#bd3786"
            ],
            [
             0.5555555555555556,
             "#d8576b"
            ],
            [
             0.6666666666666666,
             "#ed7953"
            ],
            [
             0.7777777777777778,
             "#fb9f3a"
            ],
            [
             0.8888888888888888,
             "#fdca26"
            ],
            [
             1,
             "#f0f921"
            ]
           ],
           "sequentialminus": [
            [
             0,
             "#0d0887"
            ],
            [
             0.1111111111111111,
             "#46039f"
            ],
            [
             0.2222222222222222,
             "#7201a8"
            ],
            [
             0.3333333333333333,
             "#9c179e"
            ],
            [
             0.4444444444444444,
             "#bd3786"
            ],
            [
             0.5555555555555556,
             "#d8576b"
            ],
            [
             0.6666666666666666,
             "#ed7953"
            ],
            [
             0.7777777777777778,
             "#fb9f3a"
            ],
            [
             0.8888888888888888,
             "#fdca26"
            ],
            [
             1,
             "#f0f921"
            ]
           ]
          },
          "colorway": [
           "#636efa",
           "#EF553B",
           "#00cc96",
           "#ab63fa",
           "#FFA15A",
           "#19d3f3",
           "#FF6692",
           "#B6E880",
           "#FF97FF",
           "#FECB52"
          ],
          "font": {
           "color": "#2a3f5f"
          },
          "geo": {
           "bgcolor": "white",
           "lakecolor": "white",
           "landcolor": "#E5ECF6",
           "showlakes": true,
           "showland": true,
           "subunitcolor": "white"
          },
          "hoverlabel": {
           "align": "left"
          },
          "hovermode": "closest",
          "mapbox": {
           "style": "light"
          },
          "paper_bgcolor": "white",
          "plot_bgcolor": "#E5ECF6",
          "polar": {
           "angularaxis": {
            "gridcolor": "white",
            "linecolor": "white",
            "ticks": ""
           },
           "bgcolor": "#E5ECF6",
           "radialaxis": {
            "gridcolor": "white",
            "linecolor": "white",
            "ticks": ""
           }
          },
          "scene": {
           "xaxis": {
            "backgroundcolor": "#E5ECF6",
            "gridcolor": "white",
            "gridwidth": 2,
            "linecolor": "white",
            "showbackground": true,
            "ticks": "",
            "zerolinecolor": "white"
           },
           "yaxis": {
            "backgroundcolor": "#E5ECF6",
            "gridcolor": "white",
            "gridwidth": 2,
            "linecolor": "white",
            "showbackground": true,
            "ticks": "",
            "zerolinecolor": "white"
           },
           "zaxis": {
            "backgroundcolor": "#E5ECF6",
            "gridcolor": "white",
            "gridwidth": 2,
            "linecolor": "white",
            "showbackground": true,
            "ticks": "",
            "zerolinecolor": "white"
           }
          },
          "shapedefaults": {
           "line": {
            "color": "#2a3f5f"
           }
          },
          "ternary": {
           "aaxis": {
            "gridcolor": "white",
            "linecolor": "white",
            "ticks": ""
           },
           "baxis": {
            "gridcolor": "white",
            "linecolor": "white",
            "ticks": ""
           },
           "bgcolor": "#E5ECF6",
           "caxis": {
            "gridcolor": "white",
            "linecolor": "white",
            "ticks": ""
           }
          },
          "title": {
           "x": 0.05
          },
          "xaxis": {
           "automargin": true,
           "gridcolor": "white",
           "linecolor": "white",
           "ticks": "",
           "title": {
            "standoff": 15
           },
           "zerolinecolor": "white",
           "zerolinewidth": 2
          },
          "yaxis": {
           "automargin": true,
           "gridcolor": "white",
           "linecolor": "white",
           "ticks": "",
           "title": {
            "standoff": 15
           },
           "zerolinecolor": "white",
           "zerolinewidth": 2
          }
         }
        },
        "title": {
         "text": "Age Box Plot: "
        },
        "xaxis": {
         "anchor": "y",
         "domain": [
          0,
          1
         ],
         "title": {
          "text": "Age"
         }
        },
        "yaxis": {
         "anchor": "x",
         "domain": [
          0,
          1
         ]
        }
       }
      }
     },
     "metadata": {},
     "output_type": "display_data"
    }
   ],
   "source": [
    "figure = px.box(\n",
    "    data, \n",
    "    x='Age',\n",
    "    title = \"Age Box Plot: \"\n",
    ")\n",
    "figure.show()"
   ]
  },
  {
   "cell_type": "code",
   "execution_count": 11,
   "id": "9d0dd707",
   "metadata": {},
   "outputs": [
    {
     "data": {
      "text/plain": [
       "<Axes: xlabel='Handcap', ylabel='count'>"
      ]
     },
     "execution_count": 11,
     "metadata": {},
     "output_type": "execute_result"
    },
    {
     "data": {
      "image/png": "[encoded data removed]",
      "text/plain": [
       "<Figure size 640x480 with 1 Axes>"
      ]
     },
     "metadata": {},
     "output_type": "display_data"
    }
   ],
   "source": [
    "import seaborn as sns\n",
    "\n",
    "sns.countplot(data, x='Handcap')"
   ]
  },
  {
   "cell_type": "markdown",
   "id": "0cb108fe",
   "metadata": {},
   "source": [
    "- So as you can see this poorly immbalanced."
   ]
  },
  {
   "cell_type": "code",
   "execution_count": 12,
   "id": "33c427e7",
   "metadata": {},
   "outputs": [],
   "source": [
    "data['Handcap'] = data['Handcap'].map(lambda x: 1 if x ==0 else 0)"
   ]
  },
  {
   "cell_type": "markdown",
   "id": "f3269fb1",
   "metadata": {},
   "source": [
    "#### Change data type of two columns `ScheduledDay` &  `AppointmentDay`."
   ]
  },
  {
   "cell_type": "code",
   "execution_count": 13,
   "id": "390bc157",
   "metadata": {},
   "outputs": [],
   "source": [
    "data['ScheduledDay'] = pd.to_datetime(data['ScheduledDay'])\n",
    "data['AppointmentDay'] = pd.to_datetime(data['AppointmentDay'])"
   ]
  },
  {
   "cell_type": "markdown",
   "id": "42ad0b9a",
   "metadata": {},
   "source": [
    "# Export our cleaned data"
   ]
  },
  {
   "cell_type": "code",
   "execution_count": 14,
   "id": "bf1a3372",
   "metadata": {},
   "outputs": [],
   "source": [
    "data.to_csv('../data/processed/cleaned-data.csv', index=False, encoding='utf-8')"
   ]
  }
 ],
 "metadata": {
  "kernelspec": {
   "display_name": "Python 3",
   "language": "python",
   "name": "python3"
  },
  "language_info": {
   "codemirror_mode": {
    "name": "ipython",
    "version": 3
   },
   "file_extension": ".py",
   "mimetype": "text/x-python",
   "name": "python",
   "nbconvert_exporter": "python",
   "pygments_lexer": "ipython3",
   "version": "3.13.1"
  }
 },
 "nbformat": 4,
 "nbformat_minor": 5
}
