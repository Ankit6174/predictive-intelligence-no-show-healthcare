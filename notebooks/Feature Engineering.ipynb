{
 "cells": [
  {
   "cell_type": "code",
   "execution_count": 37,
   "id": "81689bd2",
   "metadata": {},
   "outputs": [
    {
     "data": {
      "application/vnd.microsoft.datawrangler.viewer.v0+json": {
       "columns": [
        {
         "name": "index",
         "rawType": "int64",
         "type": "integer"
        },
        {
         "name": "Gender",
         "rawType": "object",
         "type": "string"
        },
        {
         "name": "ScheduledDay",
         "rawType": "object",
         "type": "string"
        },
        {
         "name": "AppointmentDay",
         "rawType": "object",
         "type": "string"
        },
        {
         "name": "Age",
         "rawType": "int64",
         "type": "integer"
        },
        {
         "name": "Neighbourhood",
         "rawType": "object",
         "type": "string"
        },
        {
         "name": "Scholarship",
         "rawType": "int64",
         "type": "integer"
        },
        {
         "name": "Hipertension",
         "rawType": "int64",
         "type": "integer"
        },
        {
         "name": "Diabetes",
         "rawType": "int64",
         "type": "integer"
        },
        {
         "name": "Alcoholism",
         "rawType": "int64",
         "type": "integer"
        },
        {
         "name": "Handcap",
         "rawType": "int64",
         "type": "integer"
        },
        {
         "name": "SMS_received",
         "rawType": "int64",
         "type": "integer"
        },
        {
         "name": "No-show",
         "rawType": "object",
         "type": "string"
        }
       ],
       "conversionMethod": "pd.DataFrame",
       "ref": "ec6c4331-c482-4164-b251-aff72ef0b730",
       "rows": [
        [
         "0",
         "F",
         "2016-04-28 07:35:20+00:00",
         "2016-05-04 00:00:00+00:00",
         "76",
         "FORTE SÃO JOÃO",
         "0",
         "0",
         "0",
         "0",
         "1",
         "1",
         "No"
        ],
        [
         "1",
         "F",
         "2016-05-05 07:17:25+00:00",
         "2016-05-11 00:00:00+00:00",
         "67",
         "ROMÃO",
         "0",
         "0",
         "0",
         "0",
         "1",
         "1",
         "No"
        ],
        [
         "2",
         "F",
         "2016-05-12 07:31:37+00:00",
         "2016-05-18 00:00:00+00:00",
         "39",
         "ROMÃO",
         "0",
         "0",
         "0",
         "0",
         "1",
         "0",
         "No"
        ],
        [
         "3",
         "M",
         "2016-05-19 08:12:01+00:00",
         "2016-05-25 00:00:00+00:00",
         "76",
         "FORTE SÃO JOÃO",
         "0",
         "1",
         "0",
         "0",
         "1",
         "1",
         "Yes"
        ],
        [
         "4",
         "F",
         "2016-04-28 07:35:33+00:00",
         "2016-05-04 00:00:00+00:00",
         "43",
         "BONFIM",
         "1",
         "0",
         "0",
         "0",
         "1",
         "1",
         "No"
        ]
       ],
       "shape": {
        "columns": 12,
        "rows": 5
       }
      },
      "text/html": [
       "<div>\n",
       "<style scoped>\n",
       "    .dataframe tbody tr th:only-of-type {\n",
       "        vertical-align: middle;\n",
       "    }\n",
       "\n",
       "    .dataframe tbody tr th {\n",
       "        vertical-align: top;\n",
       "    }\n",
       "\n",
       "    .dataframe thead th {\n",
       "        text-align: right;\n",
       "    }\n",
       "</style>\n",
       "<table border=\"1\" class=\"dataframe\">\n",
       "  <thead>\n",
       "    <tr style=\"text-align: right;\">\n",
       "      <th></th>\n",
       "      <th>Gender</th>\n",
       "      <th>ScheduledDay</th>\n",
       "      <th>AppointmentDay</th>\n",
       "      <th>Age</th>\n",
       "      <th>Neighbourhood</th>\n",
       "      <th>Scholarship</th>\n",
       "      <th>Hipertension</th>\n",
       "      <th>Diabetes</th>\n",
       "      <th>Alcoholism</th>\n",
       "      <th>Handcap</th>\n",
       "      <th>SMS_received</th>\n",
       "      <th>No-show</th>\n",
       "    </tr>\n",
       "  </thead>\n",
       "  <tbody>\n",
       "    <tr>\n",
       "      <th>0</th>\n",
       "      <td>F</td>\n",
       "      <td>2016-04-28 07:35:20+00:00</td>\n",
       "      <td>2016-05-04 00:00:00+00:00</td>\n",
       "      <td>76</td>\n",
       "      <td>FORTE SÃO JOÃO</td>\n",
       "      <td>0</td>\n",
       "      <td>0</td>\n",
       "      <td>0</td>\n",
       "      <td>0</td>\n",
       "      <td>1</td>\n",
       "      <td>1</td>\n",
       "      <td>No</td>\n",
       "    </tr>\n",
       "    <tr>\n",
       "      <th>1</th>\n",
       "      <td>F</td>\n",
       "      <td>2016-05-05 07:17:25+00:00</td>\n",
       "      <td>2016-05-11 00:00:00+00:00</td>\n",
       "      <td>67</td>\n",
       "      <td>ROMÃO</td>\n",
       "      <td>0</td>\n",
       "      <td>0</td>\n",
       "      <td>0</td>\n",
       "      <td>0</td>\n",
       "      <td>1</td>\n",
       "      <td>1</td>\n",
       "      <td>No</td>\n",
       "    </tr>\n",
       "    <tr>\n",
       "      <th>2</th>\n",
       "      <td>F</td>\n",
       "      <td>2016-05-12 07:31:37+00:00</td>\n",
       "      <td>2016-05-18 00:00:00+00:00</td>\n",
       "      <td>39</td>\n",
       "      <td>ROMÃO</td>\n",
       "      <td>0</td>\n",
       "      <td>0</td>\n",
       "      <td>0</td>\n",
       "      <td>0</td>\n",
       "      <td>1</td>\n",
       "      <td>0</td>\n",
       "      <td>No</td>\n",
       "    </tr>\n",
       "    <tr>\n",
       "      <th>3</th>\n",
       "      <td>M</td>\n",
       "      <td>2016-05-19 08:12:01+00:00</td>\n",
       "      <td>2016-05-25 00:00:00+00:00</td>\n",
       "      <td>76</td>\n",
       "      <td>FORTE SÃO JOÃO</td>\n",
       "      <td>0</td>\n",
       "      <td>1</td>\n",
       "      <td>0</td>\n",
       "      <td>0</td>\n",
       "      <td>1</td>\n",
       "      <td>1</td>\n",
       "      <td>Yes</td>\n",
       "    </tr>\n",
       "    <tr>\n",
       "      <th>4</th>\n",
       "      <td>F</td>\n",
       "      <td>2016-04-28 07:35:33+00:00</td>\n",
       "      <td>2016-05-04 00:00:00+00:00</td>\n",
       "      <td>43</td>\n",
       "      <td>BONFIM</td>\n",
       "      <td>1</td>\n",
       "      <td>0</td>\n",
       "      <td>0</td>\n",
       "      <td>0</td>\n",
       "      <td>1</td>\n",
       "      <td>1</td>\n",
       "      <td>No</td>\n",
       "    </tr>\n",
       "  </tbody>\n",
       "</table>\n",
       "</div>"
      ],
      "text/plain": [
       "  Gender               ScheduledDay             AppointmentDay  Age  \\\n",
       "0      F  2016-04-28 07:35:20+00:00  2016-05-04 00:00:00+00:00   76   \n",
       "1      F  2016-05-05 07:17:25+00:00  2016-05-11 00:00:00+00:00   67   \n",
       "2      F  2016-05-12 07:31:37+00:00  2016-05-18 00:00:00+00:00   39   \n",
       "3      M  2016-05-19 08:12:01+00:00  2016-05-25 00:00:00+00:00   76   \n",
       "4      F  2016-04-28 07:35:33+00:00  2016-05-04 00:00:00+00:00   43   \n",
       "\n",
       "    Neighbourhood  Scholarship  Hipertension  Diabetes  Alcoholism  Handcap  \\\n",
       "0  FORTE SÃO JOÃO            0             0         0           0        1   \n",
       "1           ROMÃO            0             0         0           0        1   \n",
       "2           ROMÃO            0             0         0           0        1   \n",
       "3  FORTE SÃO JOÃO            0             1         0           0        1   \n",
       "4          BONFIM            1             0         0           0        1   \n",
       "\n",
       "   SMS_received No-show  \n",
       "0             1      No  \n",
       "1             1      No  \n",
       "2             0      No  \n",
       "3             1     Yes  \n",
       "4             1      No  "
      ]
     },
     "execution_count": 37,
     "metadata": {},
     "output_type": "execute_result"
    }
   ],
   "source": [
    "import numpy as np\n",
    "import pandas as pd\n",
    "\n",
    "\n",
    "data = pd.read_csv(r'..\\data\\processed\\cleaned-data.csv')\n",
    "data.head()"
   ]
  },
  {
   "cell_type": "markdown",
   "id": "7de69147",
   "metadata": {},
   "source": [
    "- We cannot use `ScheduledDay` & `AppointmentDay` columns together because this is in raw formate, that's we can extract other meaningfull insights from it like `waiting time` which is difference between appointment day and schedule day."
   ]
  },
  {
   "cell_type": "code",
   "execution_count": 38,
   "id": "2043e7a7",
   "metadata": {},
   "outputs": [],
   "source": [
    "data['ScheduledDay'] = pd.to_datetime(data['ScheduledDay'])\n",
    "data['AppointmentDay'] = pd.to_datetime(data['AppointmentDay'])\n",
    "\n",
    "data['WaitingTime'] = (data['AppointmentDay'] - data['ScheduledDay']).dt.days"
   ]
  },
  {
   "cell_type": "markdown",
   "id": "81eb29c6",
   "metadata": {},
   "source": [
    "- Also we can create another column `Appoint Day of Week` which will show how many people are no-show on a particular day, because generally most of the people are absent on weekends."
   ]
  },
  {
   "cell_type": "code",
   "execution_count": 39,
   "id": "4c134109",
   "metadata": {},
   "outputs": [],
   "source": [
    "data['AppointmentDayOfWeek'] = data['AppointmentDay'].dt.dayofweek  # 0 means monday, 6 sunday"
   ]
  },
  {
   "cell_type": "markdown",
   "id": "d4c7b4ac",
   "metadata": {},
   "source": [
    "- And, with the help of these columns, we will extract another feature `Wait Groups` which is categorical column and help model for best split because this is a classification problem."
   ]
  },
  {
   "cell_type": "code",
   "execution_count": null,
   "id": "0b7df9a4",
   "metadata": {},
   "outputs": [],
   "source": [
    "data['WaitGroup'] = pd.cut(data['WaitingTime'],\n",
    "                         bins=[-1, 0, 3, 7, 30, 120],\n",
    "                         labels=['SameDay', 'Short', 'Mid', 'Long', 'VeryLong'])"
   ]
  },
  {
   "cell_type": "markdown",
   "id": "ab397a81",
   "metadata": {},
   "source": [
    "- We can also create chronic status by checking the patient's `hipertension`, `diabetes` and `alcoholism`. If the patient has all these three points, then the chances of that show of pateints increases."
   ]
  },
  {
   "cell_type": "code",
   "execution_count": 41,
   "id": "1163a036",
   "metadata": {},
   "outputs": [],
   "source": [
    "data['ChronicCount'] = data['Hipertension'] + data['Diabetes'] + data['Alcoholism']"
   ]
  },
  {
   "cell_type": "code",
   "execution_count": 42,
   "id": "69bc1744",
   "metadata": {},
   "outputs": [],
   "source": [
    "data['ChronicGroup'] = pd.cut(data['ChronicCount'],\n",
    "                            bins=[-1, 0, 1, 3],\n",
    "                            labels=['None', 'Single', 'Multiple'])"
   ]
  },
  {
   "cell_type": "markdown",
   "id": "92a561ee",
   "metadata": {},
   "source": [
    "- And lastly we will Label Encode all these columns, because machine learning models only understand numerical data. "
   ]
  },
  {
   "cell_type": "code",
   "execution_count": null,
   "id": "bca1aea8",
   "metadata": {},
   "outputs": [],
   "source": [
    "from sklearn.preprocessing import LabelEncoder\n",
    "\n",
    "label_cols = ['Gender', 'Neighbourhood', 'AppointmentDayOfWeek', 'WaitGroup', 'ChronicGroup']\n",
    "encoders = {}  # encoders['Gender'].transform(['Male'])  # Output:1 \n",
    "\n",
    "for col in label_cols:\n",
    "    le = LabelEncoder()\n",
    "    data[col] = le.fit_transform(data[col])\n",
    "    encoders[col] = le"
   ]
  },
  {
   "cell_type": "markdown",
   "id": "82312e82",
   "metadata": {},
   "source": [
    "#### We save all the encoders for encoding input feature while predicting."
   ]
  },
  {
   "cell_type": "code",
   "execution_count": 44,
   "id": "39946fc3",
   "metadata": {},
   "outputs": [
    {
     "data": {
      "text/plain": [
       "{'Gender': LabelEncoder(),\n",
       " 'Neighbourhood': LabelEncoder(),\n",
       " 'AppointmentDayOfWeek': LabelEncoder(),\n",
       " 'WaitGroup': LabelEncoder(),\n",
       " 'ChronicGroup': LabelEncoder()}"
      ]
     },
     "execution_count": 44,
     "metadata": {},
     "output_type": "execute_result"
    }
   ],
   "source": [
    "encoders"
   ]
  },
  {
   "cell_type": "code",
   "execution_count": 45,
   "id": "15c38e39",
   "metadata": {},
   "outputs": [],
   "source": [
    "data.drop(columns=['ScheduledDay', 'AppointmentDay', 'ChronicCount'], inplace=True)"
   ]
  },
  {
   "cell_type": "code",
   "execution_count": 46,
   "id": "e18162b0",
   "metadata": {},
   "outputs": [
    {
     "data": {
      "application/vnd.microsoft.datawrangler.viewer.v0+json": {
       "columns": [
        {
         "name": "index",
         "rawType": "int64",
         "type": "integer"
        },
        {
         "name": "Gender",
         "rawType": "int64",
         "type": "integer"
        },
        {
         "name": "Age",
         "rawType": "int64",
         "type": "integer"
        },
        {
         "name": "Neighbourhood",
         "rawType": "int64",
         "type": "integer"
        },
        {
         "name": "Scholarship",
         "rawType": "int64",
         "type": "integer"
        },
        {
         "name": "Hipertension",
         "rawType": "int64",
         "type": "integer"
        },
        {
         "name": "Diabetes",
         "rawType": "int64",
         "type": "integer"
        },
        {
         "name": "Alcoholism",
         "rawType": "int64",
         "type": "integer"
        },
        {
         "name": "Handcap",
         "rawType": "int64",
         "type": "integer"
        },
        {
         "name": "SMS_received",
         "rawType": "int64",
         "type": "integer"
        },
        {
         "name": "No-show",
         "rawType": "object",
         "type": "string"
        },
        {
         "name": "WaitingTime",
         "rawType": "int64",
         "type": "integer"
        },
        {
         "name": "AppointmentDayOfWeek",
         "rawType": "int64",
         "type": "integer"
        },
        {
         "name": "WaitGroup",
         "rawType": "int64",
         "type": "integer"
        },
        {
         "name": "ChronicGroup",
         "rawType": "int64",
         "type": "integer"
        }
       ],
       "conversionMethod": "pd.DataFrame",
       "ref": "dd73bdb0-f1fc-40ac-b126-f41f6e1e8cca",
       "rows": [
        [
         "0",
         "0",
         "76",
         "23",
         "0",
         "0",
         "0",
         "0",
         "1",
         "1",
         "No",
         "5",
         "2",
         "1",
         "1"
        ],
        [
         "1",
         "0",
         "67",
         "60",
         "0",
         "0",
         "0",
         "0",
         "1",
         "1",
         "No",
         "5",
         "2",
         "1",
         "1"
        ],
        [
         "2",
         "0",
         "39",
         "60",
         "0",
         "0",
         "0",
         "0",
         "1",
         "0",
         "No",
         "5",
         "2",
         "1",
         "1"
        ],
        [
         "3",
         "1",
         "76",
         "23",
         "0",
         "1",
         "0",
         "0",
         "1",
         "1",
         "Yes",
         "5",
         "2",
         "1",
         "2"
        ],
        [
         "4",
         "0",
         "43",
         "8",
         "1",
         "0",
         "0",
         "0",
         "1",
         "1",
         "No",
         "5",
         "2",
         "1",
         "1"
        ]
       ],
       "shape": {
        "columns": 14,
        "rows": 5
       }
      },
      "text/html": [
       "<div>\n",
       "<style scoped>\n",
       "    .dataframe tbody tr th:only-of-type {\n",
       "        vertical-align: middle;\n",
       "    }\n",
       "\n",
       "    .dataframe tbody tr th {\n",
       "        vertical-align: top;\n",
       "    }\n",
       "\n",
       "    .dataframe thead th {\n",
       "        text-align: right;\n",
       "    }\n",
       "</style>\n",
       "<table border=\"1\" class=\"dataframe\">\n",
       "  <thead>\n",
       "    <tr style=\"text-align: right;\">\n",
       "      <th></th>\n",
       "      <th>Gender</th>\n",
       "      <th>Age</th>\n",
       "      <th>Neighbourhood</th>\n",
       "      <th>Scholarship</th>\n",
       "      <th>Hipertension</th>\n",
       "      <th>Diabetes</th>\n",
       "      <th>Alcoholism</th>\n",
       "      <th>Handcap</th>\n",
       "      <th>SMS_received</th>\n",
       "      <th>No-show</th>\n",
       "      <th>WaitingTime</th>\n",
       "      <th>AppointmentDayOfWeek</th>\n",
       "      <th>WaitGroup</th>\n",
       "      <th>ChronicGroup</th>\n",
       "    </tr>\n",
       "  </thead>\n",
       "  <tbody>\n",
       "    <tr>\n",
       "      <th>0</th>\n",
       "      <td>0</td>\n",
       "      <td>76</td>\n",
       "      <td>23</td>\n",
       "      <td>0</td>\n",
       "      <td>0</td>\n",
       "      <td>0</td>\n",
       "      <td>0</td>\n",
       "      <td>1</td>\n",
       "      <td>1</td>\n",
       "      <td>No</td>\n",
       "      <td>5</td>\n",
       "      <td>2</td>\n",
       "      <td>1</td>\n",
       "      <td>1</td>\n",
       "    </tr>\n",
       "    <tr>\n",
       "      <th>1</th>\n",
       "      <td>0</td>\n",
       "      <td>67</td>\n",
       "      <td>60</td>\n",
       "      <td>0</td>\n",
       "      <td>0</td>\n",
       "      <td>0</td>\n",
       "      <td>0</td>\n",
       "      <td>1</td>\n",
       "      <td>1</td>\n",
       "      <td>No</td>\n",
       "      <td>5</td>\n",
       "      <td>2</td>\n",
       "      <td>1</td>\n",
       "      <td>1</td>\n",
       "    </tr>\n",
       "    <tr>\n",
       "      <th>2</th>\n",
       "      <td>0</td>\n",
       "      <td>39</td>\n",
       "      <td>60</td>\n",
       "      <td>0</td>\n",
       "      <td>0</td>\n",
       "      <td>0</td>\n",
       "      <td>0</td>\n",
       "      <td>1</td>\n",
       "      <td>0</td>\n",
       "      <td>No</td>\n",
       "      <td>5</td>\n",
       "      <td>2</td>\n",
       "      <td>1</td>\n",
       "      <td>1</td>\n",
       "    </tr>\n",
       "    <tr>\n",
       "      <th>3</th>\n",
       "      <td>1</td>\n",
       "      <td>76</td>\n",
       "      <td>23</td>\n",
       "      <td>0</td>\n",
       "      <td>1</td>\n",
       "      <td>0</td>\n",
       "      <td>0</td>\n",
       "      <td>1</td>\n",
       "      <td>1</td>\n",
       "      <td>Yes</td>\n",
       "      <td>5</td>\n",
       "      <td>2</td>\n",
       "      <td>1</td>\n",
       "      <td>2</td>\n",
       "    </tr>\n",
       "    <tr>\n",
       "      <th>4</th>\n",
       "      <td>0</td>\n",
       "      <td>43</td>\n",
       "      <td>8</td>\n",
       "      <td>1</td>\n",
       "      <td>0</td>\n",
       "      <td>0</td>\n",
       "      <td>0</td>\n",
       "      <td>1</td>\n",
       "      <td>1</td>\n",
       "      <td>No</td>\n",
       "      <td>5</td>\n",
       "      <td>2</td>\n",
       "      <td>1</td>\n",
       "      <td>1</td>\n",
       "    </tr>\n",
       "  </tbody>\n",
       "</table>\n",
       "</div>"
      ],
      "text/plain": [
       "   Gender  Age  Neighbourhood  Scholarship  Hipertension  Diabetes  \\\n",
       "0       0   76             23            0             0         0   \n",
       "1       0   67             60            0             0         0   \n",
       "2       0   39             60            0             0         0   \n",
       "3       1   76             23            0             1         0   \n",
       "4       0   43              8            1             0         0   \n",
       "\n",
       "   Alcoholism  Handcap  SMS_received No-show  WaitingTime  \\\n",
       "0           0        1             1      No            5   \n",
       "1           0        1             1      No            5   \n",
       "2           0        1             0      No            5   \n",
       "3           0        1             1     Yes            5   \n",
       "4           0        1             1      No            5   \n",
       "\n",
       "   AppointmentDayOfWeek  WaitGroup  ChronicGroup  \n",
       "0                     2          1             1  \n",
       "1                     2          1             1  \n",
       "2                     2          1             1  \n",
       "3                     2          1             2  \n",
       "4                     2          1             1  "
      ]
     },
     "execution_count": 46,
     "metadata": {},
     "output_type": "execute_result"
    }
   ],
   "source": [
    "data.head()"
   ]
  },
  {
   "cell_type": "markdown",
   "id": "403a15f0",
   "metadata": {},
   "source": [
    "# Exporting Processed Data"
   ]
  },
  {
   "cell_type": "code",
   "execution_count": 47,
   "id": "13f93bb0",
   "metadata": {},
   "outputs": [],
   "source": [
    "data.to_csv('../data/processed/processed_data.csv', index=False, encoding='utf-8')"
   ]
  }
 ],
 "metadata": {
  "kernelspec": {
   "display_name": "Python 3",
   "language": "python",
   "name": "python3"
  },
  "language_info": {
   "codemirror_mode": {
    "name": "ipython",
    "version": 3
   },
   "file_extension": ".py",
   "mimetype": "text/x-python",
   "name": "python",
   "nbconvert_exporter": "python",
   "pygments_lexer": "ipython3",
   "version": "3.13.1"
  }
 },
 "nbformat": 4,
 "nbformat_minor": 5
}
