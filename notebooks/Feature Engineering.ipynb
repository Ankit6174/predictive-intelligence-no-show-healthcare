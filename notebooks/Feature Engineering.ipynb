{
 "cells": [
  {
   "cell_type": "code",
   "execution_count": 43,
   "id": "81689bd2",
   "metadata": {},
   "outputs": [
    {
     "data": {
      "application/vnd.microsoft.datawrangler.viewer.v0+json": {
       "columns": [
        {
         "name": "index",
         "rawType": "int64",
         "type": "integer"
        },
        {
         "name": "Gender",
         "rawType": "object",
         "type": "string"
        },
        {
         "name": "ScheduledDay",
         "rawType": "object",
         "type": "string"
        },
        {
         "name": "AppointmentDay",
         "rawType": "object",
         "type": "string"
        },
        {
         "name": "Age",
         "rawType": "int64",
         "type": "integer"
        },
        {
         "name": "Neighbourhood",
         "rawType": "object",
         "type": "string"
        },
        {
         "name": "Scholarship",
         "rawType": "int64",
         "type": "integer"
        },
        {
         "name": "Hipertension",
         "rawType": "int64",
         "type": "integer"
        },
        {
         "name": "Diabetes",
         "rawType": "int64",
         "type": "integer"
        },
        {
         "name": "Alcoholism",
         "rawType": "int64",
         "type": "integer"
        },
        {
         "name": "Handcap",
         "rawType": "int64",
         "type": "integer"
        },
        {
         "name": "SMS_received",
         "rawType": "int64",
         "type": "integer"
        },
        {
         "name": "No-show",
         "rawType": "object",
         "type": "string"
        }
       ],
       "conversionMethod": "pd.DataFrame",
       "ref": "f4032213-9b59-49b4-98c4-d957d5d3ae6a",
       "rows": [
        [
         "0",
         "F",
         "2016-04-29 18:38:08+00:00",
         "2016-04-29 00:00:00+00:00",
         "62",
         "JARDIM DA PENHA",
         "0",
         "1",
         "0",
         "0",
         "1",
         "0",
         "No"
        ],
        [
         "1",
         "M",
         "2016-04-29 16:08:27+00:00",
         "2016-04-29 00:00:00+00:00",
         "56",
         "JARDIM DA PENHA",
         "0",
         "0",
         "0",
         "0",
         "1",
         "0",
         "No"
        ],
        [
         "2",
         "F",
         "2016-04-29 16:19:04+00:00",
         "2016-04-29 00:00:00+00:00",
         "62",
         "MATA DA PRAIA",
         "0",
         "0",
         "0",
         "0",
         "1",
         "0",
         "No"
        ],
        [
         "3",
         "F",
         "2016-04-29 17:29:31+00:00",
         "2016-04-29 00:00:00+00:00",
         "8",
         "PONTAL DE CAMBURI",
         "0",
         "0",
         "0",
         "0",
         "1",
         "0",
         "No"
        ],
        [
         "4",
         "F",
         "2016-04-29 16:07:23+00:00",
         "2016-04-29 00:00:00+00:00",
         "56",
         "JARDIM DA PENHA",
         "0",
         "1",
         "1",
         "0",
         "1",
         "0",
         "No"
        ]
       ],
       "shape": {
        "columns": 12,
        "rows": 5
       }
      },
      "text/html": [
       "<div>\n",
       "<style scoped>\n",
       "    .dataframe tbody tr th:only-of-type {\n",
       "        vertical-align: middle;\n",
       "    }\n",
       "\n",
       "    .dataframe tbody tr th {\n",
       "        vertical-align: top;\n",
       "    }\n",
       "\n",
       "    .dataframe thead th {\n",
       "        text-align: right;\n",
       "    }\n",
       "</style>\n",
       "<table border=\"1\" class=\"dataframe\">\n",
       "  <thead>\n",
       "    <tr style=\"text-align: right;\">\n",
       "      <th></th>\n",
       "      <th>Gender</th>\n",
       "      <th>ScheduledDay</th>\n",
       "      <th>AppointmentDay</th>\n",
       "      <th>Age</th>\n",
       "      <th>Neighbourhood</th>\n",
       "      <th>Scholarship</th>\n",
       "      <th>Hipertension</th>\n",
       "      <th>Diabetes</th>\n",
       "      <th>Alcoholism</th>\n",
       "      <th>Handcap</th>\n",
       "      <th>SMS_received</th>\n",
       "      <th>No-show</th>\n",
       "    </tr>\n",
       "  </thead>\n",
       "  <tbody>\n",
       "    <tr>\n",
       "      <th>0</th>\n",
       "      <td>F</td>\n",
       "      <td>2016-04-29 18:38:08+00:00</td>\n",
       "      <td>2016-04-29 00:00:00+00:00</td>\n",
       "      <td>62</td>\n",
       "      <td>JARDIM DA PENHA</td>\n",
       "      <td>0</td>\n",
       "      <td>1</td>\n",
       "      <td>0</td>\n",
       "      <td>0</td>\n",
       "      <td>1</td>\n",
       "      <td>0</td>\n",
       "      <td>No</td>\n",
       "    </tr>\n",
       "    <tr>\n",
       "      <th>1</th>\n",
       "      <td>M</td>\n",
       "      <td>2016-04-29 16:08:27+00:00</td>\n",
       "      <td>2016-04-29 00:00:00+00:00</td>\n",
       "      <td>56</td>\n",
       "      <td>JARDIM DA PENHA</td>\n",
       "      <td>0</td>\n",
       "      <td>0</td>\n",
       "      <td>0</td>\n",
       "      <td>0</td>\n",
       "      <td>1</td>\n",
       "      <td>0</td>\n",
       "      <td>No</td>\n",
       "    </tr>\n",
       "    <tr>\n",
       "      <th>2</th>\n",
       "      <td>F</td>\n",
       "      <td>2016-04-29 16:19:04+00:00</td>\n",
       "      <td>2016-04-29 00:00:00+00:00</td>\n",
       "      <td>62</td>\n",
       "      <td>MATA DA PRAIA</td>\n",
       "      <td>0</td>\n",
       "      <td>0</td>\n",
       "      <td>0</td>\n",
       "      <td>0</td>\n",
       "      <td>1</td>\n",
       "      <td>0</td>\n",
       "      <td>No</td>\n",
       "    </tr>\n",
       "    <tr>\n",
       "      <th>3</th>\n",
       "      <td>F</td>\n",
       "      <td>2016-04-29 17:29:31+00:00</td>\n",
       "      <td>2016-04-29 00:00:00+00:00</td>\n",
       "      <td>8</td>\n",
       "      <td>PONTAL DE CAMBURI</td>\n",
       "      <td>0</td>\n",
       "      <td>0</td>\n",
       "      <td>0</td>\n",
       "      <td>0</td>\n",
       "      <td>1</td>\n",
       "      <td>0</td>\n",
       "      <td>No</td>\n",
       "    </tr>\n",
       "    <tr>\n",
       "      <th>4</th>\n",
       "      <td>F</td>\n",
       "      <td>2016-04-29 16:07:23+00:00</td>\n",
       "      <td>2016-04-29 00:00:00+00:00</td>\n",
       "      <td>56</td>\n",
       "      <td>JARDIM DA PENHA</td>\n",
       "      <td>0</td>\n",
       "      <td>1</td>\n",
       "      <td>1</td>\n",
       "      <td>0</td>\n",
       "      <td>1</td>\n",
       "      <td>0</td>\n",
       "      <td>No</td>\n",
       "    </tr>\n",
       "  </tbody>\n",
       "</table>\n",
       "</div>"
      ],
      "text/plain": [
       "  Gender               ScheduledDay             AppointmentDay  Age  \\\n",
       "0      F  2016-04-29 18:38:08+00:00  2016-04-29 00:00:00+00:00   62   \n",
       "1      M  2016-04-29 16:08:27+00:00  2016-04-29 00:00:00+00:00   56   \n",
       "2      F  2016-04-29 16:19:04+00:00  2016-04-29 00:00:00+00:00   62   \n",
       "3      F  2016-04-29 17:29:31+00:00  2016-04-29 00:00:00+00:00    8   \n",
       "4      F  2016-04-29 16:07:23+00:00  2016-04-29 00:00:00+00:00   56   \n",
       "\n",
       "       Neighbourhood  Scholarship  Hipertension  Diabetes  Alcoholism  \\\n",
       "0    JARDIM DA PENHA            0             1         0           0   \n",
       "1    JARDIM DA PENHA            0             0         0           0   \n",
       "2      MATA DA PRAIA            0             0         0           0   \n",
       "3  PONTAL DE CAMBURI            0             0         0           0   \n",
       "4    JARDIM DA PENHA            0             1         1           0   \n",
       "\n",
       "   Handcap  SMS_received No-show  \n",
       "0        1             0      No  \n",
       "1        1             0      No  \n",
       "2        1             0      No  \n",
       "3        1             0      No  \n",
       "4        1             0      No  "
      ]
     },
     "execution_count": 43,
     "metadata": {},
     "output_type": "execute_result"
    }
   ],
   "source": [
    "import pandas as pd\n",
    "\n",
    "\n",
    "data = pd.read_csv(r'..\\data\\processed\\cleaned-data.csv')\n",
    "data.head()"
   ]
  },
  {
   "cell_type": "markdown",
   "id": "7de69147",
   "metadata": {},
   "source": [
    "- We cannot use `ScheduledDay` & `AppointmentDay` columns together because this is in raw formate, that's we can extract other meaningfull insights from it like `waiting time` which is difference between appointment day and schedule day."
   ]
  },
  {
   "cell_type": "code",
   "execution_count": 44,
   "id": "2043e7a7",
   "metadata": {},
   "outputs": [],
   "source": [
    "data['ScheduledDay'] = pd.to_datetime(data['ScheduledDay'])\n",
    "data['AppointmentDay'] = pd.to_datetime(data['AppointmentDay'])\n",
    "\n",
    "data['WaitingTime'] = (data['AppointmentDay'] - data['ScheduledDay']).dt.days"
   ]
  },
  {
   "cell_type": "markdown",
   "id": "81eb29c6",
   "metadata": {},
   "source": [
    "- Also we can create another column `Appoint Day of Week` which will show how many people are no-show on a particular day, because generally most of the people are absent on weekends."
   ]
  },
  {
   "cell_type": "code",
   "execution_count": 45,
   "id": "4c134109",
   "metadata": {},
   "outputs": [],
   "source": [
    "data['AppointmentDayOfWeek'] = data['AppointmentDay'].dt.dayofweek  # 0 means monday, 6 sunday"
   ]
  },
  {
   "cell_type": "markdown",
   "id": "d4c7b4ac",
   "metadata": {},
   "source": [
    "- And, with the help of these columns, we will extract another feature `Wait Groups` which is categorical column and help model for best split because this is a classification problem."
   ]
  },
  {
   "cell_type": "code",
   "execution_count": 46,
   "id": "0b7df9a4",
   "metadata": {},
   "outputs": [],
   "source": [
    "data['WaitGroup'] = pd.cut(data['WaitingTime'],\n",
    "                         bins=[-1, 0, 3, 7, 30, 120],\n",
    "                         labels=['SameDay', 'Short', 'Mid', 'Long', 'VeryLong'])"
   ]
  },
  {
   "cell_type": "markdown",
   "id": "ab397a81",
   "metadata": {},
   "source": [
    "- We can also create chronic status by checking the patient's `hipertension`, `diabetes` and `alcoholism`. If the patient has all these three points, then the chances of that show of pateints increases."
   ]
  },
  {
   "cell_type": "code",
   "execution_count": 47,
   "id": "1163a036",
   "metadata": {},
   "outputs": [],
   "source": [
    "data['ChronicCount'] = data['Hipertension'] + data['Diabetes'] + data['Alcoholism']"
   ]
  },
  {
   "cell_type": "code",
   "execution_count": 48,
   "id": "69bc1744",
   "metadata": {},
   "outputs": [],
   "source": [
    "data['ChronicGroup'] = pd.cut(data['ChronicCount'],\n",
    "                            bins=[-1, 0, 1, 3],\n",
    "                            labels=['None', 'Single', 'Multiple'])"
   ]
  },
  {
   "cell_type": "markdown",
   "id": "92a561ee",
   "metadata": {},
   "source": [
    "- And lastly we will Label Encode all these columns, because machine learning models only understand numerical data. "
   ]
  },
  {
   "cell_type": "code",
   "execution_count": 49,
   "id": "bca1aea8",
   "metadata": {},
   "outputs": [],
   "source": [
    "from sklearn.preprocessing import LabelEncoder\n",
    "\n",
    "label_cols = ['Gender', 'Neighbourhood', 'AppointmentDayOfWeek', 'WaitGroup', 'ChronicGroup', 'No-show']\n",
    "encoders = {}  # encoders['Gender'].transform(['Male'])  # Output:1 \n",
    "\n",
    "for col in label_cols:\n",
    "    le = LabelEncoder()\n",
    "    data[col] = le.fit_transform(data[col])\n",
    "    encoders[col] = le"
   ]
  },
  {
   "cell_type": "markdown",
   "id": "82312e82",
   "metadata": {},
   "source": [
    "#### We save all the encoders for encoding input feature while predicting."
   ]
  },
  {
   "cell_type": "code",
   "execution_count": 50,
   "id": "39946fc3",
   "metadata": {},
   "outputs": [
    {
     "data": {
      "text/plain": [
       "{'Gender': LabelEncoder(),\n",
       " 'Neighbourhood': LabelEncoder(),\n",
       " 'AppointmentDayOfWeek': LabelEncoder(),\n",
       " 'WaitGroup': LabelEncoder(),\n",
       " 'ChronicGroup': LabelEncoder(),\n",
       " 'No-show': LabelEncoder()}"
      ]
     },
     "execution_count": 50,
     "metadata": {},
     "output_type": "execute_result"
    }
   ],
   "source": [
    "encoders"
   ]
  },
  {
   "cell_type": "code",
   "execution_count": 51,
   "id": "15c38e39",
   "metadata": {},
   "outputs": [],
   "source": [
    "data.drop(columns=['ScheduledDay', 'AppointmentDay', 'ChronicCount'], inplace=True)"
   ]
  },
  {
   "cell_type": "code",
   "execution_count": 52,
   "id": "e18162b0",
   "metadata": {},
   "outputs": [
    {
     "data": {
      "application/vnd.microsoft.datawrangler.viewer.v0+json": {
       "columns": [
        {
         "name": "index",
         "rawType": "int64",
         "type": "integer"
        },
        {
         "name": "Gender",
         "rawType": "int64",
         "type": "integer"
        },
        {
         "name": "Age",
         "rawType": "int64",
         "type": "integer"
        },
        {
         "name": "Neighbourhood",
         "rawType": "int64",
         "type": "integer"
        },
        {
         "name": "Scholarship",
         "rawType": "int64",
         "type": "integer"
        },
        {
         "name": "Hipertension",
         "rawType": "int64",
         "type": "integer"
        },
        {
         "name": "Diabetes",
         "rawType": "int64",
         "type": "integer"
        },
        {
         "name": "Alcoholism",
         "rawType": "int64",
         "type": "integer"
        },
        {
         "name": "Handcap",
         "rawType": "int64",
         "type": "integer"
        },
        {
         "name": "SMS_received",
         "rawType": "int64",
         "type": "integer"
        },
        {
         "name": "No-show",
         "rawType": "int64",
         "type": "integer"
        },
        {
         "name": "WaitingTime",
         "rawType": "int64",
         "type": "integer"
        },
        {
         "name": "AppointmentDayOfWeek",
         "rawType": "int64",
         "type": "integer"
        },
        {
         "name": "WaitGroup",
         "rawType": "int64",
         "type": "integer"
        },
        {
         "name": "ChronicGroup",
         "rawType": "int64",
         "type": "integer"
        }
       ],
       "conversionMethod": "pd.DataFrame",
       "ref": "5441fbb2-c307-43f9-aec9-3fe58978fc9f",
       "rows": [
        [
         "0",
         "0",
         "62",
         "39",
         "0",
         "1",
         "0",
         "0",
         "1",
         "0",
         "0",
         "-1",
         "4",
         "5",
         "2"
        ],
        [
         "1",
         "1",
         "56",
         "39",
         "0",
         "0",
         "0",
         "0",
         "1",
         "0",
         "0",
         "-1",
         "4",
         "5",
         "1"
        ],
        [
         "2",
         "0",
         "62",
         "45",
         "0",
         "0",
         "0",
         "0",
         "1",
         "0",
         "0",
         "-1",
         "4",
         "5",
         "1"
        ],
        [
         "3",
         "0",
         "8",
         "54",
         "0",
         "0",
         "0",
         "0",
         "1",
         "0",
         "0",
         "-1",
         "4",
         "5",
         "1"
        ],
        [
         "4",
         "0",
         "56",
         "39",
         "0",
         "1",
         "1",
         "0",
         "1",
         "0",
         "0",
         "-1",
         "4",
         "5",
         "0"
        ]
       ],
       "shape": {
        "columns": 14,
        "rows": 5
       }
      },
      "text/html": [
       "<div>\n",
       "<style scoped>\n",
       "    .dataframe tbody tr th:only-of-type {\n",
       "        vertical-align: middle;\n",
       "    }\n",
       "\n",
       "    .dataframe tbody tr th {\n",
       "        vertical-align: top;\n",
       "    }\n",
       "\n",
       "    .dataframe thead th {\n",
       "        text-align: right;\n",
       "    }\n",
       "</style>\n",
       "<table border=\"1\" class=\"dataframe\">\n",
       "  <thead>\n",
       "    <tr style=\"text-align: right;\">\n",
       "      <th></th>\n",
       "      <th>Gender</th>\n",
       "      <th>Age</th>\n",
       "      <th>Neighbourhood</th>\n",
       "      <th>Scholarship</th>\n",
       "      <th>Hipertension</th>\n",
       "      <th>Diabetes</th>\n",
       "      <th>Alcoholism</th>\n",
       "      <th>Handcap</th>\n",
       "      <th>SMS_received</th>\n",
       "      <th>No-show</th>\n",
       "      <th>WaitingTime</th>\n",
       "      <th>AppointmentDayOfWeek</th>\n",
       "      <th>WaitGroup</th>\n",
       "      <th>ChronicGroup</th>\n",
       "    </tr>\n",
       "  </thead>\n",
       "  <tbody>\n",
       "    <tr>\n",
       "      <th>0</th>\n",
       "      <td>0</td>\n",
       "      <td>62</td>\n",
       "      <td>39</td>\n",
       "      <td>0</td>\n",
       "      <td>1</td>\n",
       "      <td>0</td>\n",
       "      <td>0</td>\n",
       "      <td>1</td>\n",
       "      <td>0</td>\n",
       "      <td>0</td>\n",
       "      <td>-1</td>\n",
       "      <td>4</td>\n",
       "      <td>5</td>\n",
       "      <td>2</td>\n",
       "    </tr>\n",
       "    <tr>\n",
       "      <th>1</th>\n",
       "      <td>1</td>\n",
       "      <td>56</td>\n",
       "      <td>39</td>\n",
       "      <td>0</td>\n",
       "      <td>0</td>\n",
       "      <td>0</td>\n",
       "      <td>0</td>\n",
       "      <td>1</td>\n",
       "      <td>0</td>\n",
       "      <td>0</td>\n",
       "      <td>-1</td>\n",
       "      <td>4</td>\n",
       "      <td>5</td>\n",
       "      <td>1</td>\n",
       "    </tr>\n",
       "    <tr>\n",
       "      <th>2</th>\n",
       "      <td>0</td>\n",
       "      <td>62</td>\n",
       "      <td>45</td>\n",
       "      <td>0</td>\n",
       "      <td>0</td>\n",
       "      <td>0</td>\n",
       "      <td>0</td>\n",
       "      <td>1</td>\n",
       "      <td>0</td>\n",
       "      <td>0</td>\n",
       "      <td>-1</td>\n",
       "      <td>4</td>\n",
       "      <td>5</td>\n",
       "      <td>1</td>\n",
       "    </tr>\n",
       "    <tr>\n",
       "      <th>3</th>\n",
       "      <td>0</td>\n",
       "      <td>8</td>\n",
       "      <td>54</td>\n",
       "      <td>0</td>\n",
       "      <td>0</td>\n",
       "      <td>0</td>\n",
       "      <td>0</td>\n",
       "      <td>1</td>\n",
       "      <td>0</td>\n",
       "      <td>0</td>\n",
       "      <td>-1</td>\n",
       "      <td>4</td>\n",
       "      <td>5</td>\n",
       "      <td>1</td>\n",
       "    </tr>\n",
       "    <tr>\n",
       "      <th>4</th>\n",
       "      <td>0</td>\n",
       "      <td>56</td>\n",
       "      <td>39</td>\n",
       "      <td>0</td>\n",
       "      <td>1</td>\n",
       "      <td>1</td>\n",
       "      <td>0</td>\n",
       "      <td>1</td>\n",
       "      <td>0</td>\n",
       "      <td>0</td>\n",
       "      <td>-1</td>\n",
       "      <td>4</td>\n",
       "      <td>5</td>\n",
       "      <td>0</td>\n",
       "    </tr>\n",
       "  </tbody>\n",
       "</table>\n",
       "</div>"
      ],
      "text/plain": [
       "   Gender  Age  Neighbourhood  Scholarship  Hipertension  Diabetes  \\\n",
       "0       0   62             39            0             1         0   \n",
       "1       1   56             39            0             0         0   \n",
       "2       0   62             45            0             0         0   \n",
       "3       0    8             54            0             0         0   \n",
       "4       0   56             39            0             1         1   \n",
       "\n",
       "   Alcoholism  Handcap  SMS_received  No-show  WaitingTime  \\\n",
       "0           0        1             0        0           -1   \n",
       "1           0        1             0        0           -1   \n",
       "2           0        1             0        0           -1   \n",
       "3           0        1             0        0           -1   \n",
       "4           0        1             0        0           -1   \n",
       "\n",
       "   AppointmentDayOfWeek  WaitGroup  ChronicGroup  \n",
       "0                     4          5             2  \n",
       "1                     4          5             1  \n",
       "2                     4          5             1  \n",
       "3                     4          5             1  \n",
       "4                     4          5             0  "
      ]
     },
     "execution_count": 52,
     "metadata": {},
     "output_type": "execute_result"
    }
   ],
   "source": [
    "data.head()"
   ]
  },
  {
   "cell_type": "markdown",
   "id": "cb445ccd",
   "metadata": {},
   "source": [
    "- So out final input parameters are -> `Gender, Age, Neighbourhood, Scholarship, Hipertension, Diabetes, Alcoholism, Handcap, SMS_received, WaitingTime, AppointmentDayOfWeek, WaitGroup and ChronicGroup`."
   ]
  },
  {
   "cell_type": "markdown",
   "id": "eab3cdfb",
   "metadata": {},
   "source": [
    "- Lastly for more accurate and unbaised result we want to organize all the categories of output feature `(No-show)`."
   ]
  },
  {
   "cell_type": "code",
   "execution_count": 53,
   "id": "75279ee9",
   "metadata": {},
   "outputs": [
    {
     "data": {
      "text/plain": [
       "([<matplotlib.patches.Wedge at 0x1e8fd65c190>,\n",
       "  <matplotlib.patches.Wedge at 0x1e8fd65c550>],\n",
       " [Text(-0.8845609129319836, 0.6538745990730456, '0'),\n",
       "  Text(0.8845609700955153, -0.653874521742269, '1')],\n",
       " [Text(-0.4824877706901728, 0.35665887222166115, '79.74%'),\n",
       "  Text(0.482487801870281, -0.3566588300412376, '20.26%')])"
      ]
     },
     "execution_count": 53,
     "metadata": {},
     "output_type": "execute_result"
    },
    {
     "data": {
      "image/png": "[encoded data removed]",
      "text/plain": [
       "<Figure size 640x480 with 1 Axes>"
      ]
     },
     "metadata": {},
     "output_type": "display_data"
    }
   ],
   "source": [
    "import matplotlib.pyplot as plt\n",
    "\n",
    "plt.pie(\n",
    "    data['No-show'].value_counts(),\n",
    "    labels=data['No-show'].value_counts().index,\n",
    "    autopct=\"%1.2f%%\"\n",
    ")"
   ]
  },
  {
   "cell_type": "code",
   "execution_count": 54,
   "id": "3297b953",
   "metadata": {},
   "outputs": [],
   "source": [
    "x = data.drop('No-show', axis=1)\n",
    "y = data['No-show']"
   ]
  },
  {
   "cell_type": "code",
   "execution_count": 55,
   "id": "274301b9",
   "metadata": {},
   "outputs": [],
   "source": [
    "from imblearn.over_sampling import SMOTE\n",
    "\n",
    "smote = SMOTE(sampling_strategy=0.777, random_state=42)\n",
    "\n",
    "xresambled, yresembled = smote.fit_resample(x, y)"
   ]
  },
  {
   "cell_type": "code",
   "execution_count": 56,
   "id": "5410aae5",
   "metadata": {},
   "outputs": [
    {
     "data": {
      "text/plain": [
       "([<matplotlib.patches.Wedge at 0x1e8fd65fd90>,\n",
       "  <matplotlib.patches.Wedge at 0x1e881ab0190>],\n",
       " [Text(-0.21544619355772718, 1.0786950160640802, '0'),\n",
       "  Text(0.21544615926977764, -1.0786950229123624, '1')],\n",
       " [Text(-0.11751610557694209, 0.5883790996713164, '56.27%'),\n",
       "  Text(0.11751608687442415, -0.588379103406743, '43.73%')])"
      ]
     },
     "execution_count": 56,
     "metadata": {},
     "output_type": "execute_result"
    },
    {
     "data": {
      "image/png": "[encoded data removed]",
      "text/plain": [
       "<Figure size 640x480 with 1 Axes>"
      ]
     },
     "metadata": {},
     "output_type": "display_data"
    }
   ],
   "source": [
    "import matplotlib.pyplot as plt\n",
    "\n",
    "plt.pie(\n",
    "    yresembled.value_counts(),\n",
    "    labels=yresembled.value_counts().index,\n",
    "    autopct=\"%1.2f%%\"\n",
    ")"
   ]
  },
  {
   "cell_type": "code",
   "execution_count": 57,
   "id": "75631af7",
   "metadata": {},
   "outputs": [],
   "source": [
    "data.drop('No-show', axis=1, inplace=True)"
   ]
  },
  {
   "cell_type": "code",
   "execution_count": 58,
   "id": "c9ec8786",
   "metadata": {},
   "outputs": [],
   "source": [
    "data = xresambled.copy()\n",
    "data['No-show'] = yresembled"
   ]
  },
  {
   "cell_type": "code",
   "execution_count": 59,
   "id": "d64d2481",
   "metadata": {},
   "outputs": [
    {
     "data": {
      "application/vnd.microsoft.datawrangler.viewer.v0+json": {
       "columns": [
        {
         "name": "index",
         "rawType": "int64",
         "type": "integer"
        },
        {
         "name": "Gender",
         "rawType": "int64",
         "type": "integer"
        },
        {
         "name": "Age",
         "rawType": "int64",
         "type": "integer"
        },
        {
         "name": "Neighbourhood",
         "rawType": "int64",
         "type": "integer"
        },
        {
         "name": "Scholarship",
         "rawType": "int64",
         "type": "integer"
        },
        {
         "name": "Hipertension",
         "rawType": "int64",
         "type": "integer"
        },
        {
         "name": "Diabetes",
         "rawType": "int64",
         "type": "integer"
        },
        {
         "name": "Alcoholism",
         "rawType": "int64",
         "type": "integer"
        },
        {
         "name": "Handcap",
         "rawType": "int64",
         "type": "integer"
        },
        {
         "name": "SMS_received",
         "rawType": "int64",
         "type": "integer"
        },
        {
         "name": "WaitingTime",
         "rawType": "int64",
         "type": "integer"
        },
        {
         "name": "AppointmentDayOfWeek",
         "rawType": "int64",
         "type": "integer"
        },
        {
         "name": "WaitGroup",
         "rawType": "int64",
         "type": "integer"
        },
        {
         "name": "ChronicGroup",
         "rawType": "int64",
         "type": "integer"
        },
        {
         "name": "No-show",
         "rawType": "int64",
         "type": "integer"
        }
       ],
       "conversionMethod": "pd.DataFrame",
       "ref": "3ccd1718-a5b6-4a02-b87d-dba0ac4dcb22",
       "rows": [
        [
         "0",
         "0",
         "62",
         "39",
         "0",
         "1",
         "0",
         "0",
         "1",
         "0",
         "-1",
         "4",
         "5",
         "2",
         "0"
        ],
        [
         "1",
         "1",
         "56",
         "39",
         "0",
         "0",
         "0",
         "0",
         "1",
         "0",
         "-1",
         "4",
         "5",
         "1",
         "0"
        ],
        [
         "2",
         "0",
         "62",
         "45",
         "0",
         "0",
         "0",
         "0",
         "1",
         "0",
         "-1",
         "4",
         "5",
         "1",
         "0"
        ],
        [
         "3",
         "0",
         "8",
         "54",
         "0",
         "0",
         "0",
         "0",
         "1",
         "0",
         "-1",
         "4",
         "5",
         "1",
         "0"
        ],
        [
         "4",
         "0",
         "56",
         "39",
         "0",
         "1",
         "1",
         "0",
         "1",
         "0",
         "-1",
         "4",
         "5",
         "0",
         "0"
        ]
       ],
       "shape": {
        "columns": 14,
        "rows": 5
       }
      },
      "text/html": [
       "<div>\n",
       "<style scoped>\n",
       "    .dataframe tbody tr th:only-of-type {\n",
       "        vertical-align: middle;\n",
       "    }\n",
       "\n",
       "    .dataframe tbody tr th {\n",
       "        vertical-align: top;\n",
       "    }\n",
       "\n",
       "    .dataframe thead th {\n",
       "        text-align: right;\n",
       "    }\n",
       "</style>\n",
       "<table border=\"1\" class=\"dataframe\">\n",
       "  <thead>\n",
       "    <tr style=\"text-align: right;\">\n",
       "      <th></th>\n",
       "      <th>Gender</th>\n",
       "      <th>Age</th>\n",
       "      <th>Neighbourhood</th>\n",
       "      <th>Scholarship</th>\n",
       "      <th>Hipertension</th>\n",
       "      <th>Diabetes</th>\n",
       "      <th>Alcoholism</th>\n",
       "      <th>Handcap</th>\n",
       "      <th>SMS_received</th>\n",
       "      <th>WaitingTime</th>\n",
       "      <th>AppointmentDayOfWeek</th>\n",
       "      <th>WaitGroup</th>\n",
       "      <th>ChronicGroup</th>\n",
       "      <th>No-show</th>\n",
       "    </tr>\n",
       "  </thead>\n",
       "  <tbody>\n",
       "    <tr>\n",
       "      <th>0</th>\n",
       "      <td>0</td>\n",
       "      <td>62</td>\n",
       "      <td>39</td>\n",
       "      <td>0</td>\n",
       "      <td>1</td>\n",
       "      <td>0</td>\n",
       "      <td>0</td>\n",
       "      <td>1</td>\n",
       "      <td>0</td>\n",
       "      <td>-1</td>\n",
       "      <td>4</td>\n",
       "      <td>5</td>\n",
       "      <td>2</td>\n",
       "      <td>0</td>\n",
       "    </tr>\n",
       "    <tr>\n",
       "      <th>1</th>\n",
       "      <td>1</td>\n",
       "      <td>56</td>\n",
       "      <td>39</td>\n",
       "      <td>0</td>\n",
       "      <td>0</td>\n",
       "      <td>0</td>\n",
       "      <td>0</td>\n",
       "      <td>1</td>\n",
       "      <td>0</td>\n",
       "      <td>-1</td>\n",
       "      <td>4</td>\n",
       "      <td>5</td>\n",
       "      <td>1</td>\n",
       "      <td>0</td>\n",
       "    </tr>\n",
       "    <tr>\n",
       "      <th>2</th>\n",
       "      <td>0</td>\n",
       "      <td>62</td>\n",
       "      <td>45</td>\n",
       "      <td>0</td>\n",
       "      <td>0</td>\n",
       "      <td>0</td>\n",
       "      <td>0</td>\n",
       "      <td>1</td>\n",
       "      <td>0</td>\n",
       "      <td>-1</td>\n",
       "      <td>4</td>\n",
       "      <td>5</td>\n",
       "      <td>1</td>\n",
       "      <td>0</td>\n",
       "    </tr>\n",
       "    <tr>\n",
       "      <th>3</th>\n",
       "      <td>0</td>\n",
       "      <td>8</td>\n",
       "      <td>54</td>\n",
       "      <td>0</td>\n",
       "      <td>0</td>\n",
       "      <td>0</td>\n",
       "      <td>0</td>\n",
       "      <td>1</td>\n",
       "      <td>0</td>\n",
       "      <td>-1</td>\n",
       "      <td>4</td>\n",
       "      <td>5</td>\n",
       "      <td>1</td>\n",
       "      <td>0</td>\n",
       "    </tr>\n",
       "    <tr>\n",
       "      <th>4</th>\n",
       "      <td>0</td>\n",
       "      <td>56</td>\n",
       "      <td>39</td>\n",
       "      <td>0</td>\n",
       "      <td>1</td>\n",
       "      <td>1</td>\n",
       "      <td>0</td>\n",
       "      <td>1</td>\n",
       "      <td>0</td>\n",
       "      <td>-1</td>\n",
       "      <td>4</td>\n",
       "      <td>5</td>\n",
       "      <td>0</td>\n",
       "      <td>0</td>\n",
       "    </tr>\n",
       "  </tbody>\n",
       "</table>\n",
       "</div>"
      ],
      "text/plain": [
       "   Gender  Age  Neighbourhood  Scholarship  Hipertension  Diabetes  \\\n",
       "0       0   62             39            0             1         0   \n",
       "1       1   56             39            0             0         0   \n",
       "2       0   62             45            0             0         0   \n",
       "3       0    8             54            0             0         0   \n",
       "4       0   56             39            0             1         1   \n",
       "\n",
       "   Alcoholism  Handcap  SMS_received  WaitingTime  AppointmentDayOfWeek  \\\n",
       "0           0        1             0           -1                     4   \n",
       "1           0        1             0           -1                     4   \n",
       "2           0        1             0           -1                     4   \n",
       "3           0        1             0           -1                     4   \n",
       "4           0        1             0           -1                     4   \n",
       "\n",
       "   WaitGroup  ChronicGroup  No-show  \n",
       "0          5             2        0  \n",
       "1          5             1        0  \n",
       "2          5             1        0  \n",
       "3          5             1        0  \n",
       "4          5             0        0  "
      ]
     },
     "execution_count": 59,
     "metadata": {},
     "output_type": "execute_result"
    }
   ],
   "source": [
    "data.head()"
   ]
  },
  {
   "cell_type": "markdown",
   "id": "403a15f0",
   "metadata": {},
   "source": [
    "# Exporting Processed Data"
   ]
  },
  {
   "cell_type": "code",
   "execution_count": 60,
   "id": "13f93bb0",
   "metadata": {},
   "outputs": [],
   "source": [
    "data.to_csv('../data/processed/processed-data.csv', index=False, encoding='utf-8')"
   ]
  }
 ],
 "metadata": {
  "kernelspec": {
   "display_name": "Python 3",
   "language": "python",
   "name": "python3"
  },
  "language_info": {
   "codemirror_mode": {
    "name": "ipython",
    "version": 3
   },
   "file_extension": ".py",
   "mimetype": "text/x-python",
   "name": "python",
   "nbconvert_exporter": "python",
   "pygments_lexer": "ipython3",
   "version": "3.13.1"
  }
 },
 "nbformat": 4,
 "nbformat_minor": 5
}
