{
 "cells": [
  {
   "cell_type": "markdown",
   "id": "5f2bce48",
   "metadata": {},
   "source": [
    "# Importing data"
   ]
  },
  {
   "cell_type": "code",
   "execution_count": 1,
   "id": "909cf3c3",
   "metadata": {},
   "outputs": [
    {
     "data": {
      "application/vnd.microsoft.datawrangler.viewer.v0+json": {
       "columns": [
        {
         "name": "index",
         "rawType": "int64",
         "type": "integer"
        },
        {
         "name": "Gender",
         "rawType": "object",
         "type": "string"
        },
        {
         "name": "ScheduledDay",
         "rawType": "object",
         "type": "string"
        },
        {
         "name": "AppointmentDay",
         "rawType": "object",
         "type": "string"
        },
        {
         "name": "Age",
         "rawType": "int64",
         "type": "integer"
        },
        {
         "name": "Neighbourhood",
         "rawType": "object",
         "type": "string"
        },
        {
         "name": "Scholarship",
         "rawType": "int64",
         "type": "integer"
        },
        {
         "name": "Hipertension",
         "rawType": "int64",
         "type": "integer"
        },
        {
         "name": "Diabetes",
         "rawType": "int64",
         "type": "integer"
        },
        {
         "name": "Alcoholism",
         "rawType": "int64",
         "type": "integer"
        },
        {
         "name": "Handcap",
         "rawType": "int64",
         "type": "integer"
        },
        {
         "name": "SMS_received",
         "rawType": "int64",
         "type": "integer"
        },
        {
         "name": "No-show",
         "rawType": "object",
         "type": "string"
        }
       ],
       "conversionMethod": "pd.DataFrame",
       "ref": "ee98f988-dcf3-447e-ae79-d44e6b224fd0",
       "rows": [
        [
         "10000",
         "F",
         "2016-04-28T07:35:20Z",
         "2016-05-04T00:00:00Z",
         "76",
         "FORTE SÃO JOÃO",
         "0",
         "0",
         "0",
         "0",
         "0",
         "1",
         "No"
        ],
        [
         "10001",
         "F",
         "2016-05-05T07:17:25Z",
         "2016-05-11T00:00:00Z",
         "67",
         "ROMÃO",
         "0",
         "0",
         "0",
         "0",
         "0",
         "1",
         "No"
        ],
        [
         "10002",
         "F",
         "2016-05-12T07:31:37Z",
         "2016-05-18T00:00:00Z",
         "39",
         "ROMÃO",
         "0",
         "0",
         "0",
         "0",
         "0",
         "0",
         "No"
        ],
        [
         "10003",
         "M",
         "2016-05-19T08:12:01Z",
         "2016-05-25T00:00:00Z",
         "76",
         "FORTE SÃO JOÃO",
         "0",
         "1",
         "0",
         "0",
         "0",
         "1",
         "Yes"
        ],
        [
         "10004",
         "F",
         "2016-04-28T07:35:33Z",
         "2016-05-04T00:00:00Z",
         "43",
         "BONFIM",
         "1",
         "0",
         "0",
         "0",
         "0",
         "1",
         "No"
        ]
       ],
       "shape": {
        "columns": 12,
        "rows": 5
       }
      },
      "text/html": [
       "<div>\n",
       "<style scoped>\n",
       "    .dataframe tbody tr th:only-of-type {\n",
       "        vertical-align: middle;\n",
       "    }\n",
       "\n",
       "    .dataframe tbody tr th {\n",
       "        vertical-align: top;\n",
       "    }\n",
       "\n",
       "    .dataframe thead th {\n",
       "        text-align: right;\n",
       "    }\n",
       "</style>\n",
       "<table border=\"1\" class=\"dataframe\">\n",
       "  <thead>\n",
       "    <tr style=\"text-align: right;\">\n",
       "      <th></th>\n",
       "      <th>Gender</th>\n",
       "      <th>ScheduledDay</th>\n",
       "      <th>AppointmentDay</th>\n",
       "      <th>Age</th>\n",
       "      <th>Neighbourhood</th>\n",
       "      <th>Scholarship</th>\n",
       "      <th>Hipertension</th>\n",
       "      <th>Diabetes</th>\n",
       "      <th>Alcoholism</th>\n",
       "      <th>Handcap</th>\n",
       "      <th>SMS_received</th>\n",
       "      <th>No-show</th>\n",
       "    </tr>\n",
       "  </thead>\n",
       "  <tbody>\n",
       "    <tr>\n",
       "      <th>10000</th>\n",
       "      <td>F</td>\n",
       "      <td>2016-04-28T07:35:20Z</td>\n",
       "      <td>2016-05-04T00:00:00Z</td>\n",
       "      <td>76</td>\n",
       "      <td>FORTE SÃO JOÃO</td>\n",
       "      <td>0</td>\n",
       "      <td>0</td>\n",
       "      <td>0</td>\n",
       "      <td>0</td>\n",
       "      <td>0</td>\n",
       "      <td>1</td>\n",
       "      <td>No</td>\n",
       "    </tr>\n",
       "    <tr>\n",
       "      <th>10001</th>\n",
       "      <td>F</td>\n",
       "      <td>2016-05-05T07:17:25Z</td>\n",
       "      <td>2016-05-11T00:00:00Z</td>\n",
       "      <td>67</td>\n",
       "      <td>ROMÃO</td>\n",
       "      <td>0</td>\n",
       "      <td>0</td>\n",
       "      <td>0</td>\n",
       "      <td>0</td>\n",
       "      <td>0</td>\n",
       "      <td>1</td>\n",
       "      <td>No</td>\n",
       "    </tr>\n",
       "    <tr>\n",
       "      <th>10002</th>\n",
       "      <td>F</td>\n",
       "      <td>2016-05-12T07:31:37Z</td>\n",
       "      <td>2016-05-18T00:00:00Z</td>\n",
       "      <td>39</td>\n",
       "      <td>ROMÃO</td>\n",
       "      <td>0</td>\n",
       "      <td>0</td>\n",
       "      <td>0</td>\n",
       "      <td>0</td>\n",
       "      <td>0</td>\n",
       "      <td>0</td>\n",
       "      <td>No</td>\n",
       "    </tr>\n",
       "    <tr>\n",
       "      <th>10003</th>\n",
       "      <td>M</td>\n",
       "      <td>2016-05-19T08:12:01Z</td>\n",
       "      <td>2016-05-25T00:00:00Z</td>\n",
       "      <td>76</td>\n",
       "      <td>FORTE SÃO JOÃO</td>\n",
       "      <td>0</td>\n",
       "      <td>1</td>\n",
       "      <td>0</td>\n",
       "      <td>0</td>\n",
       "      <td>0</td>\n",
       "      <td>1</td>\n",
       "      <td>Yes</td>\n",
       "    </tr>\n",
       "    <tr>\n",
       "      <th>10004</th>\n",
       "      <td>F</td>\n",
       "      <td>2016-04-28T07:35:33Z</td>\n",
       "      <td>2016-05-04T00:00:00Z</td>\n",
       "      <td>43</td>\n",
       "      <td>BONFIM</td>\n",
       "      <td>1</td>\n",
       "      <td>0</td>\n",
       "      <td>0</td>\n",
       "      <td>0</td>\n",
       "      <td>0</td>\n",
       "      <td>1</td>\n",
       "      <td>No</td>\n",
       "    </tr>\n",
       "  </tbody>\n",
       "</table>\n",
       "</div>"
      ],
      "text/plain": [
       "      Gender          ScheduledDay        AppointmentDay  Age   Neighbourhood  \\\n",
       "10000      F  2016-04-28T07:35:20Z  2016-05-04T00:00:00Z   76  FORTE SÃO JOÃO   \n",
       "10001      F  2016-05-05T07:17:25Z  2016-05-11T00:00:00Z   67           ROMÃO   \n",
       "10002      F  2016-05-12T07:31:37Z  2016-05-18T00:00:00Z   39           ROMÃO   \n",
       "10003      M  2016-05-19T08:12:01Z  2016-05-25T00:00:00Z   76  FORTE SÃO JOÃO   \n",
       "10004      F  2016-04-28T07:35:33Z  2016-05-04T00:00:00Z   43          BONFIM   \n",
       "\n",
       "       Scholarship  Hipertension  Diabetes  Alcoholism  Handcap  SMS_received  \\\n",
       "10000            0             0         0           0        0             1   \n",
       "10001            0             0         0           0        0             1   \n",
       "10002            0             0         0           0        0             0   \n",
       "10003            0             1         0           0        0             1   \n",
       "10004            1             0         0           0        0             1   \n",
       "\n",
       "      No-show  \n",
       "10000      No  \n",
       "10001      No  \n",
       "10002      No  \n",
       "10003     Yes  \n",
       "10004      No  "
      ]
     },
     "execution_count": 1,
     "metadata": {},
     "output_type": "execute_result"
    }
   ],
   "source": [
    "import numpy as np\n",
    "import pandas as pd\n",
    "\n",
    "data = pd.read_csv(r'../data/raw/raw-data.csv').iloc[10000:, :]\n",
    "data.drop(columns=['PatientId', 'AppointmentID'], inplace=True)\n",
    "data.head()"
   ]
  },
  {
   "cell_type": "markdown",
   "id": "9fbbaaf0",
   "metadata": {},
   "source": [
    "### Check if out data is immbalance."
   ]
  },
  {
   "cell_type": "code",
   "execution_count": 2,
   "id": "a340d6db",
   "metadata": {},
   "outputs": [
    {
     "data": {
      "application/vnd.plotly.v1+json": {
       "config": {
        "plotlyServerURL": "https://plot.ly"
       },
       "data": [
        {
         "domain": {
          "x": [
           0,
           1
          ],
          "y": [
           0,
           1
          ]
         },
         "hovertemplate": "label=%{label}<br>value=%{value}<extra></extra>",
         "labels": {
          "bdata": "AAE=",
          "dtype": "i1"
         },
         "legendgroup": "",
         "name": "",
         "showlegend": true,
         "type": "pie",
         "values": {
          "bdata": "kGEBAB8nAAA=",
          "dtype": "i4"
         }
        }
       ],
       "layout": {
        "height": 400,
        "legend": {
         "tracegroupgap": 0
        },
        "template": {
         "data": {
          "bar": [
           {
            "error_x": {
             "color": "#2a3f5f"
            },
            "error_y": {
             "color": "#2a3f5f"
            },
            "marker": {
             "line": {
              "color": "#E5ECF6",
              "width": 0.5
             },
             "pattern": {
              "fillmode": "overlay",
              "size": 10,
              "solidity": 0.2
             }
            },
            "type": "bar"
           }
          ],
          "barpolar": [
           {
            "marker": {
             "line": {
              "color": "#E5ECF6",
              "width": 0.5
             },
             "pattern": {
              "fillmode": "overlay",
              "size": 10,
              "solidity": 0.2
             }
            },
            "type": "barpolar"
           }
          ],
          "carpet": [
           {
            "aaxis": {
             "endlinecolor": "#2a3f5f",
             "gridcolor": "white",
             "linecolor": "white",
             "minorgridcolor": "white",
             "startlinecolor": "#2a3f5f"
            },
            "baxis": {
             "endlinecolor": "#2a3f5f",
             "gridcolor": "white",
             "linecolor": "white",
             "minorgridcolor": "white",
             "startlinecolor": "#2a3f5f"
            },
            "type": "carpet"
           }
          ],
          "choropleth": [
           {
            "colorbar": {
             "outlinewidth": 0,
             "ticks": ""
            },
            "type": "choropleth"
           }
          ],
          "contour": [
           {
            "colorbar": {
             "outlinewidth": 0,
             "ticks": ""
            },
            "colorscale": [
             [
              0,
              "#0d0887"
             ],
             [
              0.1111111111111111,
              "#46039f"
             ],
             [
              0.2222222222222222,
              "#7201a8"
             ],
             [
              0.3333333333333333,
              "#9c179e"
             ],
             [
              0.4444444444444444,
              "#bd3786"
             ],
             [
              0.5555555555555556,
              "#d8576b"
             ],
             [
              0.6666666666666666,
              "#ed7953"
             ],
             [
              0.7777777777777778,
              "#fb9f3a"
             ],
             [
              0.8888888888888888,
              "#fdca26"
             ],
             [
              1,
              "#f0f921"
             ]
            ],
            "type": "contour"
           }
          ],
          "contourcarpet": [
           {
            "colorbar": {
             "outlinewidth": 0,
             "ticks": ""
            },
            "type": "contourcarpet"
           }
          ],
          "heatmap": [
           {
            "colorbar": {
             "outlinewidth": 0,
             "ticks": ""
            },
            "colorscale": [
             [
              0,
              "#0d0887"
             ],
             [
              0.1111111111111111,
              "#46039f"
             ],
             [
              0.2222222222222222,
              "#7201a8"
             ],
             [
              0.3333333333333333,
              "#9c179e"
             ],
             [
              0.4444444444444444,
              "#bd3786"
             ],
             [
              0.5555555555555556,
              "#d8576b"
             ],
             [
              0.6666666666666666,
              "#ed7953"
             ],
             [
              0.7777777777777778,
              "#fb9f3a"
             ],
             [
              0.8888888888888888,
              "#fdca26"
             ],
             [
              1,
              "#f0f921"
             ]
            ],
            "type": "heatmap"
           }
          ],
          "histogram": [
           {
            "marker": {
             "pattern": {
              "fillmode": "overlay",
              "size": 10,
              "solidity": 0.2
             }
            },
            "type": "histogram"
           }
          ],
          "histogram2d": [
           {
            "colorbar": {
             "outlinewidth": 0,
             "ticks": ""
            },
            "colorscale": [
             [
              0,
              "#0d0887"
             ],
             [
              0.1111111111111111,
              "#46039f"
             ],
             [
              0.2222222222222222,
              "#7201a8"
             ],
             [
              0.3333333333333333,
              "#9c179e"
             ],
             [
              0.4444444444444444,
              "#bd3786"
             ],
             [
              0.5555555555555556,
              "#d8576b"
             ],
             [
              0.6666666666666666,
              "#ed7953"
             ],
             [
              0.7777777777777778,
              "#fb9f3a"
             ],
             [
              0.8888888888888888,
              "#fdca26"
             ],
             [
              1,
              "#f0f921"
             ]
            ],
            "type": "histogram2d"
           }
          ],
          "histogram2dcontour": [
           {
            "colorbar": {
             "outlinewidth": 0,
             "ticks": ""
            },
            "colorscale": [
             [
              0,
              "#0d0887"
             ],
             [
              0.1111111111111111,
              "#46039f"
             ],
             [
              0.2222222222222222,
              "#7201a8"
             ],
             [
              0.3333333333333333,
              "#9c179e"
             ],
             [
              0.4444444444444444,
              "#bd3786"
             ],
             [
              0.5555555555555556,
              "#d8576b"
             ],
             [
              0.6666666666666666,
              "#ed7953"
             ],
             [
              0.7777777777777778,
              "#fb9f3a"
             ],
             [
              0.8888888888888888,
              "#fdca26"
             ],
             [
              1,
              "#f0f921"
             ]
            ],
            "type": "histogram2dcontour"
           }
          ],
          "mesh3d": [
           {
            "colorbar": {
             "outlinewidth": 0,
             "ticks": ""
            },
            "type": "mesh3d"
           }
          ],
          "parcoords": [
           {
            "line": {
             "colorbar": {
              "outlinewidth": 0,
              "ticks": ""
             }
            },
            "type": "parcoords"
           }
          ],
          "pie": [
           {
            "automargin": true,
            "type": "pie"
           }
          ],
          "scatter": [
           {
            "fillpattern": {
             "fillmode": "overlay",
             "size": 10,
             "solidity": 0.2
            },
            "type": "scatter"
           }
          ],
          "scatter3d": [
           {
            "line": {
             "colorbar": {
              "outlinewidth": 0,
              "ticks": ""
             }
            },
            "marker": {
             "colorbar": {
              "outlinewidth": 0,
              "ticks": ""
             }
            },
            "type": "scatter3d"
           }
          ],
          "scattercarpet": [
           {
            "marker": {
             "colorbar": {
              "outlinewidth": 0,
              "ticks": ""
             }
            },
            "type": "scattercarpet"
           }
          ],
          "scattergeo": [
           {
            "marker": {
             "colorbar": {
              "outlinewidth": 0,
              "ticks": ""
             }
            },
            "type": "scattergeo"
           }
          ],
          "scattergl": [
           {
            "marker": {
             "colorbar": {
              "outlinewidth": 0,
              "ticks": ""
             }
            },
            "type": "scattergl"
           }
          ],
          "scattermap": [
           {
            "marker": {
             "colorbar": {
              "outlinewidth": 0,
              "ticks": ""
             }
            },
            "type": "scattermap"
           }
          ],
          "scattermapbox": [
           {
            "marker": {
             "colorbar": {
              "outlinewidth": 0,
              "ticks": ""
             }
            },
            "type": "scattermapbox"
           }
          ],
          "scatterpolar": [
           {
            "marker": {
             "colorbar": {
              "outlinewidth": 0,
              "ticks": ""
             }
            },
            "type": "scatterpolar"
           }
          ],
          "scatterpolargl": [
           {
            "marker": {
             "colorbar": {
              "outlinewidth": 0,
              "ticks": ""
             }
            },
            "type": "scatterpolargl"
           }
          ],
          "scatterternary": [
           {
            "marker": {
             "colorbar": {
              "outlinewidth": 0,
              "ticks": ""
             }
            },
            "type": "scatterternary"
           }
          ],
          "surface": [
           {
            "colorbar": {
             "outlinewidth": 0,
             "ticks": ""
            },
            "colorscale": [
             [
              0,
              "#0d0887"
             ],
             [
              0.1111111111111111,
              "#46039f"
             ],
             [
              0.2222222222222222,
              "#7201a8"
             ],
             [
              0.3333333333333333,
              "#9c179e"
             ],
             [
              0.4444444444444444,
              "#bd3786"
             ],
             [
              0.5555555555555556,
              "#d8576b"
             ],
             [
              0.6666666666666666,
              "#ed7953"
             ],
             [
              0.7777777777777778,
              "#fb9f3a"
             ],
             [
              0.8888888888888888,
              "#fdca26"
             ],
             [
              1,
              "#f0f921"
             ]
            ],
            "type": "surface"
           }
          ],
          "table": [
           {
            "cells": {
             "fill": {
              "color": "#EBF0F8"
             },
             "line": {
              "color": "white"
             }
            },
            "header": {
             "fill": {
              "color": "#C8D4E3"
             },
             "line": {
              "color": "white"
             }
            },
            "type": "table"
           }
          ]
         },
         "layout": {
          "annotationdefaults": {
           "arrowcolor": "#2a3f5f",
           "arrowhead": 0,
           "arrowwidth": 1
          },
          "autotypenumbers": "strict",
          "coloraxis": {
           "colorbar": {
            "outlinewidth": 0,
            "ticks": ""
           }
          },
          "colorscale": {
           "diverging": [
            [
             0,
             "#8e0152"
            ],
            [
             0.1,
             "#c51b7d"
            ],
            [
             0.2,
             "#de77ae"
            ],
            [
             0.3,
             "#f1b6da"
            ],
            [
             0.4,
             "#fde0ef"
            ],
            [
             0.5,
             "#f7f7f7"
            ],
            [
             0.6,
             "#e6f5d0"
            ],
            [
             0.7,
             "#b8e186"
            ],
            [
             0.8,
             "#7fbc41"
            ],
            [
             0.9,
             "#4d9221"
            ],
            [
             1,
             "#276419"
            ]
           ],
           "sequential": [
            [
             0,
             "#0d0887"
            ],
            [
             0.1111111111111111,
             "#46039f"
            ],
            [
             0.2222222222222222,
             "#7201a8"
            ],
            [
             0.3333333333333333,
             "#9c179e"
            ],
            [
             0.4444444444444444,
             "#bd3786"
            ],
            [
             0.5555555555555556,
             "#d8576b"
            ],
            [
             0.6666666666666666,
             "#ed7953"
            ],
            [
             0.7777777777777778,
             "#fb9f3a"
            ],
            [
             0.8888888888888888,
             "#fdca26"
            ],
            [
             1,
             "#f0f921"
            ]
           ],
           "sequentialminus": [
            [
             0,
             "#0d0887"
            ],
            [
             0.1111111111111111,
             "#46039f"
            ],
            [
             0.2222222222222222,
             "#7201a8"
            ],
            [
             0.3333333333333333,
             "#9c179e"
            ],
            [
             0.4444444444444444,
             "#bd3786"
            ],
            [
             0.5555555555555556,
             "#d8576b"
            ],
            [
             0.6666666666666666,
             "#ed7953"
            ],
            [
             0.7777777777777778,
             "#fb9f3a"
            ],
            [
             0.8888888888888888,
             "#fdca26"
            ],
            [
             1,
             "#f0f921"
            ]
           ]
          },
          "colorway": [
           "#636efa",
           "#EF553B",
           "#00cc96",
           "#ab63fa",
           "#FFA15A",
           "#19d3f3",
           "#FF6692",
           "#B6E880",
           "#FF97FF",
           "#FECB52"
          ],
          "font": {
           "color": "#2a3f5f"
          },
          "geo": {
           "bgcolor": "white",
           "lakecolor": "white",
           "landcolor": "#E5ECF6",
           "showlakes": true,
           "showland": true,
           "subunitcolor": "white"
          },
          "hoverlabel": {
           "align": "left"
          },
          "hovermode": "closest",
          "mapbox": {
           "style": "light"
          },
          "paper_bgcolor": "white",
          "plot_bgcolor": "#E5ECF6",
          "polar": {
           "angularaxis": {
            "gridcolor": "white",
            "linecolor": "white",
            "ticks": ""
           },
           "bgcolor": "#E5ECF6",
           "radialaxis": {
            "gridcolor": "white",
            "linecolor": "white",
            "ticks": ""
           }
          },
          "scene": {
           "xaxis": {
            "backgroundcolor": "#E5ECF6",
            "gridcolor": "white",
            "gridwidth": 2,
            "linecolor": "white",
            "showbackground": true,
            "ticks": "",
            "zerolinecolor": "white"
           },
           "yaxis": {
            "backgroundcolor": "#E5ECF6",
            "gridcolor": "white",
            "gridwidth": 2,
            "linecolor": "white",
            "showbackground": true,
            "ticks": "",
            "zerolinecolor": "white"
           },
           "zaxis": {
            "backgroundcolor": "#E5ECF6",
            "gridcolor": "white",
            "gridwidth": 2,
            "linecolor": "white",
            "showbackground": true,
            "ticks": "",
            "zerolinecolor": "white"
           }
          },
          "shapedefaults": {
           "line": {
            "color": "#2a3f5f"
           }
          },
          "ternary": {
           "aaxis": {
            "gridcolor": "white",
            "linecolor": "white",
            "ticks": ""
           },
           "baxis": {
            "gridcolor": "white",
            "linecolor": "white",
            "ticks": ""
           },
           "bgcolor": "#E5ECF6",
           "caxis": {
            "gridcolor": "white",
            "linecolor": "white",
            "ticks": ""
           }
          },
          "title": {
           "x": 0.05
          },
          "xaxis": {
           "automargin": true,
           "gridcolor": "white",
           "linecolor": "white",
           "ticks": "",
           "title": {
            "standoff": 15
           },
           "zerolinecolor": "white",
           "zerolinewidth": 2
          },
          "yaxis": {
           "automargin": true,
           "gridcolor": "white",
           "linecolor": "white",
           "ticks": "",
           "title": {
            "standoff": 15
           },
           "zerolinecolor": "white",
           "zerolinewidth": 2
          }
         }
        },
        "title": {
         "text": "Scholarship Percentage Distribution"
        },
        "width": 400
       }
      }
     },
     "metadata": {},
     "output_type": "display_data"
    },
    {
     "data": {
      "application/vnd.plotly.v1+json": {
       "config": {
        "plotlyServerURL": "https://plot.ly"
       },
       "data": [
        {
         "domain": {
          "x": [
           0,
           1
          ],
          "y": [
           0,
           1
          ]
         },
         "hovertemplate": "label=%{label}<br>value=%{value}<extra></extra>",
         "labels": {
          "bdata": "AAE=",
          "dtype": "i1"
         },
         "legendgroup": "",
         "name": "",
         "showlegend": true,
         "type": "pie",
         "values": {
          "bdata": "HDsBAJNNAAA=",
          "dtype": "i4"
         }
        }
       ],
       "layout": {
        "height": 400,
        "legend": {
         "tracegroupgap": 0
        },
        "template": {
         "data": {
          "bar": [
           {
            "error_x": {
             "color": "#2a3f5f"
            },
            "error_y": {
             "color": "#2a3f5f"
            },
            "marker": {
             "line": {
              "color": "#E5ECF6",
              "width": 0.5
             },
             "pattern": {
              "fillmode": "overlay",
              "size": 10,
              "solidity": 0.2
             }
            },
            "type": "bar"
           }
          ],
          "barpolar": [
           {
            "marker": {
             "line": {
              "color": "#E5ECF6",
              "width": 0.5
             },
             "pattern": {
              "fillmode": "overlay",
              "size": 10,
              "solidity": 0.2
             }
            },
            "type": "barpolar"
           }
          ],
          "carpet": [
           {
            "aaxis": {
             "endlinecolor": "#2a3f5f",
             "gridcolor": "white",
             "linecolor": "white",
             "minorgridcolor": "white",
             "startlinecolor": "#2a3f5f"
            },
            "baxis": {
             "endlinecolor": "#2a3f5f",
             "gridcolor": "white",
             "linecolor": "white",
             "minorgridcolor": "white",
             "startlinecolor": "#2a3f5f"
            },
            "type": "carpet"
           }
          ],
          "choropleth": [
           {
            "colorbar": {
             "outlinewidth": 0,
             "ticks": ""
            },
            "type": "choropleth"
           }
          ],
          "contour": [
           {
            "colorbar": {
             "outlinewidth": 0,
             "ticks": ""
            },
            "colorscale": [
             [
              0,
              "#0d0887"
             ],
             [
              0.1111111111111111,
              "#46039f"
             ],
             [
              0.2222222222222222,
              "#7201a8"
             ],
             [
              0.3333333333333333,
              "#9c179e"
             ],
             [
              0.4444444444444444,
              "#bd3786"
             ],
             [
              0.5555555555555556,
              "#d8576b"
             ],
             [
              0.6666666666666666,
              "#ed7953"
             ],
             [
              0.7777777777777778,
              "#fb9f3a"
             ],
             [
              0.8888888888888888,
              "#fdca26"
             ],
             [
              1,
              "#f0f921"
             ]
            ],
            "type": "contour"
           }
          ],
          "contourcarpet": [
           {
            "colorbar": {
             "outlinewidth": 0,
             "ticks": ""
            },
            "type": "contourcarpet"
           }
          ],
          "heatmap": [
           {
            "colorbar": {
             "outlinewidth": 0,
             "ticks": ""
            },
            "colorscale": [
             [
              0,
              "#0d0887"
             ],
             [
              0.1111111111111111,
              "#46039f"
             ],
             [
              0.2222222222222222,
              "#7201a8"
             ],
             [
              0.3333333333333333,
              "#9c179e"
             ],
             [
              0.4444444444444444,
              "#bd3786"
             ],
             [
              0.5555555555555556,
              "#d8576b"
             ],
             [
              0.6666666666666666,
              "#ed7953"
             ],
             [
              0.7777777777777778,
              "#fb9f3a"
             ],
             [
              0.8888888888888888,
              "#fdca26"
             ],
             [
              1,
              "#f0f921"
             ]
            ],
            "type": "heatmap"
           }
          ],
          "histogram": [
           {
            "marker": {
             "pattern": {
              "fillmode": "overlay",
              "size": 10,
              "solidity": 0.2
             }
            },
            "type": "histogram"
           }
          ],
          "histogram2d": [
           {
            "colorbar": {
             "outlinewidth": 0,
             "ticks": ""
            },
            "colorscale": [
             [
              0,
              "#0d0887"
             ],
             [
              0.1111111111111111,
              "#46039f"
             ],
             [
              0.2222222222222222,
              "#7201a8"
             ],
             [
              0.3333333333333333,
              "#9c179e"
             ],
             [
              0.4444444444444444,
              "#bd3786"
             ],
             [
              0.5555555555555556,
              "#d8576b"
             ],
             [
              0.6666666666666666,
              "#ed7953"
             ],
             [
              0.7777777777777778,
              "#fb9f3a"
             ],
             [
              0.8888888888888888,
              "#fdca26"
             ],
             [
              1,
              "#f0f921"
             ]
            ],
            "type": "histogram2d"
           }
          ],
          "histogram2dcontour": [
           {
            "colorbar": {
             "outlinewidth": 0,
             "ticks": ""
            },
            "colorscale": [
             [
              0,
              "#0d0887"
             ],
             [
              0.1111111111111111,
              "#46039f"
             ],
             [
              0.2222222222222222,
              "#7201a8"
             ],
             [
              0.3333333333333333,
              "#9c179e"
             ],
             [
              0.4444444444444444,
              "#bd3786"
             ],
             [
              0.5555555555555556,
              "#d8576b"
             ],
             [
              0.6666666666666666,
              "#ed7953"
             ],
             [
              0.7777777777777778,
              "#fb9f3a"
             ],
             [
              0.8888888888888888,
              "#fdca26"
             ],
             [
              1,
              "#f0f921"
             ]
            ],
            "type": "histogram2dcontour"
           }
          ],
          "mesh3d": [
           {
            "colorbar": {
             "outlinewidth": 0,
             "ticks": ""
            },
            "type": "mesh3d"
           }
          ],
          "parcoords": [
           {
            "line": {
             "colorbar": {
              "outlinewidth": 0,
              "ticks": ""
             }
            },
            "type": "parcoords"
           }
          ],
          "pie": [
           {
            "automargin": true,
            "type": "pie"
           }
          ],
          "scatter": [
           {
            "fillpattern": {
             "fillmode": "overlay",
             "size": 10,
             "solidity": 0.2
            },
            "type": "scatter"
           }
          ],
          "scatter3d": [
           {
            "line": {
             "colorbar": {
              "outlinewidth": 0,
              "ticks": ""
             }
            },
            "marker": {
             "colorbar": {
              "outlinewidth": 0,
              "ticks": ""
             }
            },
            "type": "scatter3d"
           }
          ],
          "scattercarpet": [
           {
            "marker": {
             "colorbar": {
              "outlinewidth": 0,
              "ticks": ""
             }
            },
            "type": "scattercarpet"
           }
          ],
          "scattergeo": [
           {
            "marker": {
             "colorbar": {
              "outlinewidth": 0,
              "ticks": ""
             }
            },
            "type": "scattergeo"
           }
          ],
          "scattergl": [
           {
            "marker": {
             "colorbar": {
              "outlinewidth": 0,
              "ticks": ""
             }
            },
            "type": "scattergl"
           }
          ],
          "scattermap": [
           {
            "marker": {
             "colorbar": {
              "outlinewidth": 0,
              "ticks": ""
             }
            },
            "type": "scattermap"
           }
          ],
          "scattermapbox": [
           {
            "marker": {
             "colorbar": {
              "outlinewidth": 0,
              "ticks": ""
             }
            },
            "type": "scattermapbox"
           }
          ],
          "scatterpolar": [
           {
            "marker": {
             "colorbar": {
              "outlinewidth": 0,
              "ticks": ""
             }
            },
            "type": "scatterpolar"
           }
          ],
          "scatterpolargl": [
           {
            "marker": {
             "colorbar": {
              "outlinewidth": 0,
              "ticks": ""
             }
            },
            "type": "scatterpolargl"
           }
          ],
          "scatterternary": [
           {
            "marker": {
             "colorbar": {
              "outlinewidth": 0,
              "ticks": ""
             }
            },
            "type": "scatterternary"
           }
          ],
          "surface": [
           {
            "colorbar": {
             "outlinewidth": 0,
             "ticks": ""
            },
            "colorscale": [
             [
              0,
              "#0d0887"
             ],
             [
              0.1111111111111111,
              "#46039f"
             ],
             [
              0.2222222222222222,
              "#7201a8"
             ],
             [
              0.3333333333333333,
              "#9c179e"
             ],
             [
              0.4444444444444444,
              "#bd3786"
             ],
             [
              0.5555555555555556,
              "#d8576b"
             ],
             [
              0.6666666666666666,
              "#ed7953"
             ],
             [
              0.7777777777777778,
              "#fb9f3a"
             ],
             [
              0.8888888888888888,
              "#fdca26"
             ],
             [
              1,
              "#f0f921"
             ]
            ],
            "type": "surface"
           }
          ],
          "table": [
           {
            "cells": {
             "fill": {
              "color": "#EBF0F8"
             },
             "line": {
              "color": "white"
             }
            },
            "header": {
             "fill": {
              "color": "#C8D4E3"
             },
             "line": {
              "color": "white"
             }
            },
            "type": "table"
           }
          ]
         },
         "layout": {
          "annotationdefaults": {
           "arrowcolor": "#2a3f5f",
           "arrowhead": 0,
           "arrowwidth": 1
          },
          "autotypenumbers": "strict",
          "coloraxis": {
           "colorbar": {
            "outlinewidth": 0,
            "ticks": ""
           }
          },
          "colorscale": {
           "diverging": [
            [
             0,
             "#8e0152"
            ],
            [
             0.1,
             "#c51b7d"
            ],
            [
             0.2,
             "#de77ae"
            ],
            [
             0.3,
             "#f1b6da"
            ],
            [
             0.4,
             "#fde0ef"
            ],
            [
             0.5,
             "#f7f7f7"
            ],
            [
             0.6,
             "#e6f5d0"
            ],
            [
             0.7,
             "#b8e186"
            ],
            [
             0.8,
             "#7fbc41"
            ],
            [
             0.9,
             "#4d9221"
            ],
            [
             1,
             "#276419"
            ]
           ],
           "sequential": [
            [
             0,
             "#0d0887"
            ],
            [
             0.1111111111111111,
             "#46039f"
            ],
            [
             0.2222222222222222,
             "#7201a8"
            ],
            [
             0.3333333333333333,
             "#9c179e"
            ],
            [
             0.4444444444444444,
             "#bd3786"
            ],
            [
             0.5555555555555556,
             "#d8576b"
            ],
            [
             0.6666666666666666,
             "#ed7953"
            ],
            [
             0.7777777777777778,
             "#fb9f3a"
            ],
            [
             0.8888888888888888,
             "#fdca26"
            ],
            [
             1,
             "#f0f921"
            ]
           ],
           "sequentialminus": [
            [
             0,
             "#0d0887"
            ],
            [
             0.1111111111111111,
             "#46039f"
            ],
            [
             0.2222222222222222,
             "#7201a8"
            ],
            [
             0.3333333333333333,
             "#9c179e"
            ],
            [
             0.4444444444444444,
             "#bd3786"
            ],
            [
             0.5555555555555556,
             "#d8576b"
            ],
            [
             0.6666666666666666,
             "#ed7953"
            ],
            [
             0.7777777777777778,
             "#fb9f3a"
            ],
            [
             0.8888888888888888,
             "#fdca26"
            ],
            [
             1,
             "#f0f921"
            ]
           ]
          },
          "colorway": [
           "#636efa",
           "#EF553B",
           "#00cc96",
           "#ab63fa",
           "#FFA15A",
           "#19d3f3",
           "#FF6692",
           "#B6E880",
           "#FF97FF",
           "#FECB52"
          ],
          "font": {
           "color": "#2a3f5f"
          },
          "geo": {
           "bgcolor": "white",
           "lakecolor": "white",
           "landcolor": "#E5ECF6",
           "showlakes": true,
           "showland": true,
           "subunitcolor": "white"
          },
          "hoverlabel": {
           "align": "left"
          },
          "hovermode": "closest",
          "mapbox": {
           "style": "light"
          },
          "paper_bgcolor": "white",
          "plot_bgcolor": "#E5ECF6",
          "polar": {
           "angularaxis": {
            "gridcolor": "white",
            "linecolor": "white",
            "ticks": ""
           },
           "bgcolor": "#E5ECF6",
           "radialaxis": {
            "gridcolor": "white",
            "linecolor": "white",
            "ticks": ""
           }
          },
          "scene": {
           "xaxis": {
            "backgroundcolor": "#E5ECF6",
            "gridcolor": "white",
            "gridwidth": 2,
            "linecolor": "white",
            "showbackground": true,
            "ticks": "",
            "zerolinecolor": "white"
           },
           "yaxis": {
            "backgroundcolor": "#E5ECF6",
            "gridcolor": "white",
            "gridwidth": 2,
            "linecolor": "white",
            "showbackground": true,
            "ticks": "",
            "zerolinecolor": "white"
           },
           "zaxis": {
            "backgroundcolor": "#E5ECF6",
            "gridcolor": "white",
            "gridwidth": 2,
            "linecolor": "white",
            "showbackground": true,
            "ticks": "",
            "zerolinecolor": "white"
           }
          },
          "shapedefaults": {
           "line": {
            "color": "#2a3f5f"
           }
          },
          "ternary": {
           "aaxis": {
            "gridcolor": "white",
            "linecolor": "white",
            "ticks": ""
           },
           "baxis": {
            "gridcolor": "white",
            "linecolor": "white",
            "ticks": ""
           },
           "bgcolor": "#E5ECF6",
           "caxis": {
            "gridcolor": "white",
            "linecolor": "white",
            "ticks": ""
           }
          },
          "title": {
           "x": 0.05
          },
          "xaxis": {
           "automargin": true,
           "gridcolor": "white",
           "linecolor": "white",
           "ticks": "",
           "title": {
            "standoff": 15
           },
           "zerolinecolor": "white",
           "zerolinewidth": 2
          },
          "yaxis": {
           "automargin": true,
           "gridcolor": "white",
           "linecolor": "white",
           "ticks": "",
           "title": {
            "standoff": 15
           },
           "zerolinecolor": "white",
           "zerolinewidth": 2
          }
         }
        },
        "title": {
         "text": "Hipertension Percentage Distribution"
        },
        "width": 400
       }
      }
     },
     "metadata": {},
     "output_type": "display_data"
    },
    {
     "data": {
      "application/vnd.plotly.v1+json": {
       "config": {
        "plotlyServerURL": "https://plot.ly"
       },
       "data": [
        {
         "domain": {
          "x": [
           0,
           1
          ],
          "y": [
           0,
           1
          ]
         },
         "hovertemplate": "label=%{label}<br>value=%{value}<extra></extra>",
         "labels": {
          "bdata": "AAE=",
          "dtype": "i1"
         },
         "legendgroup": "",
         "name": "",
         "showlegend": true,
         "type": "pie",
         "values": {
          "bdata": "MWwBAH4cAAA=",
          "dtype": "i4"
         }
        }
       ],
       "layout": {
        "height": 400,
        "legend": {
         "tracegroupgap": 0
        },
        "template": {
         "data": {
          "bar": [
           {
            "error_x": {
             "color": "#2a3f5f"
            },
            "error_y": {
             "color": "#2a3f5f"
            },
            "marker": {
             "line": {
              "color": "#E5ECF6",
              "width": 0.5
             },
             "pattern": {
              "fillmode": "overlay",
              "size": 10,
              "solidity": 0.2
             }
            },
            "type": "bar"
           }
          ],
          "barpolar": [
           {
            "marker": {
             "line": {
              "color": "#E5ECF6",
              "width": 0.5
             },
             "pattern": {
              "fillmode": "overlay",
              "size": 10,
              "solidity": 0.2
             }
            },
            "type": "barpolar"
           }
          ],
          "carpet": [
           {
            "aaxis": {
             "endlinecolor": "#2a3f5f",
             "gridcolor": "white",
             "linecolor": "white",
             "minorgridcolor": "white",
             "startlinecolor": "#2a3f5f"
            },
            "baxis": {
             "endlinecolor": "#2a3f5f",
             "gridcolor": "white",
             "linecolor": "white",
             "minorgridcolor": "white",
             "startlinecolor": "#2a3f5f"
            },
            "type": "carpet"
           }
          ],
          "choropleth": [
           {
            "colorbar": {
             "outlinewidth": 0,
             "ticks": ""
            },
            "type": "choropleth"
           }
          ],
          "contour": [
           {
            "colorbar": {
             "outlinewidth": 0,
             "ticks": ""
            },
            "colorscale": [
             [
              0,
              "#0d0887"
             ],
             [
              0.1111111111111111,
              "#46039f"
             ],
             [
              0.2222222222222222,
              "#7201a8"
             ],
             [
              0.3333333333333333,
              "#9c179e"
             ],
             [
              0.4444444444444444,
              "#bd3786"
             ],
             [
              0.5555555555555556,
              "#d8576b"
             ],
             [
              0.6666666666666666,
              "#ed7953"
             ],
             [
              0.7777777777777778,
              "#fb9f3a"
             ],
             [
              0.8888888888888888,
              "#fdca26"
             ],
             [
              1,
              "#f0f921"
             ]
            ],
            "type": "contour"
           }
          ],
          "contourcarpet": [
           {
            "colorbar": {
             "outlinewidth": 0,
             "ticks": ""
            },
            "type": "contourcarpet"
           }
          ],
          "heatmap": [
           {
            "colorbar": {
             "outlinewidth": 0,
             "ticks": ""
            },
            "colorscale": [
             [
              0,
              "#0d0887"
             ],
             [
              0.1111111111111111,
              "#46039f"
             ],
             [
              0.2222222222222222,
              "#7201a8"
             ],
             [
              0.3333333333333333,
              "#9c179e"
             ],
             [
              0.4444444444444444,
              "#bd3786"
             ],
             [
              0.5555555555555556,
              "#d8576b"
             ],
             [
              0.6666666666666666,
              "#ed7953"
             ],
             [
              0.7777777777777778,
              "#fb9f3a"
             ],
             [
              0.8888888888888888,
              "#fdca26"
             ],
             [
              1,
              "#f0f921"
             ]
            ],
            "type": "heatmap"
           }
          ],
          "histogram": [
           {
            "marker": {
             "pattern": {
              "fillmode": "overlay",
              "size": 10,
              "solidity": 0.2
             }
            },
            "type": "histogram"
           }
          ],
          "histogram2d": [
           {
            "colorbar": {
             "outlinewidth": 0,
             "ticks": ""
            },
            "colorscale": [
             [
              0,
              "#0d0887"
             ],
             [
              0.1111111111111111,
              "#46039f"
             ],
             [
              0.2222222222222222,
              "#7201a8"
             ],
             [
              0.3333333333333333,
              "#9c179e"
             ],
             [
              0.4444444444444444,
              "#bd3786"
             ],
             [
              0.5555555555555556,
              "#d8576b"
             ],
             [
              0.6666666666666666,
              "#ed7953"
             ],
             [
              0.7777777777777778,
              "#fb9f3a"
             ],
             [
              0.8888888888888888,
              "#fdca26"
             ],
             [
              1,
              "#f0f921"
             ]
            ],
            "type": "histogram2d"
           }
          ],
          "histogram2dcontour": [
           {
            "colorbar": {
             "outlinewidth": 0,
             "ticks": ""
            },
            "colorscale": [
             [
              0,
              "#0d0887"
             ],
             [
              0.1111111111111111,
              "#46039f"
             ],
             [
              0.2222222222222222,
              "#7201a8"
             ],
             [
              0.3333333333333333,
              "#9c179e"
             ],
             [
              0.4444444444444444,
              "#bd3786"
             ],
             [
              0.5555555555555556,
              "#d8576b"
             ],
             [
              0.6666666666666666,
              "#ed7953"
             ],
             [
              0.7777777777777778,
              "#fb9f3a"
             ],
             [
              0.8888888888888888,
              "#fdca26"
             ],
             [
              1,
              "#f0f921"
             ]
            ],
            "type": "histogram2dcontour"
           }
          ],
          "mesh3d": [
           {
            "colorbar": {
             "outlinewidth": 0,
             "ticks": ""
            },
            "type": "mesh3d"
           }
          ],
          "parcoords": [
           {
            "line": {
             "colorbar": {
              "outlinewidth": 0,
              "ticks": ""
             }
            },
            "type": "parcoords"
           }
          ],
          "pie": [
           {
            "automargin": true,
            "type": "pie"
           }
          ],
          "scatter": [
           {
            "fillpattern": {
             "fillmode": "overlay",
             "size": 10,
             "solidity": 0.2
            },
            "type": "scatter"
           }
          ],
          "scatter3d": [
           {
            "line": {
             "colorbar": {
              "outlinewidth": 0,
              "ticks": ""
             }
            },
            "marker": {
             "colorbar": {
              "outlinewidth": 0,
              "ticks": ""
             }
            },
            "type": "scatter3d"
           }
          ],
          "scattercarpet": [
           {
            "marker": {
             "colorbar": {
              "outlinewidth": 0,
              "ticks": ""
             }
            },
            "type": "scattercarpet"
           }
          ],
          "scattergeo": [
           {
            "marker": {
             "colorbar": {
              "outlinewidth": 0,
              "ticks": ""
             }
            },
            "type": "scattergeo"
           }
          ],
          "scattergl": [
           {
            "marker": {
             "colorbar": {
              "outlinewidth": 0,
              "ticks": ""
             }
            },
            "type": "scattergl"
           }
          ],
          "scattermap": [
           {
            "marker": {
             "colorbar": {
              "outlinewidth": 0,
              "ticks": ""
             }
            },
            "type": "scattermap"
           }
          ],
          "scattermapbox": [
           {
            "marker": {
             "colorbar": {
              "outlinewidth": 0,
              "ticks": ""
             }
            },
            "type": "scattermapbox"
           }
          ],
          "scatterpolar": [
           {
            "marker": {
             "colorbar": {
              "outlinewidth": 0,
              "ticks": ""
             }
            },
            "type": "scatterpolar"
           }
          ],
          "scatterpolargl": [
           {
            "marker": {
             "colorbar": {
              "outlinewidth": 0,
              "ticks": ""
             }
            },
            "type": "scatterpolargl"
           }
          ],
          "scatterternary": [
           {
            "marker": {
             "colorbar": {
              "outlinewidth": 0,
              "ticks": ""
             }
            },
            "type": "scatterternary"
           }
          ],
          "surface": [
           {
            "colorbar": {
             "outlinewidth": 0,
             "ticks": ""
            },
            "colorscale": [
             [
              0,
              "#0d0887"
             ],
             [
              0.1111111111111111,
              "#46039f"
             ],
             [
              0.2222222222222222,
              "#7201a8"
             ],
             [
              0.3333333333333333,
              "#9c179e"
             ],
             [
              0.4444444444444444,
              "#bd3786"
             ],
             [
              0.5555555555555556,
              "#d8576b"
             ],
             [
              0.6666666666666666,
              "#ed7953"
             ],
             [
              0.7777777777777778,
              "#fb9f3a"
             ],
             [
              0.8888888888888888,
              "#fdca26"
             ],
             [
              1,
              "#f0f921"
             ]
            ],
            "type": "surface"
           }
          ],
          "table": [
           {
            "cells": {
             "fill": {
              "color": "#EBF0F8"
             },
             "line": {
              "color": "white"
             }
            },
            "header": {
             "fill": {
              "color": "#C8D4E3"
             },
             "line": {
              "color": "white"
             }
            },
            "type": "table"
           }
          ]
         },
         "layout": {
          "annotationdefaults": {
           "arrowcolor": "#2a3f5f",
           "arrowhead": 0,
           "arrowwidth": 1
          },
          "autotypenumbers": "strict",
          "coloraxis": {
           "colorbar": {
            "outlinewidth": 0,
            "ticks": ""
           }
          },
          "colorscale": {
           "diverging": [
            [
             0,
             "#8e0152"
            ],
            [
             0.1,
             "#c51b7d"
            ],
            [
             0.2,
             "#de77ae"
            ],
            [
             0.3,
             "#f1b6da"
            ],
            [
             0.4,
             "#fde0ef"
            ],
            [
             0.5,
             "#f7f7f7"
            ],
            [
             0.6,
             "#e6f5d0"
            ],
            [
             0.7,
             "#b8e186"
            ],
            [
             0.8,
             "#7fbc41"
            ],
            [
             0.9,
             "#4d9221"
            ],
            [
             1,
             "#276419"
            ]
           ],
           "sequential": [
            [
             0,
             "#0d0887"
            ],
            [
             0.1111111111111111,
             "#46039f"
            ],
            [
             0.2222222222222222,
             "#7201a8"
            ],
            [
             0.3333333333333333,
             "#9c179e"
            ],
            [
             0.4444444444444444,
             "#bd3786"
            ],
            [
             0.5555555555555556,
             "#d8576b"
            ],
            [
             0.6666666666666666,
             "#ed7953"
            ],
            [
             0.7777777777777778,
             "#fb9f3a"
            ],
            [
             0.8888888888888888,
             "#fdca26"
            ],
            [
             1,
             "#f0f921"
            ]
           ],
           "sequentialminus": [
            [
             0,
             "#0d0887"
            ],
            [
             0.1111111111111111,
             "#46039f"
            ],
            [
             0.2222222222222222,
             "#7201a8"
            ],
            [
             0.3333333333333333,
             "#9c179e"
            ],
            [
             0.4444444444444444,
             "#bd3786"
            ],
            [
             0.5555555555555556,
             "#d8576b"
            ],
            [
             0.6666666666666666,
             "#ed7953"
            ],
            [
             0.7777777777777778,
             "#fb9f3a"
            ],
            [
             0.8888888888888888,
             "#fdca26"
            ],
            [
             1,
             "#f0f921"
            ]
           ]
          },
          "colorway": [
           "#636efa",
           "#EF553B",
           "#00cc96",
           "#ab63fa",
           "#FFA15A",
           "#19d3f3",
           "#FF6692",
           "#B6E880",
           "#FF97FF",
           "#FECB52"
          ],
          "font": {
           "color": "#2a3f5f"
          },
          "geo": {
           "bgcolor": "white",
           "lakecolor": "white",
           "landcolor": "#E5ECF6",
           "showlakes": true,
           "showland": true,
           "subunitcolor": "white"
          },
          "hoverlabel": {
           "align": "left"
          },
          "hovermode": "closest",
          "mapbox": {
           "style": "light"
          },
          "paper_bgcolor": "white",
          "plot_bgcolor": "#E5ECF6",
          "polar": {
           "angularaxis": {
            "gridcolor": "white",
            "linecolor": "white",
            "ticks": ""
           },
           "bgcolor": "#E5ECF6",
           "radialaxis": {
            "gridcolor": "white",
            "linecolor": "white",
            "ticks": ""
           }
          },
          "scene": {
           "xaxis": {
            "backgroundcolor": "#E5ECF6",
            "gridcolor": "white",
            "gridwidth": 2,
            "linecolor": "white",
            "showbackground": true,
            "ticks": "",
            "zerolinecolor": "white"
           },
           "yaxis": {
            "backgroundcolor": "#E5ECF6",
            "gridcolor": "white",
            "gridwidth": 2,
            "linecolor": "white",
            "showbackground": true,
            "ticks": "",
            "zerolinecolor": "white"
           },
           "zaxis": {
            "backgroundcolor": "#E5ECF6",
            "gridcolor": "white",
            "gridwidth": 2,
            "linecolor": "white",
            "showbackground": true,
            "ticks": "",
            "zerolinecolor": "white"
           }
          },
          "shapedefaults": {
           "line": {
            "color": "#2a3f5f"
           }
          },
          "ternary": {
           "aaxis": {
            "gridcolor": "white",
            "linecolor": "white",
            "ticks": ""
           },
           "baxis": {
            "gridcolor": "white",
            "linecolor": "white",
            "ticks": ""
           },
           "bgcolor": "#E5ECF6",
           "caxis": {
            "gridcolor": "white",
            "linecolor": "white",
            "ticks": ""
           }
          },
          "title": {
           "x": 0.05
          },
          "xaxis": {
           "automargin": true,
           "gridcolor": "white",
           "linecolor": "white",
           "ticks": "",
           "title": {
            "standoff": 15
           },
           "zerolinecolor": "white",
           "zerolinewidth": 2
          },
          "yaxis": {
           "automargin": true,
           "gridcolor": "white",
           "linecolor": "white",
           "ticks": "",
           "title": {
            "standoff": 15
           },
           "zerolinecolor": "white",
           "zerolinewidth": 2
          }
         }
        },
        "title": {
         "text": "Diabetes Percentage Distribution"
        },
        "width": 400
       }
      }
     },
     "metadata": {},
     "output_type": "display_data"
    },
    {
     "data": {
      "application/vnd.plotly.v1+json": {
       "config": {
        "plotlyServerURL": "https://plot.ly"
       },
       "data": [
        {
         "domain": {
          "x": [
           0,
           1
          ],
          "y": [
           0,
           1
          ]
         },
         "hovertemplate": "label=%{label}<br>value=%{value}<extra></extra>",
         "labels": {
          "bdata": "AAE=",
          "dtype": "i1"
         },
         "legendgroup": "",
         "name": "",
         "showlegend": true,
         "type": "pie",
         "values": {
          "bdata": "9H0BALsKAAA=",
          "dtype": "i4"
         }
        }
       ],
       "layout": {
        "height": 400,
        "legend": {
         "tracegroupgap": 0
        },
        "template": {
         "data": {
          "bar": [
           {
            "error_x": {
             "color": "#2a3f5f"
            },
            "error_y": {
             "color": "#2a3f5f"
            },
            "marker": {
             "line": {
              "color": "#E5ECF6",
              "width": 0.5
             },
             "pattern": {
              "fillmode": "overlay",
              "size": 10,
              "solidity": 0.2
             }
            },
            "type": "bar"
           }
          ],
          "barpolar": [
           {
            "marker": {
             "line": {
              "color": "#E5ECF6",
              "width": 0.5
             },
             "pattern": {
              "fillmode": "overlay",
              "size": 10,
              "solidity": 0.2
             }
            },
            "type": "barpolar"
           }
          ],
          "carpet": [
           {
            "aaxis": {
             "endlinecolor": "#2a3f5f",
             "gridcolor": "white",
             "linecolor": "white",
             "minorgridcolor": "white",
             "startlinecolor": "#2a3f5f"
            },
            "baxis": {
             "endlinecolor": "#2a3f5f",
             "gridcolor": "white",
             "linecolor": "white",
             "minorgridcolor": "white",
             "startlinecolor": "#2a3f5f"
            },
            "type": "carpet"
           }
          ],
          "choropleth": [
           {
            "colorbar": {
             "outlinewidth": 0,
             "ticks": ""
            },
            "type": "choropleth"
           }
          ],
          "contour": [
           {
            "colorbar": {
             "outlinewidth": 0,
             "ticks": ""
            },
            "colorscale": [
             [
              0,
              "#0d0887"
             ],
             [
              0.1111111111111111,
              "#46039f"
             ],
             [
              0.2222222222222222,
              "#7201a8"
             ],
             [
              0.3333333333333333,
              "#9c179e"
             ],
             [
              0.4444444444444444,
              "#bd3786"
             ],
             [
              0.5555555555555556,
              "#d8576b"
             ],
             [
              0.6666666666666666,
              "#ed7953"
             ],
             [
              0.7777777777777778,
              "#fb9f3a"
             ],
             [
              0.8888888888888888,
              "#fdca26"
             ],
             [
              1,
              "#f0f921"
             ]
            ],
            "type": "contour"
           }
          ],
          "contourcarpet": [
           {
            "colorbar": {
             "outlinewidth": 0,
             "ticks": ""
            },
            "type": "contourcarpet"
           }
          ],
          "heatmap": [
           {
            "colorbar": {
             "outlinewidth": 0,
             "ticks": ""
            },
            "colorscale": [
             [
              0,
              "#0d0887"
             ],
             [
              0.1111111111111111,
              "#46039f"
             ],
             [
              0.2222222222222222,
              "#7201a8"
             ],
             [
              0.3333333333333333,
              "#9c179e"
             ],
             [
              0.4444444444444444,
              "#bd3786"
             ],
             [
              0.5555555555555556,
              "#d8576b"
             ],
             [
              0.6666666666666666,
              "#ed7953"
             ],
             [
              0.7777777777777778,
              "#fb9f3a"
             ],
             [
              0.8888888888888888,
              "#fdca26"
             ],
             [
              1,
              "#f0f921"
             ]
            ],
            "type": "heatmap"
           }
          ],
          "histogram": [
           {
            "marker": {
             "pattern": {
              "fillmode": "overlay",
              "size": 10,
              "solidity": 0.2
             }
            },
            "type": "histogram"
           }
          ],
          "histogram2d": [
           {
            "colorbar": {
             "outlinewidth": 0,
             "ticks": ""
            },
            "colorscale": [
             [
              0,
              "#0d0887"
             ],
             [
              0.1111111111111111,
              "#46039f"
             ],
             [
              0.2222222222222222,
              "#7201a8"
             ],
             [
              0.3333333333333333,
              "#9c179e"
             ],
             [
              0.4444444444444444,
              "#bd3786"
             ],
             [
              0.5555555555555556,
              "#d8576b"
             ],
             [
              0.6666666666666666,
              "#ed7953"
             ],
             [
              0.7777777777777778,
              "#fb9f3a"
             ],
             [
              0.8888888888888888,
              "#fdca26"
             ],
             [
              1,
              "#f0f921"
             ]
            ],
            "type": "histogram2d"
           }
          ],
          "histogram2dcontour": [
           {
            "colorbar": {
             "outlinewidth": 0,
             "ticks": ""
            },
            "colorscale": [
             [
              0,
              "#0d0887"
             ],
             [
              0.1111111111111111,
              "#46039f"
             ],
             [
              0.2222222222222222,
              "#7201a8"
             ],
             [
              0.3333333333333333,
              "#9c179e"
             ],
             [
              0.4444444444444444,
              "#bd3786"
             ],
             [
              0.5555555555555556,
              "#d8576b"
             ],
             [
              0.6666666666666666,
              "#ed7953"
             ],
             [
              0.7777777777777778,
              "#fb9f3a"
             ],
             [
              0.8888888888888888,
              "#fdca26"
             ],
             [
              1,
              "#f0f921"
             ]
            ],
            "type": "histogram2dcontour"
           }
          ],
          "mesh3d": [
           {
            "colorbar": {
             "outlinewidth": 0,
             "ticks": ""
            },
            "type": "mesh3d"
           }
          ],
          "parcoords": [
           {
            "line": {
             "colorbar": {
              "outlinewidth": 0,
              "ticks": ""
             }
            },
            "type": "parcoords"
           }
          ],
          "pie": [
           {
            "automargin": true,
            "type": "pie"
           }
          ],
          "scatter": [
           {
            "fillpattern": {
             "fillmode": "overlay",
             "size": 10,
             "solidity": 0.2
            },
            "type": "scatter"
           }
          ],
          "scatter3d": [
           {
            "line": {
             "colorbar": {
              "outlinewidth": 0,
              "ticks": ""
             }
            },
            "marker": {
             "colorbar": {
              "outlinewidth": 0,
              "ticks": ""
             }
            },
            "type": "scatter3d"
           }
          ],
          "scattercarpet": [
           {
            "marker": {
             "colorbar": {
              "outlinewidth": 0,
              "ticks": ""
             }
            },
            "type": "scattercarpet"
           }
          ],
          "scattergeo": [
           {
            "marker": {
             "colorbar": {
              "outlinewidth": 0,
              "ticks": ""
             }
            },
            "type": "scattergeo"
           }
          ],
          "scattergl": [
           {
            "marker": {
             "colorbar": {
              "outlinewidth": 0,
              "ticks": ""
             }
            },
            "type": "scattergl"
           }
          ],
          "scattermap": [
           {
            "marker": {
             "colorbar": {
              "outlinewidth": 0,
              "ticks": ""
             }
            },
            "type": "scattermap"
           }
          ],
          "scattermapbox": [
           {
            "marker": {
             "colorbar": {
              "outlinewidth": 0,
              "ticks": ""
             }
            },
            "type": "scattermapbox"
           }
          ],
          "scatterpolar": [
           {
            "marker": {
             "colorbar": {
              "outlinewidth": 0,
              "ticks": ""
             }
            },
            "type": "scatterpolar"
           }
          ],
          "scatterpolargl": [
           {
            "marker": {
             "colorbar": {
              "outlinewidth": 0,
              "ticks": ""
             }
            },
            "type": "scatterpolargl"
           }
          ],
          "scatterternary": [
           {
            "marker": {
             "colorbar": {
              "outlinewidth": 0,
              "ticks": ""
             }
            },
            "type": "scatterternary"
           }
          ],
          "surface": [
           {
            "colorbar": {
             "outlinewidth": 0,
             "ticks": ""
            },
            "colorscale": [
             [
              0,
              "#0d0887"
             ],
             [
              0.1111111111111111,
              "#46039f"
             ],
             [
              0.2222222222222222,
              "#7201a8"
             ],
             [
              0.3333333333333333,
              "#9c179e"
             ],
             [
              0.4444444444444444,
              "#bd3786"
             ],
             [
              0.5555555555555556,
              "#d8576b"
             ],
             [
              0.6666666666666666,
              "#ed7953"
             ],
             [
              0.7777777777777778,
              "#fb9f3a"
             ],
             [
              0.8888888888888888,
              "#fdca26"
             ],
             [
              1,
              "#f0f921"
             ]
            ],
            "type": "surface"
           }
          ],
          "table": [
           {
            "cells": {
             "fill": {
              "color": "#EBF0F8"
             },
             "line": {
              "color": "white"
             }
            },
            "header": {
             "fill": {
              "color": "#C8D4E3"
             },
             "line": {
              "color": "white"
             }
            },
            "type": "table"
           }
          ]
         },
         "layout": {
          "annotationdefaults": {
           "arrowcolor": "#2a3f5f",
           "arrowhead": 0,
           "arrowwidth": 1
          },
          "autotypenumbers": "strict",
          "coloraxis": {
           "colorbar": {
            "outlinewidth": 0,
            "ticks": ""
           }
          },
          "colorscale": {
           "diverging": [
            [
             0,
             "#8e0152"
            ],
            [
             0.1,
             "#c51b7d"
            ],
            [
             0.2,
             "#de77ae"
            ],
            [
             0.3,
             "#f1b6da"
            ],
            [
             0.4,
             "#fde0ef"
            ],
            [
             0.5,
             "#f7f7f7"
            ],
            [
             0.6,
             "#e6f5d0"
            ],
            [
             0.7,
             "#b8e186"
            ],
            [
             0.8,
             "#7fbc41"
            ],
            [
             0.9,
             "#4d9221"
            ],
            [
             1,
             "#276419"
            ]
           ],
           "sequential": [
            [
             0,
             "#0d0887"
            ],
            [
             0.1111111111111111,
             "#46039f"
            ],
            [
             0.2222222222222222,
             "#7201a8"
            ],
            [
             0.3333333333333333,
             "#9c179e"
            ],
            [
             0.4444444444444444,
             "#bd3786"
            ],
            [
             0.5555555555555556,
             "#d8576b"
            ],
            [
             0.6666666666666666,
             "#ed7953"
            ],
            [
             0.7777777777777778,
             "#fb9f3a"
            ],
            [
             0.8888888888888888,
             "#fdca26"
            ],
            [
             1,
             "#f0f921"
            ]
           ],
           "sequentialminus": [
            [
             0,
             "#0d0887"
            ],
            [
             0.1111111111111111,
             "#46039f"
            ],
            [
             0.2222222222222222,
             "#7201a8"
            ],
            [
             0.3333333333333333,
             "#9c179e"
            ],
            [
             0.4444444444444444,
             "#bd3786"
            ],
            [
             0.5555555555555556,
             "#d8576b"
            ],
            [
             0.6666666666666666,
             "#ed7953"
            ],
            [
             0.7777777777777778,
             "#fb9f3a"
            ],
            [
             0.8888888888888888,
             "#fdca26"
            ],
            [
             1,
             "#f0f921"
            ]
           ]
          },
          "colorway": [
           "#636efa",
           "#EF553B",
           "#00cc96",
           "#ab63fa",
           "#FFA15A",
           "#19d3f3",
           "#FF6692",
           "#B6E880",
           "#FF97FF",
           "#FECB52"
          ],
          "font": {
           "color": "#2a3f5f"
          },
          "geo": {
           "bgcolor": "white",
           "lakecolor": "white",
           "landcolor": "#E5ECF6",
           "showlakes": true,
           "showland": true,
           "subunitcolor": "white"
          },
          "hoverlabel": {
           "align": "left"
          },
          "hovermode": "closest",
          "mapbox": {
           "style": "light"
          },
          "paper_bgcolor": "white",
          "plot_bgcolor": "#E5ECF6",
          "polar": {
           "angularaxis": {
            "gridcolor": "white",
            "linecolor": "white",
            "ticks": ""
           },
           "bgcolor": "#E5ECF6",
           "radialaxis": {
            "gridcolor": "white",
            "linecolor": "white",
            "ticks": ""
           }
          },
          "scene": {
           "xaxis": {
            "backgroundcolor": "#E5ECF6",
            "gridcolor": "white",
            "gridwidth": 2,
            "linecolor": "white",
            "showbackground": true,
            "ticks": "",
            "zerolinecolor": "white"
           },
           "yaxis": {
            "backgroundcolor": "#E5ECF6",
            "gridcolor": "white",
            "gridwidth": 2,
            "linecolor": "white",
            "showbackground": true,
            "ticks": "",
            "zerolinecolor": "white"
           },
           "zaxis": {
            "backgroundcolor": "#E5ECF6",
            "gridcolor": "white",
            "gridwidth": 2,
            "linecolor": "white",
            "showbackground": true,
            "ticks": "",
            "zerolinecolor": "white"
           }
          },
          "shapedefaults": {
           "line": {
            "color": "#2a3f5f"
           }
          },
          "ternary": {
           "aaxis": {
            "gridcolor": "white",
            "linecolor": "white",
            "ticks": ""
           },
           "baxis": {
            "gridcolor": "white",
            "linecolor": "white",
            "ticks": ""
           },
           "bgcolor": "#E5ECF6",
           "caxis": {
            "gridcolor": "white",
            "linecolor": "white",
            "ticks": ""
           }
          },
          "title": {
           "x": 0.05
          },
          "xaxis": {
           "automargin": true,
           "gridcolor": "white",
           "linecolor": "white",
           "ticks": "",
           "title": {
            "standoff": 15
           },
           "zerolinecolor": "white",
           "zerolinewidth": 2
          },
          "yaxis": {
           "automargin": true,
           "gridcolor": "white",
           "linecolor": "white",
           "ticks": "",
           "title": {
            "standoff": 15
           },
           "zerolinecolor": "white",
           "zerolinewidth": 2
          }
         }
        },
        "title": {
         "text": "Alcoholism Percentage Distribution"
        },
        "width": 400
       }
      }
     },
     "metadata": {},
     "output_type": "display_data"
    },
    {
     "data": {
      "application/vnd.plotly.v1+json": {
       "config": {
        "plotlyServerURL": "https://plot.ly"
       },
       "data": [
        {
         "domain": {
          "x": [
           0,
           1
          ],
          "y": [
           0,
           1
          ]
         },
         "hovertemplate": "label=%{label}<br>value=%{value}<extra></extra>",
         "labels": {
          "bdata": "AAECAwQ=",
          "dtype": "i1"
         },
         "legendgroup": "",
         "name": "",
         "showlegend": true,
         "type": "pie",
         "values": {
          "bdata": "u4ABAD0HAACoAAAADAAAAAMAAAA=",
          "dtype": "i4"
         }
        }
       ],
       "layout": {
        "height": 400,
        "legend": {
         "tracegroupgap": 0
        },
        "template": {
         "data": {
          "bar": [
           {
            "error_x": {
             "color": "#2a3f5f"
            },
            "error_y": {
             "color": "#2a3f5f"
            },
            "marker": {
             "line": {
              "color": "#E5ECF6",
              "width": 0.5
             },
             "pattern": {
              "fillmode": "overlay",
              "size": 10,
              "solidity": 0.2
             }
            },
            "type": "bar"
           }
          ],
          "barpolar": [
           {
            "marker": {
             "line": {
              "color": "#E5ECF6",
              "width": 0.5
             },
             "pattern": {
              "fillmode": "overlay",
              "size": 10,
              "solidity": 0.2
             }
            },
            "type": "barpolar"
           }
          ],
          "carpet": [
           {
            "aaxis": {
             "endlinecolor": "#2a3f5f",
             "gridcolor": "white",
             "linecolor": "white",
             "minorgridcolor": "white",
             "startlinecolor": "#2a3f5f"
            },
            "baxis": {
             "endlinecolor": "#2a3f5f",
             "gridcolor": "white",
             "linecolor": "white",
             "minorgridcolor": "white",
             "startlinecolor": "#2a3f5f"
            },
            "type": "carpet"
           }
          ],
          "choropleth": [
           {
            "colorbar": {
             "outlinewidth": 0,
             "ticks": ""
            },
            "type": "choropleth"
           }
          ],
          "contour": [
           {
            "colorbar": {
             "outlinewidth": 0,
             "ticks": ""
            },
            "colorscale": [
             [
              0,
              "#0d0887"
             ],
             [
              0.1111111111111111,
              "#46039f"
             ],
             [
              0.2222222222222222,
              "#7201a8"
             ],
             [
              0.3333333333333333,
              "#9c179e"
             ],
             [
              0.4444444444444444,
              "#bd3786"
             ],
             [
              0.5555555555555556,
              "#d8576b"
             ],
             [
              0.6666666666666666,
              "#ed7953"
             ],
             [
              0.7777777777777778,
              "#fb9f3a"
             ],
             [
              0.8888888888888888,
              "#fdca26"
             ],
             [
              1,
              "#f0f921"
             ]
            ],
            "type": "contour"
           }
          ],
          "contourcarpet": [
           {
            "colorbar": {
             "outlinewidth": 0,
             "ticks": ""
            },
            "type": "contourcarpet"
           }
          ],
          "heatmap": [
           {
            "colorbar": {
             "outlinewidth": 0,
             "ticks": ""
            },
            "colorscale": [
             [
              0,
              "#0d0887"
             ],
             [
              0.1111111111111111,
              "#46039f"
             ],
             [
              0.2222222222222222,
              "#7201a8"
             ],
             [
              0.3333333333333333,
              "#9c179e"
             ],
             [
              0.4444444444444444,
              "#bd3786"
             ],
             [
              0.5555555555555556,
              "#d8576b"
             ],
             [
              0.6666666666666666,
              "#ed7953"
             ],
             [
              0.7777777777777778,
              "#fb9f3a"
             ],
             [
              0.8888888888888888,
              "#fdca26"
             ],
             [
              1,
              "#f0f921"
             ]
            ],
            "type": "heatmap"
           }
          ],
          "histogram": [
           {
            "marker": {
             "pattern": {
              "fillmode": "overlay",
              "size": 10,
              "solidity": 0.2
             }
            },
            "type": "histogram"
           }
          ],
          "histogram2d": [
           {
            "colorbar": {
             "outlinewidth": 0,
             "ticks": ""
            },
            "colorscale": [
             [
              0,
              "#0d0887"
             ],
             [
              0.1111111111111111,
              "#46039f"
             ],
             [
              0.2222222222222222,
              "#7201a8"
             ],
             [
              0.3333333333333333,
              "#9c179e"
             ],
             [
              0.4444444444444444,
              "#bd3786"
             ],
             [
              0.5555555555555556,
              "#d8576b"
             ],
             [
              0.6666666666666666,
              "#ed7953"
             ],
             [
              0.7777777777777778,
              "#fb9f3a"
             ],
             [
              0.8888888888888888,
              "#fdca26"
             ],
             [
              1,
              "#f0f921"
             ]
            ],
            "type": "histogram2d"
           }
          ],
          "histogram2dcontour": [
           {
            "colorbar": {
             "outlinewidth": 0,
             "ticks": ""
            },
            "colorscale": [
             [
              0,
              "#0d0887"
             ],
             [
              0.1111111111111111,
              "#46039f"
             ],
             [
              0.2222222222222222,
              "#7201a8"
             ],
             [
              0.3333333333333333,
              "#9c179e"
             ],
             [
              0.4444444444444444,
              "#bd3786"
             ],
             [
              0.5555555555555556,
              "#d8576b"
             ],
             [
              0.6666666666666666,
              "#ed7953"
             ],
             [
              0.7777777777777778,
              "#fb9f3a"
             ],
             [
              0.8888888888888888,
              "#fdca26"
             ],
             [
              1,
              "#f0f921"
             ]
            ],
            "type": "histogram2dcontour"
           }
          ],
          "mesh3d": [
           {
            "colorbar": {
             "outlinewidth": 0,
             "ticks": ""
            },
            "type": "mesh3d"
           }
          ],
          "parcoords": [
           {
            "line": {
             "colorbar": {
              "outlinewidth": 0,
              "ticks": ""
             }
            },
            "type": "parcoords"
           }
          ],
          "pie": [
           {
            "automargin": true,
            "type": "pie"
           }
          ],
          "scatter": [
           {
            "fillpattern": {
             "fillmode": "overlay",
             "size": 10,
             "solidity": 0.2
            },
            "type": "scatter"
           }
          ],
          "scatter3d": [
           {
            "line": {
             "colorbar": {
              "outlinewidth": 0,
              "ticks": ""
             }
            },
            "marker": {
             "colorbar": {
              "outlinewidth": 0,
              "ticks": ""
             }
            },
            "type": "scatter3d"
           }
          ],
          "scattercarpet": [
           {
            "marker": {
             "colorbar": {
              "outlinewidth": 0,
              "ticks": ""
             }
            },
            "type": "scattercarpet"
           }
          ],
          "scattergeo": [
           {
            "marker": {
             "colorbar": {
              "outlinewidth": 0,
              "ticks": ""
             }
            },
            "type": "scattergeo"
           }
          ],
          "scattergl": [
           {
            "marker": {
             "colorbar": {
              "outlinewidth": 0,
              "ticks": ""
             }
            },
            "type": "scattergl"
           }
          ],
          "scattermap": [
           {
            "marker": {
             "colorbar": {
              "outlinewidth": 0,
              "ticks": ""
             }
            },
            "type": "scattermap"
           }
          ],
          "scattermapbox": [
           {
            "marker": {
             "colorbar": {
              "outlinewidth": 0,
              "ticks": ""
             }
            },
            "type": "scattermapbox"
           }
          ],
          "scatterpolar": [
           {
            "marker": {
             "colorbar": {
              "outlinewidth": 0,
              "ticks": ""
             }
            },
            "type": "scatterpolar"
           }
          ],
          "scatterpolargl": [
           {
            "marker": {
             "colorbar": {
              "outlinewidth": 0,
              "ticks": ""
             }
            },
            "type": "scatterpolargl"
           }
          ],
          "scatterternary": [
           {
            "marker": {
             "colorbar": {
              "outlinewidth": 0,
              "ticks": ""
             }
            },
            "type": "scatterternary"
           }
          ],
          "surface": [
           {
            "colorbar": {
             "outlinewidth": 0,
             "ticks": ""
            },
            "colorscale": [
             [
              0,
              "#0d0887"
             ],
             [
              0.1111111111111111,
              "#46039f"
             ],
             [
              0.2222222222222222,
              "#7201a8"
             ],
             [
              0.3333333333333333,
              "#9c179e"
             ],
             [
              0.4444444444444444,
              "#bd3786"
             ],
             [
              0.5555555555555556,
              "#d8576b"
             ],
             [
              0.6666666666666666,
              "#ed7953"
             ],
             [
              0.7777777777777778,
              "#fb9f3a"
             ],
             [
              0.8888888888888888,
              "#fdca26"
             ],
             [
              1,
              "#f0f921"
             ]
            ],
            "type": "surface"
           }
          ],
          "table": [
           {
            "cells": {
             "fill": {
              "color": "#EBF0F8"
             },
             "line": {
              "color": "white"
             }
            },
            "header": {
             "fill": {
              "color": "#C8D4E3"
             },
             "line": {
              "color": "white"
             }
            },
            "type": "table"
           }
          ]
         },
         "layout": {
          "annotationdefaults": {
           "arrowcolor": "#2a3f5f",
           "arrowhead": 0,
           "arrowwidth": 1
          },
          "autotypenumbers": "strict",
          "coloraxis": {
           "colorbar": {
            "outlinewidth": 0,
            "ticks": ""
           }
          },
          "colorscale": {
           "diverging": [
            [
             0,
             "#8e0152"
            ],
            [
             0.1,
             "#c51b7d"
            ],
            [
             0.2,
             "#de77ae"
            ],
            [
             0.3,
             "#f1b6da"
            ],
            [
             0.4,
             "#fde0ef"
            ],
            [
             0.5,
             "#f7f7f7"
            ],
            [
             0.6,
             "#e6f5d0"
            ],
            [
             0.7,
             "#b8e186"
            ],
            [
             0.8,
             "#7fbc41"
            ],
            [
             0.9,
             "#4d9221"
            ],
            [
             1,
             "#276419"
            ]
           ],
           "sequential": [
            [
             0,
             "#0d0887"
            ],
            [
             0.1111111111111111,
             "#46039f"
            ],
            [
             0.2222222222222222,
             "#7201a8"
            ],
            [
             0.3333333333333333,
             "#9c179e"
            ],
            [
             0.4444444444444444,
             "#bd3786"
            ],
            [
             0.5555555555555556,
             "#d8576b"
            ],
            [
             0.6666666666666666,
             "#ed7953"
            ],
            [
             0.7777777777777778,
             "#fb9f3a"
            ],
            [
             0.8888888888888888,
             "#fdca26"
            ],
            [
             1,
             "#f0f921"
            ]
           ],
           "sequentialminus": [
            [
             0,
             "#0d0887"
            ],
            [
             0.1111111111111111,
             "#46039f"
            ],
            [
             0.2222222222222222,
             "#7201a8"
            ],
            [
             0.3333333333333333,
             "#9c179e"
            ],
            [
             0.4444444444444444,
             "#bd3786"
            ],
            [
             0.5555555555555556,
             "#d8576b"
            ],
            [
             0.6666666666666666,
             "#ed7953"
            ],
            [
             0.7777777777777778,
             "#fb9f3a"
            ],
            [
             0.8888888888888888,
             "#fdca26"
            ],
            [
             1,
             "#f0f921"
            ]
           ]
          },
          "colorway": [
           "#636efa",
           "#EF553B",
           "#00cc96",
           "#ab63fa",
           "#FFA15A",
           "#19d3f3",
           "#FF6692",
           "#B6E880",
           "#FF97FF",
           "#FECB52"
          ],
          "font": {
           "color": "#2a3f5f"
          },
          "geo": {
           "bgcolor": "white",
           "lakecolor": "white",
           "landcolor": "#E5ECF6",
           "showlakes": true,
           "showland": true,
           "subunitcolor": "white"
          },
          "hoverlabel": {
           "align": "left"
          },
          "hovermode": "closest",
          "mapbox": {
           "style": "light"
          },
          "paper_bgcolor": "white",
          "plot_bgcolor": "#E5ECF6",
          "polar": {
           "angularaxis": {
            "gridcolor": "white",
            "linecolor": "white",
            "ticks": ""
           },
           "bgcolor": "#E5ECF6",
           "radialaxis": {
            "gridcolor": "white",
            "linecolor": "white",
            "ticks": ""
           }
          },
          "scene": {
           "xaxis": {
            "backgroundcolor": "#E5ECF6",
            "gridcolor": "white",
            "gridwidth": 2,
            "linecolor": "white",
            "showbackground": true,
            "ticks": "",
            "zerolinecolor": "white"
           },
           "yaxis": {
            "backgroundcolor": "#E5ECF6",
            "gridcolor": "white",
            "gridwidth": 2,
            "linecolor": "white",
            "showbackground": true,
            "ticks": "",
            "zerolinecolor": "white"
           },
           "zaxis": {
            "backgroundcolor": "#E5ECF6",
            "gridcolor": "white",
            "gridwidth": 2,
            "linecolor": "white",
            "showbackground": true,
            "ticks": "",
            "zerolinecolor": "white"
           }
          },
          "shapedefaults": {
           "line": {
            "color": "#2a3f5f"
           }
          },
          "ternary": {
           "aaxis": {
            "gridcolor": "white",
            "linecolor": "white",
            "ticks": ""
           },
           "baxis": {
            "gridcolor": "white",
            "linecolor": "white",
            "ticks": ""
           },
           "bgcolor": "#E5ECF6",
           "caxis": {
            "gridcolor": "white",
            "linecolor": "white",
            "ticks": ""
           }
          },
          "title": {
           "x": 0.05
          },
          "xaxis": {
           "automargin": true,
           "gridcolor": "white",
           "linecolor": "white",
           "ticks": "",
           "title": {
            "standoff": 15
           },
           "zerolinecolor": "white",
           "zerolinewidth": 2
          },
          "yaxis": {
           "automargin": true,
           "gridcolor": "white",
           "linecolor": "white",
           "ticks": "",
           "title": {
            "standoff": 15
           },
           "zerolinecolor": "white",
           "zerolinewidth": 2
          }
         }
        },
        "title": {
         "text": "Handcap Percentage Distribution"
        },
        "width": 400
       }
      }
     },
     "metadata": {},
     "output_type": "display_data"
    },
    {
     "data": {
      "application/vnd.plotly.v1+json": {
       "config": {
        "plotlyServerURL": "https://plot.ly"
       },
       "data": [
        {
         "domain": {
          "x": [
           0,
           1
          ],
          "y": [
           0,
           1
          ]
         },
         "hovertemplate": "label=%{label}<br>value=%{value}<extra></extra>",
         "labels": {
          "bdata": "AQA=",
          "dtype": "i1"
         },
         "legendgroup": "",
         "name": "",
         "showlegend": true,
         "type": "pie",
         "values": {
          "bdata": "hgoBACl+AAA=",
          "dtype": "i4"
         }
        }
       ],
       "layout": {
        "height": 400,
        "legend": {
         "tracegroupgap": 0
        },
        "template": {
         "data": {
          "bar": [
           {
            "error_x": {
             "color": "#2a3f5f"
            },
            "error_y": {
             "color": "#2a3f5f"
            },
            "marker": {
             "line": {
              "color": "#E5ECF6",
              "width": 0.5
             },
             "pattern": {
              "fillmode": "overlay",
              "size": 10,
              "solidity": 0.2
             }
            },
            "type": "bar"
           }
          ],
          "barpolar": [
           {
            "marker": {
             "line": {
              "color": "#E5ECF6",
              "width": 0.5
             },
             "pattern": {
              "fillmode": "overlay",
              "size": 10,
              "solidity": 0.2
             }
            },
            "type": "barpolar"
           }
          ],
          "carpet": [
           {
            "aaxis": {
             "endlinecolor": "#2a3f5f",
             "gridcolor": "white",
             "linecolor": "white",
             "minorgridcolor": "white",
             "startlinecolor": "#2a3f5f"
            },
            "baxis": {
             "endlinecolor": "#2a3f5f",
             "gridcolor": "white",
             "linecolor": "white",
             "minorgridcolor": "white",
             "startlinecolor": "#2a3f5f"
            },
            "type": "carpet"
           }
          ],
          "choropleth": [
           {
            "colorbar": {
             "outlinewidth": 0,
             "ticks": ""
            },
            "type": "choropleth"
           }
          ],
          "contour": [
           {
            "colorbar": {
             "outlinewidth": 0,
             "ticks": ""
            },
            "colorscale": [
             [
              0,
              "#0d0887"
             ],
             [
              0.1111111111111111,
              "#46039f"
             ],
             [
              0.2222222222222222,
              "#7201a8"
             ],
             [
              0.3333333333333333,
              "#9c179e"
             ],
             [
              0.4444444444444444,
              "#bd3786"
             ],
             [
              0.5555555555555556,
              "#d8576b"
             ],
             [
              0.6666666666666666,
              "#ed7953"
             ],
             [
              0.7777777777777778,
              "#fb9f3a"
             ],
             [
              0.8888888888888888,
              "#fdca26"
             ],
             [
              1,
              "#f0f921"
             ]
            ],
            "type": "contour"
           }
          ],
          "contourcarpet": [
           {
            "colorbar": {
             "outlinewidth": 0,
             "ticks": ""
            },
            "type": "contourcarpet"
           }
          ],
          "heatmap": [
           {
            "colorbar": {
             "outlinewidth": 0,
             "ticks": ""
            },
            "colorscale": [
             [
              0,
              "#0d0887"
             ],
             [
              0.1111111111111111,
              "#46039f"
             ],
             [
              0.2222222222222222,
              "#7201a8"
             ],
             [
              0.3333333333333333,
              "#9c179e"
             ],
             [
              0.4444444444444444,
              "#bd3786"
             ],
             [
              0.5555555555555556,
              "#d8576b"
             ],
             [
              0.6666666666666666,
              "#ed7953"
             ],
             [
              0.7777777777777778,
              "#fb9f3a"
             ],
             [
              0.8888888888888888,
              "#fdca26"
             ],
             [
              1,
              "#f0f921"
             ]
            ],
            "type": "heatmap"
           }
          ],
          "histogram": [
           {
            "marker": {
             "pattern": {
              "fillmode": "overlay",
              "size": 10,
              "solidity": 0.2
             }
            },
            "type": "histogram"
           }
          ],
          "histogram2d": [
           {
            "colorbar": {
             "outlinewidth": 0,
             "ticks": ""
            },
            "colorscale": [
             [
              0,
              "#0d0887"
             ],
             [
              0.1111111111111111,
              "#46039f"
             ],
             [
              0.2222222222222222,
              "#7201a8"
             ],
             [
              0.3333333333333333,
              "#9c179e"
             ],
             [
              0.4444444444444444,
              "#bd3786"
             ],
             [
              0.5555555555555556,
              "#d8576b"
             ],
             [
              0.6666666666666666,
              "#ed7953"
             ],
             [
              0.7777777777777778,
              "#fb9f3a"
             ],
             [
              0.8888888888888888,
              "#fdca26"
             ],
             [
              1,
              "#f0f921"
             ]
            ],
            "type": "histogram2d"
           }
          ],
          "histogram2dcontour": [
           {
            "colorbar": {
             "outlinewidth": 0,
             "ticks": ""
            },
            "colorscale": [
             [
              0,
              "#0d0887"
             ],
             [
              0.1111111111111111,
              "#46039f"
             ],
             [
              0.2222222222222222,
              "#7201a8"
             ],
             [
              0.3333333333333333,
              "#9c179e"
             ],
             [
              0.4444444444444444,
              "#bd3786"
             ],
             [
              0.5555555555555556,
              "#d8576b"
             ],
             [
              0.6666666666666666,
              "#ed7953"
             ],
             [
              0.7777777777777778,
              "#fb9f3a"
             ],
             [
              0.8888888888888888,
              "#fdca26"
             ],
             [
              1,
              "#f0f921"
             ]
            ],
            "type": "histogram2dcontour"
           }
          ],
          "mesh3d": [
           {
            "colorbar": {
             "outlinewidth": 0,
             "ticks": ""
            },
            "type": "mesh3d"
           }
          ],
          "parcoords": [
           {
            "line": {
             "colorbar": {
              "outlinewidth": 0,
              "ticks": ""
             }
            },
            "type": "parcoords"
           }
          ],
          "pie": [
           {
            "automargin": true,
            "type": "pie"
           }
          ],
          "scatter": [
           {
            "fillpattern": {
             "fillmode": "overlay",
             "size": 10,
             "solidity": 0.2
            },
            "type": "scatter"
           }
          ],
          "scatter3d": [
           {
            "line": {
             "colorbar": {
              "outlinewidth": 0,
              "ticks": ""
             }
            },
            "marker": {
             "colorbar": {
              "outlinewidth": 0,
              "ticks": ""
             }
            },
            "type": "scatter3d"
           }
          ],
          "scattercarpet": [
           {
            "marker": {
             "colorbar": {
              "outlinewidth": 0,
              "ticks": ""
             }
            },
            "type": "scattercarpet"
           }
          ],
          "scattergeo": [
           {
            "marker": {
             "colorbar": {
              "outlinewidth": 0,
              "ticks": ""
             }
            },
            "type": "scattergeo"
           }
          ],
          "scattergl": [
           {
            "marker": {
             "colorbar": {
              "outlinewidth": 0,
              "ticks": ""
             }
            },
            "type": "scattergl"
           }
          ],
          "scattermap": [
           {
            "marker": {
             "colorbar": {
              "outlinewidth": 0,
              "ticks": ""
             }
            },
            "type": "scattermap"
           }
          ],
          "scattermapbox": [
           {
            "marker": {
             "colorbar": {
              "outlinewidth": 0,
              "ticks": ""
             }
            },
            "type": "scattermapbox"
           }
          ],
          "scatterpolar": [
           {
            "marker": {
             "colorbar": {
              "outlinewidth": 0,
              "ticks": ""
             }
            },
            "type": "scatterpolar"
           }
          ],
          "scatterpolargl": [
           {
            "marker": {
             "colorbar": {
              "outlinewidth": 0,
              "ticks": ""
             }
            },
            "type": "scatterpolargl"
           }
          ],
          "scatterternary": [
           {
            "marker": {
             "colorbar": {
              "outlinewidth": 0,
              "ticks": ""
             }
            },
            "type": "scatterternary"
           }
          ],
          "surface": [
           {
            "colorbar": {
             "outlinewidth": 0,
             "ticks": ""
            },
            "colorscale": [
             [
              0,
              "#0d0887"
             ],
             [
              0.1111111111111111,
              "#46039f"
             ],
             [
              0.2222222222222222,
              "#7201a8"
             ],
             [
              0.3333333333333333,
              "#9c179e"
             ],
             [
              0.4444444444444444,
              "#bd3786"
             ],
             [
              0.5555555555555556,
              "#d8576b"
             ],
             [
              0.6666666666666666,
              "#ed7953"
             ],
             [
              0.7777777777777778,
              "#fb9f3a"
             ],
             [
              0.8888888888888888,
              "#fdca26"
             ],
             [
              1,
              "#f0f921"
             ]
            ],
            "type": "surface"
           }
          ],
          "table": [
           {
            "cells": {
             "fill": {
              "color": "#EBF0F8"
             },
             "line": {
              "color": "white"
             }
            },
            "header": {
             "fill": {
              "color": "#C8D4E3"
             },
             "line": {
              "color": "white"
             }
            },
            "type": "table"
           }
          ]
         },
         "layout": {
          "annotationdefaults": {
           "arrowcolor": "#2a3f5f",
           "arrowhead": 0,
           "arrowwidth": 1
          },
          "autotypenumbers": "strict",
          "coloraxis": {
           "colorbar": {
            "outlinewidth": 0,
            "ticks": ""
           }
          },
          "colorscale": {
           "diverging": [
            [
             0,
             "#8e0152"
            ],
            [
             0.1,
             "#c51b7d"
            ],
            [
             0.2,
             "#de77ae"
            ],
            [
             0.3,
             "#f1b6da"
            ],
            [
             0.4,
             "#fde0ef"
            ],
            [
             0.5,
             "#f7f7f7"
            ],
            [
             0.6,
             "#e6f5d0"
            ],
            [
             0.7,
             "#b8e186"
            ],
            [
             0.8,
             "#7fbc41"
            ],
            [
             0.9,
             "#4d9221"
            ],
            [
             1,
             "#276419"
            ]
           ],
           "sequential": [
            [
             0,
             "#0d0887"
            ],
            [
             0.1111111111111111,
             "#46039f"
            ],
            [
             0.2222222222222222,
             "#7201a8"
            ],
            [
             0.3333333333333333,
             "#9c179e"
            ],
            [
             0.4444444444444444,
             "#bd3786"
            ],
            [
             0.5555555555555556,
             "#d8576b"
            ],
            [
             0.6666666666666666,
             "#ed7953"
            ],
            [
             0.7777777777777778,
             "#fb9f3a"
            ],
            [
             0.8888888888888888,
             "#fdca26"
            ],
            [
             1,
             "#f0f921"
            ]
           ],
           "sequentialminus": [
            [
             0,
             "#0d0887"
            ],
            [
             0.1111111111111111,
             "#46039f"
            ],
            [
             0.2222222222222222,
             "#7201a8"
            ],
            [
             0.3333333333333333,
             "#9c179e"
            ],
            [
             0.4444444444444444,
             "#bd3786"
            ],
            [
             0.5555555555555556,
             "#d8576b"
            ],
            [
             0.6666666666666666,
             "#ed7953"
            ],
            [
             0.7777777777777778,
             "#fb9f3a"
            ],
            [
             0.8888888888888888,
             "#fdca26"
            ],
            [
             1,
             "#f0f921"
            ]
           ]
          },
          "colorway": [
           "#636efa",
           "#EF553B",
           "#00cc96",
           "#ab63fa",
           "#FFA15A",
           "#19d3f3",
           "#FF6692",
           "#B6E880",
           "#FF97FF",
           "#FECB52"
          ],
          "font": {
           "color": "#2a3f5f"
          },
          "geo": {
           "bgcolor": "white",
           "lakecolor": "white",
           "landcolor": "#E5ECF6",
           "showlakes": true,
           "showland": true,
           "subunitcolor": "white"
          },
          "hoverlabel": {
           "align": "left"
          },
          "hovermode": "closest",
          "mapbox": {
           "style": "light"
          },
          "paper_bgcolor": "white",
          "plot_bgcolor": "#E5ECF6",
          "polar": {
           "angularaxis": {
            "gridcolor": "white",
            "linecolor": "white",
            "ticks": ""
           },
           "bgcolor": "#E5ECF6",
           "radialaxis": {
            "gridcolor": "white",
            "linecolor": "white",
            "ticks": ""
           }
          },
          "scene": {
           "xaxis": {
            "backgroundcolor": "#E5ECF6",
            "gridcolor": "white",
            "gridwidth": 2,
            "linecolor": "white",
            "showbackground": true,
            "ticks": "",
            "zerolinecolor": "white"
           },
           "yaxis": {
            "backgroundcolor": "#E5ECF6",
            "gridcolor": "white",
            "gridwidth": 2,
            "linecolor": "white",
            "showbackground": true,
            "ticks": "",
            "zerolinecolor": "white"
           },
           "zaxis": {
            "backgroundcolor": "#E5ECF6",
            "gridcolor": "white",
            "gridwidth": 2,
            "linecolor": "white",
            "showbackground": true,
            "ticks": "",
            "zerolinecolor": "white"
           }
          },
          "shapedefaults": {
           "line": {
            "color": "#2a3f5f"
           }
          },
          "ternary": {
           "aaxis": {
            "gridcolor": "white",
            "linecolor": "white",
            "ticks": ""
           },
           "baxis": {
            "gridcolor": "white",
            "linecolor": "white",
            "ticks": ""
           },
           "bgcolor": "#E5ECF6",
           "caxis": {
            "gridcolor": "white",
            "linecolor": "white",
            "ticks": ""
           }
          },
          "title": {
           "x": 0.05
          },
          "xaxis": {
           "automargin": true,
           "gridcolor": "white",
           "linecolor": "white",
           "ticks": "",
           "title": {
            "standoff": 15
           },
           "zerolinecolor": "white",
           "zerolinewidth": 2
          },
          "yaxis": {
           "automargin": true,
           "gridcolor": "white",
           "linecolor": "white",
           "ticks": "",
           "title": {
            "standoff": 15
           },
           "zerolinecolor": "white",
           "zerolinewidth": 2
          }
         }
        },
        "title": {
         "text": "SMS_received Percentage Distribution"
        },
        "width": 400
       }
      }
     },
     "metadata": {},
     "output_type": "display_data"
    },
    {
     "data": {
      "application/vnd.plotly.v1+json": {
       "config": {
        "plotlyServerURL": "https://plot.ly"
       },
       "data": [
        {
         "domain": {
          "x": [
           0,
           1
          ],
          "y": [
           0,
           1
          ]
         },
         "hovertemplate": "label=%{label}<br>value=%{value}<extra></extra>",
         "labels": [
          "No",
          "Yes"
         ],
         "legendgroup": "",
         "name": "",
         "showlegend": true,
         "type": "pie",
         "values": {
          "bdata": "dDkBADtPAAA=",
          "dtype": "i4"
         }
        }
       ],
       "layout": {
        "height": 400,
        "legend": {
         "tracegroupgap": 0
        },
        "template": {
         "data": {
          "bar": [
           {
            "error_x": {
             "color": "#2a3f5f"
            },
            "error_y": {
             "color": "#2a3f5f"
            },
            "marker": {
             "line": {
              "color": "#E5ECF6",
              "width": 0.5
             },
             "pattern": {
              "fillmode": "overlay",
              "size": 10,
              "solidity": 0.2
             }
            },
            "type": "bar"
           }
          ],
          "barpolar": [
           {
            "marker": {
             "line": {
              "color": "#E5ECF6",
              "width": 0.5
             },
             "pattern": {
              "fillmode": "overlay",
              "size": 10,
              "solidity": 0.2
             }
            },
            "type": "barpolar"
           }
          ],
          "carpet": [
           {
            "aaxis": {
             "endlinecolor": "#2a3f5f",
             "gridcolor": "white",
             "linecolor": "white",
             "minorgridcolor": "white",
             "startlinecolor": "#2a3f5f"
            },
            "baxis": {
             "endlinecolor": "#2a3f5f",
             "gridcolor": "white",
             "linecolor": "white",
             "minorgridcolor": "white",
             "startlinecolor": "#2a3f5f"
            },
            "type": "carpet"
           }
          ],
          "choropleth": [
           {
            "colorbar": {
             "outlinewidth": 0,
             "ticks": ""
            },
            "type": "choropleth"
           }
          ],
          "contour": [
           {
            "colorbar": {
             "outlinewidth": 0,
             "ticks": ""
            },
            "colorscale": [
             [
              0,
              "#0d0887"
             ],
             [
              0.1111111111111111,
              "#46039f"
             ],
             [
              0.2222222222222222,
              "#7201a8"
             ],
             [
              0.3333333333333333,
              "#9c179e"
             ],
             [
              0.4444444444444444,
              "#bd3786"
             ],
             [
              0.5555555555555556,
              "#d8576b"
             ],
             [
              0.6666666666666666,
              "#ed7953"
             ],
             [
              0.7777777777777778,
              "#fb9f3a"
             ],
             [
              0.8888888888888888,
              "#fdca26"
             ],
             [
              1,
              "#f0f921"
             ]
            ],
            "type": "contour"
           }
          ],
          "contourcarpet": [
           {
            "colorbar": {
             "outlinewidth": 0,
             "ticks": ""
            },
            "type": "contourcarpet"
           }
          ],
          "heatmap": [
           {
            "colorbar": {
             "outlinewidth": 0,
             "ticks": ""
            },
            "colorscale": [
             [
              0,
              "#0d0887"
             ],
             [
              0.1111111111111111,
              "#46039f"
             ],
             [
              0.2222222222222222,
              "#7201a8"
             ],
             [
              0.3333333333333333,
              "#9c179e"
             ],
             [
              0.4444444444444444,
              "#bd3786"
             ],
             [
              0.5555555555555556,
              "#d8576b"
             ],
             [
              0.6666666666666666,
              "#ed7953"
             ],
             [
              0.7777777777777778,
              "#fb9f3a"
             ],
             [
              0.8888888888888888,
              "#fdca26"
             ],
             [
              1,
              "#f0f921"
             ]
            ],
            "type": "heatmap"
           }
          ],
          "histogram": [
           {
            "marker": {
             "pattern": {
              "fillmode": "overlay",
              "size": 10,
              "solidity": 0.2
             }
            },
            "type": "histogram"
           }
          ],
          "histogram2d": [
           {
            "colorbar": {
             "outlinewidth": 0,
             "ticks": ""
            },
            "colorscale": [
             [
              0,
              "#0d0887"
             ],
             [
              0.1111111111111111,
              "#46039f"
             ],
             [
              0.2222222222222222,
              "#7201a8"
             ],
             [
              0.3333333333333333,
              "#9c179e"
             ],
             [
              0.4444444444444444,
              "#bd3786"
             ],
             [
              0.5555555555555556,
              "#d8576b"
             ],
             [
              0.6666666666666666,
              "#ed7953"
             ],
             [
              0.7777777777777778,
              "#fb9f3a"
             ],
             [
              0.8888888888888888,
              "#fdca26"
             ],
             [
              1,
              "#f0f921"
             ]
            ],
            "type": "histogram2d"
           }
          ],
          "histogram2dcontour": [
           {
            "colorbar": {
             "outlinewidth": 0,
             "ticks": ""
            },
            "colorscale": [
             [
              0,
              "#0d0887"
             ],
             [
              0.1111111111111111,
              "#46039f"
             ],
             [
              0.2222222222222222,
              "#7201a8"
             ],
             [
              0.3333333333333333,
              "#9c179e"
             ],
             [
              0.4444444444444444,
              "#bd3786"
             ],
             [
              0.5555555555555556,
              "#d8576b"
             ],
             [
              0.6666666666666666,
              "#ed7953"
             ],
             [
              0.7777777777777778,
              "#fb9f3a"
             ],
             [
              0.8888888888888888,
              "#fdca26"
             ],
             [
              1,
              "#f0f921"
             ]
            ],
            "type": "histogram2dcontour"
           }
          ],
          "mesh3d": [
           {
            "colorbar": {
             "outlinewidth": 0,
             "ticks": ""
            },
            "type": "mesh3d"
           }
          ],
          "parcoords": [
           {
            "line": {
             "colorbar": {
              "outlinewidth": 0,
              "ticks": ""
             }
            },
            "type": "parcoords"
           }
          ],
          "pie": [
           {
            "automargin": true,
            "type": "pie"
           }
          ],
          "scatter": [
           {
            "fillpattern": {
             "fillmode": "overlay",
             "size": 10,
             "solidity": 0.2
            },
            "type": "scatter"
           }
          ],
          "scatter3d": [
           {
            "line": {
             "colorbar": {
              "outlinewidth": 0,
              "ticks": ""
             }
            },
            "marker": {
             "colorbar": {
              "outlinewidth": 0,
              "ticks": ""
             }
            },
            "type": "scatter3d"
           }
          ],
          "scattercarpet": [
           {
            "marker": {
             "colorbar": {
              "outlinewidth": 0,
              "ticks": ""
             }
            },
            "type": "scattercarpet"
           }
          ],
          "scattergeo": [
           {
            "marker": {
             "colorbar": {
              "outlinewidth": 0,
              "ticks": ""
             }
            },
            "type": "scattergeo"
           }
          ],
          "scattergl": [
           {
            "marker": {
             "colorbar": {
              "outlinewidth": 0,
              "ticks": ""
             }
            },
            "type": "scattergl"
           }
          ],
          "scattermap": [
           {
            "marker": {
             "colorbar": {
              "outlinewidth": 0,
              "ticks": ""
             }
            },
            "type": "scattermap"
           }
          ],
          "scattermapbox": [
           {
            "marker": {
             "colorbar": {
              "outlinewidth": 0,
              "ticks": ""
             }
            },
            "type": "scattermapbox"
           }
          ],
          "scatterpolar": [
           {
            "marker": {
             "colorbar": {
              "outlinewidth": 0,
              "ticks": ""
             }
            },
            "type": "scatterpolar"
           }
          ],
          "scatterpolargl": [
           {
            "marker": {
             "colorbar": {
              "outlinewidth": 0,
              "ticks": ""
             }
            },
            "type": "scatterpolargl"
           }
          ],
          "scatterternary": [
           {
            "marker": {
             "colorbar": {
              "outlinewidth": 0,
              "ticks": ""
             }
            },
            "type": "scatterternary"
           }
          ],
          "surface": [
           {
            "colorbar": {
             "outlinewidth": 0,
             "ticks": ""
            },
            "colorscale": [
             [
              0,
              "#0d0887"
             ],
             [
              0.1111111111111111,
              "#46039f"
             ],
             [
              0.2222222222222222,
              "#7201a8"
             ],
             [
              0.3333333333333333,
              "#9c179e"
             ],
             [
              0.4444444444444444,
              "#bd3786"
             ],
             [
              0.5555555555555556,
              "#d8576b"
             ],
             [
              0.6666666666666666,
              "#ed7953"
             ],
             [
              0.7777777777777778,
              "#fb9f3a"
             ],
             [
              0.8888888888888888,
              "#fdca26"
             ],
             [
              1,
              "#f0f921"
             ]
            ],
            "type": "surface"
           }
          ],
          "table": [
           {
            "cells": {
             "fill": {
              "color": "#EBF0F8"
             },
             "line": {
              "color": "white"
             }
            },
            "header": {
             "fill": {
              "color": "#C8D4E3"
             },
             "line": {
              "color": "white"
             }
            },
            "type": "table"
           }
          ]
         },
         "layout": {
          "annotationdefaults": {
           "arrowcolor": "#2a3f5f",
           "arrowhead": 0,
           "arrowwidth": 1
          },
          "autotypenumbers": "strict",
          "coloraxis": {
           "colorbar": {
            "outlinewidth": 0,
            "ticks": ""
           }
          },
          "colorscale": {
           "diverging": [
            [
             0,
             "#8e0152"
            ],
            [
             0.1,
             "#c51b7d"
            ],
            [
             0.2,
             "#de77ae"
            ],
            [
             0.3,
             "#f1b6da"
            ],
            [
             0.4,
             "#fde0ef"
            ],
            [
             0.5,
             "#f7f7f7"
            ],
            [
             0.6,
             "#e6f5d0"
            ],
            [
             0.7,
             "#b8e186"
            ],
            [
             0.8,
             "#7fbc41"
            ],
            [
             0.9,
             "#4d9221"
            ],
            [
             1,
             "#276419"
            ]
           ],
           "sequential": [
            [
             0,
             "#0d0887"
            ],
            [
             0.1111111111111111,
             "#46039f"
            ],
            [
             0.2222222222222222,
             "#7201a8"
            ],
            [
             0.3333333333333333,
             "#9c179e"
            ],
            [
             0.4444444444444444,
             "#bd3786"
            ],
            [
             0.5555555555555556,
             "#d8576b"
            ],
            [
             0.6666666666666666,
             "#ed7953"
            ],
            [
             0.7777777777777778,
             "#fb9f3a"
            ],
            [
             0.8888888888888888,
             "#fdca26"
            ],
            [
             1,
             "#f0f921"
            ]
           ],
           "sequentialminus": [
            [
             0,
             "#0d0887"
            ],
            [
             0.1111111111111111,
             "#46039f"
            ],
            [
             0.2222222222222222,
             "#7201a8"
            ],
            [
             0.3333333333333333,
             "#9c179e"
            ],
            [
             0.4444444444444444,
             "#bd3786"
            ],
            [
             0.5555555555555556,
             "#d8576b"
            ],
            [
             0.6666666666666666,
             "#ed7953"
            ],
            [
             0.7777777777777778,
             "#fb9f3a"
            ],
            [
             0.8888888888888888,
             "#fdca26"
            ],
            [
             1,
             "#f0f921"
            ]
           ]
          },
          "colorway": [
           "#636efa",
           "#EF553B",
           "#00cc96",
           "#ab63fa",
           "#FFA15A",
           "#19d3f3",
           "#FF6692",
           "#B6E880",
           "#FF97FF",
           "#FECB52"
          ],
          "font": {
           "color": "#2a3f5f"
          },
          "geo": {
           "bgcolor": "white",
           "lakecolor": "white",
           "landcolor": "#E5ECF6",
           "showlakes": true,
           "showland": true,
           "subunitcolor": "white"
          },
          "hoverlabel": {
           "align": "left"
          },
          "hovermode": "closest",
          "mapbox": {
           "style": "light"
          },
          "paper_bgcolor": "white",
          "plot_bgcolor": "#E5ECF6",
          "polar": {
           "angularaxis": {
            "gridcolor": "white",
            "linecolor": "white",
            "ticks": ""
           },
           "bgcolor": "#E5ECF6",
           "radialaxis": {
            "gridcolor": "white",
            "linecolor": "white",
            "ticks": ""
           }
          },
          "scene": {
           "xaxis": {
            "backgroundcolor": "#E5ECF6",
            "gridcolor": "white",
            "gridwidth": 2,
            "linecolor": "white",
            "showbackground": true,
            "ticks": "",
            "zerolinecolor": "white"
           },
           "yaxis": {
            "backgroundcolor": "#E5ECF6",
            "gridcolor": "white",
            "gridwidth": 2,
            "linecolor": "white",
            "showbackground": true,
            "ticks": "",
            "zerolinecolor": "white"
           },
           "zaxis": {
            "backgroundcolor": "#E5ECF6",
            "gridcolor": "white",
            "gridwidth": 2,
            "linecolor": "white",
            "showbackground": true,
            "ticks": "",
            "zerolinecolor": "white"
           }
          },
          "shapedefaults": {
           "line": {
            "color": "#2a3f5f"
           }
          },
          "ternary": {
           "aaxis": {
            "gridcolor": "white",
            "linecolor": "white",
            "ticks": ""
           },
           "baxis": {
            "gridcolor": "white",
            "linecolor": "white",
            "ticks": ""
           },
           "bgcolor": "#E5ECF6",
           "caxis": {
            "gridcolor": "white",
            "linecolor": "white",
            "ticks": ""
           }
          },
          "title": {
           "x": 0.05
          },
          "xaxis": {
           "automargin": true,
           "gridcolor": "white",
           "linecolor": "white",
           "ticks": "",
           "title": {
            "standoff": 15
           },
           "zerolinecolor": "white",
           "zerolinewidth": 2
          },
          "yaxis": {
           "automargin": true,
           "gridcolor": "white",
           "linecolor": "white",
           "ticks": "",
           "title": {
            "standoff": 15
           },
           "zerolinecolor": "white",
           "zerolinewidth": 2
          }
         }
        },
        "title": {
         "text": "No-show Percentage Distribution"
        },
        "width": 400
       }
      }
     },
     "metadata": {},
     "output_type": "display_data"
    }
   ],
   "source": [
    "import plotly.express as px\n",
    "\n",
    "for values in data.columns[5:]:\n",
    "    figg = px.pie(\n",
    "        names=pd.Series(np.array(data[values].unique())),\n",
    "        values=pd.Series(np.array(data[values].value_counts())),\n",
    "        title=f\"{values} Percentage Distribution\"\n",
    "    )\n",
    "\n",
    "    figg.update_layout(\n",
    "        width = 400,\n",
    "        height = 400\n",
    "    )\n",
    "\n",
    "    figg.show()"
   ]
  },
  {
   "cell_type": "code",
   "execution_count": 3,
   "id": "4c1f3241",
   "metadata": {},
   "outputs": [
    {
     "data": {
      "application/vnd.plotly.v1+json": {
       "config": {
        "plotlyServerURL": "https://plot.ly"
       },
       "data": [
        {
         "domain": {
          "x": [
           0,
           1
          ],
          "y": [
           0,
           1
          ]
         },
         "hovertemplate": "label=%{label}<br>value=%{value}<extra></extra>",
         "labels": [
          "F",
          "M"
         ],
         "legendgroup": "",
         "name": "",
         "showlegend": true,
         "type": "pie",
         "values": {
          "bdata": "rAEBAAOHAAA=",
          "dtype": "i4"
         }
        }
       ],
       "layout": {
        "height": 400,
        "legend": {
         "tracegroupgap": 0
        },
        "template": {
         "data": {
          "bar": [
           {
            "error_x": {
             "color": "#2a3f5f"
            },
            "error_y": {
             "color": "#2a3f5f"
            },
            "marker": {
             "line": {
              "color": "#E5ECF6",
              "width": 0.5
             },
             "pattern": {
              "fillmode": "overlay",
              "size": 10,
              "solidity": 0.2
             }
            },
            "type": "bar"
           }
          ],
          "barpolar": [
           {
            "marker": {
             "line": {
              "color": "#E5ECF6",
              "width": 0.5
             },
             "pattern": {
              "fillmode": "overlay",
              "size": 10,
              "solidity": 0.2
             }
            },
            "type": "barpolar"
           }
          ],
          "carpet": [
           {
            "aaxis": {
             "endlinecolor": "#2a3f5f",
             "gridcolor": "white",
             "linecolor": "white",
             "minorgridcolor": "white",
             "startlinecolor": "#2a3f5f"
            },
            "baxis": {
             "endlinecolor": "#2a3f5f",
             "gridcolor": "white",
             "linecolor": "white",
             "minorgridcolor": "white",
             "startlinecolor": "#2a3f5f"
            },
            "type": "carpet"
           }
          ],
          "choropleth": [
           {
            "colorbar": {
             "outlinewidth": 0,
             "ticks": ""
            },
            "type": "choropleth"
           }
          ],
          "contour": [
           {
            "colorbar": {
             "outlinewidth": 0,
             "ticks": ""
            },
            "colorscale": [
             [
              0,
              "#0d0887"
             ],
             [
              0.1111111111111111,
              "#46039f"
             ],
             [
              0.2222222222222222,
              "#7201a8"
             ],
             [
              0.3333333333333333,
              "#9c179e"
             ],
             [
              0.4444444444444444,
              "#bd3786"
             ],
             [
              0.5555555555555556,
              "#d8576b"
             ],
             [
              0.6666666666666666,
              "#ed7953"
             ],
             [
              0.7777777777777778,
              "#fb9f3a"
             ],
             [
              0.8888888888888888,
              "#fdca26"
             ],
             [
              1,
              "#f0f921"
             ]
            ],
            "type": "contour"
           }
          ],
          "contourcarpet": [
           {
            "colorbar": {
             "outlinewidth": 0,
             "ticks": ""
            },
            "type": "contourcarpet"
           }
          ],
          "heatmap": [
           {
            "colorbar": {
             "outlinewidth": 0,
             "ticks": ""
            },
            "colorscale": [
             [
              0,
              "#0d0887"
             ],
             [
              0.1111111111111111,
              "#46039f"
             ],
             [
              0.2222222222222222,
              "#7201a8"
             ],
             [
              0.3333333333333333,
              "#9c179e"
             ],
             [
              0.4444444444444444,
              "#bd3786"
             ],
             [
              0.5555555555555556,
              "#d8576b"
             ],
             [
              0.6666666666666666,
              "#ed7953"
             ],
             [
              0.7777777777777778,
              "#fb9f3a"
             ],
             [
              0.8888888888888888,
              "#fdca26"
             ],
             [
              1,
              "#f0f921"
             ]
            ],
            "type": "heatmap"
           }
          ],
          "histogram": [
           {
            "marker": {
             "pattern": {
              "fillmode": "overlay",
              "size": 10,
              "solidity": 0.2
             }
            },
            "type": "histogram"
           }
          ],
          "histogram2d": [
           {
            "colorbar": {
             "outlinewidth": 0,
             "ticks": ""
            },
            "colorscale": [
             [
              0,
              "#0d0887"
             ],
             [
              0.1111111111111111,
              "#46039f"
             ],
             [
              0.2222222222222222,
              "#7201a8"
             ],
             [
              0.3333333333333333,
              "#9c179e"
             ],
             [
              0.4444444444444444,
              "#bd3786"
             ],
             [
              0.5555555555555556,
              "#d8576b"
             ],
             [
              0.6666666666666666,
              "#ed7953"
             ],
             [
              0.7777777777777778,
              "#fb9f3a"
             ],
             [
              0.8888888888888888,
              "#fdca26"
             ],
             [
              1,
              "#f0f921"
             ]
            ],
            "type": "histogram2d"
           }
          ],
          "histogram2dcontour": [
           {
            "colorbar": {
             "outlinewidth": 0,
             "ticks": ""
            },
            "colorscale": [
             [
              0,
              "#0d0887"
             ],
             [
              0.1111111111111111,
              "#46039f"
             ],
             [
              0.2222222222222222,
              "#7201a8"
             ],
             [
              0.3333333333333333,
              "#9c179e"
             ],
             [
              0.4444444444444444,
              "#bd3786"
             ],
             [
              0.5555555555555556,
              "#d8576b"
             ],
             [
              0.6666666666666666,
              "#ed7953"
             ],
             [
              0.7777777777777778,
              "#fb9f3a"
             ],
             [
              0.8888888888888888,
              "#fdca26"
             ],
             [
              1,
              "#f0f921"
             ]
            ],
            "type": "histogram2dcontour"
           }
          ],
          "mesh3d": [
           {
            "colorbar": {
             "outlinewidth": 0,
             "ticks": ""
            },
            "type": "mesh3d"
           }
          ],
          "parcoords": [
           {
            "line": {
             "colorbar": {
              "outlinewidth": 0,
              "ticks": ""
             }
            },
            "type": "parcoords"
           }
          ],
          "pie": [
           {
            "automargin": true,
            "type": "pie"
           }
          ],
          "scatter": [
           {
            "fillpattern": {
             "fillmode": "overlay",
             "size": 10,
             "solidity": 0.2
            },
            "type": "scatter"
           }
          ],
          "scatter3d": [
           {
            "line": {
             "colorbar": {
              "outlinewidth": 0,
              "ticks": ""
             }
            },
            "marker": {
             "colorbar": {
              "outlinewidth": 0,
              "ticks": ""
             }
            },
            "type": "scatter3d"
           }
          ],
          "scattercarpet": [
           {
            "marker": {
             "colorbar": {
              "outlinewidth": 0,
              "ticks": ""
             }
            },
            "type": "scattercarpet"
           }
          ],
          "scattergeo": [
           {
            "marker": {
             "colorbar": {
              "outlinewidth": 0,
              "ticks": ""
             }
            },
            "type": "scattergeo"
           }
          ],
          "scattergl": [
           {
            "marker": {
             "colorbar": {
              "outlinewidth": 0,
              "ticks": ""
             }
            },
            "type": "scattergl"
           }
          ],
          "scattermap": [
           {
            "marker": {
             "colorbar": {
              "outlinewidth": 0,
              "ticks": ""
             }
            },
            "type": "scattermap"
           }
          ],
          "scattermapbox": [
           {
            "marker": {
             "colorbar": {
              "outlinewidth": 0,
              "ticks": ""
             }
            },
            "type": "scattermapbox"
           }
          ],
          "scatterpolar": [
           {
            "marker": {
             "colorbar": {
              "outlinewidth": 0,
              "ticks": ""
             }
            },
            "type": "scatterpolar"
           }
          ],
          "scatterpolargl": [
           {
            "marker": {
             "colorbar": {
              "outlinewidth": 0,
              "ticks": ""
             }
            },
            "type": "scatterpolargl"
           }
          ],
          "scatterternary": [
           {
            "marker": {
             "colorbar": {
              "outlinewidth": 0,
              "ticks": ""
             }
            },
            "type": "scatterternary"
           }
          ],
          "surface": [
           {
            "colorbar": {
             "outlinewidth": 0,
             "ticks": ""
            },
            "colorscale": [
             [
              0,
              "#0d0887"
             ],
             [
              0.1111111111111111,
              "#46039f"
             ],
             [
              0.2222222222222222,
              "#7201a8"
             ],
             [
              0.3333333333333333,
              "#9c179e"
             ],
             [
              0.4444444444444444,
              "#bd3786"
             ],
             [
              0.5555555555555556,
              "#d8576b"
             ],
             [
              0.6666666666666666,
              "#ed7953"
             ],
             [
              0.7777777777777778,
              "#fb9f3a"
             ],
             [
              0.8888888888888888,
              "#fdca26"
             ],
             [
              1,
              "#f0f921"
             ]
            ],
            "type": "surface"
           }
          ],
          "table": [
           {
            "cells": {
             "fill": {
              "color": "#EBF0F8"
             },
             "line": {
              "color": "white"
             }
            },
            "header": {
             "fill": {
              "color": "#C8D4E3"
             },
             "line": {
              "color": "white"
             }
            },
            "type": "table"
           }
          ]
         },
         "layout": {
          "annotationdefaults": {
           "arrowcolor": "#2a3f5f",
           "arrowhead": 0,
           "arrowwidth": 1
          },
          "autotypenumbers": "strict",
          "coloraxis": {
           "colorbar": {
            "outlinewidth": 0,
            "ticks": ""
           }
          },
          "colorscale": {
           "diverging": [
            [
             0,
             "#8e0152"
            ],
            [
             0.1,
             "#c51b7d"
            ],
            [
             0.2,
             "#de77ae"
            ],
            [
             0.3,
             "#f1b6da"
            ],
            [
             0.4,
             "#fde0ef"
            ],
            [
             0.5,
             "#f7f7f7"
            ],
            [
             0.6,
             "#e6f5d0"
            ],
            [
             0.7,
             "#b8e186"
            ],
            [
             0.8,
             "#7fbc41"
            ],
            [
             0.9,
             "#4d9221"
            ],
            [
             1,
             "#276419"
            ]
           ],
           "sequential": [
            [
             0,
             "#0d0887"
            ],
            [
             0.1111111111111111,
             "#46039f"
            ],
            [
             0.2222222222222222,
             "#7201a8"
            ],
            [
             0.3333333333333333,
             "#9c179e"
            ],
            [
             0.4444444444444444,
             "#bd3786"
            ],
            [
             0.5555555555555556,
             "#d8576b"
            ],
            [
             0.6666666666666666,
             "#ed7953"
            ],
            [
             0.7777777777777778,
             "#fb9f3a"
            ],
            [
             0.8888888888888888,
             "#fdca26"
            ],
            [
             1,
             "#f0f921"
            ]
           ],
           "sequentialminus": [
            [
             0,
             "#0d0887"
            ],
            [
             0.1111111111111111,
             "#46039f"
            ],
            [
             0.2222222222222222,
             "#7201a8"
            ],
            [
             0.3333333333333333,
             "#9c179e"
            ],
            [
             0.4444444444444444,
             "#bd3786"
            ],
            [
             0.5555555555555556,
             "#d8576b"
            ],
            [
             0.6666666666666666,
             "#ed7953"
            ],
            [
             0.7777777777777778,
             "#fb9f3a"
            ],
            [
             0.8888888888888888,
             "#fdca26"
            ],
            [
             1,
             "#f0f921"
            ]
           ]
          },
          "colorway": [
           "#636efa",
           "#EF553B",
           "#00cc96",
           "#ab63fa",
           "#FFA15A",
           "#19d3f3",
           "#FF6692",
           "#B6E880",
           "#FF97FF",
           "#FECB52"
          ],
          "font": {
           "color": "#2a3f5f"
          },
          "geo": {
           "bgcolor": "white",
           "lakecolor": "white",
           "landcolor": "#E5ECF6",
           "showlakes": true,
           "showland": true,
           "subunitcolor": "white"
          },
          "hoverlabel": {
           "align": "left"
          },
          "hovermode": "closest",
          "mapbox": {
           "style": "light"
          },
          "paper_bgcolor": "white",
          "plot_bgcolor": "#E5ECF6",
          "polar": {
           "angularaxis": {
            "gridcolor": "white",
            "linecolor": "white",
            "ticks": ""
           },
           "bgcolor": "#E5ECF6",
           "radialaxis": {
            "gridcolor": "white",
            "linecolor": "white",
            "ticks": ""
           }
          },
          "scene": {
           "xaxis": {
            "backgroundcolor": "#E5ECF6",
            "gridcolor": "white",
            "gridwidth": 2,
            "linecolor": "white",
            "showbackground": true,
            "ticks": "",
            "zerolinecolor": "white"
           },
           "yaxis": {
            "backgroundcolor": "#E5ECF6",
            "gridcolor": "white",
            "gridwidth": 2,
            "linecolor": "white",
            "showbackground": true,
            "ticks": "",
            "zerolinecolor": "white"
           },
           "zaxis": {
            "backgroundcolor": "#E5ECF6",
            "gridcolor": "white",
            "gridwidth": 2,
            "linecolor": "white",
            "showbackground": true,
            "ticks": "",
            "zerolinecolor": "white"
           }
          },
          "shapedefaults": {
           "line": {
            "color": "#2a3f5f"
           }
          },
          "ternary": {
           "aaxis": {
            "gridcolor": "white",
            "linecolor": "white",
            "ticks": ""
           },
           "baxis": {
            "gridcolor": "white",
            "linecolor": "white",
            "ticks": ""
           },
           "bgcolor": "#E5ECF6",
           "caxis": {
            "gridcolor": "white",
            "linecolor": "white",
            "ticks": ""
           }
          },
          "title": {
           "x": 0.05
          },
          "xaxis": {
           "automargin": true,
           "gridcolor": "white",
           "linecolor": "white",
           "ticks": "",
           "title": {
            "standoff": 15
           },
           "zerolinecolor": "white",
           "zerolinewidth": 2
          },
          "yaxis": {
           "automargin": true,
           "gridcolor": "white",
           "linecolor": "white",
           "ticks": "",
           "title": {
            "standoff": 15
           },
           "zerolinecolor": "white",
           "zerolinewidth": 2
          }
         }
        },
        "title": {
         "text": "Gender Percentage Distribution"
        },
        "width": 400
       }
      }
     },
     "metadata": {},
     "output_type": "display_data"
    }
   ],
   "source": [
    "import plotly.express as px\n",
    "\n",
    "figg = px.pie(\n",
    "    names=pd.Series(np.array(data['Gender'].unique())),\n",
    "    values=pd.Series(np.array(data['Gender'].value_counts())),\n",
    "    title=\"Gender Percentage Distribution\"\n",
    ")\n",
    "\n",
    "figg.update_layout(\n",
    "        width = 400,\n",
    "        height = 400\n",
    ")\n",
    "\n",
    "figg.show()"
   ]
  },
  {
   "cell_type": "markdown",
   "id": "c2358f8d",
   "metadata": {},
   "source": [
    "- So the ratio of no-show in output column is `20:80`."
   ]
  },
  {
   "cell_type": "markdown",
   "id": "df86c8e6",
   "metadata": {},
   "source": [
    "- So in our *original data*, all the feature columns have `immbalanced` ratio, and this is not a concern for feature columns, so we will focus on balancing our output feature `(No-show)`."
   ]
  },
  {
   "cell_type": "markdown",
   "id": "01499c5f",
   "metadata": {},
   "source": [
    "### Balance Target Feature"
   ]
  },
  {
   "cell_type": "code",
   "execution_count": 4,
   "id": "9217bc51",
   "metadata": {},
   "outputs": [],
   "source": [
    "counts = data['No-show'].value_counts()\n",
    "\n",
    "min_count = counts.min()\n",
    "larger_category = counts.idxmax()\n",
    "\n",
    "larger_indices = data[data['No-show'] == larger_category].index\n",
    "indices_to_drop = larger_indices[:(counts[larger_category] - min_count - 10000)]\n",
    "\n",
    "new_data = data.drop(indices_to_drop).reset_index(drop=True)"
   ]
  },
  {
   "cell_type": "code",
   "execution_count": 5,
   "id": "90e50229",
   "metadata": {},
   "outputs": [
    {
     "data": {
      "application/vnd.plotly.v1+json": {
       "config": {
        "plotlyServerURL": "https://plot.ly"
       },
       "data": [
        {
         "domain": {
          "x": [
           0,
           1
          ],
          "y": [
           0,
           1
          ]
         },
         "hovertemplate": "label=%{label}<br>value=%{value}<extra></extra>",
         "labels": [
          "Yes",
          "No"
         ],
         "legendgroup": "",
         "name": "",
         "showlegend": true,
         "type": "pie",
         "values": {
          "bdata": "S3Y7Tw==",
          "dtype": "i2"
         }
        }
       ],
       "layout": {
        "height": 400,
        "legend": {
         "tracegroupgap": 0
        },
        "template": {
         "data": {
          "bar": [
           {
            "error_x": {
             "color": "#2a3f5f"
            },
            "error_y": {
             "color": "#2a3f5f"
            },
            "marker": {
             "line": {
              "color": "#E5ECF6",
              "width": 0.5
             },
             "pattern": {
              "fillmode": "overlay",
              "size": 10,
              "solidity": 0.2
             }
            },
            "type": "bar"
           }
          ],
          "barpolar": [
           {
            "marker": {
             "line": {
              "color": "#E5ECF6",
              "width": 0.5
             },
             "pattern": {
              "fillmode": "overlay",
              "size": 10,
              "solidity": 0.2
             }
            },
            "type": "barpolar"
           }
          ],
          "carpet": [
           {
            "aaxis": {
             "endlinecolor": "#2a3f5f",
             "gridcolor": "white",
             "linecolor": "white",
             "minorgridcolor": "white",
             "startlinecolor": "#2a3f5f"
            },
            "baxis": {
             "endlinecolor": "#2a3f5f",
             "gridcolor": "white",
             "linecolor": "white",
             "minorgridcolor": "white",
             "startlinecolor": "#2a3f5f"
            },
            "type": "carpet"
           }
          ],
          "choropleth": [
           {
            "colorbar": {
             "outlinewidth": 0,
             "ticks": ""
            },
            "type": "choropleth"
           }
          ],
          "contour": [
           {
            "colorbar": {
             "outlinewidth": 0,
             "ticks": ""
            },
            "colorscale": [
             [
              0,
              "#0d0887"
             ],
             [
              0.1111111111111111,
              "#46039f"
             ],
             [
              0.2222222222222222,
              "#7201a8"
             ],
             [
              0.3333333333333333,
              "#9c179e"
             ],
             [
              0.4444444444444444,
              "#bd3786"
             ],
             [
              0.5555555555555556,
              "#d8576b"
             ],
             [
              0.6666666666666666,
              "#ed7953"
             ],
             [
              0.7777777777777778,
              "#fb9f3a"
             ],
             [
              0.8888888888888888,
              "#fdca26"
             ],
             [
              1,
              "#f0f921"
             ]
            ],
            "type": "contour"
           }
          ],
          "contourcarpet": [
           {
            "colorbar": {
             "outlinewidth": 0,
             "ticks": ""
            },
            "type": "contourcarpet"
           }
          ],
          "heatmap": [
           {
            "colorbar": {
             "outlinewidth": 0,
             "ticks": ""
            },
            "colorscale": [
             [
              0,
              "#0d0887"
             ],
             [
              0.1111111111111111,
              "#46039f"
             ],
             [
              0.2222222222222222,
              "#7201a8"
             ],
             [
              0.3333333333333333,
              "#9c179e"
             ],
             [
              0.4444444444444444,
              "#bd3786"
             ],
             [
              0.5555555555555556,
              "#d8576b"
             ],
             [
              0.6666666666666666,
              "#ed7953"
             ],
             [
              0.7777777777777778,
              "#fb9f3a"
             ],
             [
              0.8888888888888888,
              "#fdca26"
             ],
             [
              1,
              "#f0f921"
             ]
            ],
            "type": "heatmap"
           }
          ],
          "histogram": [
           {
            "marker": {
             "pattern": {
              "fillmode": "overlay",
              "size": 10,
              "solidity": 0.2
             }
            },
            "type": "histogram"
           }
          ],
          "histogram2d": [
           {
            "colorbar": {
             "outlinewidth": 0,
             "ticks": ""
            },
            "colorscale": [
             [
              0,
              "#0d0887"
             ],
             [
              0.1111111111111111,
              "#46039f"
             ],
             [
              0.2222222222222222,
              "#7201a8"
             ],
             [
              0.3333333333333333,
              "#9c179e"
             ],
             [
              0.4444444444444444,
              "#bd3786"
             ],
             [
              0.5555555555555556,
              "#d8576b"
             ],
             [
              0.6666666666666666,
              "#ed7953"
             ],
             [
              0.7777777777777778,
              "#fb9f3a"
             ],
             [
              0.8888888888888888,
              "#fdca26"
             ],
             [
              1,
              "#f0f921"
             ]
            ],
            "type": "histogram2d"
           }
          ],
          "histogram2dcontour": [
           {
            "colorbar": {
             "outlinewidth": 0,
             "ticks": ""
            },
            "colorscale": [
             [
              0,
              "#0d0887"
             ],
             [
              0.1111111111111111,
              "#46039f"
             ],
             [
              0.2222222222222222,
              "#7201a8"
             ],
             [
              0.3333333333333333,
              "#9c179e"
             ],
             [
              0.4444444444444444,
              "#bd3786"
             ],
             [
              0.5555555555555556,
              "#d8576b"
             ],
             [
              0.6666666666666666,
              "#ed7953"
             ],
             [
              0.7777777777777778,
              "#fb9f3a"
             ],
             [
              0.8888888888888888,
              "#fdca26"
             ],
             [
              1,
              "#f0f921"
             ]
            ],
            "type": "histogram2dcontour"
           }
          ],
          "mesh3d": [
           {
            "colorbar": {
             "outlinewidth": 0,
             "ticks": ""
            },
            "type": "mesh3d"
           }
          ],
          "parcoords": [
           {
            "line": {
             "colorbar": {
              "outlinewidth": 0,
              "ticks": ""
             }
            },
            "type": "parcoords"
           }
          ],
          "pie": [
           {
            "automargin": true,
            "type": "pie"
           }
          ],
          "scatter": [
           {
            "fillpattern": {
             "fillmode": "overlay",
             "size": 10,
             "solidity": 0.2
            },
            "type": "scatter"
           }
          ],
          "scatter3d": [
           {
            "line": {
             "colorbar": {
              "outlinewidth": 0,
              "ticks": ""
             }
            },
            "marker": {
             "colorbar": {
              "outlinewidth": 0,
              "ticks": ""
             }
            },
            "type": "scatter3d"
           }
          ],
          "scattercarpet": [
           {
            "marker": {
             "colorbar": {
              "outlinewidth": 0,
              "ticks": ""
             }
            },
            "type": "scattercarpet"
           }
          ],
          "scattergeo": [
           {
            "marker": {
             "colorbar": {
              "outlinewidth": 0,
              "ticks": ""
             }
            },
            "type": "scattergeo"
           }
          ],
          "scattergl": [
           {
            "marker": {
             "colorbar": {
              "outlinewidth": 0,
              "ticks": ""
             }
            },
            "type": "scattergl"
           }
          ],
          "scattermap": [
           {
            "marker": {
             "colorbar": {
              "outlinewidth": 0,
              "ticks": ""
             }
            },
            "type": "scattermap"
           }
          ],
          "scattermapbox": [
           {
            "marker": {
             "colorbar": {
              "outlinewidth": 0,
              "ticks": ""
             }
            },
            "type": "scattermapbox"
           }
          ],
          "scatterpolar": [
           {
            "marker": {
             "colorbar": {
              "outlinewidth": 0,
              "ticks": ""
             }
            },
            "type": "scatterpolar"
           }
          ],
          "scatterpolargl": [
           {
            "marker": {
             "colorbar": {
              "outlinewidth": 0,
              "ticks": ""
             }
            },
            "type": "scatterpolargl"
           }
          ],
          "scatterternary": [
           {
            "marker": {
             "colorbar": {
              "outlinewidth": 0,
              "ticks": ""
             }
            },
            "type": "scatterternary"
           }
          ],
          "surface": [
           {
            "colorbar": {
             "outlinewidth": 0,
             "ticks": ""
            },
            "colorscale": [
             [
              0,
              "#0d0887"
             ],
             [
              0.1111111111111111,
              "#46039f"
             ],
             [
              0.2222222222222222,
              "#7201a8"
             ],
             [
              0.3333333333333333,
              "#9c179e"
             ],
             [
              0.4444444444444444,
              "#bd3786"
             ],
             [
              0.5555555555555556,
              "#d8576b"
             ],
             [
              0.6666666666666666,
              "#ed7953"
             ],
             [
              0.7777777777777778,
              "#fb9f3a"
             ],
             [
              0.8888888888888888,
              "#fdca26"
             ],
             [
              1,
              "#f0f921"
             ]
            ],
            "type": "surface"
           }
          ],
          "table": [
           {
            "cells": {
             "fill": {
              "color": "#EBF0F8"
             },
             "line": {
              "color": "white"
             }
            },
            "header": {
             "fill": {
              "color": "#C8D4E3"
             },
             "line": {
              "color": "white"
             }
            },
            "type": "table"
           }
          ]
         },
         "layout": {
          "annotationdefaults": {
           "arrowcolor": "#2a3f5f",
           "arrowhead": 0,
           "arrowwidth": 1
          },
          "autotypenumbers": "strict",
          "coloraxis": {
           "colorbar": {
            "outlinewidth": 0,
            "ticks": ""
           }
          },
          "colorscale": {
           "diverging": [
            [
             0,
             "#8e0152"
            ],
            [
             0.1,
             "#c51b7d"
            ],
            [
             0.2,
             "#de77ae"
            ],
            [
             0.3,
             "#f1b6da"
            ],
            [
             0.4,
             "#fde0ef"
            ],
            [
             0.5,
             "#f7f7f7"
            ],
            [
             0.6,
             "#e6f5d0"
            ],
            [
             0.7,
             "#b8e186"
            ],
            [
             0.8,
             "#7fbc41"
            ],
            [
             0.9,
             "#4d9221"
            ],
            [
             1,
             "#276419"
            ]
           ],
           "sequential": [
            [
             0,
             "#0d0887"
            ],
            [
             0.1111111111111111,
             "#46039f"
            ],
            [
             0.2222222222222222,
             "#7201a8"
            ],
            [
             0.3333333333333333,
             "#9c179e"
            ],
            [
             0.4444444444444444,
             "#bd3786"
            ],
            [
             0.5555555555555556,
             "#d8576b"
            ],
            [
             0.6666666666666666,
             "#ed7953"
            ],
            [
             0.7777777777777778,
             "#fb9f3a"
            ],
            [
             0.8888888888888888,
             "#fdca26"
            ],
            [
             1,
             "#f0f921"
            ]
           ],
           "sequentialminus": [
            [
             0,
             "#0d0887"
            ],
            [
             0.1111111111111111,
             "#46039f"
            ],
            [
             0.2222222222222222,
             "#7201a8"
            ],
            [
             0.3333333333333333,
             "#9c179e"
            ],
            [
             0.4444444444444444,
             "#bd3786"
            ],
            [
             0.5555555555555556,
             "#d8576b"
            ],
            [
             0.6666666666666666,
             "#ed7953"
            ],
            [
             0.7777777777777778,
             "#fb9f3a"
            ],
            [
             0.8888888888888888,
             "#fdca26"
            ],
            [
             1,
             "#f0f921"
            ]
           ]
          },
          "colorway": [
           "#636efa",
           "#EF553B",
           "#00cc96",
           "#ab63fa",
           "#FFA15A",
           "#19d3f3",
           "#FF6692",
           "#B6E880",
           "#FF97FF",
           "#FECB52"
          ],
          "font": {
           "color": "#2a3f5f"
          },
          "geo": {
           "bgcolor": "white",
           "lakecolor": "white",
           "landcolor": "#E5ECF6",
           "showlakes": true,
           "showland": true,
           "subunitcolor": "white"
          },
          "hoverlabel": {
           "align": "left"
          },
          "hovermode": "closest",
          "mapbox": {
           "style": "light"
          },
          "paper_bgcolor": "white",
          "plot_bgcolor": "#E5ECF6",
          "polar": {
           "angularaxis": {
            "gridcolor": "white",
            "linecolor": "white",
            "ticks": ""
           },
           "bgcolor": "#E5ECF6",
           "radialaxis": {
            "gridcolor": "white",
            "linecolor": "white",
            "ticks": ""
           }
          },
          "scene": {
           "xaxis": {
            "backgroundcolor": "#E5ECF6",
            "gridcolor": "white",
            "gridwidth": 2,
            "linecolor": "white",
            "showbackground": true,
            "ticks": "",
            "zerolinecolor": "white"
           },
           "yaxis": {
            "backgroundcolor": "#E5ECF6",
            "gridcolor": "white",
            "gridwidth": 2,
            "linecolor": "white",
            "showbackground": true,
            "ticks": "",
            "zerolinecolor": "white"
           },
           "zaxis": {
            "backgroundcolor": "#E5ECF6",
            "gridcolor": "white",
            "gridwidth": 2,
            "linecolor": "white",
            "showbackground": true,
            "ticks": "",
            "zerolinecolor": "white"
           }
          },
          "shapedefaults": {
           "line": {
            "color": "#2a3f5f"
           }
          },
          "ternary": {
           "aaxis": {
            "gridcolor": "white",
            "linecolor": "white",
            "ticks": ""
           },
           "baxis": {
            "gridcolor": "white",
            "linecolor": "white",
            "ticks": ""
           },
           "bgcolor": "#E5ECF6",
           "caxis": {
            "gridcolor": "white",
            "linecolor": "white",
            "ticks": ""
           }
          },
          "title": {
           "x": 0.05
          },
          "xaxis": {
           "automargin": true,
           "gridcolor": "white",
           "linecolor": "white",
           "ticks": "",
           "title": {
            "standoff": 15
           },
           "zerolinecolor": "white",
           "zerolinewidth": 2
          },
          "yaxis": {
           "automargin": true,
           "gridcolor": "white",
           "linecolor": "white",
           "ticks": "",
           "title": {
            "standoff": 15
           },
           "zerolinecolor": "white",
           "zerolinewidth": 2
          }
         }
        },
        "title": {
         "text": "No-show Percentage Distribution"
        },
        "width": 400
       }
      }
     },
     "metadata": {},
     "output_type": "display_data"
    }
   ],
   "source": [
    "fig = px.pie(\n",
    "    names=pd.Series(np.array(new_data['No-show'].unique())),\n",
    "    values=pd.Series(np.array(new_data['No-show'].value_counts())),\n",
    "    title=\"No-show Percentage Distribution\"\n",
    ")\n",
    "\n",
    "fig.update_layout(\n",
    "        width = 400,\n",
    "        height = 400\n",
    ")\n",
    "\n",
    "fig.show()"
   ]
  },
  {
   "cell_type": "markdown",
   "id": "45b41229",
   "metadata": {},
   "source": [
    "- 40:60 percent ratio is not bad for our training process, and it will not that baised."
   ]
  },
  {
   "cell_type": "code",
   "execution_count": 6,
   "id": "afe1d3d3",
   "metadata": {},
   "outputs": [
    {
     "data": {
      "application/vnd.plotly.v1+json": {
       "config": {
        "plotlyServerURL": "https://plot.ly"
       },
       "data": [
        {
         "domain": {
          "x": [
           0,
           1
          ],
          "y": [
           0,
           1
          ]
         },
         "hovertemplate": "label=%{label}<br>value=%{value}<extra></extra>",
         "labels": {
          "bdata": "AAE=",
          "dtype": "i1"
         },
         "legendgroup": "",
         "name": "",
         "showlegend": true,
         "type": "pie",
         "values": {
          "bdata": "ALEAAIYUAAA=",
          "dtype": "i4"
         }
        }
       ],
       "layout": {
        "height": 400,
        "legend": {
         "tracegroupgap": 0
        },
        "template": {
         "data": {
          "bar": [
           {
            "error_x": {
             "color": "#2a3f5f"
            },
            "error_y": {
             "color": "#2a3f5f"
            },
            "marker": {
             "line": {
              "color": "#E5ECF6",
              "width": 0.5
             },
             "pattern": {
              "fillmode": "overlay",
              "size": 10,
              "solidity": 0.2
             }
            },
            "type": "bar"
           }
          ],
          "barpolar": [
           {
            "marker": {
             "line": {
              "color": "#E5ECF6",
              "width": 0.5
             },
             "pattern": {
              "fillmode": "overlay",
              "size": 10,
              "solidity": 0.2
             }
            },
            "type": "barpolar"
           }
          ],
          "carpet": [
           {
            "aaxis": {
             "endlinecolor": "#2a3f5f",
             "gridcolor": "white",
             "linecolor": "white",
             "minorgridcolor": "white",
             "startlinecolor": "#2a3f5f"
            },
            "baxis": {
             "endlinecolor": "#2a3f5f",
             "gridcolor": "white",
             "linecolor": "white",
             "minorgridcolor": "white",
             "startlinecolor": "#2a3f5f"
            },
            "type": "carpet"
           }
          ],
          "choropleth": [
           {
            "colorbar": {
             "outlinewidth": 0,
             "ticks": ""
            },
            "type": "choropleth"
           }
          ],
          "contour": [
           {
            "colorbar": {
             "outlinewidth": 0,
             "ticks": ""
            },
            "colorscale": [
             [
              0,
              "#0d0887"
             ],
             [
              0.1111111111111111,
              "#46039f"
             ],
             [
              0.2222222222222222,
              "#7201a8"
             ],
             [
              0.3333333333333333,
              "#9c179e"
             ],
             [
              0.4444444444444444,
              "#bd3786"
             ],
             [
              0.5555555555555556,
              "#d8576b"
             ],
             [
              0.6666666666666666,
              "#ed7953"
             ],
             [
              0.7777777777777778,
              "#fb9f3a"
             ],
             [
              0.8888888888888888,
              "#fdca26"
             ],
             [
              1,
              "#f0f921"
             ]
            ],
            "type": "contour"
           }
          ],
          "contourcarpet": [
           {
            "colorbar": {
             "outlinewidth": 0,
             "ticks": ""
            },
            "type": "contourcarpet"
           }
          ],
          "heatmap": [
           {
            "colorbar": {
             "outlinewidth": 0,
             "ticks": ""
            },
            "colorscale": [
             [
              0,
              "#0d0887"
             ],
             [
              0.1111111111111111,
              "#46039f"
             ],
             [
              0.2222222222222222,
              "#7201a8"
             ],
             [
              0.3333333333333333,
              "#9c179e"
             ],
             [
              0.4444444444444444,
              "#bd3786"
             ],
             [
              0.5555555555555556,
              "#d8576b"
             ],
             [
              0.6666666666666666,
              "#ed7953"
             ],
             [
              0.7777777777777778,
              "#fb9f3a"
             ],
             [
              0.8888888888888888,
              "#fdca26"
             ],
             [
              1,
              "#f0f921"
             ]
            ],
            "type": "heatmap"
           }
          ],
          "histogram": [
           {
            "marker": {
             "pattern": {
              "fillmode": "overlay",
              "size": 10,
              "solidity": 0.2
             }
            },
            "type": "histogram"
           }
          ],
          "histogram2d": [
           {
            "colorbar": {
             "outlinewidth": 0,
             "ticks": ""
            },
            "colorscale": [
             [
              0,
              "#0d0887"
             ],
             [
              0.1111111111111111,
              "#46039f"
             ],
             [
              0.2222222222222222,
              "#7201a8"
             ],
             [
              0.3333333333333333,
              "#9c179e"
             ],
             [
              0.4444444444444444,
              "#bd3786"
             ],
             [
              0.5555555555555556,
              "#d8576b"
             ],
             [
              0.6666666666666666,
              "#ed7953"
             ],
             [
              0.7777777777777778,
              "#fb9f3a"
             ],
             [
              0.8888888888888888,
              "#fdca26"
             ],
             [
              1,
              "#f0f921"
             ]
            ],
            "type": "histogram2d"
           }
          ],
          "histogram2dcontour": [
           {
            "colorbar": {
             "outlinewidth": 0,
             "ticks": ""
            },
            "colorscale": [
             [
              0,
              "#0d0887"
             ],
             [
              0.1111111111111111,
              "#46039f"
             ],
             [
              0.2222222222222222,
              "#7201a8"
             ],
             [
              0.3333333333333333,
              "#9c179e"
             ],
             [
              0.4444444444444444,
              "#bd3786"
             ],
             [
              0.5555555555555556,
              "#d8576b"
             ],
             [
              0.6666666666666666,
              "#ed7953"
             ],
             [
              0.7777777777777778,
              "#fb9f3a"
             ],
             [
              0.8888888888888888,
              "#fdca26"
             ],
             [
              1,
              "#f0f921"
             ]
            ],
            "type": "histogram2dcontour"
           }
          ],
          "mesh3d": [
           {
            "colorbar": {
             "outlinewidth": 0,
             "ticks": ""
            },
            "type": "mesh3d"
           }
          ],
          "parcoords": [
           {
            "line": {
             "colorbar": {
              "outlinewidth": 0,
              "ticks": ""
             }
            },
            "type": "parcoords"
           }
          ],
          "pie": [
           {
            "automargin": true,
            "type": "pie"
           }
          ],
          "scatter": [
           {
            "fillpattern": {
             "fillmode": "overlay",
             "size": 10,
             "solidity": 0.2
            },
            "type": "scatter"
           }
          ],
          "scatter3d": [
           {
            "line": {
             "colorbar": {
              "outlinewidth": 0,
              "ticks": ""
             }
            },
            "marker": {
             "colorbar": {
              "outlinewidth": 0,
              "ticks": ""
             }
            },
            "type": "scatter3d"
           }
          ],
          "scattercarpet": [
           {
            "marker": {
             "colorbar": {
              "outlinewidth": 0,
              "ticks": ""
             }
            },
            "type": "scattercarpet"
           }
          ],
          "scattergeo": [
           {
            "marker": {
             "colorbar": {
              "outlinewidth": 0,
              "ticks": ""
             }
            },
            "type": "scattergeo"
           }
          ],
          "scattergl": [
           {
            "marker": {
             "colorbar": {
              "outlinewidth": 0,
              "ticks": ""
             }
            },
            "type": "scattergl"
           }
          ],
          "scattermap": [
           {
            "marker": {
             "colorbar": {
              "outlinewidth": 0,
              "ticks": ""
             }
            },
            "type": "scattermap"
           }
          ],
          "scattermapbox": [
           {
            "marker": {
             "colorbar": {
              "outlinewidth": 0,
              "ticks": ""
             }
            },
            "type": "scattermapbox"
           }
          ],
          "scatterpolar": [
           {
            "marker": {
             "colorbar": {
              "outlinewidth": 0,
              "ticks": ""
             }
            },
            "type": "scatterpolar"
           }
          ],
          "scatterpolargl": [
           {
            "marker": {
             "colorbar": {
              "outlinewidth": 0,
              "ticks": ""
             }
            },
            "type": "scatterpolargl"
           }
          ],
          "scatterternary": [
           {
            "marker": {
             "colorbar": {
              "outlinewidth": 0,
              "ticks": ""
             }
            },
            "type": "scatterternary"
           }
          ],
          "surface": [
           {
            "colorbar": {
             "outlinewidth": 0,
             "ticks": ""
            },
            "colorscale": [
             [
              0,
              "#0d0887"
             ],
             [
              0.1111111111111111,
              "#46039f"
             ],
             [
              0.2222222222222222,
              "#7201a8"
             ],
             [
              0.3333333333333333,
              "#9c179e"
             ],
             [
              0.4444444444444444,
              "#bd3786"
             ],
             [
              0.5555555555555556,
              "#d8576b"
             ],
             [
              0.6666666666666666,
              "#ed7953"
             ],
             [
              0.7777777777777778,
              "#fb9f3a"
             ],
             [
              0.8888888888888888,
              "#fdca26"
             ],
             [
              1,
              "#f0f921"
             ]
            ],
            "type": "surface"
           }
          ],
          "table": [
           {
            "cells": {
             "fill": {
              "color": "#EBF0F8"
             },
             "line": {
              "color": "white"
             }
            },
            "header": {
             "fill": {
              "color": "#C8D4E3"
             },
             "line": {
              "color": "white"
             }
            },
            "type": "table"
           }
          ]
         },
         "layout": {
          "annotationdefaults": {
           "arrowcolor": "#2a3f5f",
           "arrowhead": 0,
           "arrowwidth": 1
          },
          "autotypenumbers": "strict",
          "coloraxis": {
           "colorbar": {
            "outlinewidth": 0,
            "ticks": ""
           }
          },
          "colorscale": {
           "diverging": [
            [
             0,
             "#8e0152"
            ],
            [
             0.1,
             "#c51b7d"
            ],
            [
             0.2,
             "#de77ae"
            ],
            [
             0.3,
             "#f1b6da"
            ],
            [
             0.4,
             "#fde0ef"
            ],
            [
             0.5,
             "#f7f7f7"
            ],
            [
             0.6,
             "#e6f5d0"
            ],
            [
             0.7,
             "#b8e186"
            ],
            [
             0.8,
             "#7fbc41"
            ],
            [
             0.9,
             "#4d9221"
            ],
            [
             1,
             "#276419"
            ]
           ],
           "sequential": [
            [
             0,
             "#0d0887"
            ],
            [
             0.1111111111111111,
             "#46039f"
            ],
            [
             0.2222222222222222,
             "#7201a8"
            ],
            [
             0.3333333333333333,
             "#9c179e"
            ],
            [
             0.4444444444444444,
             "#bd3786"
            ],
            [
             0.5555555555555556,
             "#d8576b"
            ],
            [
             0.6666666666666666,
             "#ed7953"
            ],
            [
             0.7777777777777778,
             "#fb9f3a"
            ],
            [
             0.8888888888888888,
             "#fdca26"
            ],
            [
             1,
             "#f0f921"
            ]
           ],
           "sequentialminus": [
            [
             0,
             "#0d0887"
            ],
            [
             0.1111111111111111,
             "#46039f"
            ],
            [
             0.2222222222222222,
             "#7201a8"
            ],
            [
             0.3333333333333333,
             "#9c179e"
            ],
            [
             0.4444444444444444,
             "#bd3786"
            ],
            [
             0.5555555555555556,
             "#d8576b"
            ],
            [
             0.6666666666666666,
             "#ed7953"
            ],
            [
             0.7777777777777778,
             "#fb9f3a"
            ],
            [
             0.8888888888888888,
             "#fdca26"
            ],
            [
             1,
             "#f0f921"
            ]
           ]
          },
          "colorway": [
           "#636efa",
           "#EF553B",
           "#00cc96",
           "#ab63fa",
           "#FFA15A",
           "#19d3f3",
           "#FF6692",
           "#B6E880",
           "#FF97FF",
           "#FECB52"
          ],
          "font": {
           "color": "#2a3f5f"
          },
          "geo": {
           "bgcolor": "white",
           "lakecolor": "white",
           "landcolor": "#E5ECF6",
           "showlakes": true,
           "showland": true,
           "subunitcolor": "white"
          },
          "hoverlabel": {
           "align": "left"
          },
          "hovermode": "closest",
          "mapbox": {
           "style": "light"
          },
          "paper_bgcolor": "white",
          "plot_bgcolor": "#E5ECF6",
          "polar": {
           "angularaxis": {
            "gridcolor": "white",
            "linecolor": "white",
            "ticks": ""
           },
           "bgcolor": "#E5ECF6",
           "radialaxis": {
            "gridcolor": "white",
            "linecolor": "white",
            "ticks": ""
           }
          },
          "scene": {
           "xaxis": {
            "backgroundcolor": "#E5ECF6",
            "gridcolor": "white",
            "gridwidth": 2,
            "linecolor": "white",
            "showbackground": true,
            "ticks": "",
            "zerolinecolor": "white"
           },
           "yaxis": {
            "backgroundcolor": "#E5ECF6",
            "gridcolor": "white",
            "gridwidth": 2,
            "linecolor": "white",
            "showbackground": true,
            "ticks": "",
            "zerolinecolor": "white"
           },
           "zaxis": {
            "backgroundcolor": "#E5ECF6",
            "gridcolor": "white",
            "gridwidth": 2,
            "linecolor": "white",
            "showbackground": true,
            "ticks": "",
            "zerolinecolor": "white"
           }
          },
          "shapedefaults": {
           "line": {
            "color": "#2a3f5f"
           }
          },
          "ternary": {
           "aaxis": {
            "gridcolor": "white",
            "linecolor": "white",
            "ticks": ""
           },
           "baxis": {
            "gridcolor": "white",
            "linecolor": "white",
            "ticks": ""
           },
           "bgcolor": "#E5ECF6",
           "caxis": {
            "gridcolor": "white",
            "linecolor": "white",
            "ticks": ""
           }
          },
          "title": {
           "x": 0.05
          },
          "xaxis": {
           "automargin": true,
           "gridcolor": "white",
           "linecolor": "white",
           "ticks": "",
           "title": {
            "standoff": 15
           },
           "zerolinecolor": "white",
           "zerolinewidth": 2
          },
          "yaxis": {
           "automargin": true,
           "gridcolor": "white",
           "linecolor": "white",
           "ticks": "",
           "title": {
            "standoff": 15
           },
           "zerolinecolor": "white",
           "zerolinewidth": 2
          }
         }
        },
        "title": {
         "text": "Scholarship Percentage Distribution"
        },
        "width": 400
       }
      }
     },
     "metadata": {},
     "output_type": "display_data"
    },
    {
     "data": {
      "application/vnd.plotly.v1+json": {
       "config": {
        "plotlyServerURL": "https://plot.ly"
       },
       "data": [
        {
         "domain": {
          "x": [
           0,
           1
          ],
          "y": [
           0,
           1
          ]
         },
         "hovertemplate": "label=%{label}<br>value=%{value}<extra></extra>",
         "labels": {
          "bdata": "AQA=",
          "dtype": "i1"
         },
         "legendgroup": "",
         "name": "",
         "showlegend": true,
         "type": "pie",
         "values": {
          "bdata": "KJ8AAF4mAAA=",
          "dtype": "i4"
         }
        }
       ],
       "layout": {
        "height": 400,
        "legend": {
         "tracegroupgap": 0
        },
        "template": {
         "data": {
          "bar": [
           {
            "error_x": {
             "color": "#2a3f5f"
            },
            "error_y": {
             "color": "#2a3f5f"
            },
            "marker": {
             "line": {
              "color": "#E5ECF6",
              "width": 0.5
             },
             "pattern": {
              "fillmode": "overlay",
              "size": 10,
              "solidity": 0.2
             }
            },
            "type": "bar"
           }
          ],
          "barpolar": [
           {
            "marker": {
             "line": {
              "color": "#E5ECF6",
              "width": 0.5
             },
             "pattern": {
              "fillmode": "overlay",
              "size": 10,
              "solidity": 0.2
             }
            },
            "type": "barpolar"
           }
          ],
          "carpet": [
           {
            "aaxis": {
             "endlinecolor": "#2a3f5f",
             "gridcolor": "white",
             "linecolor": "white",
             "minorgridcolor": "white",
             "startlinecolor": "#2a3f5f"
            },
            "baxis": {
             "endlinecolor": "#2a3f5f",
             "gridcolor": "white",
             "linecolor": "white",
             "minorgridcolor": "white",
             "startlinecolor": "#2a3f5f"
            },
            "type": "carpet"
           }
          ],
          "choropleth": [
           {
            "colorbar": {
             "outlinewidth": 0,
             "ticks": ""
            },
            "type": "choropleth"
           }
          ],
          "contour": [
           {
            "colorbar": {
             "outlinewidth": 0,
             "ticks": ""
            },
            "colorscale": [
             [
              0,
              "#0d0887"
             ],
             [
              0.1111111111111111,
              "#46039f"
             ],
             [
              0.2222222222222222,
              "#7201a8"
             ],
             [
              0.3333333333333333,
              "#9c179e"
             ],
             [
              0.4444444444444444,
              "#bd3786"
             ],
             [
              0.5555555555555556,
              "#d8576b"
             ],
             [
              0.6666666666666666,
              "#ed7953"
             ],
             [
              0.7777777777777778,
              "#fb9f3a"
             ],
             [
              0.8888888888888888,
              "#fdca26"
             ],
             [
              1,
              "#f0f921"
             ]
            ],
            "type": "contour"
           }
          ],
          "contourcarpet": [
           {
            "colorbar": {
             "outlinewidth": 0,
             "ticks": ""
            },
            "type": "contourcarpet"
           }
          ],
          "heatmap": [
           {
            "colorbar": {
             "outlinewidth": 0,
             "ticks": ""
            },
            "colorscale": [
             [
              0,
              "#0d0887"
             ],
             [
              0.1111111111111111,
              "#46039f"
             ],
             [
              0.2222222222222222,
              "#7201a8"
             ],
             [
              0.3333333333333333,
              "#9c179e"
             ],
             [
              0.4444444444444444,
              "#bd3786"
             ],
             [
              0.5555555555555556,
              "#d8576b"
             ],
             [
              0.6666666666666666,
              "#ed7953"
             ],
             [
              0.7777777777777778,
              "#fb9f3a"
             ],
             [
              0.8888888888888888,
              "#fdca26"
             ],
             [
              1,
              "#f0f921"
             ]
            ],
            "type": "heatmap"
           }
          ],
          "histogram": [
           {
            "marker": {
             "pattern": {
              "fillmode": "overlay",
              "size": 10,
              "solidity": 0.2
             }
            },
            "type": "histogram"
           }
          ],
          "histogram2d": [
           {
            "colorbar": {
             "outlinewidth": 0,
             "ticks": ""
            },
            "colorscale": [
             [
              0,
              "#0d0887"
             ],
             [
              0.1111111111111111,
              "#46039f"
             ],
             [
              0.2222222222222222,
              "#7201a8"
             ],
             [
              0.3333333333333333,
              "#9c179e"
             ],
             [
              0.4444444444444444,
              "#bd3786"
             ],
             [
              0.5555555555555556,
              "#d8576b"
             ],
             [
              0.6666666666666666,
              "#ed7953"
             ],
             [
              0.7777777777777778,
              "#fb9f3a"
             ],
             [
              0.8888888888888888,
              "#fdca26"
             ],
             [
              1,
              "#f0f921"
             ]
            ],
            "type": "histogram2d"
           }
          ],
          "histogram2dcontour": [
           {
            "colorbar": {
             "outlinewidth": 0,
             "ticks": ""
            },
            "colorscale": [
             [
              0,
              "#0d0887"
             ],
             [
              0.1111111111111111,
              "#46039f"
             ],
             [
              0.2222222222222222,
              "#7201a8"
             ],
             [
              0.3333333333333333,
              "#9c179e"
             ],
             [
              0.4444444444444444,
              "#bd3786"
             ],
             [
              0.5555555555555556,
              "#d8576b"
             ],
             [
              0.6666666666666666,
              "#ed7953"
             ],
             [
              0.7777777777777778,
              "#fb9f3a"
             ],
             [
              0.8888888888888888,
              "#fdca26"
             ],
             [
              1,
              "#f0f921"
             ]
            ],
            "type": "histogram2dcontour"
           }
          ],
          "mesh3d": [
           {
            "colorbar": {
             "outlinewidth": 0,
             "ticks": ""
            },
            "type": "mesh3d"
           }
          ],
          "parcoords": [
           {
            "line": {
             "colorbar": {
              "outlinewidth": 0,
              "ticks": ""
             }
            },
            "type": "parcoords"
           }
          ],
          "pie": [
           {
            "automargin": true,
            "type": "pie"
           }
          ],
          "scatter": [
           {
            "fillpattern": {
             "fillmode": "overlay",
             "size": 10,
             "solidity": 0.2
            },
            "type": "scatter"
           }
          ],
          "scatter3d": [
           {
            "line": {
             "colorbar": {
              "outlinewidth": 0,
              "ticks": ""
             }
            },
            "marker": {
             "colorbar": {
              "outlinewidth": 0,
              "ticks": ""
             }
            },
            "type": "scatter3d"
           }
          ],
          "scattercarpet": [
           {
            "marker": {
             "colorbar": {
              "outlinewidth": 0,
              "ticks": ""
             }
            },
            "type": "scattercarpet"
           }
          ],
          "scattergeo": [
           {
            "marker": {
             "colorbar": {
              "outlinewidth": 0,
              "ticks": ""
             }
            },
            "type": "scattergeo"
           }
          ],
          "scattergl": [
           {
            "marker": {
             "colorbar": {
              "outlinewidth": 0,
              "ticks": ""
             }
            },
            "type": "scattergl"
           }
          ],
          "scattermap": [
           {
            "marker": {
             "colorbar": {
              "outlinewidth": 0,
              "ticks": ""
             }
            },
            "type": "scattermap"
           }
          ],
          "scattermapbox": [
           {
            "marker": {
             "colorbar": {
              "outlinewidth": 0,
              "ticks": ""
             }
            },
            "type": "scattermapbox"
           }
          ],
          "scatterpolar": [
           {
            "marker": {
             "colorbar": {
              "outlinewidth": 0,
              "ticks": ""
             }
            },
            "type": "scatterpolar"
           }
          ],
          "scatterpolargl": [
           {
            "marker": {
             "colorbar": {
              "outlinewidth": 0,
              "ticks": ""
             }
            },
            "type": "scatterpolargl"
           }
          ],
          "scatterternary": [
           {
            "marker": {
             "colorbar": {
              "outlinewidth": 0,
              "ticks": ""
             }
            },
            "type": "scatterternary"
           }
          ],
          "surface": [
           {
            "colorbar": {
             "outlinewidth": 0,
             "ticks": ""
            },
            "colorscale": [
             [
              0,
              "#0d0887"
             ],
             [
              0.1111111111111111,
              "#46039f"
             ],
             [
              0.2222222222222222,
              "#7201a8"
             ],
             [
              0.3333333333333333,
              "#9c179e"
             ],
             [
              0.4444444444444444,
              "#bd3786"
             ],
             [
              0.5555555555555556,
              "#d8576b"
             ],
             [
              0.6666666666666666,
              "#ed7953"
             ],
             [
              0.7777777777777778,
              "#fb9f3a"
             ],
             [
              0.8888888888888888,
              "#fdca26"
             ],
             [
              1,
              "#f0f921"
             ]
            ],
            "type": "surface"
           }
          ],
          "table": [
           {
            "cells": {
             "fill": {
              "color": "#EBF0F8"
             },
             "line": {
              "color": "white"
             }
            },
            "header": {
             "fill": {
              "color": "#C8D4E3"
             },
             "line": {
              "color": "white"
             }
            },
            "type": "table"
           }
          ]
         },
         "layout": {
          "annotationdefaults": {
           "arrowcolor": "#2a3f5f",
           "arrowhead": 0,
           "arrowwidth": 1
          },
          "autotypenumbers": "strict",
          "coloraxis": {
           "colorbar": {
            "outlinewidth": 0,
            "ticks": ""
           }
          },
          "colorscale": {
           "diverging": [
            [
             0,
             "#8e0152"
            ],
            [
             0.1,
             "#c51b7d"
            ],
            [
             0.2,
             "#de77ae"
            ],
            [
             0.3,
             "#f1b6da"
            ],
            [
             0.4,
             "#fde0ef"
            ],
            [
             0.5,
             "#f7f7f7"
            ],
            [
             0.6,
             "#e6f5d0"
            ],
            [
             0.7,
             "#b8e186"
            ],
            [
             0.8,
             "#7fbc41"
            ],
            [
             0.9,
             "#4d9221"
            ],
            [
             1,
             "#276419"
            ]
           ],
           "sequential": [
            [
             0,
             "#0d0887"
            ],
            [
             0.1111111111111111,
             "#46039f"
            ],
            [
             0.2222222222222222,
             "#7201a8"
            ],
            [
             0.3333333333333333,
             "#9c179e"
            ],
            [
             0.4444444444444444,
             "#bd3786"
            ],
            [
             0.5555555555555556,
             "#d8576b"
            ],
            [
             0.6666666666666666,
             "#ed7953"
            ],
            [
             0.7777777777777778,
             "#fb9f3a"
            ],
            [
             0.8888888888888888,
             "#fdca26"
            ],
            [
             1,
             "#f0f921"
            ]
           ],
           "sequentialminus": [
            [
             0,
             "#0d0887"
            ],
            [
             0.1111111111111111,
             "#46039f"
            ],
            [
             0.2222222222222222,
             "#7201a8"
            ],
            [
             0.3333333333333333,
             "#9c179e"
            ],
            [
             0.4444444444444444,
             "#bd3786"
            ],
            [
             0.5555555555555556,
             "#d8576b"
            ],
            [
             0.6666666666666666,
             "#ed7953"
            ],
            [
             0.7777777777777778,
             "#fb9f3a"
            ],
            [
             0.8888888888888888,
             "#fdca26"
            ],
            [
             1,
             "#f0f921"
            ]
           ]
          },
          "colorway": [
           "#636efa",
           "#EF553B",
           "#00cc96",
           "#ab63fa",
           "#FFA15A",
           "#19d3f3",
           "#FF6692",
           "#B6E880",
           "#FF97FF",
           "#FECB52"
          ],
          "font": {
           "color": "#2a3f5f"
          },
          "geo": {
           "bgcolor": "white",
           "lakecolor": "white",
           "landcolor": "#E5ECF6",
           "showlakes": true,
           "showland": true,
           "subunitcolor": "white"
          },
          "hoverlabel": {
           "align": "left"
          },
          "hovermode": "closest",
          "mapbox": {
           "style": "light"
          },
          "paper_bgcolor": "white",
          "plot_bgcolor": "#E5ECF6",
          "polar": {
           "angularaxis": {
            "gridcolor": "white",
            "linecolor": "white",
            "ticks": ""
           },
           "bgcolor": "#E5ECF6",
           "radialaxis": {
            "gridcolor": "white",
            "linecolor": "white",
            "ticks": ""
           }
          },
          "scene": {
           "xaxis": {
            "backgroundcolor": "#E5ECF6",
            "gridcolor": "white",
            "gridwidth": 2,
            "linecolor": "white",
            "showbackground": true,
            "ticks": "",
            "zerolinecolor": "white"
           },
           "yaxis": {
            "backgroundcolor": "#E5ECF6",
            "gridcolor": "white",
            "gridwidth": 2,
            "linecolor": "white",
            "showbackground": true,
            "ticks": "",
            "zerolinecolor": "white"
           },
           "zaxis": {
            "backgroundcolor": "#E5ECF6",
            "gridcolor": "white",
            "gridwidth": 2,
            "linecolor": "white",
            "showbackground": true,
            "ticks": "",
            "zerolinecolor": "white"
           }
          },
          "shapedefaults": {
           "line": {
            "color": "#2a3f5f"
           }
          },
          "ternary": {
           "aaxis": {
            "gridcolor": "white",
            "linecolor": "white",
            "ticks": ""
           },
           "baxis": {
            "gridcolor": "white",
            "linecolor": "white",
            "ticks": ""
           },
           "bgcolor": "#E5ECF6",
           "caxis": {
            "gridcolor": "white",
            "linecolor": "white",
            "ticks": ""
           }
          },
          "title": {
           "x": 0.05
          },
          "xaxis": {
           "automargin": true,
           "gridcolor": "white",
           "linecolor": "white",
           "ticks": "",
           "title": {
            "standoff": 15
           },
           "zerolinecolor": "white",
           "zerolinewidth": 2
          },
          "yaxis": {
           "automargin": true,
           "gridcolor": "white",
           "linecolor": "white",
           "ticks": "",
           "title": {
            "standoff": 15
           },
           "zerolinecolor": "white",
           "zerolinewidth": 2
          }
         }
        },
        "title": {
         "text": "Hipertension Percentage Distribution"
        },
        "width": 400
       }
      }
     },
     "metadata": {},
     "output_type": "display_data"
    },
    {
     "data": {
      "application/vnd.plotly.v1+json": {
       "config": {
        "plotlyServerURL": "https://plot.ly"
       },
       "data": [
        {
         "domain": {
          "x": [
           0,
           1
          ],
          "y": [
           0,
           1
          ]
         },
         "hovertemplate": "label=%{label}<br>value=%{value}<extra></extra>",
         "labels": {
          "bdata": "AAE=",
          "dtype": "i1"
         },
         "legendgroup": "",
         "name": "",
         "showlegend": true,
         "type": "pie",
         "values": {
          "bdata": "27YAAKsOAAA=",
          "dtype": "i4"
         }
        }
       ],
       "layout": {
        "height": 400,
        "legend": {
         "tracegroupgap": 0
        },
        "template": {
         "data": {
          "bar": [
           {
            "error_x": {
             "color": "#2a3f5f"
            },
            "error_y": {
             "color": "#2a3f5f"
            },
            "marker": {
             "line": {
              "color": "#E5ECF6",
              "width": 0.5
             },
             "pattern": {
              "fillmode": "overlay",
              "size": 10,
              "solidity": 0.2
             }
            },
            "type": "bar"
           }
          ],
          "barpolar": [
           {
            "marker": {
             "line": {
              "color": "#E5ECF6",
              "width": 0.5
             },
             "pattern": {
              "fillmode": "overlay",
              "size": 10,
              "solidity": 0.2
             }
            },
            "type": "barpolar"
           }
          ],
          "carpet": [
           {
            "aaxis": {
             "endlinecolor": "#2a3f5f",
             "gridcolor": "white",
             "linecolor": "white",
             "minorgridcolor": "white",
             "startlinecolor": "#2a3f5f"
            },
            "baxis": {
             "endlinecolor": "#2a3f5f",
             "gridcolor": "white",
             "linecolor": "white",
             "minorgridcolor": "white",
             "startlinecolor": "#2a3f5f"
            },
            "type": "carpet"
           }
          ],
          "choropleth": [
           {
            "colorbar": {
             "outlinewidth": 0,
             "ticks": ""
            },
            "type": "choropleth"
           }
          ],
          "contour": [
           {
            "colorbar": {
             "outlinewidth": 0,
             "ticks": ""
            },
            "colorscale": [
             [
              0,
              "#0d0887"
             ],
             [
              0.1111111111111111,
              "#46039f"
             ],
             [
              0.2222222222222222,
              "#7201a8"
             ],
             [
              0.3333333333333333,
              "#9c179e"
             ],
             [
              0.4444444444444444,
              "#bd3786"
             ],
             [
              0.5555555555555556,
              "#d8576b"
             ],
             [
              0.6666666666666666,
              "#ed7953"
             ],
             [
              0.7777777777777778,
              "#fb9f3a"
             ],
             [
              0.8888888888888888,
              "#fdca26"
             ],
             [
              1,
              "#f0f921"
             ]
            ],
            "type": "contour"
           }
          ],
          "contourcarpet": [
           {
            "colorbar": {
             "outlinewidth": 0,
             "ticks": ""
            },
            "type": "contourcarpet"
           }
          ],
          "heatmap": [
           {
            "colorbar": {
             "outlinewidth": 0,
             "ticks": ""
            },
            "colorscale": [
             [
              0,
              "#0d0887"
             ],
             [
              0.1111111111111111,
              "#46039f"
             ],
             [
              0.2222222222222222,
              "#7201a8"
             ],
             [
              0.3333333333333333,
              "#9c179e"
             ],
             [
              0.4444444444444444,
              "#bd3786"
             ],
             [
              0.5555555555555556,
              "#d8576b"
             ],
             [
              0.6666666666666666,
              "#ed7953"
             ],
             [
              0.7777777777777778,
              "#fb9f3a"
             ],
             [
              0.8888888888888888,
              "#fdca26"
             ],
             [
              1,
              "#f0f921"
             ]
            ],
            "type": "heatmap"
           }
          ],
          "histogram": [
           {
            "marker": {
             "pattern": {
              "fillmode": "overlay",
              "size": 10,
              "solidity": 0.2
             }
            },
            "type": "histogram"
           }
          ],
          "histogram2d": [
           {
            "colorbar": {
             "outlinewidth": 0,
             "ticks": ""
            },
            "colorscale": [
             [
              0,
              "#0d0887"
             ],
             [
              0.1111111111111111,
              "#46039f"
             ],
             [
              0.2222222222222222,
              "#7201a8"
             ],
             [
              0.3333333333333333,
              "#9c179e"
             ],
             [
              0.4444444444444444,
              "#bd3786"
             ],
             [
              0.5555555555555556,
              "#d8576b"
             ],
             [
              0.6666666666666666,
              "#ed7953"
             ],
             [
              0.7777777777777778,
              "#fb9f3a"
             ],
             [
              0.8888888888888888,
              "#fdca26"
             ],
             [
              1,
              "#f0f921"
             ]
            ],
            "type": "histogram2d"
           }
          ],
          "histogram2dcontour": [
           {
            "colorbar": {
             "outlinewidth": 0,
             "ticks": ""
            },
            "colorscale": [
             [
              0,
              "#0d0887"
             ],
             [
              0.1111111111111111,
              "#46039f"
             ],
             [
              0.2222222222222222,
              "#7201a8"
             ],
             [
              0.3333333333333333,
              "#9c179e"
             ],
             [
              0.4444444444444444,
              "#bd3786"
             ],
             [
              0.5555555555555556,
              "#d8576b"
             ],
             [
              0.6666666666666666,
              "#ed7953"
             ],
             [
              0.7777777777777778,
              "#fb9f3a"
             ],
             [
              0.8888888888888888,
              "#fdca26"
             ],
             [
              1,
              "#f0f921"
             ]
            ],
            "type": "histogram2dcontour"
           }
          ],
          "mesh3d": [
           {
            "colorbar": {
             "outlinewidth": 0,
             "ticks": ""
            },
            "type": "mesh3d"
           }
          ],
          "parcoords": [
           {
            "line": {
             "colorbar": {
              "outlinewidth": 0,
              "ticks": ""
             }
            },
            "type": "parcoords"
           }
          ],
          "pie": [
           {
            "automargin": true,
            "type": "pie"
           }
          ],
          "scatter": [
           {
            "fillpattern": {
             "fillmode": "overlay",
             "size": 10,
             "solidity": 0.2
            },
            "type": "scatter"
           }
          ],
          "scatter3d": [
           {
            "line": {
             "colorbar": {
              "outlinewidth": 0,
              "ticks": ""
             }
            },
            "marker": {
             "colorbar": {
              "outlinewidth": 0,
              "ticks": ""
             }
            },
            "type": "scatter3d"
           }
          ],
          "scattercarpet": [
           {
            "marker": {
             "colorbar": {
              "outlinewidth": 0,
              "ticks": ""
             }
            },
            "type": "scattercarpet"
           }
          ],
          "scattergeo": [
           {
            "marker": {
             "colorbar": {
              "outlinewidth": 0,
              "ticks": ""
             }
            },
            "type": "scattergeo"
           }
          ],
          "scattergl": [
           {
            "marker": {
             "colorbar": {
              "outlinewidth": 0,
              "ticks": ""
             }
            },
            "type": "scattergl"
           }
          ],
          "scattermap": [
           {
            "marker": {
             "colorbar": {
              "outlinewidth": 0,
              "ticks": ""
             }
            },
            "type": "scattermap"
           }
          ],
          "scattermapbox": [
           {
            "marker": {
             "colorbar": {
              "outlinewidth": 0,
              "ticks": ""
             }
            },
            "type": "scattermapbox"
           }
          ],
          "scatterpolar": [
           {
            "marker": {
             "colorbar": {
              "outlinewidth": 0,
              "ticks": ""
             }
            },
            "type": "scatterpolar"
           }
          ],
          "scatterpolargl": [
           {
            "marker": {
             "colorbar": {
              "outlinewidth": 0,
              "ticks": ""
             }
            },
            "type": "scatterpolargl"
           }
          ],
          "scatterternary": [
           {
            "marker": {
             "colorbar": {
              "outlinewidth": 0,
              "ticks": ""
             }
            },
            "type": "scatterternary"
           }
          ],
          "surface": [
           {
            "colorbar": {
             "outlinewidth": 0,
             "ticks": ""
            },
            "colorscale": [
             [
              0,
              "#0d0887"
             ],
             [
              0.1111111111111111,
              "#46039f"
             ],
             [
              0.2222222222222222,
              "#7201a8"
             ],
             [
              0.3333333333333333,
              "#9c179e"
             ],
             [
              0.4444444444444444,
              "#bd3786"
             ],
             [
              0.5555555555555556,
              "#d8576b"
             ],
             [
              0.6666666666666666,
              "#ed7953"
             ],
             [
              0.7777777777777778,
              "#fb9f3a"
             ],
             [
              0.8888888888888888,
              "#fdca26"
             ],
             [
              1,
              "#f0f921"
             ]
            ],
            "type": "surface"
           }
          ],
          "table": [
           {
            "cells": {
             "fill": {
              "color": "#EBF0F8"
             },
             "line": {
              "color": "white"
             }
            },
            "header": {
             "fill": {
              "color": "#C8D4E3"
             },
             "line": {
              "color": "white"
             }
            },
            "type": "table"
           }
          ]
         },
         "layout": {
          "annotationdefaults": {
           "arrowcolor": "#2a3f5f",
           "arrowhead": 0,
           "arrowwidth": 1
          },
          "autotypenumbers": "strict",
          "coloraxis": {
           "colorbar": {
            "outlinewidth": 0,
            "ticks": ""
           }
          },
          "colorscale": {
           "diverging": [
            [
             0,
             "#8e0152"
            ],
            [
             0.1,
             "#c51b7d"
            ],
            [
             0.2,
             "#de77ae"
            ],
            [
             0.3,
             "#f1b6da"
            ],
            [
             0.4,
             "#fde0ef"
            ],
            [
             0.5,
             "#f7f7f7"
            ],
            [
             0.6,
             "#e6f5d0"
            ],
            [
             0.7,
             "#b8e186"
            ],
            [
             0.8,
             "#7fbc41"
            ],
            [
             0.9,
             "#4d9221"
            ],
            [
             1,
             "#276419"
            ]
           ],
           "sequential": [
            [
             0,
             "#0d0887"
            ],
            [
             0.1111111111111111,
             "#46039f"
            ],
            [
             0.2222222222222222,
             "#7201a8"
            ],
            [
             0.3333333333333333,
             "#9c179e"
            ],
            [
             0.4444444444444444,
             "#bd3786"
            ],
            [
             0.5555555555555556,
             "#d8576b"
            ],
            [
             0.6666666666666666,
             "#ed7953"
            ],
            [
             0.7777777777777778,
             "#fb9f3a"
            ],
            [
             0.8888888888888888,
             "#fdca26"
            ],
            [
             1,
             "#f0f921"
            ]
           ],
           "sequentialminus": [
            [
             0,
             "#0d0887"
            ],
            [
             0.1111111111111111,
             "#46039f"
            ],
            [
             0.2222222222222222,
             "#7201a8"
            ],
            [
             0.3333333333333333,
             "#9c179e"
            ],
            [
             0.4444444444444444,
             "#bd3786"
            ],
            [
             0.5555555555555556,
             "#d8576b"
            ],
            [
             0.6666666666666666,
             "#ed7953"
            ],
            [
             0.7777777777777778,
             "#fb9f3a"
            ],
            [
             0.8888888888888888,
             "#fdca26"
            ],
            [
             1,
             "#f0f921"
            ]
           ]
          },
          "colorway": [
           "#636efa",
           "#EF553B",
           "#00cc96",
           "#ab63fa",
           "#FFA15A",
           "#19d3f3",
           "#FF6692",
           "#B6E880",
           "#FF97FF",
           "#FECB52"
          ],
          "font": {
           "color": "#2a3f5f"
          },
          "geo": {
           "bgcolor": "white",
           "lakecolor": "white",
           "landcolor": "#E5ECF6",
           "showlakes": true,
           "showland": true,
           "subunitcolor": "white"
          },
          "hoverlabel": {
           "align": "left"
          },
          "hovermode": "closest",
          "mapbox": {
           "style": "light"
          },
          "paper_bgcolor": "white",
          "plot_bgcolor": "#E5ECF6",
          "polar": {
           "angularaxis": {
            "gridcolor": "white",
            "linecolor": "white",
            "ticks": ""
           },
           "bgcolor": "#E5ECF6",
           "radialaxis": {
            "gridcolor": "white",
            "linecolor": "white",
            "ticks": ""
           }
          },
          "scene": {
           "xaxis": {
            "backgroundcolor": "#E5ECF6",
            "gridcolor": "white",
            "gridwidth": 2,
            "linecolor": "white",
            "showbackground": true,
            "ticks": "",
            "zerolinecolor": "white"
           },
           "yaxis": {
            "backgroundcolor": "#E5ECF6",
            "gridcolor": "white",
            "gridwidth": 2,
            "linecolor": "white",
            "showbackground": true,
            "ticks": "",
            "zerolinecolor": "white"
           },
           "zaxis": {
            "backgroundcolor": "#E5ECF6",
            "gridcolor": "white",
            "gridwidth": 2,
            "linecolor": "white",
            "showbackground": true,
            "ticks": "",
            "zerolinecolor": "white"
           }
          },
          "shapedefaults": {
           "line": {
            "color": "#2a3f5f"
           }
          },
          "ternary": {
           "aaxis": {
            "gridcolor": "white",
            "linecolor": "white",
            "ticks": ""
           },
           "baxis": {
            "gridcolor": "white",
            "linecolor": "white",
            "ticks": ""
           },
           "bgcolor": "#E5ECF6",
           "caxis": {
            "gridcolor": "white",
            "linecolor": "white",
            "ticks": ""
           }
          },
          "title": {
           "x": 0.05
          },
          "xaxis": {
           "automargin": true,
           "gridcolor": "white",
           "linecolor": "white",
           "ticks": "",
           "title": {
            "standoff": 15
           },
           "zerolinecolor": "white",
           "zerolinewidth": 2
          },
          "yaxis": {
           "automargin": true,
           "gridcolor": "white",
           "linecolor": "white",
           "ticks": "",
           "title": {
            "standoff": 15
           },
           "zerolinecolor": "white",
           "zerolinewidth": 2
          }
         }
        },
        "title": {
         "text": "Diabetes Percentage Distribution"
        },
        "width": 400
       }
      }
     },
     "metadata": {},
     "output_type": "display_data"
    },
    {
     "data": {
      "application/vnd.plotly.v1+json": {
       "config": {
        "plotlyServerURL": "https://plot.ly"
       },
       "data": [
        {
         "domain": {
          "x": [
           0,
           1
          ],
          "y": [
           0,
           1
          ]
         },
         "hovertemplate": "label=%{label}<br>value=%{value}<extra></extra>",
         "labels": {
          "bdata": "AAE=",
          "dtype": "i1"
         },
         "legendgroup": "",
         "name": "",
         "showlegend": true,
         "type": "pie",
         "values": {
          "bdata": "ob8AAOUFAAA=",
          "dtype": "i4"
         }
        }
       ],
       "layout": {
        "height": 400,
        "legend": {
         "tracegroupgap": 0
        },
        "template": {
         "data": {
          "bar": [
           {
            "error_x": {
             "color": "#2a3f5f"
            },
            "error_y": {
             "color": "#2a3f5f"
            },
            "marker": {
             "line": {
              "color": "#E5ECF6",
              "width": 0.5
             },
             "pattern": {
              "fillmode": "overlay",
              "size": 10,
              "solidity": 0.2
             }
            },
            "type": "bar"
           }
          ],
          "barpolar": [
           {
            "marker": {
             "line": {
              "color": "#E5ECF6",
              "width": 0.5
             },
             "pattern": {
              "fillmode": "overlay",
              "size": 10,
              "solidity": 0.2
             }
            },
            "type": "barpolar"
           }
          ],
          "carpet": [
           {
            "aaxis": {
             "endlinecolor": "#2a3f5f",
             "gridcolor": "white",
             "linecolor": "white",
             "minorgridcolor": "white",
             "startlinecolor": "#2a3f5f"
            },
            "baxis": {
             "endlinecolor": "#2a3f5f",
             "gridcolor": "white",
             "linecolor": "white",
             "minorgridcolor": "white",
             "startlinecolor": "#2a3f5f"
            },
            "type": "carpet"
           }
          ],
          "choropleth": [
           {
            "colorbar": {
             "outlinewidth": 0,
             "ticks": ""
            },
            "type": "choropleth"
           }
          ],
          "contour": [
           {
            "colorbar": {
             "outlinewidth": 0,
             "ticks": ""
            },
            "colorscale": [
             [
              0,
              "#0d0887"
             ],
             [
              0.1111111111111111,
              "#46039f"
             ],
             [
              0.2222222222222222,
              "#7201a8"
             ],
             [
              0.3333333333333333,
              "#9c179e"
             ],
             [
              0.4444444444444444,
              "#bd3786"
             ],
             [
              0.5555555555555556,
              "#d8576b"
             ],
             [
              0.6666666666666666,
              "#ed7953"
             ],
             [
              0.7777777777777778,
              "#fb9f3a"
             ],
             [
              0.8888888888888888,
              "#fdca26"
             ],
             [
              1,
              "#f0f921"
             ]
            ],
            "type": "contour"
           }
          ],
          "contourcarpet": [
           {
            "colorbar": {
             "outlinewidth": 0,
             "ticks": ""
            },
            "type": "contourcarpet"
           }
          ],
          "heatmap": [
           {
            "colorbar": {
             "outlinewidth": 0,
             "ticks": ""
            },
            "colorscale": [
             [
              0,
              "#0d0887"
             ],
             [
              0.1111111111111111,
              "#46039f"
             ],
             [
              0.2222222222222222,
              "#7201a8"
             ],
             [
              0.3333333333333333,
              "#9c179e"
             ],
             [
              0.4444444444444444,
              "#bd3786"
             ],
             [
              0.5555555555555556,
              "#d8576b"
             ],
             [
              0.6666666666666666,
              "#ed7953"
             ],
             [
              0.7777777777777778,
              "#fb9f3a"
             ],
             [
              0.8888888888888888,
              "#fdca26"
             ],
             [
              1,
              "#f0f921"
             ]
            ],
            "type": "heatmap"
           }
          ],
          "histogram": [
           {
            "marker": {
             "pattern": {
              "fillmode": "overlay",
              "size": 10,
              "solidity": 0.2
             }
            },
            "type": "histogram"
           }
          ],
          "histogram2d": [
           {
            "colorbar": {
             "outlinewidth": 0,
             "ticks": ""
            },
            "colorscale": [
             [
              0,
              "#0d0887"
             ],
             [
              0.1111111111111111,
              "#46039f"
             ],
             [
              0.2222222222222222,
              "#7201a8"
             ],
             [
              0.3333333333333333,
              "#9c179e"
             ],
             [
              0.4444444444444444,
              "#bd3786"
             ],
             [
              0.5555555555555556,
              "#d8576b"
             ],
             [
              0.6666666666666666,
              "#ed7953"
             ],
             [
              0.7777777777777778,
              "#fb9f3a"
             ],
             [
              0.8888888888888888,
              "#fdca26"
             ],
             [
              1,
              "#f0f921"
             ]
            ],
            "type": "histogram2d"
           }
          ],
          "histogram2dcontour": [
           {
            "colorbar": {
             "outlinewidth": 0,
             "ticks": ""
            },
            "colorscale": [
             [
              0,
              "#0d0887"
             ],
             [
              0.1111111111111111,
              "#46039f"
             ],
             [
              0.2222222222222222,
              "#7201a8"
             ],
             [
              0.3333333333333333,
              "#9c179e"
             ],
             [
              0.4444444444444444,
              "#bd3786"
             ],
             [
              0.5555555555555556,
              "#d8576b"
             ],
             [
              0.6666666666666666,
              "#ed7953"
             ],
             [
              0.7777777777777778,
              "#fb9f3a"
             ],
             [
              0.8888888888888888,
              "#fdca26"
             ],
             [
              1,
              "#f0f921"
             ]
            ],
            "type": "histogram2dcontour"
           }
          ],
          "mesh3d": [
           {
            "colorbar": {
             "outlinewidth": 0,
             "ticks": ""
            },
            "type": "mesh3d"
           }
          ],
          "parcoords": [
           {
            "line": {
             "colorbar": {
              "outlinewidth": 0,
              "ticks": ""
             }
            },
            "type": "parcoords"
           }
          ],
          "pie": [
           {
            "automargin": true,
            "type": "pie"
           }
          ],
          "scatter": [
           {
            "fillpattern": {
             "fillmode": "overlay",
             "size": 10,
             "solidity": 0.2
            },
            "type": "scatter"
           }
          ],
          "scatter3d": [
           {
            "line": {
             "colorbar": {
              "outlinewidth": 0,
              "ticks": ""
             }
            },
            "marker": {
             "colorbar": {
              "outlinewidth": 0,
              "ticks": ""
             }
            },
            "type": "scatter3d"
           }
          ],
          "scattercarpet": [
           {
            "marker": {
             "colorbar": {
              "outlinewidth": 0,
              "ticks": ""
             }
            },
            "type": "scattercarpet"
           }
          ],
          "scattergeo": [
           {
            "marker": {
             "colorbar": {
              "outlinewidth": 0,
              "ticks": ""
             }
            },
            "type": "scattergeo"
           }
          ],
          "scattergl": [
           {
            "marker": {
             "colorbar": {
              "outlinewidth": 0,
              "ticks": ""
             }
            },
            "type": "scattergl"
           }
          ],
          "scattermap": [
           {
            "marker": {
             "colorbar": {
              "outlinewidth": 0,
              "ticks": ""
             }
            },
            "type": "scattermap"
           }
          ],
          "scattermapbox": [
           {
            "marker": {
             "colorbar": {
              "outlinewidth": 0,
              "ticks": ""
             }
            },
            "type": "scattermapbox"
           }
          ],
          "scatterpolar": [
           {
            "marker": {
             "colorbar": {
              "outlinewidth": 0,
              "ticks": ""
             }
            },
            "type": "scatterpolar"
           }
          ],
          "scatterpolargl": [
           {
            "marker": {
             "colorbar": {
              "outlinewidth": 0,
              "ticks": ""
             }
            },
            "type": "scatterpolargl"
           }
          ],
          "scatterternary": [
           {
            "marker": {
             "colorbar": {
              "outlinewidth": 0,
              "ticks": ""
             }
            },
            "type": "scatterternary"
           }
          ],
          "surface": [
           {
            "colorbar": {
             "outlinewidth": 0,
             "ticks": ""
            },
            "colorscale": [
             [
              0,
              "#0d0887"
             ],
             [
              0.1111111111111111,
              "#46039f"
             ],
             [
              0.2222222222222222,
              "#7201a8"
             ],
             [
              0.3333333333333333,
              "#9c179e"
             ],
             [
              0.4444444444444444,
              "#bd3786"
             ],
             [
              0.5555555555555556,
              "#d8576b"
             ],
             [
              0.6666666666666666,
              "#ed7953"
             ],
             [
              0.7777777777777778,
              "#fb9f3a"
             ],
             [
              0.8888888888888888,
              "#fdca26"
             ],
             [
              1,
              "#f0f921"
             ]
            ],
            "type": "surface"
           }
          ],
          "table": [
           {
            "cells": {
             "fill": {
              "color": "#EBF0F8"
             },
             "line": {
              "color": "white"
             }
            },
            "header": {
             "fill": {
              "color": "#C8D4E3"
             },
             "line": {
              "color": "white"
             }
            },
            "type": "table"
           }
          ]
         },
         "layout": {
          "annotationdefaults": {
           "arrowcolor": "#2a3f5f",
           "arrowhead": 0,
           "arrowwidth": 1
          },
          "autotypenumbers": "strict",
          "coloraxis": {
           "colorbar": {
            "outlinewidth": 0,
            "ticks": ""
           }
          },
          "colorscale": {
           "diverging": [
            [
             0,
             "#8e0152"
            ],
            [
             0.1,
             "#c51b7d"
            ],
            [
             0.2,
             "#de77ae"
            ],
            [
             0.3,
             "#f1b6da"
            ],
            [
             0.4,
             "#fde0ef"
            ],
            [
             0.5,
             "#f7f7f7"
            ],
            [
             0.6,
             "#e6f5d0"
            ],
            [
             0.7,
             "#b8e186"
            ],
            [
             0.8,
             "#7fbc41"
            ],
            [
             0.9,
             "#4d9221"
            ],
            [
             1,
             "#276419"
            ]
           ],
           "sequential": [
            [
             0,
             "#0d0887"
            ],
            [
             0.1111111111111111,
             "#46039f"
            ],
            [
             0.2222222222222222,
             "#7201a8"
            ],
            [
             0.3333333333333333,
             "#9c179e"
            ],
            [
             0.4444444444444444,
             "#bd3786"
            ],
            [
             0.5555555555555556,
             "#d8576b"
            ],
            [
             0.6666666666666666,
             "#ed7953"
            ],
            [
             0.7777777777777778,
             "#fb9f3a"
            ],
            [
             0.8888888888888888,
             "#fdca26"
            ],
            [
             1,
             "#f0f921"
            ]
           ],
           "sequentialminus": [
            [
             0,
             "#0d0887"
            ],
            [
             0.1111111111111111,
             "#46039f"
            ],
            [
             0.2222222222222222,
             "#7201a8"
            ],
            [
             0.3333333333333333,
             "#9c179e"
            ],
            [
             0.4444444444444444,
             "#bd3786"
            ],
            [
             0.5555555555555556,
             "#d8576b"
            ],
            [
             0.6666666666666666,
             "#ed7953"
            ],
            [
             0.7777777777777778,
             "#fb9f3a"
            ],
            [
             0.8888888888888888,
             "#fdca26"
            ],
            [
             1,
             "#f0f921"
            ]
           ]
          },
          "colorway": [
           "#636efa",
           "#EF553B",
           "#00cc96",
           "#ab63fa",
           "#FFA15A",
           "#19d3f3",
           "#FF6692",
           "#B6E880",
           "#FF97FF",
           "#FECB52"
          ],
          "font": {
           "color": "#2a3f5f"
          },
          "geo": {
           "bgcolor": "white",
           "lakecolor": "white",
           "landcolor": "#E5ECF6",
           "showlakes": true,
           "showland": true,
           "subunitcolor": "white"
          },
          "hoverlabel": {
           "align": "left"
          },
          "hovermode": "closest",
          "mapbox": {
           "style": "light"
          },
          "paper_bgcolor": "white",
          "plot_bgcolor": "#E5ECF6",
          "polar": {
           "angularaxis": {
            "gridcolor": "white",
            "linecolor": "white",
            "ticks": ""
           },
           "bgcolor": "#E5ECF6",
           "radialaxis": {
            "gridcolor": "white",
            "linecolor": "white",
            "ticks": ""
           }
          },
          "scene": {
           "xaxis": {
            "backgroundcolor": "#E5ECF6",
            "gridcolor": "white",
            "gridwidth": 2,
            "linecolor": "white",
            "showbackground": true,
            "ticks": "",
            "zerolinecolor": "white"
           },
           "yaxis": {
            "backgroundcolor": "#E5ECF6",
            "gridcolor": "white",
            "gridwidth": 2,
            "linecolor": "white",
            "showbackground": true,
            "ticks": "",
            "zerolinecolor": "white"
           },
           "zaxis": {
            "backgroundcolor": "#E5ECF6",
            "gridcolor": "white",
            "gridwidth": 2,
            "linecolor": "white",
            "showbackground": true,
            "ticks": "",
            "zerolinecolor": "white"
           }
          },
          "shapedefaults": {
           "line": {
            "color": "#2a3f5f"
           }
          },
          "ternary": {
           "aaxis": {
            "gridcolor": "white",
            "linecolor": "white",
            "ticks": ""
           },
           "baxis": {
            "gridcolor": "white",
            "linecolor": "white",
            "ticks": ""
           },
           "bgcolor": "#E5ECF6",
           "caxis": {
            "gridcolor": "white",
            "linecolor": "white",
            "ticks": ""
           }
          },
          "title": {
           "x": 0.05
          },
          "xaxis": {
           "automargin": true,
           "gridcolor": "white",
           "linecolor": "white",
           "ticks": "",
           "title": {
            "standoff": 15
           },
           "zerolinecolor": "white",
           "zerolinewidth": 2
          },
          "yaxis": {
           "automargin": true,
           "gridcolor": "white",
           "linecolor": "white",
           "ticks": "",
           "title": {
            "standoff": 15
           },
           "zerolinecolor": "white",
           "zerolinewidth": 2
          }
         }
        },
        "title": {
         "text": "Alcoholism Percentage Distribution"
        },
        "width": 400
       }
      }
     },
     "metadata": {},
     "output_type": "display_data"
    },
    {
     "data": {
      "application/vnd.plotly.v1+json": {
       "config": {
        "plotlyServerURL": "https://plot.ly"
       },
       "data": [
        {
         "domain": {
          "x": [
           0,
           1
          ],
          "y": [
           0,
           1
          ]
         },
         "hovertemplate": "label=%{label}<br>value=%{value}<extra></extra>",
         "labels": {
          "bdata": "AAECAwQ=",
          "dtype": "i1"
         },
         "legendgroup": "",
         "name": "",
         "showlegend": true,
         "type": "pie",
         "values": {
          "bdata": "l8EAAI0DAABYAAAABwAAAAMAAAA=",
          "dtype": "i4"
         }
        }
       ],
       "layout": {
        "height": 400,
        "legend": {
         "tracegroupgap": 0
        },
        "template": {
         "data": {
          "bar": [
           {
            "error_x": {
             "color": "#2a3f5f"
            },
            "error_y": {
             "color": "#2a3f5f"
            },
            "marker": {
             "line": {
              "color": "#E5ECF6",
              "width": 0.5
             },
             "pattern": {
              "fillmode": "overlay",
              "size": 10,
              "solidity": 0.2
             }
            },
            "type": "bar"
           }
          ],
          "barpolar": [
           {
            "marker": {
             "line": {
              "color": "#E5ECF6",
              "width": 0.5
             },
             "pattern": {
              "fillmode": "overlay",
              "size": 10,
              "solidity": 0.2
             }
            },
            "type": "barpolar"
           }
          ],
          "carpet": [
           {
            "aaxis": {
             "endlinecolor": "#2a3f5f",
             "gridcolor": "white",
             "linecolor": "white",
             "minorgridcolor": "white",
             "startlinecolor": "#2a3f5f"
            },
            "baxis": {
             "endlinecolor": "#2a3f5f",
             "gridcolor": "white",
             "linecolor": "white",
             "minorgridcolor": "white",
             "startlinecolor": "#2a3f5f"
            },
            "type": "carpet"
           }
          ],
          "choropleth": [
           {
            "colorbar": {
             "outlinewidth": 0,
             "ticks": ""
            },
            "type": "choropleth"
           }
          ],
          "contour": [
           {
            "colorbar": {
             "outlinewidth": 0,
             "ticks": ""
            },
            "colorscale": [
             [
              0,
              "#0d0887"
             ],
             [
              0.1111111111111111,
              "#46039f"
             ],
             [
              0.2222222222222222,
              "#7201a8"
             ],
             [
              0.3333333333333333,
              "#9c179e"
             ],
             [
              0.4444444444444444,
              "#bd3786"
             ],
             [
              0.5555555555555556,
              "#d8576b"
             ],
             [
              0.6666666666666666,
              "#ed7953"
             ],
             [
              0.7777777777777778,
              "#fb9f3a"
             ],
             [
              0.8888888888888888,
              "#fdca26"
             ],
             [
              1,
              "#f0f921"
             ]
            ],
            "type": "contour"
           }
          ],
          "contourcarpet": [
           {
            "colorbar": {
             "outlinewidth": 0,
             "ticks": ""
            },
            "type": "contourcarpet"
           }
          ],
          "heatmap": [
           {
            "colorbar": {
             "outlinewidth": 0,
             "ticks": ""
            },
            "colorscale": [
             [
              0,
              "#0d0887"
             ],
             [
              0.1111111111111111,
              "#46039f"
             ],
             [
              0.2222222222222222,
              "#7201a8"
             ],
             [
              0.3333333333333333,
              "#9c179e"
             ],
             [
              0.4444444444444444,
              "#bd3786"
             ],
             [
              0.5555555555555556,
              "#d8576b"
             ],
             [
              0.6666666666666666,
              "#ed7953"
             ],
             [
              0.7777777777777778,
              "#fb9f3a"
             ],
             [
              0.8888888888888888,
              "#fdca26"
             ],
             [
              1,
              "#f0f921"
             ]
            ],
            "type": "heatmap"
           }
          ],
          "histogram": [
           {
            "marker": {
             "pattern": {
              "fillmode": "overlay",
              "size": 10,
              "solidity": 0.2
             }
            },
            "type": "histogram"
           }
          ],
          "histogram2d": [
           {
            "colorbar": {
             "outlinewidth": 0,
             "ticks": ""
            },
            "colorscale": [
             [
              0,
              "#0d0887"
             ],
             [
              0.1111111111111111,
              "#46039f"
             ],
             [
              0.2222222222222222,
              "#7201a8"
             ],
             [
              0.3333333333333333,
              "#9c179e"
             ],
             [
              0.4444444444444444,
              "#bd3786"
             ],
             [
              0.5555555555555556,
              "#d8576b"
             ],
             [
              0.6666666666666666,
              "#ed7953"
             ],
             [
              0.7777777777777778,
              "#fb9f3a"
             ],
             [
              0.8888888888888888,
              "#fdca26"
             ],
             [
              1,
              "#f0f921"
             ]
            ],
            "type": "histogram2d"
           }
          ],
          "histogram2dcontour": [
           {
            "colorbar": {
             "outlinewidth": 0,
             "ticks": ""
            },
            "colorscale": [
             [
              0,
              "#0d0887"
             ],
             [
              0.1111111111111111,
              "#46039f"
             ],
             [
              0.2222222222222222,
              "#7201a8"
             ],
             [
              0.3333333333333333,
              "#9c179e"
             ],
             [
              0.4444444444444444,
              "#bd3786"
             ],
             [
              0.5555555555555556,
              "#d8576b"
             ],
             [
              0.6666666666666666,
              "#ed7953"
             ],
             [
              0.7777777777777778,
              "#fb9f3a"
             ],
             [
              0.8888888888888888,
              "#fdca26"
             ],
             [
              1,
              "#f0f921"
             ]
            ],
            "type": "histogram2dcontour"
           }
          ],
          "mesh3d": [
           {
            "colorbar": {
             "outlinewidth": 0,
             "ticks": ""
            },
            "type": "mesh3d"
           }
          ],
          "parcoords": [
           {
            "line": {
             "colorbar": {
              "outlinewidth": 0,
              "ticks": ""
             }
            },
            "type": "parcoords"
           }
          ],
          "pie": [
           {
            "automargin": true,
            "type": "pie"
           }
          ],
          "scatter": [
           {
            "fillpattern": {
             "fillmode": "overlay",
             "size": 10,
             "solidity": 0.2
            },
            "type": "scatter"
           }
          ],
          "scatter3d": [
           {
            "line": {
             "colorbar": {
              "outlinewidth": 0,
              "ticks": ""
             }
            },
            "marker": {
             "colorbar": {
              "outlinewidth": 0,
              "ticks": ""
             }
            },
            "type": "scatter3d"
           }
          ],
          "scattercarpet": [
           {
            "marker": {
             "colorbar": {
              "outlinewidth": 0,
              "ticks": ""
             }
            },
            "type": "scattercarpet"
           }
          ],
          "scattergeo": [
           {
            "marker": {
             "colorbar": {
              "outlinewidth": 0,
              "ticks": ""
             }
            },
            "type": "scattergeo"
           }
          ],
          "scattergl": [
           {
            "marker": {
             "colorbar": {
              "outlinewidth": 0,
              "ticks": ""
             }
            },
            "type": "scattergl"
           }
          ],
          "scattermap": [
           {
            "marker": {
             "colorbar": {
              "outlinewidth": 0,
              "ticks": ""
             }
            },
            "type": "scattermap"
           }
          ],
          "scattermapbox": [
           {
            "marker": {
             "colorbar": {
              "outlinewidth": 0,
              "ticks": ""
             }
            },
            "type": "scattermapbox"
           }
          ],
          "scatterpolar": [
           {
            "marker": {
             "colorbar": {
              "outlinewidth": 0,
              "ticks": ""
             }
            },
            "type": "scatterpolar"
           }
          ],
          "scatterpolargl": [
           {
            "marker": {
             "colorbar": {
              "outlinewidth": 0,
              "ticks": ""
             }
            },
            "type": "scatterpolargl"
           }
          ],
          "scatterternary": [
           {
            "marker": {
             "colorbar": {
              "outlinewidth": 0,
              "ticks": ""
             }
            },
            "type": "scatterternary"
           }
          ],
          "surface": [
           {
            "colorbar": {
             "outlinewidth": 0,
             "ticks": ""
            },
            "colorscale": [
             [
              0,
              "#0d0887"
             ],
             [
              0.1111111111111111,
              "#46039f"
             ],
             [
              0.2222222222222222,
              "#7201a8"
             ],
             [
              0.3333333333333333,
              "#9c179e"
             ],
             [
              0.4444444444444444,
              "#bd3786"
             ],
             [
              0.5555555555555556,
              "#d8576b"
             ],
             [
              0.6666666666666666,
              "#ed7953"
             ],
             [
              0.7777777777777778,
              "#fb9f3a"
             ],
             [
              0.8888888888888888,
              "#fdca26"
             ],
             [
              1,
              "#f0f921"
             ]
            ],
            "type": "surface"
           }
          ],
          "table": [
           {
            "cells": {
             "fill": {
              "color": "#EBF0F8"
             },
             "line": {
              "color": "white"
             }
            },
            "header": {
             "fill": {
              "color": "#C8D4E3"
             },
             "line": {
              "color": "white"
             }
            },
            "type": "table"
           }
          ]
         },
         "layout": {
          "annotationdefaults": {
           "arrowcolor": "#2a3f5f",
           "arrowhead": 0,
           "arrowwidth": 1
          },
          "autotypenumbers": "strict",
          "coloraxis": {
           "colorbar": {
            "outlinewidth": 0,
            "ticks": ""
           }
          },
          "colorscale": {
           "diverging": [
            [
             0,
             "#8e0152"
            ],
            [
             0.1,
             "#c51b7d"
            ],
            [
             0.2,
             "#de77ae"
            ],
            [
             0.3,
             "#f1b6da"
            ],
            [
             0.4,
             "#fde0ef"
            ],
            [
             0.5,
             "#f7f7f7"
            ],
            [
             0.6,
             "#e6f5d0"
            ],
            [
             0.7,
             "#b8e186"
            ],
            [
             0.8,
             "#7fbc41"
            ],
            [
             0.9,
             "#4d9221"
            ],
            [
             1,
             "#276419"
            ]
           ],
           "sequential": [
            [
             0,
             "#0d0887"
            ],
            [
             0.1111111111111111,
             "#46039f"
            ],
            [
             0.2222222222222222,
             "#7201a8"
            ],
            [
             0.3333333333333333,
             "#9c179e"
            ],
            [
             0.4444444444444444,
             "#bd3786"
            ],
            [
             0.5555555555555556,
             "#d8576b"
            ],
            [
             0.6666666666666666,
             "#ed7953"
            ],
            [
             0.7777777777777778,
             "#fb9f3a"
            ],
            [
             0.8888888888888888,
             "#fdca26"
            ],
            [
             1,
             "#f0f921"
            ]
           ],
           "sequentialminus": [
            [
             0,
             "#0d0887"
            ],
            [
             0.1111111111111111,
             "#46039f"
            ],
            [
             0.2222222222222222,
             "#7201a8"
            ],
            [
             0.3333333333333333,
             "#9c179e"
            ],
            [
             0.4444444444444444,
             "#bd3786"
            ],
            [
             0.5555555555555556,
             "#d8576b"
            ],
            [
             0.6666666666666666,
             "#ed7953"
            ],
            [
             0.7777777777777778,
             "#fb9f3a"
            ],
            [
             0.8888888888888888,
             "#fdca26"
            ],
            [
             1,
             "#f0f921"
            ]
           ]
          },
          "colorway": [
           "#636efa",
           "#EF553B",
           "#00cc96",
           "#ab63fa",
           "#FFA15A",
           "#19d3f3",
           "#FF6692",
           "#B6E880",
           "#FF97FF",
           "#FECB52"
          ],
          "font": {
           "color": "#2a3f5f"
          },
          "geo": {
           "bgcolor": "white",
           "lakecolor": "white",
           "landcolor": "#E5ECF6",
           "showlakes": true,
           "showland": true,
           "subunitcolor": "white"
          },
          "hoverlabel": {
           "align": "left"
          },
          "hovermode": "closest",
          "mapbox": {
           "style": "light"
          },
          "paper_bgcolor": "white",
          "plot_bgcolor": "#E5ECF6",
          "polar": {
           "angularaxis": {
            "gridcolor": "white",
            "linecolor": "white",
            "ticks": ""
           },
           "bgcolor": "#E5ECF6",
           "radialaxis": {
            "gridcolor": "white",
            "linecolor": "white",
            "ticks": ""
           }
          },
          "scene": {
           "xaxis": {
            "backgroundcolor": "#E5ECF6",
            "gridcolor": "white",
            "gridwidth": 2,
            "linecolor": "white",
            "showbackground": true,
            "ticks": "",
            "zerolinecolor": "white"
           },
           "yaxis": {
            "backgroundcolor": "#E5ECF6",
            "gridcolor": "white",
            "gridwidth": 2,
            "linecolor": "white",
            "showbackground": true,
            "ticks": "",
            "zerolinecolor": "white"
           },
           "zaxis": {
            "backgroundcolor": "#E5ECF6",
            "gridcolor": "white",
            "gridwidth": 2,
            "linecolor": "white",
            "showbackground": true,
            "ticks": "",
            "zerolinecolor": "white"
           }
          },
          "shapedefaults": {
           "line": {
            "color": "#2a3f5f"
           }
          },
          "ternary": {
           "aaxis": {
            "gridcolor": "white",
            "linecolor": "white",
            "ticks": ""
           },
           "baxis": {
            "gridcolor": "white",
            "linecolor": "white",
            "ticks": ""
           },
           "bgcolor": "#E5ECF6",
           "caxis": {
            "gridcolor": "white",
            "linecolor": "white",
            "ticks": ""
           }
          },
          "title": {
           "x": 0.05
          },
          "xaxis": {
           "automargin": true,
           "gridcolor": "white",
           "linecolor": "white",
           "ticks": "",
           "title": {
            "standoff": 15
           },
           "zerolinecolor": "white",
           "zerolinewidth": 2
          },
          "yaxis": {
           "automargin": true,
           "gridcolor": "white",
           "linecolor": "white",
           "ticks": "",
           "title": {
            "standoff": 15
           },
           "zerolinecolor": "white",
           "zerolinewidth": 2
          }
         }
        },
        "title": {
         "text": "Handcap Percentage Distribution"
        },
        "width": 400
       }
      }
     },
     "metadata": {},
     "output_type": "display_data"
    },
    {
     "data": {
      "application/vnd.plotly.v1+json": {
       "config": {
        "plotlyServerURL": "https://plot.ly"
       },
       "data": [
        {
         "domain": {
          "x": [
           0,
           1
          ],
          "y": [
           0,
           1
          ]
         },
         "hovertemplate": "label=%{label}<br>value=%{value}<extra></extra>",
         "labels": {
          "bdata": "AQA=",
          "dtype": "i1"
         },
         "legendgroup": "",
         "name": "",
         "showlegend": true,
         "type": "pie",
         "values": {
          "bdata": "e3oLSw==",
          "dtype": "i2"
         }
        }
       ],
       "layout": {
        "height": 400,
        "legend": {
         "tracegroupgap": 0
        },
        "template": {
         "data": {
          "bar": [
           {
            "error_x": {
             "color": "#2a3f5f"
            },
            "error_y": {
             "color": "#2a3f5f"
            },
            "marker": {
             "line": {
              "color": "#E5ECF6",
              "width": 0.5
             },
             "pattern": {
              "fillmode": "overlay",
              "size": 10,
              "solidity": 0.2
             }
            },
            "type": "bar"
           }
          ],
          "barpolar": [
           {
            "marker": {
             "line": {
              "color": "#E5ECF6",
              "width": 0.5
             },
             "pattern": {
              "fillmode": "overlay",
              "size": 10,
              "solidity": 0.2
             }
            },
            "type": "barpolar"
           }
          ],
          "carpet": [
           {
            "aaxis": {
             "endlinecolor": "#2a3f5f",
             "gridcolor": "white",
             "linecolor": "white",
             "minorgridcolor": "white",
             "startlinecolor": "#2a3f5f"
            },
            "baxis": {
             "endlinecolor": "#2a3f5f",
             "gridcolor": "white",
             "linecolor": "white",
             "minorgridcolor": "white",
             "startlinecolor": "#2a3f5f"
            },
            "type": "carpet"
           }
          ],
          "choropleth": [
           {
            "colorbar": {
             "outlinewidth": 0,
             "ticks": ""
            },
            "type": "choropleth"
           }
          ],
          "contour": [
           {
            "colorbar": {
             "outlinewidth": 0,
             "ticks": ""
            },
            "colorscale": [
             [
              0,
              "#0d0887"
             ],
             [
              0.1111111111111111,
              "#46039f"
             ],
             [
              0.2222222222222222,
              "#7201a8"
             ],
             [
              0.3333333333333333,
              "#9c179e"
             ],
             [
              0.4444444444444444,
              "#bd3786"
             ],
             [
              0.5555555555555556,
              "#d8576b"
             ],
             [
              0.6666666666666666,
              "#ed7953"
             ],
             [
              0.7777777777777778,
              "#fb9f3a"
             ],
             [
              0.8888888888888888,
              "#fdca26"
             ],
             [
              1,
              "#f0f921"
             ]
            ],
            "type": "contour"
           }
          ],
          "contourcarpet": [
           {
            "colorbar": {
             "outlinewidth": 0,
             "ticks": ""
            },
            "type": "contourcarpet"
           }
          ],
          "heatmap": [
           {
            "colorbar": {
             "outlinewidth": 0,
             "ticks": ""
            },
            "colorscale": [
             [
              0,
              "#0d0887"
             ],
             [
              0.1111111111111111,
              "#46039f"
             ],
             [
              0.2222222222222222,
              "#7201a8"
             ],
             [
              0.3333333333333333,
              "#9c179e"
             ],
             [
              0.4444444444444444,
              "#bd3786"
             ],
             [
              0.5555555555555556,
              "#d8576b"
             ],
             [
              0.6666666666666666,
              "#ed7953"
             ],
             [
              0.7777777777777778,
              "#fb9f3a"
             ],
             [
              0.8888888888888888,
              "#fdca26"
             ],
             [
              1,
              "#f0f921"
             ]
            ],
            "type": "heatmap"
           }
          ],
          "histogram": [
           {
            "marker": {
             "pattern": {
              "fillmode": "overlay",
              "size": 10,
              "solidity": 0.2
             }
            },
            "type": "histogram"
           }
          ],
          "histogram2d": [
           {
            "colorbar": {
             "outlinewidth": 0,
             "ticks": ""
            },
            "colorscale": [
             [
              0,
              "#0d0887"
             ],
             [
              0.1111111111111111,
              "#46039f"
             ],
             [
              0.2222222222222222,
              "#7201a8"
             ],
             [
              0.3333333333333333,
              "#9c179e"
             ],
             [
              0.4444444444444444,
              "#bd3786"
             ],
             [
              0.5555555555555556,
              "#d8576b"
             ],
             [
              0.6666666666666666,
              "#ed7953"
             ],
             [
              0.7777777777777778,
              "#fb9f3a"
             ],
             [
              0.8888888888888888,
              "#fdca26"
             ],
             [
              1,
              "#f0f921"
             ]
            ],
            "type": "histogram2d"
           }
          ],
          "histogram2dcontour": [
           {
            "colorbar": {
             "outlinewidth": 0,
             "ticks": ""
            },
            "colorscale": [
             [
              0,
              "#0d0887"
             ],
             [
              0.1111111111111111,
              "#46039f"
             ],
             [
              0.2222222222222222,
              "#7201a8"
             ],
             [
              0.3333333333333333,
              "#9c179e"
             ],
             [
              0.4444444444444444,
              "#bd3786"
             ],
             [
              0.5555555555555556,
              "#d8576b"
             ],
             [
              0.6666666666666666,
              "#ed7953"
             ],
             [
              0.7777777777777778,
              "#fb9f3a"
             ],
             [
              0.8888888888888888,
              "#fdca26"
             ],
             [
              1,
              "#f0f921"
             ]
            ],
            "type": "histogram2dcontour"
           }
          ],
          "mesh3d": [
           {
            "colorbar": {
             "outlinewidth": 0,
             "ticks": ""
            },
            "type": "mesh3d"
           }
          ],
          "parcoords": [
           {
            "line": {
             "colorbar": {
              "outlinewidth": 0,
              "ticks": ""
             }
            },
            "type": "parcoords"
           }
          ],
          "pie": [
           {
            "automargin": true,
            "type": "pie"
           }
          ],
          "scatter": [
           {
            "fillpattern": {
             "fillmode": "overlay",
             "size": 10,
             "solidity": 0.2
            },
            "type": "scatter"
           }
          ],
          "scatter3d": [
           {
            "line": {
             "colorbar": {
              "outlinewidth": 0,
              "ticks": ""
             }
            },
            "marker": {
             "colorbar": {
              "outlinewidth": 0,
              "ticks": ""
             }
            },
            "type": "scatter3d"
           }
          ],
          "scattercarpet": [
           {
            "marker": {
             "colorbar": {
              "outlinewidth": 0,
              "ticks": ""
             }
            },
            "type": "scattercarpet"
           }
          ],
          "scattergeo": [
           {
            "marker": {
             "colorbar": {
              "outlinewidth": 0,
              "ticks": ""
             }
            },
            "type": "scattergeo"
           }
          ],
          "scattergl": [
           {
            "marker": {
             "colorbar": {
              "outlinewidth": 0,
              "ticks": ""
             }
            },
            "type": "scattergl"
           }
          ],
          "scattermap": [
           {
            "marker": {
             "colorbar": {
              "outlinewidth": 0,
              "ticks": ""
             }
            },
            "type": "scattermap"
           }
          ],
          "scattermapbox": [
           {
            "marker": {
             "colorbar": {
              "outlinewidth": 0,
              "ticks": ""
             }
            },
            "type": "scattermapbox"
           }
          ],
          "scatterpolar": [
           {
            "marker": {
             "colorbar": {
              "outlinewidth": 0,
              "ticks": ""
             }
            },
            "type": "scatterpolar"
           }
          ],
          "scatterpolargl": [
           {
            "marker": {
             "colorbar": {
              "outlinewidth": 0,
              "ticks": ""
             }
            },
            "type": "scatterpolargl"
           }
          ],
          "scatterternary": [
           {
            "marker": {
             "colorbar": {
              "outlinewidth": 0,
              "ticks": ""
             }
            },
            "type": "scatterternary"
           }
          ],
          "surface": [
           {
            "colorbar": {
             "outlinewidth": 0,
             "ticks": ""
            },
            "colorscale": [
             [
              0,
              "#0d0887"
             ],
             [
              0.1111111111111111,
              "#46039f"
             ],
             [
              0.2222222222222222,
              "#7201a8"
             ],
             [
              0.3333333333333333,
              "#9c179e"
             ],
             [
              0.4444444444444444,
              "#bd3786"
             ],
             [
              0.5555555555555556,
              "#d8576b"
             ],
             [
              0.6666666666666666,
              "#ed7953"
             ],
             [
              0.7777777777777778,
              "#fb9f3a"
             ],
             [
              0.8888888888888888,
              "#fdca26"
             ],
             [
              1,
              "#f0f921"
             ]
            ],
            "type": "surface"
           }
          ],
          "table": [
           {
            "cells": {
             "fill": {
              "color": "#EBF0F8"
             },
             "line": {
              "color": "white"
             }
            },
            "header": {
             "fill": {
              "color": "#C8D4E3"
             },
             "line": {
              "color": "white"
             }
            },
            "type": "table"
           }
          ]
         },
         "layout": {
          "annotationdefaults": {
           "arrowcolor": "#2a3f5f",
           "arrowhead": 0,
           "arrowwidth": 1
          },
          "autotypenumbers": "strict",
          "coloraxis": {
           "colorbar": {
            "outlinewidth": 0,
            "ticks": ""
           }
          },
          "colorscale": {
           "diverging": [
            [
             0,
             "#8e0152"
            ],
            [
             0.1,
             "#c51b7d"
            ],
            [
             0.2,
             "#de77ae"
            ],
            [
             0.3,
             "#f1b6da"
            ],
            [
             0.4,
             "#fde0ef"
            ],
            [
             0.5,
             "#f7f7f7"
            ],
            [
             0.6,
             "#e6f5d0"
            ],
            [
             0.7,
             "#b8e186"
            ],
            [
             0.8,
             "#7fbc41"
            ],
            [
             0.9,
             "#4d9221"
            ],
            [
             1,
             "#276419"
            ]
           ],
           "sequential": [
            [
             0,
             "#0d0887"
            ],
            [
             0.1111111111111111,
             "#46039f"
            ],
            [
             0.2222222222222222,
             "#7201a8"
            ],
            [
             0.3333333333333333,
             "#9c179e"
            ],
            [
             0.4444444444444444,
             "#bd3786"
            ],
            [
             0.5555555555555556,
             "#d8576b"
            ],
            [
             0.6666666666666666,
             "#ed7953"
            ],
            [
             0.7777777777777778,
             "#fb9f3a"
            ],
            [
             0.8888888888888888,
             "#fdca26"
            ],
            [
             1,
             "#f0f921"
            ]
           ],
           "sequentialminus": [
            [
             0,
             "#0d0887"
            ],
            [
             0.1111111111111111,
             "#46039f"
            ],
            [
             0.2222222222222222,
             "#7201a8"
            ],
            [
             0.3333333333333333,
             "#9c179e"
            ],
            [
             0.4444444444444444,
             "#bd3786"
            ],
            [
             0.5555555555555556,
             "#d8576b"
            ],
            [
             0.6666666666666666,
             "#ed7953"
            ],
            [
             0.7777777777777778,
             "#fb9f3a"
            ],
            [
             0.8888888888888888,
             "#fdca26"
            ],
            [
             1,
             "#f0f921"
            ]
           ]
          },
          "colorway": [
           "#636efa",
           "#EF553B",
           "#00cc96",
           "#ab63fa",
           "#FFA15A",
           "#19d3f3",
           "#FF6692",
           "#B6E880",
           "#FF97FF",
           "#FECB52"
          ],
          "font": {
           "color": "#2a3f5f"
          },
          "geo": {
           "bgcolor": "white",
           "lakecolor": "white",
           "landcolor": "#E5ECF6",
           "showlakes": true,
           "showland": true,
           "subunitcolor": "white"
          },
          "hoverlabel": {
           "align": "left"
          },
          "hovermode": "closest",
          "mapbox": {
           "style": "light"
          },
          "paper_bgcolor": "white",
          "plot_bgcolor": "#E5ECF6",
          "polar": {
           "angularaxis": {
            "gridcolor": "white",
            "linecolor": "white",
            "ticks": ""
           },
           "bgcolor": "#E5ECF6",
           "radialaxis": {
            "gridcolor": "white",
            "linecolor": "white",
            "ticks": ""
           }
          },
          "scene": {
           "xaxis": {
            "backgroundcolor": "#E5ECF6",
            "gridcolor": "white",
            "gridwidth": 2,
            "linecolor": "white",
            "showbackground": true,
            "ticks": "",
            "zerolinecolor": "white"
           },
           "yaxis": {
            "backgroundcolor": "#E5ECF6",
            "gridcolor": "white",
            "gridwidth": 2,
            "linecolor": "white",
            "showbackground": true,
            "ticks": "",
            "zerolinecolor": "white"
           },
           "zaxis": {
            "backgroundcolor": "#E5ECF6",
            "gridcolor": "white",
            "gridwidth": 2,
            "linecolor": "white",
            "showbackground": true,
            "ticks": "",
            "zerolinecolor": "white"
           }
          },
          "shapedefaults": {
           "line": {
            "color": "#2a3f5f"
           }
          },
          "ternary": {
           "aaxis": {
            "gridcolor": "white",
            "linecolor": "white",
            "ticks": ""
           },
           "baxis": {
            "gridcolor": "white",
            "linecolor": "white",
            "ticks": ""
           },
           "bgcolor": "#E5ECF6",
           "caxis": {
            "gridcolor": "white",
            "linecolor": "white",
            "ticks": ""
           }
          },
          "title": {
           "x": 0.05
          },
          "xaxis": {
           "automargin": true,
           "gridcolor": "white",
           "linecolor": "white",
           "ticks": "",
           "title": {
            "standoff": 15
           },
           "zerolinecolor": "white",
           "zerolinewidth": 2
          },
          "yaxis": {
           "automargin": true,
           "gridcolor": "white",
           "linecolor": "white",
           "ticks": "",
           "title": {
            "standoff": 15
           },
           "zerolinecolor": "white",
           "zerolinewidth": 2
          }
         }
        },
        "title": {
         "text": "SMS_received Percentage Distribution"
        },
        "width": 400
       }
      }
     },
     "metadata": {},
     "output_type": "display_data"
    },
    {
     "data": {
      "application/vnd.plotly.v1+json": {
       "config": {
        "plotlyServerURL": "https://plot.ly"
       },
       "data": [
        {
         "domain": {
          "x": [
           0,
           1
          ],
          "y": [
           0,
           1
          ]
         },
         "hovertemplate": "label=%{label}<br>value=%{value}<extra></extra>",
         "labels": [
          "Yes",
          "No"
         ],
         "legendgroup": "",
         "name": "",
         "showlegend": true,
         "type": "pie",
         "values": {
          "bdata": "S3Y7Tw==",
          "dtype": "i2"
         }
        }
       ],
       "layout": {
        "height": 400,
        "legend": {
         "tracegroupgap": 0
        },
        "template": {
         "data": {
          "bar": [
           {
            "error_x": {
             "color": "#2a3f5f"
            },
            "error_y": {
             "color": "#2a3f5f"
            },
            "marker": {
             "line": {
              "color": "#E5ECF6",
              "width": 0.5
             },
             "pattern": {
              "fillmode": "overlay",
              "size": 10,
              "solidity": 0.2
             }
            },
            "type": "bar"
           }
          ],
          "barpolar": [
           {
            "marker": {
             "line": {
              "color": "#E5ECF6",
              "width": 0.5
             },
             "pattern": {
              "fillmode": "overlay",
              "size": 10,
              "solidity": 0.2
             }
            },
            "type": "barpolar"
           }
          ],
          "carpet": [
           {
            "aaxis": {
             "endlinecolor": "#2a3f5f",
             "gridcolor": "white",
             "linecolor": "white",
             "minorgridcolor": "white",
             "startlinecolor": "#2a3f5f"
            },
            "baxis": {
             "endlinecolor": "#2a3f5f",
             "gridcolor": "white",
             "linecolor": "white",
             "minorgridcolor": "white",
             "startlinecolor": "#2a3f5f"
            },
            "type": "carpet"
           }
          ],
          "choropleth": [
           {
            "colorbar": {
             "outlinewidth": 0,
             "ticks": ""
            },
            "type": "choropleth"
           }
          ],
          "contour": [
           {
            "colorbar": {
             "outlinewidth": 0,
             "ticks": ""
            },
            "colorscale": [
             [
              0,
              "#0d0887"
             ],
             [
              0.1111111111111111,
              "#46039f"
             ],
             [
              0.2222222222222222,
              "#7201a8"
             ],
             [
              0.3333333333333333,
              "#9c179e"
             ],
             [
              0.4444444444444444,
              "#bd3786"
             ],
             [
              0.5555555555555556,
              "#d8576b"
             ],
             [
              0.6666666666666666,
              "#ed7953"
             ],
             [
              0.7777777777777778,
              "#fb9f3a"
             ],
             [
              0.8888888888888888,
              "#fdca26"
             ],
             [
              1,
              "#f0f921"
             ]
            ],
            "type": "contour"
           }
          ],
          "contourcarpet": [
           {
            "colorbar": {
             "outlinewidth": 0,
             "ticks": ""
            },
            "type": "contourcarpet"
           }
          ],
          "heatmap": [
           {
            "colorbar": {
             "outlinewidth": 0,
             "ticks": ""
            },
            "colorscale": [
             [
              0,
              "#0d0887"
             ],
             [
              0.1111111111111111,
              "#46039f"
             ],
             [
              0.2222222222222222,
              "#7201a8"
             ],
             [
              0.3333333333333333,
              "#9c179e"
             ],
             [
              0.4444444444444444,
              "#bd3786"
             ],
             [
              0.5555555555555556,
              "#d8576b"
             ],
             [
              0.6666666666666666,
              "#ed7953"
             ],
             [
              0.7777777777777778,
              "#fb9f3a"
             ],
             [
              0.8888888888888888,
              "#fdca26"
             ],
             [
              1,
              "#f0f921"
             ]
            ],
            "type": "heatmap"
           }
          ],
          "histogram": [
           {
            "marker": {
             "pattern": {
              "fillmode": "overlay",
              "size": 10,
              "solidity": 0.2
             }
            },
            "type": "histogram"
           }
          ],
          "histogram2d": [
           {
            "colorbar": {
             "outlinewidth": 0,
             "ticks": ""
            },
            "colorscale": [
             [
              0,
              "#0d0887"
             ],
             [
              0.1111111111111111,
              "#46039f"
             ],
             [
              0.2222222222222222,
              "#7201a8"
             ],
             [
              0.3333333333333333,
              "#9c179e"
             ],
             [
              0.4444444444444444,
              "#bd3786"
             ],
             [
              0.5555555555555556,
              "#d8576b"
             ],
             [
              0.6666666666666666,
              "#ed7953"
             ],
             [
              0.7777777777777778,
              "#fb9f3a"
             ],
             [
              0.8888888888888888,
              "#fdca26"
             ],
             [
              1,
              "#f0f921"
             ]
            ],
            "type": "histogram2d"
           }
          ],
          "histogram2dcontour": [
           {
            "colorbar": {
             "outlinewidth": 0,
             "ticks": ""
            },
            "colorscale": [
             [
              0,
              "#0d0887"
             ],
             [
              0.1111111111111111,
              "#46039f"
             ],
             [
              0.2222222222222222,
              "#7201a8"
             ],
             [
              0.3333333333333333,
              "#9c179e"
             ],
             [
              0.4444444444444444,
              "#bd3786"
             ],
             [
              0.5555555555555556,
              "#d8576b"
             ],
             [
              0.6666666666666666,
              "#ed7953"
             ],
             [
              0.7777777777777778,
              "#fb9f3a"
             ],
             [
              0.8888888888888888,
              "#fdca26"
             ],
             [
              1,
              "#f0f921"
             ]
            ],
            "type": "histogram2dcontour"
           }
          ],
          "mesh3d": [
           {
            "colorbar": {
             "outlinewidth": 0,
             "ticks": ""
            },
            "type": "mesh3d"
           }
          ],
          "parcoords": [
           {
            "line": {
             "colorbar": {
              "outlinewidth": 0,
              "ticks": ""
             }
            },
            "type": "parcoords"
           }
          ],
          "pie": [
           {
            "automargin": true,
            "type": "pie"
           }
          ],
          "scatter": [
           {
            "fillpattern": {
             "fillmode": "overlay",
             "size": 10,
             "solidity": 0.2
            },
            "type": "scatter"
           }
          ],
          "scatter3d": [
           {
            "line": {
             "colorbar": {
              "outlinewidth": 0,
              "ticks": ""
             }
            },
            "marker": {
             "colorbar": {
              "outlinewidth": 0,
              "ticks": ""
             }
            },
            "type": "scatter3d"
           }
          ],
          "scattercarpet": [
           {
            "marker": {
             "colorbar": {
              "outlinewidth": 0,
              "ticks": ""
             }
            },
            "type": "scattercarpet"
           }
          ],
          "scattergeo": [
           {
            "marker": {
             "colorbar": {
              "outlinewidth": 0,
              "ticks": ""
             }
            },
            "type": "scattergeo"
           }
          ],
          "scattergl": [
           {
            "marker": {
             "colorbar": {
              "outlinewidth": 0,
              "ticks": ""
             }
            },
            "type": "scattergl"
           }
          ],
          "scattermap": [
           {
            "marker": {
             "colorbar": {
              "outlinewidth": 0,
              "ticks": ""
             }
            },
            "type": "scattermap"
           }
          ],
          "scattermapbox": [
           {
            "marker": {
             "colorbar": {
              "outlinewidth": 0,
              "ticks": ""
             }
            },
            "type": "scattermapbox"
           }
          ],
          "scatterpolar": [
           {
            "marker": {
             "colorbar": {
              "outlinewidth": 0,
              "ticks": ""
             }
            },
            "type": "scatterpolar"
           }
          ],
          "scatterpolargl": [
           {
            "marker": {
             "colorbar": {
              "outlinewidth": 0,
              "ticks": ""
             }
            },
            "type": "scatterpolargl"
           }
          ],
          "scatterternary": [
           {
            "marker": {
             "colorbar": {
              "outlinewidth": 0,
              "ticks": ""
             }
            },
            "type": "scatterternary"
           }
          ],
          "surface": [
           {
            "colorbar": {
             "outlinewidth": 0,
             "ticks": ""
            },
            "colorscale": [
             [
              0,
              "#0d0887"
             ],
             [
              0.1111111111111111,
              "#46039f"
             ],
             [
              0.2222222222222222,
              "#7201a8"
             ],
             [
              0.3333333333333333,
              "#9c179e"
             ],
             [
              0.4444444444444444,
              "#bd3786"
             ],
             [
              0.5555555555555556,
              "#d8576b"
             ],
             [
              0.6666666666666666,
              "#ed7953"
             ],
             [
              0.7777777777777778,
              "#fb9f3a"
             ],
             [
              0.8888888888888888,
              "#fdca26"
             ],
             [
              1,
              "#f0f921"
             ]
            ],
            "type": "surface"
           }
          ],
          "table": [
           {
            "cells": {
             "fill": {
              "color": "#EBF0F8"
             },
             "line": {
              "color": "white"
             }
            },
            "header": {
             "fill": {
              "color": "#C8D4E3"
             },
             "line": {
              "color": "white"
             }
            },
            "type": "table"
           }
          ]
         },
         "layout": {
          "annotationdefaults": {
           "arrowcolor": "#2a3f5f",
           "arrowhead": 0,
           "arrowwidth": 1
          },
          "autotypenumbers": "strict",
          "coloraxis": {
           "colorbar": {
            "outlinewidth": 0,
            "ticks": ""
           }
          },
          "colorscale": {
           "diverging": [
            [
             0,
             "#8e0152"
            ],
            [
             0.1,
             "#c51b7d"
            ],
            [
             0.2,
             "#de77ae"
            ],
            [
             0.3,
             "#f1b6da"
            ],
            [
             0.4,
             "#fde0ef"
            ],
            [
             0.5,
             "#f7f7f7"
            ],
            [
             0.6,
             "#e6f5d0"
            ],
            [
             0.7,
             "#b8e186"
            ],
            [
             0.8,
             "#7fbc41"
            ],
            [
             0.9,
             "#4d9221"
            ],
            [
             1,
             "#276419"
            ]
           ],
           "sequential": [
            [
             0,
             "#0d0887"
            ],
            [
             0.1111111111111111,
             "#46039f"
            ],
            [
             0.2222222222222222,
             "#7201a8"
            ],
            [
             0.3333333333333333,
             "#9c179e"
            ],
            [
             0.4444444444444444,
             "#bd3786"
            ],
            [
             0.5555555555555556,
             "#d8576b"
            ],
            [
             0.6666666666666666,
             "#ed7953"
            ],
            [
             0.7777777777777778,
             "#fb9f3a"
            ],
            [
             0.8888888888888888,
             "#fdca26"
            ],
            [
             1,
             "#f0f921"
            ]
           ],
           "sequentialminus": [
            [
             0,
             "#0d0887"
            ],
            [
             0.1111111111111111,
             "#46039f"
            ],
            [
             0.2222222222222222,
             "#7201a8"
            ],
            [
             0.3333333333333333,
             "#9c179e"
            ],
            [
             0.4444444444444444,
             "#bd3786"
            ],
            [
             0.5555555555555556,
             "#d8576b"
            ],
            [
             0.6666666666666666,
             "#ed7953"
            ],
            [
             0.7777777777777778,
             "#fb9f3a"
            ],
            [
             0.8888888888888888,
             "#fdca26"
            ],
            [
             1,
             "#f0f921"
            ]
           ]
          },
          "colorway": [
           "#636efa",
           "#EF553B",
           "#00cc96",
           "#ab63fa",
           "#FFA15A",
           "#19d3f3",
           "#FF6692",
           "#B6E880",
           "#FF97FF",
           "#FECB52"
          ],
          "font": {
           "color": "#2a3f5f"
          },
          "geo": {
           "bgcolor": "white",
           "lakecolor": "white",
           "landcolor": "#E5ECF6",
           "showlakes": true,
           "showland": true,
           "subunitcolor": "white"
          },
          "hoverlabel": {
           "align": "left"
          },
          "hovermode": "closest",
          "mapbox": {
           "style": "light"
          },
          "paper_bgcolor": "white",
          "plot_bgcolor": "#E5ECF6",
          "polar": {
           "angularaxis": {
            "gridcolor": "white",
            "linecolor": "white",
            "ticks": ""
           },
           "bgcolor": "#E5ECF6",
           "radialaxis": {
            "gridcolor": "white",
            "linecolor": "white",
            "ticks": ""
           }
          },
          "scene": {
           "xaxis": {
            "backgroundcolor": "#E5ECF6",
            "gridcolor": "white",
            "gridwidth": 2,
            "linecolor": "white",
            "showbackground": true,
            "ticks": "",
            "zerolinecolor": "white"
           },
           "yaxis": {
            "backgroundcolor": "#E5ECF6",
            "gridcolor": "white",
            "gridwidth": 2,
            "linecolor": "white",
            "showbackground": true,
            "ticks": "",
            "zerolinecolor": "white"
           },
           "zaxis": {
            "backgroundcolor": "#E5ECF6",
            "gridcolor": "white",
            "gridwidth": 2,
            "linecolor": "white",
            "showbackground": true,
            "ticks": "",
            "zerolinecolor": "white"
           }
          },
          "shapedefaults": {
           "line": {
            "color": "#2a3f5f"
           }
          },
          "ternary": {
           "aaxis": {
            "gridcolor": "white",
            "linecolor": "white",
            "ticks": ""
           },
           "baxis": {
            "gridcolor": "white",
            "linecolor": "white",
            "ticks": ""
           },
           "bgcolor": "#E5ECF6",
           "caxis": {
            "gridcolor": "white",
            "linecolor": "white",
            "ticks": ""
           }
          },
          "title": {
           "x": 0.05
          },
          "xaxis": {
           "automargin": true,
           "gridcolor": "white",
           "linecolor": "white",
           "ticks": "",
           "title": {
            "standoff": 15
           },
           "zerolinecolor": "white",
           "zerolinewidth": 2
          },
          "yaxis": {
           "automargin": true,
           "gridcolor": "white",
           "linecolor": "white",
           "ticks": "",
           "title": {
            "standoff": 15
           },
           "zerolinecolor": "white",
           "zerolinewidth": 2
          }
         }
        },
        "title": {
         "text": "No-show Percentage Distribution"
        },
        "width": 400
       }
      }
     },
     "metadata": {},
     "output_type": "display_data"
    }
   ],
   "source": [
    "import plotly.express as px\n",
    "\n",
    "for values in data.columns[5:]:\n",
    "    figg = px.pie(\n",
    "        names=pd.Series(np.array(new_data[values].unique())),\n",
    "        values=pd.Series(np.array(new_data[values].value_counts())),\n",
    "        title=f\"{values} Percentage Distribution\"\n",
    "    )\n",
    "\n",
    "    figg.update_layout(\n",
    "        width = 400,\n",
    "        height = 400\n",
    "    )\n",
    "\n",
    "    figg.show()"
   ]
  },
  {
   "cell_type": "code",
   "execution_count": 7,
   "id": "e7ae84bb",
   "metadata": {},
   "outputs": [
    {
     "data": {
      "application/vnd.plotly.v1+json": {
       "config": {
        "plotlyServerURL": "https://plot.ly"
       },
       "data": [
        {
         "domain": {
          "x": [
           0,
           1
          ],
          "y": [
           0,
           1
          ]
         },
         "hovertemplate": "label=%{label}<br>value=%{value}<extra></extra>",
         "labels": [
          "M",
          "F"
         ],
         "legendgroup": "",
         "name": "",
         "showlegend": true,
         "type": "pie",
         "values": {
          "bdata": "6YEAAJ1DAAA=",
          "dtype": "i4"
         }
        }
       ],
       "layout": {
        "height": 500,
        "legend": {
         "tracegroupgap": 0
        },
        "template": {
         "data": {
          "bar": [
           {
            "error_x": {
             "color": "#2a3f5f"
            },
            "error_y": {
             "color": "#2a3f5f"
            },
            "marker": {
             "line": {
              "color": "#E5ECF6",
              "width": 0.5
             },
             "pattern": {
              "fillmode": "overlay",
              "size": 10,
              "solidity": 0.2
             }
            },
            "type": "bar"
           }
          ],
          "barpolar": [
           {
            "marker": {
             "line": {
              "color": "#E5ECF6",
              "width": 0.5
             },
             "pattern": {
              "fillmode": "overlay",
              "size": 10,
              "solidity": 0.2
             }
            },
            "type": "barpolar"
           }
          ],
          "carpet": [
           {
            "aaxis": {
             "endlinecolor": "#2a3f5f",
             "gridcolor": "white",
             "linecolor": "white",
             "minorgridcolor": "white",
             "startlinecolor": "#2a3f5f"
            },
            "baxis": {
             "endlinecolor": "#2a3f5f",
             "gridcolor": "white",
             "linecolor": "white",
             "minorgridcolor": "white",
             "startlinecolor": "#2a3f5f"
            },
            "type": "carpet"
           }
          ],
          "choropleth": [
           {
            "colorbar": {
             "outlinewidth": 0,
             "ticks": ""
            },
            "type": "choropleth"
           }
          ],
          "contour": [
           {
            "colorbar": {
             "outlinewidth": 0,
             "ticks": ""
            },
            "colorscale": [
             [
              0,
              "#0d0887"
             ],
             [
              0.1111111111111111,
              "#46039f"
             ],
             [
              0.2222222222222222,
              "#7201a8"
             ],
             [
              0.3333333333333333,
              "#9c179e"
             ],
             [
              0.4444444444444444,
              "#bd3786"
             ],
             [
              0.5555555555555556,
              "#d8576b"
             ],
             [
              0.6666666666666666,
              "#ed7953"
             ],
             [
              0.7777777777777778,
              "#fb9f3a"
             ],
             [
              0.8888888888888888,
              "#fdca26"
             ],
             [
              1,
              "#f0f921"
             ]
            ],
            "type": "contour"
           }
          ],
          "contourcarpet": [
           {
            "colorbar": {
             "outlinewidth": 0,
             "ticks": ""
            },
            "type": "contourcarpet"
           }
          ],
          "heatmap": [
           {
            "colorbar": {
             "outlinewidth": 0,
             "ticks": ""
            },
            "colorscale": [
             [
              0,
              "#0d0887"
             ],
             [
              0.1111111111111111,
              "#46039f"
             ],
             [
              0.2222222222222222,
              "#7201a8"
             ],
             [
              0.3333333333333333,
              "#9c179e"
             ],
             [
              0.4444444444444444,
              "#bd3786"
             ],
             [
              0.5555555555555556,
              "#d8576b"
             ],
             [
              0.6666666666666666,
              "#ed7953"
             ],
             [
              0.7777777777777778,
              "#fb9f3a"
             ],
             [
              0.8888888888888888,
              "#fdca26"
             ],
             [
              1,
              "#f0f921"
             ]
            ],
            "type": "heatmap"
           }
          ],
          "histogram": [
           {
            "marker": {
             "pattern": {
              "fillmode": "overlay",
              "size": 10,
              "solidity": 0.2
             }
            },
            "type": "histogram"
           }
          ],
          "histogram2d": [
           {
            "colorbar": {
             "outlinewidth": 0,
             "ticks": ""
            },
            "colorscale": [
             [
              0,
              "#0d0887"
             ],
             [
              0.1111111111111111,
              "#46039f"
             ],
             [
              0.2222222222222222,
              "#7201a8"
             ],
             [
              0.3333333333333333,
              "#9c179e"
             ],
             [
              0.4444444444444444,
              "#bd3786"
             ],
             [
              0.5555555555555556,
              "#d8576b"
             ],
             [
              0.6666666666666666,
              "#ed7953"
             ],
             [
              0.7777777777777778,
              "#fb9f3a"
             ],
             [
              0.8888888888888888,
              "#fdca26"
             ],
             [
              1,
              "#f0f921"
             ]
            ],
            "type": "histogram2d"
           }
          ],
          "histogram2dcontour": [
           {
            "colorbar": {
             "outlinewidth": 0,
             "ticks": ""
            },
            "colorscale": [
             [
              0,
              "#0d0887"
             ],
             [
              0.1111111111111111,
              "#46039f"
             ],
             [
              0.2222222222222222,
              "#7201a8"
             ],
             [
              0.3333333333333333,
              "#9c179e"
             ],
             [
              0.4444444444444444,
              "#bd3786"
             ],
             [
              0.5555555555555556,
              "#d8576b"
             ],
             [
              0.6666666666666666,
              "#ed7953"
             ],
             [
              0.7777777777777778,
              "#fb9f3a"
             ],
             [
              0.8888888888888888,
              "#fdca26"
             ],
             [
              1,
              "#f0f921"
             ]
            ],
            "type": "histogram2dcontour"
           }
          ],
          "mesh3d": [
           {
            "colorbar": {
             "outlinewidth": 0,
             "ticks": ""
            },
            "type": "mesh3d"
           }
          ],
          "parcoords": [
           {
            "line": {
             "colorbar": {
              "outlinewidth": 0,
              "ticks": ""
             }
            },
            "type": "parcoords"
           }
          ],
          "pie": [
           {
            "automargin": true,
            "type": "pie"
           }
          ],
          "scatter": [
           {
            "fillpattern": {
             "fillmode": "overlay",
             "size": 10,
             "solidity": 0.2
            },
            "type": "scatter"
           }
          ],
          "scatter3d": [
           {
            "line": {
             "colorbar": {
              "outlinewidth": 0,
              "ticks": ""
             }
            },
            "marker": {
             "colorbar": {
              "outlinewidth": 0,
              "ticks": ""
             }
            },
            "type": "scatter3d"
           }
          ],
          "scattercarpet": [
           {
            "marker": {
             "colorbar": {
              "outlinewidth": 0,
              "ticks": ""
             }
            },
            "type": "scattercarpet"
           }
          ],
          "scattergeo": [
           {
            "marker": {
             "colorbar": {
              "outlinewidth": 0,
              "ticks": ""
             }
            },
            "type": "scattergeo"
           }
          ],
          "scattergl": [
           {
            "marker": {
             "colorbar": {
              "outlinewidth": 0,
              "ticks": ""
             }
            },
            "type": "scattergl"
           }
          ],
          "scattermap": [
           {
            "marker": {
             "colorbar": {
              "outlinewidth": 0,
              "ticks": ""
             }
            },
            "type": "scattermap"
           }
          ],
          "scattermapbox": [
           {
            "marker": {
             "colorbar": {
              "outlinewidth": 0,
              "ticks": ""
             }
            },
            "type": "scattermapbox"
           }
          ],
          "scatterpolar": [
           {
            "marker": {
             "colorbar": {
              "outlinewidth": 0,
              "ticks": ""
             }
            },
            "type": "scatterpolar"
           }
          ],
          "scatterpolargl": [
           {
            "marker": {
             "colorbar": {
              "outlinewidth": 0,
              "ticks": ""
             }
            },
            "type": "scatterpolargl"
           }
          ],
          "scatterternary": [
           {
            "marker": {
             "colorbar": {
              "outlinewidth": 0,
              "ticks": ""
             }
            },
            "type": "scatterternary"
           }
          ],
          "surface": [
           {
            "colorbar": {
             "outlinewidth": 0,
             "ticks": ""
            },
            "colorscale": [
             [
              0,
              "#0d0887"
             ],
             [
              0.1111111111111111,
              "#46039f"
             ],
             [
              0.2222222222222222,
              "#7201a8"
             ],
             [
              0.3333333333333333,
              "#9c179e"
             ],
             [
              0.4444444444444444,
              "#bd3786"
             ],
             [
              0.5555555555555556,
              "#d8576b"
             ],
             [
              0.6666666666666666,
              "#ed7953"
             ],
             [
              0.7777777777777778,
              "#fb9f3a"
             ],
             [
              0.8888888888888888,
              "#fdca26"
             ],
             [
              1,
              "#f0f921"
             ]
            ],
            "type": "surface"
           }
          ],
          "table": [
           {
            "cells": {
             "fill": {
              "color": "#EBF0F8"
             },
             "line": {
              "color": "white"
             }
            },
            "header": {
             "fill": {
              "color": "#C8D4E3"
             },
             "line": {
              "color": "white"
             }
            },
            "type": "table"
           }
          ]
         },
         "layout": {
          "annotationdefaults": {
           "arrowcolor": "#2a3f5f",
           "arrowhead": 0,
           "arrowwidth": 1
          },
          "autotypenumbers": "strict",
          "coloraxis": {
           "colorbar": {
            "outlinewidth": 0,
            "ticks": ""
           }
          },
          "colorscale": {
           "diverging": [
            [
             0,
             "#8e0152"
            ],
            [
             0.1,
             "#c51b7d"
            ],
            [
             0.2,
             "#de77ae"
            ],
            [
             0.3,
             "#f1b6da"
            ],
            [
             0.4,
             "#fde0ef"
            ],
            [
             0.5,
             "#f7f7f7"
            ],
            [
             0.6,
             "#e6f5d0"
            ],
            [
             0.7,
             "#b8e186"
            ],
            [
             0.8,
             "#7fbc41"
            ],
            [
             0.9,
             "#4d9221"
            ],
            [
             1,
             "#276419"
            ]
           ],
           "sequential": [
            [
             0,
             "#0d0887"
            ],
            [
             0.1111111111111111,
             "#46039f"
            ],
            [
             0.2222222222222222,
             "#7201a8"
            ],
            [
             0.3333333333333333,
             "#9c179e"
            ],
            [
             0.4444444444444444,
             "#bd3786"
            ],
            [
             0.5555555555555556,
             "#d8576b"
            ],
            [
             0.6666666666666666,
             "#ed7953"
            ],
            [
             0.7777777777777778,
             "#fb9f3a"
            ],
            [
             0.8888888888888888,
             "#fdca26"
            ],
            [
             1,
             "#f0f921"
            ]
           ],
           "sequentialminus": [
            [
             0,
             "#0d0887"
            ],
            [
             0.1111111111111111,
             "#46039f"
            ],
            [
             0.2222222222222222,
             "#7201a8"
            ],
            [
             0.3333333333333333,
             "#9c179e"
            ],
            [
             0.4444444444444444,
             "#bd3786"
            ],
            [
             0.5555555555555556,
             "#d8576b"
            ],
            [
             0.6666666666666666,
             "#ed7953"
            ],
            [
             0.7777777777777778,
             "#fb9f3a"
            ],
            [
             0.8888888888888888,
             "#fdca26"
            ],
            [
             1,
             "#f0f921"
            ]
           ]
          },
          "colorway": [
           "#636efa",
           "#EF553B",
           "#00cc96",
           "#ab63fa",
           "#FFA15A",
           "#19d3f3",
           "#FF6692",
           "#B6E880",
           "#FF97FF",
           "#FECB52"
          ],
          "font": {
           "color": "#2a3f5f"
          },
          "geo": {
           "bgcolor": "white",
           "lakecolor": "white",
           "landcolor": "#E5ECF6",
           "showlakes": true,
           "showland": true,
           "subunitcolor": "white"
          },
          "hoverlabel": {
           "align": "left"
          },
          "hovermode": "closest",
          "mapbox": {
           "style": "light"
          },
          "paper_bgcolor": "white",
          "plot_bgcolor": "#E5ECF6",
          "polar": {
           "angularaxis": {
            "gridcolor": "white",
            "linecolor": "white",
            "ticks": ""
           },
           "bgcolor": "#E5ECF6",
           "radialaxis": {
            "gridcolor": "white",
            "linecolor": "white",
            "ticks": ""
           }
          },
          "scene": {
           "xaxis": {
            "backgroundcolor": "#E5ECF6",
            "gridcolor": "white",
            "gridwidth": 2,
            "linecolor": "white",
            "showbackground": true,
            "ticks": "",
            "zerolinecolor": "white"
           },
           "yaxis": {
            "backgroundcolor": "#E5ECF6",
            "gridcolor": "white",
            "gridwidth": 2,
            "linecolor": "white",
            "showbackground": true,
            "ticks": "",
            "zerolinecolor": "white"
           },
           "zaxis": {
            "backgroundcolor": "#E5ECF6",
            "gridcolor": "white",
            "gridwidth": 2,
            "linecolor": "white",
            "showbackground": true,
            "ticks": "",
            "zerolinecolor": "white"
           }
          },
          "shapedefaults": {
           "line": {
            "color": "#2a3f5f"
           }
          },
          "ternary": {
           "aaxis": {
            "gridcolor": "white",
            "linecolor": "white",
            "ticks": ""
           },
           "baxis": {
            "gridcolor": "white",
            "linecolor": "white",
            "ticks": ""
           },
           "bgcolor": "#E5ECF6",
           "caxis": {
            "gridcolor": "white",
            "linecolor": "white",
            "ticks": ""
           }
          },
          "title": {
           "x": 0.05
          },
          "xaxis": {
           "automargin": true,
           "gridcolor": "white",
           "linecolor": "white",
           "ticks": "",
           "title": {
            "standoff": 15
           },
           "zerolinecolor": "white",
           "zerolinewidth": 2
          },
          "yaxis": {
           "automargin": true,
           "gridcolor": "white",
           "linecolor": "white",
           "ticks": "",
           "title": {
            "standoff": 15
           },
           "zerolinecolor": "white",
           "zerolinewidth": 2
          }
         }
        },
        "title": {
         "text": "Gender Percentage Distribution"
        },
        "width": 500
       }
      }
     },
     "metadata": {},
     "output_type": "display_data"
    }
   ],
   "source": [
    "import plotly.express as px\n",
    "\n",
    "figg = px.pie(\n",
    "    names=pd.Series(np.array(new_data['Gender'].unique())),\n",
    "    values=pd.Series(np.array(new_data['Gender'].value_counts())),\n",
    "    title=\"Gender Percentage Distribution\"\n",
    ")\n",
    "\n",
    "figg.update_layout(\n",
    "    width = 500,\n",
    "    height = 500\n",
    ")\n",
    "\n",
    "figg.show()"
   ]
  },
  {
   "cell_type": "code",
   "execution_count": 8,
   "id": "56486805",
   "metadata": {},
   "outputs": [
    {
     "data": {
      "text/plain": [
       "Index(['Gender', 'ScheduledDay', 'AppointmentDay', 'Age', 'Neighbourhood',\n",
       "       'Scholarship', 'Hipertension', 'Diabetes', 'Alcoholism', 'Handcap',\n",
       "       'SMS_received', 'No-show'],\n",
       "      dtype='object')"
      ]
     },
     "execution_count": 8,
     "metadata": {},
     "output_type": "execute_result"
    }
   ],
   "source": [
    "data.columns"
   ]
  },
  {
   "cell_type": "markdown",
   "id": "da48c505",
   "metadata": {},
   "source": [
    "# Outliers Detecting In Columns."
   ]
  },
  {
   "cell_type": "code",
   "execution_count": 9,
   "id": "a2536719",
   "metadata": {},
   "outputs": [
    {
     "data": {
      "application/vnd.microsoft.datawrangler.viewer.v0+json": {
       "columns": [
        {
         "name": "index",
         "rawType": "object",
         "type": "string"
        },
        {
         "name": "Age",
         "rawType": "float64",
         "type": "float"
        },
        {
         "name": "Scholarship",
         "rawType": "float64",
         "type": "float"
        },
        {
         "name": "Hipertension",
         "rawType": "float64",
         "type": "float"
        },
        {
         "name": "Diabetes",
         "rawType": "float64",
         "type": "float"
        },
        {
         "name": "Alcoholism",
         "rawType": "float64",
         "type": "float"
        },
        {
         "name": "Handcap",
         "rawType": "float64",
         "type": "float"
        },
        {
         "name": "SMS_received",
         "rawType": "float64",
         "type": "float"
        }
       ],
       "conversionMethod": "pd.DataFrame",
       "ref": "005f4df8-a38d-4adc-b34a-6c7f4e763975",
       "rows": [
        [
         "count",
         "100527.0",
         "100527.0",
         "100527.0",
         "100527.0",
         "100527.0",
         "100527.0",
         "100527.0"
        ],
        [
         "mean",
         "36.9959413888806",
         "0.09962497637450635",
         "0.19754891720632267",
         "0.0725576213355616",
         "0.02732599202204383",
         "0.022252728122792883",
         "0.3212768708904076"
        ],
        [
         "std",
         "23.197252243093242",
         "0.2995008059451031",
         "0.3981518798846234",
         "0.2594102587229822",
         "0.16303234827518734",
         "0.1617854395557102",
         "0.4669691770254969"
        ],
        [
         "min",
         "-1.0",
         "0.0",
         "0.0",
         "0.0",
         "0.0",
         "0.0",
         "0.0"
        ],
        [
         "25%",
         "17.0",
         "0.0",
         "0.0",
         "0.0",
         "0.0",
         "0.0",
         "0.0"
        ],
        [
         "50%",
         "37.0",
         "0.0",
         "0.0",
         "0.0",
         "0.0",
         "0.0",
         "0.0"
        ],
        [
         "75%",
         "55.0",
         "0.0",
         "0.0",
         "0.0",
         "0.0",
         "0.0",
         "1.0"
        ],
        [
         "max",
         "115.0",
         "1.0",
         "1.0",
         "1.0",
         "1.0",
         "4.0",
         "1.0"
        ]
       ],
       "shape": {
        "columns": 7,
        "rows": 8
       }
      },
      "text/html": [
       "<div>\n",
       "<style scoped>\n",
       "    .dataframe tbody tr th:only-of-type {\n",
       "        vertical-align: middle;\n",
       "    }\n",
       "\n",
       "    .dataframe tbody tr th {\n",
       "        vertical-align: top;\n",
       "    }\n",
       "\n",
       "    .dataframe thead th {\n",
       "        text-align: right;\n",
       "    }\n",
       "</style>\n",
       "<table border=\"1\" class=\"dataframe\">\n",
       "  <thead>\n",
       "    <tr style=\"text-align: right;\">\n",
       "      <th></th>\n",
       "      <th>Age</th>\n",
       "      <th>Scholarship</th>\n",
       "      <th>Hipertension</th>\n",
       "      <th>Diabetes</th>\n",
       "      <th>Alcoholism</th>\n",
       "      <th>Handcap</th>\n",
       "      <th>SMS_received</th>\n",
       "    </tr>\n",
       "  </thead>\n",
       "  <tbody>\n",
       "    <tr>\n",
       "      <th>count</th>\n",
       "      <td>100527.000000</td>\n",
       "      <td>100527.000000</td>\n",
       "      <td>100527.000000</td>\n",
       "      <td>100527.000000</td>\n",
       "      <td>100527.000000</td>\n",
       "      <td>100527.000000</td>\n",
       "      <td>100527.000000</td>\n",
       "    </tr>\n",
       "    <tr>\n",
       "      <th>mean</th>\n",
       "      <td>36.995941</td>\n",
       "      <td>0.099625</td>\n",
       "      <td>0.197549</td>\n",
       "      <td>0.072558</td>\n",
       "      <td>0.027326</td>\n",
       "      <td>0.022253</td>\n",
       "      <td>0.321277</td>\n",
       "    </tr>\n",
       "    <tr>\n",
       "      <th>std</th>\n",
       "      <td>23.197252</td>\n",
       "      <td>0.299501</td>\n",
       "      <td>0.398152</td>\n",
       "      <td>0.259410</td>\n",
       "      <td>0.163032</td>\n",
       "      <td>0.161785</td>\n",
       "      <td>0.466969</td>\n",
       "    </tr>\n",
       "    <tr>\n",
       "      <th>min</th>\n",
       "      <td>-1.000000</td>\n",
       "      <td>0.000000</td>\n",
       "      <td>0.000000</td>\n",
       "      <td>0.000000</td>\n",
       "      <td>0.000000</td>\n",
       "      <td>0.000000</td>\n",
       "      <td>0.000000</td>\n",
       "    </tr>\n",
       "    <tr>\n",
       "      <th>25%</th>\n",
       "      <td>17.000000</td>\n",
       "      <td>0.000000</td>\n",
       "      <td>0.000000</td>\n",
       "      <td>0.000000</td>\n",
       "      <td>0.000000</td>\n",
       "      <td>0.000000</td>\n",
       "      <td>0.000000</td>\n",
       "    </tr>\n",
       "    <tr>\n",
       "      <th>50%</th>\n",
       "      <td>37.000000</td>\n",
       "      <td>0.000000</td>\n",
       "      <td>0.000000</td>\n",
       "      <td>0.000000</td>\n",
       "      <td>0.000000</td>\n",
       "      <td>0.000000</td>\n",
       "      <td>0.000000</td>\n",
       "    </tr>\n",
       "    <tr>\n",
       "      <th>75%</th>\n",
       "      <td>55.000000</td>\n",
       "      <td>0.000000</td>\n",
       "      <td>0.000000</td>\n",
       "      <td>0.000000</td>\n",
       "      <td>0.000000</td>\n",
       "      <td>0.000000</td>\n",
       "      <td>1.000000</td>\n",
       "    </tr>\n",
       "    <tr>\n",
       "      <th>max</th>\n",
       "      <td>115.000000</td>\n",
       "      <td>1.000000</td>\n",
       "      <td>1.000000</td>\n",
       "      <td>1.000000</td>\n",
       "      <td>1.000000</td>\n",
       "      <td>4.000000</td>\n",
       "      <td>1.000000</td>\n",
       "    </tr>\n",
       "  </tbody>\n",
       "</table>\n",
       "</div>"
      ],
      "text/plain": [
       "                 Age    Scholarship   Hipertension       Diabetes  \\\n",
       "count  100527.000000  100527.000000  100527.000000  100527.000000   \n",
       "mean       36.995941       0.099625       0.197549       0.072558   \n",
       "std        23.197252       0.299501       0.398152       0.259410   \n",
       "min        -1.000000       0.000000       0.000000       0.000000   \n",
       "25%        17.000000       0.000000       0.000000       0.000000   \n",
       "50%        37.000000       0.000000       0.000000       0.000000   \n",
       "75%        55.000000       0.000000       0.000000       0.000000   \n",
       "max       115.000000       1.000000       1.000000       1.000000   \n",
       "\n",
       "          Alcoholism        Handcap   SMS_received  \n",
       "count  100527.000000  100527.000000  100527.000000  \n",
       "mean        0.027326       0.022253       0.321277  \n",
       "std         0.163032       0.161785       0.466969  \n",
       "min         0.000000       0.000000       0.000000  \n",
       "25%         0.000000       0.000000       0.000000  \n",
       "50%         0.000000       0.000000       0.000000  \n",
       "75%         0.000000       0.000000       1.000000  \n",
       "max         1.000000       4.000000       1.000000  "
      ]
     },
     "execution_count": 9,
     "metadata": {},
     "output_type": "execute_result"
    }
   ],
   "source": [
    "data.describe()"
   ]
  },
  {
   "cell_type": "markdown",
   "id": "3fc1f7cc",
   "metadata": {},
   "source": [
    "- As you can see, `Age` is the only column that is likely to have outliers."
   ]
  },
  {
   "cell_type": "markdown",
   "id": "540afee0",
   "metadata": {},
   "source": [
    "### Let's check outliers in our Age columns."
   ]
  },
  {
   "cell_type": "code",
   "execution_count": 10,
   "id": "9399d301",
   "metadata": {},
   "outputs": [
    {
     "data": {
      "application/vnd.plotly.v1+json": {
       "config": {
        "plotlyServerURL": "https://plot.ly"
       },
       "data": [
        {
         "alignmentgroup": "True",
         "hovertemplate": "Age=%{x}<extra></extra>",
         "legendgroup": "",
         "marker": {
          "color": "#636efa"
         },
         "name": "",
         "notched": false,
         "offsetgroup": "",
         "orientation": "h",
         "showlegend": false,
         "type": "box",
         "x": {
          "bdata": "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",
          "dtype": "i1"
         },
         "x0": " ",
         "xaxis": "x",
         "y0": " ",
         "yaxis": "y"
        }
       ],
       "layout": {
        "boxmode": "group",
        "legend": {
         "tracegroupgap": 0
        },
        "template": {
         "data": {
          "bar": [
           {
            "error_x": {
             "color": "#2a3f5f"
            },
            "error_y": {
             "color": "#2a3f5f"
            },
            "marker": {
             "line": {
              "color": "#E5ECF6",
              "width": 0.5
             },
             "pattern": {
              "fillmode": "overlay",
              "size": 10,
              "solidity": 0.2
             }
            },
            "type": "bar"
           }
          ],
          "barpolar": [
           {
            "marker": {
             "line": {
              "color": "#E5ECF6",
              "width": 0.5
             },
             "pattern": {
              "fillmode": "overlay",
              "size": 10,
              "solidity": 0.2
             }
            },
            "type": "barpolar"
           }
          ],
          "carpet": [
           {
            "aaxis": {
             "endlinecolor": "#2a3f5f",
             "gridcolor": "white",
             "linecolor": "white",
             "minorgridcolor": "white",
             "startlinecolor": "#2a3f5f"
            },
            "baxis": {
             "endlinecolor": "#2a3f5f",
             "gridcolor": "white",
             "linecolor": "white",
             "minorgridcolor": "white",
             "startlinecolor": "#2a3f5f"
            },
            "type": "carpet"
           }
          ],
          "choropleth": [
           {
            "colorbar": {
             "outlinewidth": 0,
             "ticks": ""
            },
            "type": "choropleth"
           }
          ],
          "contour": [
           {
            "colorbar": {
             "outlinewidth": 0,
             "ticks": ""
            },
            "colorscale": [
             [
              0,
              "#0d0887"
             ],
             [
              0.1111111111111111,
              "#46039f"
             ],
             [
              0.2222222222222222,
              "#7201a8"
             ],
             [
              0.3333333333333333,
              "#9c179e"
             ],
             [
              0.4444444444444444,
              "#bd3786"
             ],
             [
              0.5555555555555556,
              "#d8576b"
             ],
             [
              0.6666666666666666,
              "#ed7953"
             ],
             [
              0.7777777777777778,
              "#fb9f3a"
             ],
             [
              0.8888888888888888,
              "#fdca26"
             ],
             [
              1,
              "#f0f921"
             ]
            ],
            "type": "contour"
           }
          ],
          "contourcarpet": [
           {
            "colorbar": {
             "outlinewidth": 0,
             "ticks": ""
            },
            "type": "contourcarpet"
           }
          ],
          "heatmap": [
           {
            "colorbar": {
             "outlinewidth": 0,
             "ticks": ""
            },
            "colorscale": [
             [
              0,
              "#0d0887"
             ],
             [
              0.1111111111111111,
              "#46039f"
             ],
             [
              0.2222222222222222,
              "#7201a8"
             ],
             [
              0.3333333333333333,
              "#9c179e"
             ],
             [
              0.4444444444444444,
              "#bd3786"
             ],
             [
              0.5555555555555556,
              "#d8576b"
             ],
             [
              0.6666666666666666,
              "#ed7953"
             ],
             [
              0.7777777777777778,
              "#fb9f3a"
             ],
             [
              0.8888888888888888,
              "#fdca26"
             ],
             [
              1,
              "#f0f921"
             ]
            ],
            "type": "heatmap"
           }
          ],
          "histogram": [
           {
            "marker": {
             "pattern": {
              "fillmode": "overlay",
              "size": 10,
              "solidity": 0.2
             }
            },
            "type": "histogram"
           }
          ],
          "histogram2d": [
           {
            "colorbar": {
             "outlinewidth": 0,
             "ticks": ""
            },
            "colorscale": [
             [
              0,
              "#0d0887"
             ],
             [
              0.1111111111111111,
              "#46039f"
             ],
             [
              0.2222222222222222,
              "#7201a8"
             ],
             [
              0.3333333333333333,
              "#9c179e"
             ],
             [
              0.4444444444444444,
              "#bd3786"
             ],
             [
              0.5555555555555556,
              "#d8576b"
             ],
             [
              0.6666666666666666,
              "#ed7953"
             ],
             [
              0.7777777777777778,
              "#fb9f3a"
             ],
             [
              0.8888888888888888,
              "#fdca26"
             ],
             [
              1,
              "#f0f921"
             ]
            ],
            "type": "histogram2d"
           }
          ],
          "histogram2dcontour": [
           {
            "colorbar": {
             "outlinewidth": 0,
             "ticks": ""
            },
            "colorscale": [
             [
              0,
              "#0d0887"
             ],
             [
              0.1111111111111111,
              "#46039f"
             ],
             [
              0.2222222222222222,
              "#7201a8"
             ],
             [
              0.3333333333333333,
              "#9c179e"
             ],
             [
              0.4444444444444444,
              "#bd3786"
             ],
             [
              0.5555555555555556,
              "#d8576b"
             ],
             [
              0.6666666666666666,
              "#ed7953"
             ],
             [
              0.7777777777777778,
              "#fb9f3a"
             ],
             [
              0.8888888888888888,
              "#fdca26"
             ],
             [
              1,
              "#f0f921"
             ]
            ],
            "type": "histogram2dcontour"
           }
          ],
          "mesh3d": [
           {
            "colorbar": {
             "outlinewidth": 0,
             "ticks": ""
            },
            "type": "mesh3d"
           }
          ],
          "parcoords": [
           {
            "line": {
             "colorbar": {
              "outlinewidth": 0,
              "ticks": ""
             }
            },
            "type": "parcoords"
           }
          ],
          "pie": [
           {
            "automargin": true,
            "type": "pie"
           }
          ],
          "scatter": [
           {
            "fillpattern": {
             "fillmode": "overlay",
             "size": 10,
             "solidity": 0.2
            },
            "type": "scatter"
           }
          ],
          "scatter3d": [
           {
            "line": {
             "colorbar": {
              "outlinewidth": 0,
              "ticks": ""
             }
            },
            "marker": {
             "colorbar": {
              "outlinewidth": 0,
              "ticks": ""
             }
            },
            "type": "scatter3d"
           }
          ],
          "scattercarpet": [
           {
            "marker": {
             "colorbar": {
              "outlinewidth": 0,
              "ticks": ""
             }
            },
            "type": "scattercarpet"
           }
          ],
          "scattergeo": [
           {
            "marker": {
             "colorbar": {
              "outlinewidth": 0,
              "ticks": ""
             }
            },
            "type": "scattergeo"
           }
          ],
          "scattergl": [
           {
            "marker": {
             "colorbar": {
              "outlinewidth": 0,
              "ticks": ""
             }
            },
            "type": "scattergl"
           }
          ],
          "scattermap": [
           {
            "marker": {
             "colorbar": {
              "outlinewidth": 0,
              "ticks": ""
             }
            },
            "type": "scattermap"
           }
          ],
          "scattermapbox": [
           {
            "marker": {
             "colorbar": {
              "outlinewidth": 0,
              "ticks": ""
             }
            },
            "type": "scattermapbox"
           }
          ],
          "scatterpolar": [
           {
            "marker": {
             "colorbar": {
              "outlinewidth": 0,
              "ticks": ""
             }
            },
            "type": "scatterpolar"
           }
          ],
          "scatterpolargl": [
           {
            "marker": {
             "colorbar": {
              "outlinewidth": 0,
              "ticks": ""
             }
            },
            "type": "scatterpolargl"
           }
          ],
          "scatterternary": [
           {
            "marker": {
             "colorbar": {
              "outlinewidth": 0,
              "ticks": ""
             }
            },
            "type": "scatterternary"
           }
          ],
          "surface": [
           {
            "colorbar": {
             "outlinewidth": 0,
             "ticks": ""
            },
            "colorscale": [
             [
              0,
              "#0d0887"
             ],
             [
              0.1111111111111111,
              "#46039f"
             ],
             [
              0.2222222222222222,
              "#7201a8"
             ],
             [
              0.3333333333333333,
              "#9c179e"
             ],
             [
              0.4444444444444444,
              "#bd3786"
             ],
             [
              0.5555555555555556,
              "#d8576b"
             ],
             [
              0.6666666666666666,
              "#ed7953"
             ],
             [
              0.7777777777777778,
              "#fb9f3a"
             ],
             [
              0.8888888888888888,
              "#fdca26"
             ],
             [
              1,
              "#f0f921"
             ]
            ],
            "type": "surface"
           }
          ],
          "table": [
           {
            "cells": {
             "fill": {
              "color": "#EBF0F8"
             },
             "line": {
              "color": "white"
             }
            },
            "header": {
             "fill": {
              "color": "#C8D4E3"
             },
             "line": {
              "color": "white"
             }
            },
            "type": "table"
           }
          ]
         },
         "layout": {
          "annotationdefaults": {
           "arrowcolor": "#2a3f5f",
           "arrowhead": 0,
           "arrowwidth": 1
          },
          "autotypenumbers": "strict",
          "coloraxis": {
           "colorbar": {
            "outlinewidth": 0,
            "ticks": ""
           }
          },
          "colorscale": {
           "diverging": [
            [
             0,
             "#8e0152"
            ],
            [
             0.1,
             "#c51b7d"
            ],
            [
             0.2,
             "#de77ae"
            ],
            [
             0.3,
             "#f1b6da"
            ],
            [
             0.4,
             "#fde0ef"
            ],
            [
             0.5,
             "#f7f7f7"
            ],
            [
             0.6,
             "#e6f5d0"
            ],
            [
             0.7,
             "#b8e186"
            ],
            [
             0.8,
             "#7fbc41"
            ],
            [
             0.9,
             "#4d9221"
            ],
            [
             1,
             "#276419"
            ]
           ],
           "sequential": [
            [
             0,
             "#0d0887"
            ],
            [
             0.1111111111111111,
             "#46039f"
            ],
            [
             0.2222222222222222,
             "#7201a8"
            ],
            [
             0.3333333333333333,
             "#9c179e"
            ],
            [
             0.4444444444444444,
             "#bd3786"
            ],
            [
             0.5555555555555556,
             "#d8576b"
            ],
            [
             0.6666666666666666,
             "#ed7953"
            ],
            [
             0.7777777777777778,
             "#fb9f3a"
            ],
            [
             0.8888888888888888,
             "#fdca26"
            ],
            [
             1,
             "#f0f921"
            ]
           ],
           "sequentialminus": [
            [
             0,
             "#0d0887"
            ],
            [
             0.1111111111111111,
             "#46039f"
            ],
            [
             0.2222222222222222,
             "#7201a8"
            ],
            [
             0.3333333333333333,
             "#9c179e"
            ],
            [
             0.4444444444444444,
             "#bd3786"
            ],
            [
             0.5555555555555556,
             "#d8576b"
            ],
            [
             0.6666666666666666,
             "#ed7953"
            ],
            [
             0.7777777777777778,
             "#fb9f3a"
            ],
            [
             0.8888888888888888,
             "#fdca26"
            ],
            [
             1,
             "#f0f921"
            ]
           ]
          },
          "colorway": [
           "#636efa",
           "#EF553B",
           "#00cc96",
           "#ab63fa",
           "#FFA15A",
           "#19d3f3",
           "#FF6692",
           "#B6E880",
           "#FF97FF",
           "#FECB52"
          ],
          "font": {
           "color": "#2a3f5f"
          },
          "geo": {
           "bgcolor": "white",
           "lakecolor": "white",
           "landcolor": "#E5ECF6",
           "showlakes": true,
           "showland": true,
           "subunitcolor": "white"
          },
          "hoverlabel": {
           "align": "left"
          },
          "hovermode": "closest",
          "mapbox": {
           "style": "light"
          },
          "paper_bgcolor": "white",
          "plot_bgcolor": "#E5ECF6",
          "polar": {
           "angularaxis": {
            "gridcolor": "white",
            "linecolor": "white",
            "ticks": ""
           },
           "bgcolor": "#E5ECF6",
           "radialaxis": {
            "gridcolor": "white",
            "linecolor": "white",
            "ticks": ""
           }
          },
          "scene": {
           "xaxis": {
            "backgroundcolor": "#E5ECF6",
            "gridcolor": "white",
            "gridwidth": 2,
            "linecolor": "white",
            "showbackground": true,
            "ticks": "",
            "zerolinecolor": "white"
           },
           "yaxis": {
            "backgroundcolor": "#E5ECF6",
            "gridcolor": "white",
            "gridwidth": 2,
            "linecolor": "white",
            "showbackground": true,
            "ticks": "",
            "zerolinecolor": "white"
           },
           "zaxis": {
            "backgroundcolor": "#E5ECF6",
            "gridcolor": "white",
            "gridwidth": 2,
            "linecolor": "white",
            "showbackground": true,
            "ticks": "",
            "zerolinecolor": "white"
           }
          },
          "shapedefaults": {
           "line": {
            "color": "#2a3f5f"
           }
          },
          "ternary": {
           "aaxis": {
            "gridcolor": "white",
            "linecolor": "white",
            "ticks": ""
           },
           "baxis": {
            "gridcolor": "white",
            "linecolor": "white",
            "ticks": ""
           },
           "bgcolor": "#E5ECF6",
           "caxis": {
            "gridcolor": "white",
            "linecolor": "white",
            "ticks": ""
           }
          },
          "title": {
           "x": 0.05
          },
          "xaxis": {
           "automargin": true,
           "gridcolor": "white",
           "linecolor": "white",
           "ticks": "",
           "title": {
            "standoff": 15
           },
           "zerolinecolor": "white",
           "zerolinewidth": 2
          },
          "yaxis": {
           "automargin": true,
           "gridcolor": "white",
           "linecolor": "white",
           "ticks": "",
           "title": {
            "standoff": 15
           },
           "zerolinecolor": "white",
           "zerolinewidth": 2
          }
         }
        },
        "title": {
         "text": "Age Box Plot: "
        },
        "xaxis": {
         "anchor": "y",
         "domain": [
          0,
          1
         ],
         "title": {
          "text": "Age"
         }
        },
        "yaxis": {
         "anchor": "x",
         "domain": [
          0,
          1
         ]
        }
       }
      }
     },
     "metadata": {},
     "output_type": "display_data"
    }
   ],
   "source": [
    "figure = px.box(\n",
    "    data, \n",
    "    x='Age',\n",
    "    title = \"Age Box Plot: \"\n",
    ")\n",
    "figure.show()"
   ]
  },
  {
   "cell_type": "markdown",
   "id": "06193356",
   "metadata": {},
   "source": [
    "- As you can see, -1 is invalid age and only one outlier which is 115"
   ]
  },
  {
   "cell_type": "code",
   "execution_count": 11,
   "id": "5d7edc5b",
   "metadata": {},
   "outputs": [],
   "source": [
    "data = data[data['Age'] > 0]"
   ]
  },
  {
   "cell_type": "code",
   "execution_count": 12,
   "id": "d7c4f030",
   "metadata": {},
   "outputs": [],
   "source": [
    "## Interquartile Range Method\n",
    "quartiles = data['Age'].quantile([0.25, 0.5, 0.75])\n",
    "q1 = quartiles[0.25]\n",
    "q3 = quartiles[0.75]\n",
    "iqr = q3 - q1\n",
    "\n",
    "upper_bond = q3 + 1.5 * iqr\n",
    "\n",
    "data.drop(data[(data['Age'] > upper_bond)].index, inplace=True)\n",
    "\n",
    "## Z-score Method\n",
    "mean = data['Age'].mean()\n",
    "std_dev = data['Age'].std()\n",
    "\n",
    "data = data[(data['Age'] > mean - 3 * std_dev) & (data['Age'] < mean + 3 * std_dev)]"
   ]
  },
  {
   "cell_type": "code",
   "execution_count": 13,
   "id": "ae27624c",
   "metadata": {},
   "outputs": [
    {
     "data": {
      "application/vnd.plotly.v1+json": {
       "config": {
        "plotlyServerURL": "https://plot.ly"
       },
       "data": [
        {
         "alignmentgroup": "True",
         "hovertemplate": "Age=%{x}<extra></extra>",
         "legendgroup": "",
         "marker": {
          "color": "#636efa"
         },
         "name": "",
         "notched": false,
         "offsetgroup": "",
         "orientation": "h",
         "showlegend": false,
         "type": "box",
         "x": {
          "bdata": "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",
          "dtype": "i1"
         },
         "x0": " ",
         "xaxis": "x",
         "y0": " ",
         "yaxis": "y"
        }
       ],
       "layout": {
        "boxmode": "group",
        "legend": {
         "tracegroupgap": 0
        },
        "template": {
         "data": {
          "bar": [
           {
            "error_x": {
             "color": "#2a3f5f"
            },
            "error_y": {
             "color": "#2a3f5f"
            },
            "marker": {
             "line": {
              "color": "#E5ECF6",
              "width": 0.5
             },
             "pattern": {
              "fillmode": "overlay",
              "size": 10,
              "solidity": 0.2
             }
            },
            "type": "bar"
           }
          ],
          "barpolar": [
           {
            "marker": {
             "line": {
              "color": "#E5ECF6",
              "width": 0.5
             },
             "pattern": {
              "fillmode": "overlay",
              "size": 10,
              "solidity": 0.2
             }
            },
            "type": "barpolar"
           }
          ],
          "carpet": [
           {
            "aaxis": {
             "endlinecolor": "#2a3f5f",
             "gridcolor": "white",
             "linecolor": "white",
             "minorgridcolor": "white",
             "startlinecolor": "#2a3f5f"
            },
            "baxis": {
             "endlinecolor": "#2a3f5f",
             "gridcolor": "white",
             "linecolor": "white",
             "minorgridcolor": "white",
             "startlinecolor": "#2a3f5f"
            },
            "type": "carpet"
           }
          ],
          "choropleth": [
           {
            "colorbar": {
             "outlinewidth": 0,
             "ticks": ""
            },
            "type": "choropleth"
           }
          ],
          "contour": [
           {
            "colorbar": {
             "outlinewidth": 0,
             "ticks": ""
            },
            "colorscale": [
             [
              0,
              "#0d0887"
             ],
             [
              0.1111111111111111,
              "#46039f"
             ],
             [
              0.2222222222222222,
              "#7201a8"
             ],
             [
              0.3333333333333333,
              "#9c179e"
             ],
             [
              0.4444444444444444,
              "#bd3786"
             ],
             [
              0.5555555555555556,
              "#d8576b"
             ],
             [
              0.6666666666666666,
              "#ed7953"
             ],
             [
              0.7777777777777778,
              "#fb9f3a"
             ],
             [
              0.8888888888888888,
              "#fdca26"
             ],
             [
              1,
              "#f0f921"
             ]
            ],
            "type": "contour"
           }
          ],
          "contourcarpet": [
           {
            "colorbar": {
             "outlinewidth": 0,
             "ticks": ""
            },
            "type": "contourcarpet"
           }
          ],
          "heatmap": [
           {
            "colorbar": {
             "outlinewidth": 0,
             "ticks": ""
            },
            "colorscale": [
             [
              0,
              "#0d0887"
             ],
             [
              0.1111111111111111,
              "#46039f"
             ],
             [
              0.2222222222222222,
              "#7201a8"
             ],
             [
              0.3333333333333333,
              "#9c179e"
             ],
             [
              0.4444444444444444,
              "#bd3786"
             ],
             [
              0.5555555555555556,
              "#d8576b"
             ],
             [
              0.6666666666666666,
              "#ed7953"
             ],
             [
              0.7777777777777778,
              "#fb9f3a"
             ],
             [
              0.8888888888888888,
              "#fdca26"
             ],
             [
              1,
              "#f0f921"
             ]
            ],
            "type": "heatmap"
           }
          ],
          "histogram": [
           {
            "marker": {
             "pattern": {
              "fillmode": "overlay",
              "size": 10,
              "solidity": 0.2
             }
            },
            "type": "histogram"
           }
          ],
          "histogram2d": [
           {
            "colorbar": {
             "outlinewidth": 0,
             "ticks": ""
            },
            "colorscale": [
             [
              0,
              "#0d0887"
             ],
             [
              0.1111111111111111,
              "#46039f"
             ],
             [
              0.2222222222222222,
              "#7201a8"
             ],
             [
              0.3333333333333333,
              "#9c179e"
             ],
             [
              0.4444444444444444,
              "#bd3786"
             ],
             [
              0.5555555555555556,
              "#d8576b"
             ],
             [
              0.6666666666666666,
              "#ed7953"
             ],
             [
              0.7777777777777778,
              "#fb9f3a"
             ],
             [
              0.8888888888888888,
              "#fdca26"
             ],
             [
              1,
              "#f0f921"
             ]
            ],
            "type": "histogram2d"
           }
          ],
          "histogram2dcontour": [
           {
            "colorbar": {
             "outlinewidth": 0,
             "ticks": ""
            },
            "colorscale": [
             [
              0,
              "#0d0887"
             ],
             [
              0.1111111111111111,
              "#46039f"
             ],
             [
              0.2222222222222222,
              "#7201a8"
             ],
             [
              0.3333333333333333,
              "#9c179e"
             ],
             [
              0.4444444444444444,
              "#bd3786"
             ],
             [
              0.5555555555555556,
              "#d8576b"
             ],
             [
              0.6666666666666666,
              "#ed7953"
             ],
             [
              0.7777777777777778,
              "#fb9f3a"
             ],
             [
              0.8888888888888888,
              "#fdca26"
             ],
             [
              1,
              "#f0f921"
             ]
            ],
            "type": "histogram2dcontour"
           }
          ],
          "mesh3d": [
           {
            "colorbar": {
             "outlinewidth": 0,
             "ticks": ""
            },
            "type": "mesh3d"
           }
          ],
          "parcoords": [
           {
            "line": {
             "colorbar": {
              "outlinewidth": 0,
              "ticks": ""
             }
            },
            "type": "parcoords"
           }
          ],
          "pie": [
           {
            "automargin": true,
            "type": "pie"
           }
          ],
          "scatter": [
           {
            "fillpattern": {
             "fillmode": "overlay",
             "size": 10,
             "solidity": 0.2
            },
            "type": "scatter"
           }
          ],
          "scatter3d": [
           {
            "line": {
             "colorbar": {
              "outlinewidth": 0,
              "ticks": ""
             }
            },
            "marker": {
             "colorbar": {
              "outlinewidth": 0,
              "ticks": ""
             }
            },
            "type": "scatter3d"
           }
          ],
          "scattercarpet": [
           {
            "marker": {
             "colorbar": {
              "outlinewidth": 0,
              "ticks": ""
             }
            },
            "type": "scattercarpet"
           }
          ],
          "scattergeo": [
           {
            "marker": {
             "colorbar": {
              "outlinewidth": 0,
              "ticks": ""
             }
            },
            "type": "scattergeo"
           }
          ],
          "scattergl": [
           {
            "marker": {
             "colorbar": {
              "outlinewidth": 0,
              "ticks": ""
             }
            },
            "type": "scattergl"
           }
          ],
          "scattermap": [
           {
            "marker": {
             "colorbar": {
              "outlinewidth": 0,
              "ticks": ""
             }
            },
            "type": "scattermap"
           }
          ],
          "scattermapbox": [
           {
            "marker": {
             "colorbar": {
              "outlinewidth": 0,
              "ticks": ""
             }
            },
            "type": "scattermapbox"
           }
          ],
          "scatterpolar": [
           {
            "marker": {
             "colorbar": {
              "outlinewidth": 0,
              "ticks": ""
             }
            },
            "type": "scatterpolar"
           }
          ],
          "scatterpolargl": [
           {
            "marker": {
             "colorbar": {
              "outlinewidth": 0,
              "ticks": ""
             }
            },
            "type": "scatterpolargl"
           }
          ],
          "scatterternary": [
           {
            "marker": {
             "colorbar": {
              "outlinewidth": 0,
              "ticks": ""
             }
            },
            "type": "scatterternary"
           }
          ],
          "surface": [
           {
            "colorbar": {
             "outlinewidth": 0,
             "ticks": ""
            },
            "colorscale": [
             [
              0,
              "#0d0887"
             ],
             [
              0.1111111111111111,
              "#46039f"
             ],
             [
              0.2222222222222222,
              "#7201a8"
             ],
             [
              0.3333333333333333,
              "#9c179e"
             ],
             [
              0.4444444444444444,
              "#bd3786"
             ],
             [
              0.5555555555555556,
              "#d8576b"
             ],
             [
              0.6666666666666666,
              "#ed7953"
             ],
             [
              0.7777777777777778,
              "#fb9f3a"
             ],
             [
              0.8888888888888888,
              "#fdca26"
             ],
             [
              1,
              "#f0f921"
             ]
            ],
            "type": "surface"
           }
          ],
          "table": [
           {
            "cells": {
             "fill": {
              "color": "#EBF0F8"
             },
             "line": {
              "color": "white"
             }
            },
            "header": {
             "fill": {
              "color": "#C8D4E3"
             },
             "line": {
              "color": "white"
             }
            },
            "type": "table"
           }
          ]
         },
         "layout": {
          "annotationdefaults": {
           "arrowcolor": "#2a3f5f",
           "arrowhead": 0,
           "arrowwidth": 1
          },
          "autotypenumbers": "strict",
          "coloraxis": {
           "colorbar": {
            "outlinewidth": 0,
            "ticks": ""
           }
          },
          "colorscale": {
           "diverging": [
            [
             0,
             "#8e0152"
            ],
            [
             0.1,
             "#c51b7d"
            ],
            [
             0.2,
             "#de77ae"
            ],
            [
             0.3,
             "#f1b6da"
            ],
            [
             0.4,
             "#fde0ef"
            ],
            [
             0.5,
             "#f7f7f7"
            ],
            [
             0.6,
             "#e6f5d0"
            ],
            [
             0.7,
             "#b8e186"
            ],
            [
             0.8,
             "#7fbc41"
            ],
            [
             0.9,
             "#4d9221"
            ],
            [
             1,
             "#276419"
            ]
           ],
           "sequential": [
            [
             0,
             "#0d0887"
            ],
            [
             0.1111111111111111,
             "#46039f"
            ],
            [
             0.2222222222222222,
             "#7201a8"
            ],
            [
             0.3333333333333333,
             "#9c179e"
            ],
            [
             0.4444444444444444,
             "#bd3786"
            ],
            [
             0.5555555555555556,
             "#d8576b"
            ],
            [
             0.6666666666666666,
             "#ed7953"
            ],
            [
             0.7777777777777778,
             "#fb9f3a"
            ],
            [
             0.8888888888888888,
             "#fdca26"
            ],
            [
             1,
             "#f0f921"
            ]
           ],
           "sequentialminus": [
            [
             0,
             "#0d0887"
            ],
            [
             0.1111111111111111,
             "#46039f"
            ],
            [
             0.2222222222222222,
             "#7201a8"
            ],
            [
             0.3333333333333333,
             "#9c179e"
            ],
            [
             0.4444444444444444,
             "#bd3786"
            ],
            [
             0.5555555555555556,
             "#d8576b"
            ],
            [
             0.6666666666666666,
             "#ed7953"
            ],
            [
             0.7777777777777778,
             "#fb9f3a"
            ],
            [
             0.8888888888888888,
             "#fdca26"
            ],
            [
             1,
             "#f0f921"
            ]
           ]
          },
          "colorway": [
           "#636efa",
           "#EF553B",
           "#00cc96",
           "#ab63fa",
           "#FFA15A",
           "#19d3f3",
           "#FF6692",
           "#B6E880",
           "#FF97FF",
           "#FECB52"
          ],
          "font": {
           "color": "#2a3f5f"
          },
          "geo": {
           "bgcolor": "white",
           "lakecolor": "white",
           "landcolor": "#E5ECF6",
           "showlakes": true,
           "showland": true,
           "subunitcolor": "white"
          },
          "hoverlabel": {
           "align": "left"
          },
          "hovermode": "closest",
          "mapbox": {
           "style": "light"
          },
          "paper_bgcolor": "white",
          "plot_bgcolor": "#E5ECF6",
          "polar": {
           "angularaxis": {
            "gridcolor": "white",
            "linecolor": "white",
            "ticks": ""
           },
           "bgcolor": "#E5ECF6",
           "radialaxis": {
            "gridcolor": "white",
            "linecolor": "white",
            "ticks": ""
           }
          },
          "scene": {
           "xaxis": {
            "backgroundcolor": "#E5ECF6",
            "gridcolor": "white",
            "gridwidth": 2,
            "linecolor": "white",
            "showbackground": true,
            "ticks": "",
            "zerolinecolor": "white"
           },
           "yaxis": {
            "backgroundcolor": "#E5ECF6",
            "gridcolor": "white",
            "gridwidth": 2,
            "linecolor": "white",
            "showbackground": true,
            "ticks": "",
            "zerolinecolor": "white"
           },
           "zaxis": {
            "backgroundcolor": "#E5ECF6",
            "gridcolor": "white",
            "gridwidth": 2,
            "linecolor": "white",
            "showbackground": true,
            "ticks": "",
            "zerolinecolor": "white"
           }
          },
          "shapedefaults": {
           "line": {
            "color": "#2a3f5f"
           }
          },
          "ternary": {
           "aaxis": {
            "gridcolor": "white",
            "linecolor": "white",
            "ticks": ""
           },
           "baxis": {
            "gridcolor": "white",
            "linecolor": "white",
            "ticks": ""
           },
           "bgcolor": "#E5ECF6",
           "caxis": {
            "gridcolor": "white",
            "linecolor": "white",
            "ticks": ""
           }
          },
          "title": {
           "x": 0.05
          },
          "xaxis": {
           "automargin": true,
           "gridcolor": "white",
           "linecolor": "white",
           "ticks": "",
           "title": {
            "standoff": 15
           },
           "zerolinecolor": "white",
           "zerolinewidth": 2
          },
          "yaxis": {
           "automargin": true,
           "gridcolor": "white",
           "linecolor": "white",
           "ticks": "",
           "title": {
            "standoff": 15
           },
           "zerolinecolor": "white",
           "zerolinewidth": 2
          }
         }
        },
        "title": {
         "text": "Age Box Plot: "
        },
        "xaxis": {
         "anchor": "y",
         "domain": [
          0,
          1
         ],
         "title": {
          "text": "Age"
         }
        },
        "yaxis": {
         "anchor": "x",
         "domain": [
          0,
          1
         ]
        }
       }
      }
     },
     "metadata": {},
     "output_type": "display_data"
    }
   ],
   "source": [
    "figure = px.box(\n",
    "    data, \n",
    "    x='Age',\n",
    "    title = \"Age Box Plot: \"\n",
    ")\n",
    "figure.show()"
   ]
  },
  {
   "cell_type": "code",
   "execution_count": 14,
   "id": "9d0dd707",
   "metadata": {},
   "outputs": [
    {
     "data": {
      "text/plain": [
       "<Axes: xlabel='Handcap', ylabel='count'>"
      ]
     },
     "execution_count": 14,
     "metadata": {},
     "output_type": "execute_result"
    },
    {
     "data": {
      "image/png": "[encoded data removed]",
      "text/plain": [
       "<Figure size 640x480 with 1 Axes>"
      ]
     },
     "metadata": {},
     "output_type": "display_data"
    }
   ],
   "source": [
    "import seaborn as sns\n",
    "\n",
    "sns.countplot(data, x='Handcap')"
   ]
  },
  {
   "cell_type": "markdown",
   "id": "0cb108fe",
   "metadata": {},
   "source": [
    "- So as you can see this poorly immbalanced."
   ]
  },
  {
   "cell_type": "code",
   "execution_count": 15,
   "id": "33c427e7",
   "metadata": {},
   "outputs": [],
   "source": [
    "data['Handcap'] = data['Handcap'].map(lambda x: 1 if x ==0 else 0)"
   ]
  },
  {
   "cell_type": "markdown",
   "id": "f3269fb1",
   "metadata": {},
   "source": [
    "#### Change data type of two columns `ScheduledDay` &  `AppointmentDay`."
   ]
  },
  {
   "cell_type": "code",
   "execution_count": 16,
   "id": "390bc157",
   "metadata": {},
   "outputs": [],
   "source": [
    "data['ScheduledDay'] = pd.to_datetime(data['ScheduledDay'])\n",
    "data['AppointmentDay'] = pd.to_datetime(data['AppointmentDay'])"
   ]
  },
  {
   "cell_type": "markdown",
   "id": "42ad0b9a",
   "metadata": {},
   "source": [
    "# Export our cleaned data"
   ]
  },
  {
   "cell_type": "code",
   "execution_count": 17,
   "id": "bf1a3372",
   "metadata": {},
   "outputs": [],
   "source": [
    "data.to_csv('../data/processed/cleaned-data.csv', index=False, encoding='utf-8')"
   ]
  }
 ],
 "metadata": {
  "kernelspec": {
   "display_name": "Python 3",
   "language": "python",
   "name": "python3"
  },
  "language_info": {
   "codemirror_mode": {
    "name": "ipython",
    "version": 3
   },
   "file_extension": ".py",
   "mimetype": "text/x-python",
   "name": "python",
   "nbconvert_exporter": "python",
   "pygments_lexer": "ipython3",
   "version": "3.13.1"
  }
 },
 "nbformat": 4,
 "nbformat_minor": 5
}
